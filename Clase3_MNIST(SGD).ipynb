{
  "nbformat": 4,
  "nbformat_minor": 0,
  "metadata": {
    "colab": {
      "name": "Clase3_MNIST(SGD).ipynb",
      "provenance": [],
      "collapsed_sections": [],
      "include_colab_link": true
    },
    "kernelspec": {
      "name": "python3",
      "display_name": "Python 3"
    },
    "language_info": {
      "name": "python"
    },
    "accelerator": "GPU"
  },
  "cells": [
    {
      "cell_type": "markdown",
      "metadata": {
        "id": "view-in-github",
        "colab_type": "text"
      },
      "source": [
        "<a href=\"https://colab.research.google.com/github/jofernandezz/InteligenciaArtificial/blob/main/Clase3_MNIST(SGD).ipynb\" target=\"_parent\"><img src=\"https://colab.research.google.com/assets/colab-badge.svg\" alt=\"Open In Colab\"/></a>"
      ]
    },
    {
      "cell_type": "code",
      "metadata": {
        "colab": {
          "base_uri": "https://localhost:8080/"
        },
        "id": "Bqbi20AwmsJ9",
        "outputId": "7d4aaddc-2cf5-4212-df92-2e8332069374"
      },
      "source": [
        "!pip install fastai --upgrade"
      ],
      "execution_count": null,
      "outputs": [
        {
          "output_type": "stream",
          "text": [
            "Collecting fastai\n",
            "\u001b[?25l  Downloading https://files.pythonhosted.org/packages/5b/53/edf39e15b7ec5e805a0b6f72adbe48497ebcfa009a245eca7044ae9ee1c6/fastai-2.3.0-py3-none-any.whl (193kB)\n",
            "\r\u001b[K     |█▊                              | 10kB 18.9MB/s eta 0:00:01\r\u001b[K     |███▍                            | 20kB 10.9MB/s eta 0:00:01\r\u001b[K     |█████                           | 30kB 8.8MB/s eta 0:00:01\r\u001b[K     |██████▊                         | 40kB 7.8MB/s eta 0:00:01\r\u001b[K     |████████▌                       | 51kB 4.5MB/s eta 0:00:01\r\u001b[K     |██████████▏                     | 61kB 5.0MB/s eta 0:00:01\r\u001b[K     |███████████▉                    | 71kB 5.2MB/s eta 0:00:01\r\u001b[K     |█████████████▌                  | 81kB 5.6MB/s eta 0:00:01\r\u001b[K     |███████████████▏                | 92kB 5.9MB/s eta 0:00:01\r\u001b[K     |█████████████████               | 102kB 5.9MB/s eta 0:00:01\r\u001b[K     |██████████████████▋             | 112kB 5.9MB/s eta 0:00:01\r\u001b[K     |████████████████████▎           | 122kB 5.9MB/s eta 0:00:01\r\u001b[K     |██████████████████████          | 133kB 5.9MB/s eta 0:00:01\r\u001b[K     |███████████████████████▊        | 143kB 5.9MB/s eta 0:00:01\r\u001b[K     |█████████████████████████▍      | 153kB 5.9MB/s eta 0:00:01\r\u001b[K     |███████████████████████████     | 163kB 5.9MB/s eta 0:00:01\r\u001b[K     |████████████████████████████▊   | 174kB 5.9MB/s eta 0:00:01\r\u001b[K     |██████████████████████████████▍ | 184kB 5.9MB/s eta 0:00:01\r\u001b[K     |████████████████████████████████| 194kB 5.9MB/s \n",
            "\u001b[?25hRequirement already satisfied, skipping upgrade: packaging in /usr/local/lib/python3.7/dist-packages (from fastai) (20.9)\n",
            "Collecting fastcore<1.4,>=1.3.8\n",
            "\u001b[?25l  Downloading https://files.pythonhosted.org/packages/0c/98/60404e2817cff113a6ae4023bc1772e23179408fdf7857fa410551758dfe/fastcore-1.3.19-py3-none-any.whl (53kB)\n",
            "\u001b[K     |████████████████████████████████| 61kB 3.9MB/s \n",
            "\u001b[?25hCollecting torchvision<0.9,>=0.8\n",
            "\u001b[?25l  Downloading https://files.pythonhosted.org/packages/94/df/969e69a94cff1c8911acb0688117f95e1915becc1e01c73e7960a2c76ec8/torchvision-0.8.2-cp37-cp37m-manylinux1_x86_64.whl (12.8MB)\n",
            "\u001b[K     |████████████████████████████████| 12.8MB 423kB/s \n",
            "\u001b[?25hRequirement already satisfied, skipping upgrade: pip in /usr/local/lib/python3.7/dist-packages (from fastai) (19.3.1)\n",
            "Requirement already satisfied, skipping upgrade: matplotlib in /usr/local/lib/python3.7/dist-packages (from fastai) (3.2.2)\n",
            "Requirement already satisfied, skipping upgrade: scikit-learn in /usr/local/lib/python3.7/dist-packages (from fastai) (0.22.2.post1)\n",
            "Requirement already satisfied, skipping upgrade: pyyaml in /usr/local/lib/python3.7/dist-packages (from fastai) (3.13)\n",
            "Requirement already satisfied, skipping upgrade: pillow>6.0.0 in /usr/local/lib/python3.7/dist-packages (from fastai) (7.1.2)\n",
            "Requirement already satisfied, skipping upgrade: pandas in /usr/local/lib/python3.7/dist-packages (from fastai) (1.1.5)\n",
            "Requirement already satisfied, skipping upgrade: scipy in /usr/local/lib/python3.7/dist-packages (from fastai) (1.4.1)\n",
            "Collecting torch<1.8,>=1.7.0\n",
            "\u001b[?25l  Downloading https://files.pythonhosted.org/packages/90/5d/095ddddc91c8a769a68c791c019c5793f9c4456a688ddd235d6670924ecb/torch-1.7.1-cp37-cp37m-manylinux1_x86_64.whl (776.8MB)\n",
            "\u001b[K     |████████████████████████████████| 776.8MB 23kB/s \n",
            "\u001b[?25hRequirement already satisfied, skipping upgrade: requests in /usr/local/lib/python3.7/dist-packages (from fastai) (2.23.0)\n",
            "Requirement already satisfied, skipping upgrade: spacy<3 in /usr/local/lib/python3.7/dist-packages (from fastai) (2.2.4)\n",
            "Requirement already satisfied, skipping upgrade: fastprogress>=0.2.4 in /usr/local/lib/python3.7/dist-packages (from fastai) (1.0.0)\n",
            "Requirement already satisfied, skipping upgrade: pyparsing>=2.0.2 in /usr/local/lib/python3.7/dist-packages (from packaging->fastai) (2.4.7)\n",
            "Requirement already satisfied, skipping upgrade: numpy in /usr/local/lib/python3.7/dist-packages (from torchvision<0.9,>=0.8->fastai) (1.19.5)\n",
            "Requirement already satisfied, skipping upgrade: cycler>=0.10 in /usr/local/lib/python3.7/dist-packages (from matplotlib->fastai) (0.10.0)\n",
            "Requirement already satisfied, skipping upgrade: python-dateutil>=2.1 in /usr/local/lib/python3.7/dist-packages (from matplotlib->fastai) (2.8.1)\n",
            "Requirement already satisfied, skipping upgrade: kiwisolver>=1.0.1 in /usr/local/lib/python3.7/dist-packages (from matplotlib->fastai) (1.3.1)\n",
            "Requirement already satisfied, skipping upgrade: joblib>=0.11 in /usr/local/lib/python3.7/dist-packages (from scikit-learn->fastai) (1.0.1)\n",
            "Requirement already satisfied, skipping upgrade: pytz>=2017.2 in /usr/local/lib/python3.7/dist-packages (from pandas->fastai) (2018.9)\n",
            "Requirement already satisfied, skipping upgrade: typing-extensions in /usr/local/lib/python3.7/dist-packages (from torch<1.8,>=1.7.0->fastai) (3.7.4.3)\n",
            "Requirement already satisfied, skipping upgrade: chardet<4,>=3.0.2 in /usr/local/lib/python3.7/dist-packages (from requests->fastai) (3.0.4)\n",
            "Requirement already satisfied, skipping upgrade: certifi>=2017.4.17 in /usr/local/lib/python3.7/dist-packages (from requests->fastai) (2020.12.5)\n",
            "Requirement already satisfied, skipping upgrade: idna<3,>=2.5 in /usr/local/lib/python3.7/dist-packages (from requests->fastai) (2.10)\n",
            "Requirement already satisfied, skipping upgrade: urllib3!=1.25.0,!=1.25.1,<1.26,>=1.21.1 in /usr/local/lib/python3.7/dist-packages (from requests->fastai) (1.24.3)\n",
            "Requirement already satisfied, skipping upgrade: setuptools in /usr/local/lib/python3.7/dist-packages (from spacy<3->fastai) (54.2.0)\n",
            "Requirement already satisfied, skipping upgrade: cymem<2.1.0,>=2.0.2 in /usr/local/lib/python3.7/dist-packages (from spacy<3->fastai) (2.0.5)\n",
            "Requirement already satisfied, skipping upgrade: murmurhash<1.1.0,>=0.28.0 in /usr/local/lib/python3.7/dist-packages (from spacy<3->fastai) (1.0.5)\n",
            "Requirement already satisfied, skipping upgrade: blis<0.5.0,>=0.4.0 in /usr/local/lib/python3.7/dist-packages (from spacy<3->fastai) (0.4.1)\n",
            "Requirement already satisfied, skipping upgrade: preshed<3.1.0,>=3.0.2 in /usr/local/lib/python3.7/dist-packages (from spacy<3->fastai) (3.0.5)\n",
            "Requirement already satisfied, skipping upgrade: thinc==7.4.0 in /usr/local/lib/python3.7/dist-packages (from spacy<3->fastai) (7.4.0)\n",
            "Requirement already satisfied, skipping upgrade: tqdm<5.0.0,>=4.38.0 in /usr/local/lib/python3.7/dist-packages (from spacy<3->fastai) (4.41.1)\n",
            "Requirement already satisfied, skipping upgrade: wasabi<1.1.0,>=0.4.0 in /usr/local/lib/python3.7/dist-packages (from spacy<3->fastai) (0.8.2)\n",
            "Requirement already satisfied, skipping upgrade: plac<1.2.0,>=0.9.6 in /usr/local/lib/python3.7/dist-packages (from spacy<3->fastai) (1.1.3)\n",
            "Requirement already satisfied, skipping upgrade: srsly<1.1.0,>=1.0.2 in /usr/local/lib/python3.7/dist-packages (from spacy<3->fastai) (1.0.5)\n",
            "Requirement already satisfied, skipping upgrade: catalogue<1.1.0,>=0.0.7 in /usr/local/lib/python3.7/dist-packages (from spacy<3->fastai) (1.0.0)\n",
            "Requirement already satisfied, skipping upgrade: six in /usr/local/lib/python3.7/dist-packages (from cycler>=0.10->matplotlib->fastai) (1.15.0)\n",
            "Requirement already satisfied, skipping upgrade: importlib-metadata>=0.20; python_version < \"3.8\" in /usr/local/lib/python3.7/dist-packages (from catalogue<1.1.0,>=0.0.7->spacy<3->fastai) (3.10.1)\n",
            "Requirement already satisfied, skipping upgrade: zipp>=0.5 in /usr/local/lib/python3.7/dist-packages (from importlib-metadata>=0.20; python_version < \"3.8\"->catalogue<1.1.0,>=0.0.7->spacy<3->fastai) (3.4.1)\n",
            "\u001b[31mERROR: torchtext 0.9.1 has requirement torch==1.8.1, but you'll have torch 1.7.1 which is incompatible.\u001b[0m\n",
            "Installing collected packages: fastcore, torch, torchvision, fastai\n",
            "  Found existing installation: torch 1.8.1+cu101\n",
            "    Uninstalling torch-1.8.1+cu101:\n",
            "      Successfully uninstalled torch-1.8.1+cu101\n",
            "  Found existing installation: torchvision 0.9.1+cu101\n",
            "    Uninstalling torchvision-0.9.1+cu101:\n",
            "      Successfully uninstalled torchvision-0.9.1+cu101\n",
            "  Found existing installation: fastai 1.0.61\n",
            "    Uninstalling fastai-1.0.61:\n",
            "      Successfully uninstalled fastai-1.0.61\n",
            "Successfully installed fastai-2.3.0 fastcore-1.3.19 torch-1.7.1 torchvision-0.8.2\n"
          ],
          "name": "stdout"
        }
      ]
    },
    {
      "cell_type": "code",
      "metadata": {
        "id": "ts_lBqwpmO2d"
      },
      "source": [
        "from fastai.vision.all import *\n",
        "from fastai.vision.widgets import *\n",
        "matplotlib.rc('image', cmap='Greys')"
      ],
      "execution_count": null,
      "outputs": []
    },
    {
      "cell_type": "markdown",
      "metadata": {
        "id": "Q6aZv3yUzh1H"
      },
      "source": [
        "Esta clase está basada en el capítulo 4 del libro [Deep Learning for Coders with fastai and PyTorch (Jeremy Howard, Sylvain Gugger)](https://www.oreilly.com/library/view/deep-learning-for/9781492045519/)."
      ]
    },
    {
      "cell_type": "markdown",
      "metadata": {
        "id": "xRDVPOkKpGEb"
      },
      "source": [
        "## Tras bambalinas: Entrenando un Clasificador de Dígitos"
      ]
    },
    {
      "cell_type": "markdown",
      "metadata": {
        "id": "H0fluNP9qSZH"
      },
      "source": [
        "Para esta demostración solo crearemos un modelo que pueda clasificar una imagen como un 3 o un 7. Así que descarguemos una muestra de [MNIST](http://yann.lecun.com/exdb/mnist/) que contiene imágenes de solo esos dígitos:"
      ]
    },
    {
      "cell_type": "code",
      "metadata": {
        "id": "RjcZZ4xZl0z2",
        "colab": {
          "base_uri": "https://localhost:8080/",
          "height": 17
        },
        "outputId": "3f23829f-82c0-4696-a839-4a5ca662724d"
      },
      "source": [
        "path = untar_data(URLs.MNIST_SAMPLE)"
      ],
      "execution_count": null,
      "outputs": [
        {
          "output_type": "display_data",
          "data": {
            "text/html": [
              ""
            ],
            "text/plain": [
              "<IPython.core.display.HTML object>"
            ]
          },
          "metadata": {
            "tags": []
          }
        }
      ]
    },
    {
      "cell_type": "code",
      "metadata": {
        "colab": {
          "base_uri": "https://localhost:8080/"
        },
        "id": "OgW_ghHanSH4",
        "outputId": "fcb49de9-39dc-4453-c20b-e910c3abf55d"
      },
      "source": [
        "path.ls()"
      ],
      "execution_count": null,
      "outputs": [
        {
          "output_type": "execute_result",
          "data": {
            "text/plain": [
              "(#3) [Path('/root/.fastai/data/mnist_sample/train'),Path('/root/.fastai/data/mnist_sample/valid'),Path('/root/.fastai/data/mnist_sample/labels.csv')]"
            ]
          },
          "metadata": {
            "tags": []
          },
          "execution_count": 5
        }
      ]
    },
    {
      "cell_type": "markdown",
      "metadata": {
        "id": "OQI-z42tqkkh"
      },
      "source": [
        "El dataset MNIST sigue un diseño común para Machine Learning: carpetas separadas para el conjunto de entrenamiento y el conjunto de validación (y/o conjunto de prueba). Veamos qué hay dentro del conjunto de entrenamiento:\n"
      ]
    },
    {
      "cell_type": "code",
      "metadata": {
        "colab": {
          "base_uri": "https://localhost:8080/"
        },
        "id": "4-kn1V0JncK6",
        "outputId": "d65904d5-dbb6-4318-a206-e6d405fedd14"
      },
      "source": [
        "(path/'train').ls()"
      ],
      "execution_count": null,
      "outputs": [
        {
          "output_type": "execute_result",
          "data": {
            "text/plain": [
              "(#2) [Path('/root/.fastai/data/mnist_sample/train/7'),Path('/root/.fastai/data/mnist_sample/train/3')]"
            ]
          },
          "metadata": {
            "tags": []
          },
          "execution_count": 6
        }
      ]
    },
    {
      "cell_type": "markdown",
      "metadata": {
        "id": "TvjDRVSnq0ee"
      },
      "source": [
        "Hay una carpeta para los 3 y otra para los 7. En jerga de machine learning decimos que \"3\" y \"7\" son las etiquetas del dataset. Miremos lo que hay en estos directorios:"
      ]
    },
    {
      "cell_type": "code",
      "metadata": {
        "colab": {
          "base_uri": "https://localhost:8080/"
        },
        "id": "oHRgplzXnenq",
        "outputId": "493ebc8c-4fce-45be-e59f-0d639e6031e8"
      },
      "source": [
        "threes = (path/'train'/'3').ls().sorted()\n",
        "sevens = (path/'train'/'7').ls().sorted()\n",
        "threes"
      ],
      "execution_count": null,
      "outputs": [
        {
          "output_type": "execute_result",
          "data": {
            "text/plain": [
              "(#6131) [Path('/root/.fastai/data/mnist_sample/train/3/10.png'),Path('/root/.fastai/data/mnist_sample/train/3/10000.png'),Path('/root/.fastai/data/mnist_sample/train/3/10011.png'),Path('/root/.fastai/data/mnist_sample/train/3/10031.png'),Path('/root/.fastai/data/mnist_sample/train/3/10034.png'),Path('/root/.fastai/data/mnist_sample/train/3/10042.png'),Path('/root/.fastai/data/mnist_sample/train/3/10052.png'),Path('/root/.fastai/data/mnist_sample/train/3/1007.png'),Path('/root/.fastai/data/mnist_sample/train/3/10074.png'),Path('/root/.fastai/data/mnist_sample/train/3/10091.png')...]"
            ]
          },
          "metadata": {
            "tags": []
          },
          "execution_count": 7
        }
      ]
    },
    {
      "cell_type": "markdown",
      "metadata": {
        "id": "CaERqHqCrFKm"
      },
      "source": [
        "Como se esperaba, están llenos de imágenes de números. Miremos una en particular:"
      ]
    },
    {
      "cell_type": "code",
      "metadata": {
        "colab": {
          "base_uri": "https://localhost:8080/",
          "height": 45
        },
        "id": "qU8FOe9Gng4v",
        "outputId": "a47de44d-77fd-418f-f2de-fd9c10350e59"
      },
      "source": [
        "im3_path = threes[1]\n",
        "im3 = Image.open(im3_path)\n",
        "im3"
      ],
      "execution_count": null,
      "outputs": [
        {
          "output_type": "execute_result",
          "data": {
            "image/png": "[encoded data removed]",
            "text/plain": [
              "<PIL.PngImagePlugin.PngImageFile image mode=L size=28x28 at 0x7F8650BBE390>"
            ]
          },
          "metadata": {
            "tags": []
          },
          "execution_count": 8
        }
      ]
    },
    {
      "cell_type": "markdown",
      "metadata": {
        "id": "Zj4qUUuxrLZb"
      },
      "source": [
        "En computación todo se representa como un número. Para ver los números que componen esta imagen, tenemos que convertirla en una matriz NumPy o un tensor PyTorch. Por ejemplo, así es como se ve una sección de la imagen, convertida en una matriz NumPy:\n"
      ]
    },
    {
      "cell_type": "code",
      "metadata": {
        "colab": {
          "base_uri": "https://localhost:8080/"
        },
        "id": "eWIhp9g0ni8Y",
        "outputId": "2cfe9d0b-09f6-4971-ab08-bdb3912e72a3"
      },
      "source": [
        "array(im3)[4:10,4:10]"
      ],
      "execution_count": null,
      "outputs": [
        {
          "output_type": "execute_result",
          "data": {
            "text/plain": [
              "array([[  0,   0,   0,   0,   0,   0],\n",
              "       [  0,   0,   0,   0,   0,  29],\n",
              "       [  0,   0,   0,  48, 166, 224],\n",
              "       [  0,  93, 244, 249, 253, 187],\n",
              "       [  0, 107, 253, 253, 230,  48],\n",
              "       [  0,   3,  20,  20,  15,   0]], dtype=uint8)"
            ]
          },
          "metadata": {
            "tags": []
          },
          "execution_count": 9
        }
      ]
    },
    {
      "cell_type": "markdown",
      "metadata": {
        "id": "vTinCcZNrepr"
      },
      "source": [
        "El 4:10 indica que solicitamos las filas del índice 4 (incluido) al 10 (no incluido) y lo mismo para las columnas. NumPy indexa de arriba a abajo y de izquierda a derecha, por lo que esta sección se encuentra en la esquina superior izquierda de la imagen. Para lo mismo para un tensor de PyTorch:\n"
      ]
    },
    {
      "cell_type": "code",
      "metadata": {
        "colab": {
          "base_uri": "https://localhost:8080/"
        },
        "id": "Ufp2cueTnk2P",
        "outputId": "422e1011-1f38-47f9-d64a-89823400e883"
      },
      "source": [
        "tensor(im3)[4:10,4:10]"
      ],
      "execution_count": null,
      "outputs": [
        {
          "output_type": "execute_result",
          "data": {
            "text/plain": [
              "tensor([[  0,   0,   0,   0,   0,   0],\n",
              "        [  0,   0,   0,   0,   0,  29],\n",
              "        [  0,   0,   0,  48, 166, 224],\n",
              "        [  0,  93, 244, 249, 253, 187],\n",
              "        [  0, 107, 253, 253, 230,  48],\n",
              "        [  0,   3,  20,  20,  15,   0]], dtype=torch.uint8)"
            ]
          },
          "metadata": {
            "tags": []
          },
          "execution_count": 10
        }
      ]
    },
    {
      "cell_type": "markdown",
      "metadata": {
        "id": "oyEUJXFvrlFK"
      },
      "source": [
        "Podemos cortar la matriz para elegir solo la parte superior del dígito, y luego usar un Pandas DataFrame para codificar por colores los valores usando un degradado, que nos muestra claramente cómo se crea la imagen a partir de los valores de píxeles:"
      ]
    },
    {
      "cell_type": "code",
      "metadata": {
        "colab": {
          "base_uri": "https://localhost:8080/",
          "height": 258
        },
        "id": "tL96ABemnnpp",
        "outputId": "6131b38d-42c5-4ac6-b09c-0aae639b6e9d"
      },
      "source": [
        "im3_t = tensor(im3)\n",
        "df = pd.DataFrame(im3_t[4:15,4:22])\n",
        "df.style.set_properties(**{'font-size':'6pt'}).background_gradient('Greys')"
      ],
      "execution_count": null,
      "outputs": [
        {
          "output_type": "execute_result",
          "data": {
            "text/html": [
              "<style  type=\"text/css\" >\n",
              "#T_dca8c932_9f29_11eb_a96a_0242ac1c0002row0_col0,#T_dca8c932_9f29_11eb_a96a_0242ac1c0002row0_col1,#T_dca8c932_9f29_11eb_a96a_0242ac1c0002row0_col2,#T_dca8c932_9f29_11eb_a96a_0242ac1c0002row0_col3,#T_dca8c932_9f29_11eb_a96a_0242ac1c0002row0_col4,#T_dca8c932_9f29_11eb_a96a_0242ac1c0002row0_col5,#T_dca8c932_9f29_11eb_a96a_0242ac1c0002row0_col6,#T_dca8c932_9f29_11eb_a96a_0242ac1c0002row0_col7,#T_dca8c932_9f29_11eb_a96a_0242ac1c0002row0_col8,#T_dca8c932_9f29_11eb_a96a_0242ac1c0002row0_col9,#T_dca8c932_9f29_11eb_a96a_0242ac1c0002row0_col10,#T_dca8c932_9f29_11eb_a96a_0242ac1c0002row0_col11,#T_dca8c932_9f29_11eb_a96a_0242ac1c0002row0_col12,#T_dca8c932_9f29_11eb_a96a_0242ac1c0002row0_col13,#T_dca8c932_9f29_11eb_a96a_0242ac1c0002row0_col14,#T_dca8c932_9f29_11eb_a96a_0242ac1c0002row0_col15,#T_dca8c932_9f29_11eb_a96a_0242ac1c0002row0_col16,#T_dca8c932_9f29_11eb_a96a_0242ac1c0002row0_col17,#T_dca8c932_9f29_11eb_a96a_0242ac1c0002row1_col0,#T_dca8c932_9f29_11eb_a96a_0242ac1c0002row1_col1,#T_dca8c932_9f29_11eb_a96a_0242ac1c0002row1_col2,#T_dca8c932_9f29_11eb_a96a_0242ac1c0002row1_col3,#T_dca8c932_9f29_11eb_a96a_0242ac1c0002row1_col4,#T_dca8c932_9f29_11eb_a96a_0242ac1c0002row1_col15,#T_dca8c932_9f29_11eb_a96a_0242ac1c0002row1_col16,#T_dca8c932_9f29_11eb_a96a_0242ac1c0002row1_col17,#T_dca8c932_9f29_11eb_a96a_0242ac1c0002row2_col0,#T_dca8c932_9f29_11eb_a96a_0242ac1c0002row2_col1,#T_dca8c932_9f29_11eb_a96a_0242ac1c0002row2_col2,#T_dca8c932_9f29_11eb_a96a_0242ac1c0002row2_col15,#T_dca8c932_9f29_11eb_a96a_0242ac1c0002row2_col16,#T_dca8c932_9f29_11eb_a96a_0242ac1c0002row2_col17,#T_dca8c932_9f29_11eb_a96a_0242ac1c0002row3_col0,#T_dca8c932_9f29_11eb_a96a_0242ac1c0002row3_col15,#T_dca8c932_9f29_11eb_a96a_0242ac1c0002row3_col16,#T_dca8c932_9f29_11eb_a96a_0242ac1c0002row3_col17,#T_dca8c932_9f29_11eb_a96a_0242ac1c0002row4_col0,#T_dca8c932_9f29_11eb_a96a_0242ac1c0002row4_col6,#T_dca8c932_9f29_11eb_a96a_0242ac1c0002row4_col7,#T_dca8c932_9f29_11eb_a96a_0242ac1c0002row4_col8,#T_dca8c932_9f29_11eb_a96a_0242ac1c0002row4_col9,#T_dca8c932_9f29_11eb_a96a_0242ac1c0002row4_col10,#T_dca8c932_9f29_11eb_a96a_0242ac1c0002row4_col15,#T_dca8c932_9f29_11eb_a96a_0242ac1c0002row4_col16,#T_dca8c932_9f29_11eb_a96a_0242ac1c0002row4_col17,#T_dca8c932_9f29_11eb_a96a_0242ac1c0002row5_col0,#T_dca8c932_9f29_11eb_a96a_0242ac1c0002row5_col5,#T_dca8c932_9f29_11eb_a96a_0242ac1c0002row5_col6,#T_dca8c932_9f29_11eb_a96a_0242ac1c0002row5_col7,#T_dca8c932_9f29_11eb_a96a_0242ac1c0002row5_col8,#T_dca8c932_9f29_11eb_a96a_0242ac1c0002row5_col9,#T_dca8c932_9f29_11eb_a96a_0242ac1c0002row5_col15,#T_dca8c932_9f29_11eb_a96a_0242ac1c0002row5_col16,#T_dca8c932_9f29_11eb_a96a_0242ac1c0002row5_col17,#T_dca8c932_9f29_11eb_a96a_0242ac1c0002row6_col0,#T_dca8c932_9f29_11eb_a96a_0242ac1c0002row6_col1,#T_dca8c932_9f29_11eb_a96a_0242ac1c0002row6_col2,#T_dca8c932_9f29_11eb_a96a_0242ac1c0002row6_col3,#T_dca8c932_9f29_11eb_a96a_0242ac1c0002row6_col4,#T_dca8c932_9f29_11eb_a96a_0242ac1c0002row6_col5,#T_dca8c932_9f29_11eb_a96a_0242ac1c0002row6_col6,#T_dca8c932_9f29_11eb_a96a_0242ac1c0002row6_col7,#T_dca8c932_9f29_11eb_a96a_0242ac1c0002row6_col8,#T_dca8c932_9f29_11eb_a96a_0242ac1c0002row6_col9,#T_dca8c932_9f29_11eb_a96a_0242ac1c0002row6_col14,#T_dca8c932_9f29_11eb_a96a_0242ac1c0002row6_col15,#T_dca8c932_9f29_11eb_a96a_0242ac1c0002row6_col16,#T_dca8c932_9f29_11eb_a96a_0242ac1c0002row6_col17,#T_dca8c932_9f29_11eb_a96a_0242ac1c0002row7_col0,#T_dca8c932_9f29_11eb_a96a_0242ac1c0002row7_col1,#T_dca8c932_9f29_11eb_a96a_0242ac1c0002row7_col2,#T_dca8c932_9f29_11eb_a96a_0242ac1c0002row7_col3,#T_dca8c932_9f29_11eb_a96a_0242ac1c0002row7_col4,#T_dca8c932_9f29_11eb_a96a_0242ac1c0002row7_col5,#T_dca8c932_9f29_11eb_a96a_0242ac1c0002row7_col6,#T_dca8c932_9f29_11eb_a96a_0242ac1c0002row7_col13,#T_dca8c932_9f29_11eb_a96a_0242ac1c0002row7_col14,#T_dca8c932_9f29_11eb_a96a_0242ac1c0002row7_col15,#T_dca8c932_9f29_11eb_a96a_0242ac1c0002row7_col16,#T_dca8c932_9f29_11eb_a96a_0242ac1c0002row7_col17,#T_dca8c932_9f29_11eb_a96a_0242ac1c0002row8_col0,#T_dca8c932_9f29_11eb_a96a_0242ac1c0002row8_col1,#T_dca8c932_9f29_11eb_a96a_0242ac1c0002row8_col2,#T_dca8c932_9f29_11eb_a96a_0242ac1c0002row8_col3,#T_dca8c932_9f29_11eb_a96a_0242ac1c0002row8_col4,#T_dca8c932_9f29_11eb_a96a_0242ac1c0002row8_col13,#T_dca8c932_9f29_11eb_a96a_0242ac1c0002row8_col14,#T_dca8c932_9f29_11eb_a96a_0242ac1c0002row8_col15,#T_dca8c932_9f29_11eb_a96a_0242ac1c0002row8_col16,#T_dca8c932_9f29_11eb_a96a_0242ac1c0002row8_col17,#T_dca8c932_9f29_11eb_a96a_0242ac1c0002row9_col0,#T_dca8c932_9f29_11eb_a96a_0242ac1c0002row9_col1,#T_dca8c932_9f29_11eb_a96a_0242ac1c0002row9_col2,#T_dca8c932_9f29_11eb_a96a_0242ac1c0002row9_col3,#T_dca8c932_9f29_11eb_a96a_0242ac1c0002row9_col4,#T_dca8c932_9f29_11eb_a96a_0242ac1c0002row9_col16,#T_dca8c932_9f29_11eb_a96a_0242ac1c0002row9_col17,#T_dca8c932_9f29_11eb_a96a_0242ac1c0002row10_col0,#T_dca8c932_9f29_11eb_a96a_0242ac1c0002row10_col1,#T_dca8c932_9f29_11eb_a96a_0242ac1c0002row10_col2,#T_dca8c932_9f29_11eb_a96a_0242ac1c0002row10_col3,#T_dca8c932_9f29_11eb_a96a_0242ac1c0002row10_col4,#T_dca8c932_9f29_11eb_a96a_0242ac1c0002row10_col5,#T_dca8c932_9f29_11eb_a96a_0242ac1c0002row10_col6,#T_dca8c932_9f29_11eb_a96a_0242ac1c0002row10_col17{\n",
              "            font-size:  6pt;\n",
              "            background-color:  #ffffff;\n",
              "            color:  #000000;\n",
              "        }#T_dca8c932_9f29_11eb_a96a_0242ac1c0002row1_col5{\n",
              "            font-size:  6pt;\n",
              "            background-color:  #efefef;\n",
              "            color:  #000000;\n",
              "        }#T_dca8c932_9f29_11eb_a96a_0242ac1c0002row1_col6,#T_dca8c932_9f29_11eb_a96a_0242ac1c0002row1_col13{\n",
              "            font-size:  6pt;\n",
              "            background-color:  #7c7c7c;\n",
              "            color:  #000000;\n",
              "        }#T_dca8c932_9f29_11eb_a96a_0242ac1c0002row1_col7{\n",
              "            font-size:  6pt;\n",
              "            background-color:  #4a4a4a;\n",
              "            color:  #f1f1f1;\n",
              "        }#T_dca8c932_9f29_11eb_a96a_0242ac1c0002row1_col8,#T_dca8c932_9f29_11eb_a96a_0242ac1c0002row1_col9,#T_dca8c932_9f29_11eb_a96a_0242ac1c0002row1_col10,#T_dca8c932_9f29_11eb_a96a_0242ac1c0002row2_col5,#T_dca8c932_9f29_11eb_a96a_0242ac1c0002row2_col6,#T_dca8c932_9f29_11eb_a96a_0242ac1c0002row2_col7,#T_dca8c932_9f29_11eb_a96a_0242ac1c0002row2_col11,#T_dca8c932_9f29_11eb_a96a_0242ac1c0002row2_col12,#T_dca8c932_9f29_11eb_a96a_0242ac1c0002row2_col13,#T_dca8c932_9f29_11eb_a96a_0242ac1c0002row3_col4,#T_dca8c932_9f29_11eb_a96a_0242ac1c0002row3_col12,#T_dca8c932_9f29_11eb_a96a_0242ac1c0002row3_col13,#T_dca8c932_9f29_11eb_a96a_0242ac1c0002row4_col1,#T_dca8c932_9f29_11eb_a96a_0242ac1c0002row4_col2,#T_dca8c932_9f29_11eb_a96a_0242ac1c0002row4_col3,#T_dca8c932_9f29_11eb_a96a_0242ac1c0002row4_col12,#T_dca8c932_9f29_11eb_a96a_0242ac1c0002row4_col13,#T_dca8c932_9f29_11eb_a96a_0242ac1c0002row5_col12,#T_dca8c932_9f29_11eb_a96a_0242ac1c0002row6_col11,#T_dca8c932_9f29_11eb_a96a_0242ac1c0002row9_col11,#T_dca8c932_9f29_11eb_a96a_0242ac1c0002row10_col11,#T_dca8c932_9f29_11eb_a96a_0242ac1c0002row10_col12,#T_dca8c932_9f29_11eb_a96a_0242ac1c0002row10_col13,#T_dca8c932_9f29_11eb_a96a_0242ac1c0002row10_col14,#T_dca8c932_9f29_11eb_a96a_0242ac1c0002row10_col15,#T_dca8c932_9f29_11eb_a96a_0242ac1c0002row10_col16{\n",
              "            font-size:  6pt;\n",
              "            background-color:  #000000;\n",
              "            color:  #f1f1f1;\n",
              "        }#T_dca8c932_9f29_11eb_a96a_0242ac1c0002row1_col11{\n",
              "            font-size:  6pt;\n",
              "            background-color:  #606060;\n",
              "            color:  #f1f1f1;\n",
              "        }#T_dca8c932_9f29_11eb_a96a_0242ac1c0002row1_col12{\n",
              "            font-size:  6pt;\n",
              "            background-color:  #4d4d4d;\n",
              "            color:  #f1f1f1;\n",
              "        }#T_dca8c932_9f29_11eb_a96a_0242ac1c0002row1_col14{\n",
              "            font-size:  6pt;\n",
              "            background-color:  #bbbbbb;\n",
              "            color:  #000000;\n",
              "        }#T_dca8c932_9f29_11eb_a96a_0242ac1c0002row2_col3{\n",
              "            font-size:  6pt;\n",
              "            background-color:  #e4e4e4;\n",
              "            color:  #000000;\n",
              "        }#T_dca8c932_9f29_11eb_a96a_0242ac1c0002row2_col4,#T_dca8c932_9f29_11eb_a96a_0242ac1c0002row8_col6{\n",
              "            font-size:  6pt;\n",
              "            background-color:  #6b6b6b;\n",
              "            color:  #000000;\n",
              "        }#T_dca8c932_9f29_11eb_a96a_0242ac1c0002row2_col8,#T_dca8c932_9f29_11eb_a96a_0242ac1c0002row2_col14,#T_dca8c932_9f29_11eb_a96a_0242ac1c0002row3_col14{\n",
              "            font-size:  6pt;\n",
              "            background-color:  #171717;\n",
              "            color:  #f1f1f1;\n",
              "        }#T_dca8c932_9f29_11eb_a96a_0242ac1c0002row2_col9,#T_dca8c932_9f29_11eb_a96a_0242ac1c0002row3_col11{\n",
              "            font-size:  6pt;\n",
              "            background-color:  #4b4b4b;\n",
              "            color:  #f1f1f1;\n",
              "        }#T_dca8c932_9f29_11eb_a96a_0242ac1c0002row2_col10,#T_dca8c932_9f29_11eb_a96a_0242ac1c0002row7_col10,#T_dca8c932_9f29_11eb_a96a_0242ac1c0002row8_col8,#T_dca8c932_9f29_11eb_a96a_0242ac1c0002row8_col10,#T_dca8c932_9f29_11eb_a96a_0242ac1c0002row9_col8,#T_dca8c932_9f29_11eb_a96a_0242ac1c0002row9_col10{\n",
              "            font-size:  6pt;\n",
              "            background-color:  #010101;\n",
              "            color:  #f1f1f1;\n",
              "        }#T_dca8c932_9f29_11eb_a96a_0242ac1c0002row3_col1{\n",
              "            font-size:  6pt;\n",
              "            background-color:  #272727;\n",
              "            color:  #f1f1f1;\n",
              "        }#T_dca8c932_9f29_11eb_a96a_0242ac1c0002row3_col2{\n",
              "            font-size:  6pt;\n",
              "            background-color:  #0a0a0a;\n",
              "            color:  #f1f1f1;\n",
              "        }#T_dca8c932_9f29_11eb_a96a_0242ac1c0002row3_col3{\n",
              "            font-size:  6pt;\n",
              "            background-color:  #050505;\n",
              "            color:  #f1f1f1;\n",
              "        }#T_dca8c932_9f29_11eb_a96a_0242ac1c0002row3_col5{\n",
              "            font-size:  6pt;\n",
              "            background-color:  #333333;\n",
              "            color:  #f1f1f1;\n",
              "        }#T_dca8c932_9f29_11eb_a96a_0242ac1c0002row3_col6{\n",
              "            font-size:  6pt;\n",
              "            background-color:  #e6e6e6;\n",
              "            color:  #000000;\n",
              "        }#T_dca8c932_9f29_11eb_a96a_0242ac1c0002row3_col7,#T_dca8c932_9f29_11eb_a96a_0242ac1c0002row3_col10{\n",
              "            font-size:  6pt;\n",
              "            background-color:  #fafafa;\n",
              "            color:  #000000;\n",
              "        }#T_dca8c932_9f29_11eb_a96a_0242ac1c0002row3_col8{\n",
              "            font-size:  6pt;\n",
              "            background-color:  #fbfbfb;\n",
              "            color:  #000000;\n",
              "        }#T_dca8c932_9f29_11eb_a96a_0242ac1c0002row3_col9{\n",
              "            font-size:  6pt;\n",
              "            background-color:  #fdfdfd;\n",
              "            color:  #000000;\n",
              "        }#T_dca8c932_9f29_11eb_a96a_0242ac1c0002row4_col4{\n",
              "            font-size:  6pt;\n",
              "            background-color:  #1b1b1b;\n",
              "            color:  #f1f1f1;\n",
              "        }#T_dca8c932_9f29_11eb_a96a_0242ac1c0002row4_col5{\n",
              "            font-size:  6pt;\n",
              "            background-color:  #e0e0e0;\n",
              "            color:  #000000;\n",
              "        }#T_dca8c932_9f29_11eb_a96a_0242ac1c0002row4_col11{\n",
              "            font-size:  6pt;\n",
              "            background-color:  #4e4e4e;\n",
              "            color:  #f1f1f1;\n",
              "        }#T_dca8c932_9f29_11eb_a96a_0242ac1c0002row4_col14{\n",
              "            font-size:  6pt;\n",
              "            background-color:  #767676;\n",
              "            color:  #000000;\n",
              "        }#T_dca8c932_9f29_11eb_a96a_0242ac1c0002row5_col1{\n",
              "            font-size:  6pt;\n",
              "            background-color:  #fcfcfc;\n",
              "            color:  #000000;\n",
              "        }#T_dca8c932_9f29_11eb_a96a_0242ac1c0002row5_col2,#T_dca8c932_9f29_11eb_a96a_0242ac1c0002row5_col3{\n",
              "            font-size:  6pt;\n",
              "            background-color:  #f6f6f6;\n",
              "            color:  #000000;\n",
              "        }#T_dca8c932_9f29_11eb_a96a_0242ac1c0002row5_col4,#T_dca8c932_9f29_11eb_a96a_0242ac1c0002row7_col7{\n",
              "            font-size:  6pt;\n",
              "            background-color:  #f8f8f8;\n",
              "            color:  #000000;\n",
              "        }#T_dca8c932_9f29_11eb_a96a_0242ac1c0002row5_col10,#T_dca8c932_9f29_11eb_a96a_0242ac1c0002row10_col7{\n",
              "            font-size:  6pt;\n",
              "            background-color:  #e8e8e8;\n",
              "            color:  #000000;\n",
              "        }#T_dca8c932_9f29_11eb_a96a_0242ac1c0002row5_col11{\n",
              "            font-size:  6pt;\n",
              "            background-color:  #222222;\n",
              "            color:  #f1f1f1;\n",
              "        }#T_dca8c932_9f29_11eb_a96a_0242ac1c0002row5_col13,#T_dca8c932_9f29_11eb_a96a_0242ac1c0002row6_col12{\n",
              "            font-size:  6pt;\n",
              "            background-color:  #090909;\n",
              "            color:  #f1f1f1;\n",
              "        }#T_dca8c932_9f29_11eb_a96a_0242ac1c0002row5_col14{\n",
              "            font-size:  6pt;\n",
              "            background-color:  #d0d0d0;\n",
              "            color:  #000000;\n",
              "        }#T_dca8c932_9f29_11eb_a96a_0242ac1c0002row6_col10,#T_dca8c932_9f29_11eb_a96a_0242ac1c0002row7_col11,#T_dca8c932_9f29_11eb_a96a_0242ac1c0002row9_col6{\n",
              "            font-size:  6pt;\n",
              "            background-color:  #060606;\n",
              "            color:  #f1f1f1;\n",
              "        }#T_dca8c932_9f29_11eb_a96a_0242ac1c0002row6_col13{\n",
              "            font-size:  6pt;\n",
              "            background-color:  #979797;\n",
              "            color:  #000000;\n",
              "        }#T_dca8c932_9f29_11eb_a96a_0242ac1c0002row7_col8{\n",
              "            font-size:  6pt;\n",
              "            background-color:  #b6b6b6;\n",
              "            color:  #000000;\n",
              "        }#T_dca8c932_9f29_11eb_a96a_0242ac1c0002row7_col9{\n",
              "            font-size:  6pt;\n",
              "            background-color:  #252525;\n",
              "            color:  #f1f1f1;\n",
              "        }#T_dca8c932_9f29_11eb_a96a_0242ac1c0002row7_col12{\n",
              "            font-size:  6pt;\n",
              "            background-color:  #999999;\n",
              "            color:  #000000;\n",
              "        }#T_dca8c932_9f29_11eb_a96a_0242ac1c0002row8_col5{\n",
              "            font-size:  6pt;\n",
              "            background-color:  #f9f9f9;\n",
              "            color:  #000000;\n",
              "        }#T_dca8c932_9f29_11eb_a96a_0242ac1c0002row8_col7{\n",
              "            font-size:  6pt;\n",
              "            background-color:  #101010;\n",
              "            color:  #f1f1f1;\n",
              "        }#T_dca8c932_9f29_11eb_a96a_0242ac1c0002row8_col9,#T_dca8c932_9f29_11eb_a96a_0242ac1c0002row9_col9{\n",
              "            font-size:  6pt;\n",
              "            background-color:  #020202;\n",
              "            color:  #f1f1f1;\n",
              "        }#T_dca8c932_9f29_11eb_a96a_0242ac1c0002row8_col11{\n",
              "            font-size:  6pt;\n",
              "            background-color:  #545454;\n",
              "            color:  #f1f1f1;\n",
              "        }#T_dca8c932_9f29_11eb_a96a_0242ac1c0002row8_col12{\n",
              "            font-size:  6pt;\n",
              "            background-color:  #f1f1f1;\n",
              "            color:  #000000;\n",
              "        }#T_dca8c932_9f29_11eb_a96a_0242ac1c0002row9_col5{\n",
              "            font-size:  6pt;\n",
              "            background-color:  #f7f7f7;\n",
              "            color:  #000000;\n",
              "        }#T_dca8c932_9f29_11eb_a96a_0242ac1c0002row9_col7{\n",
              "            font-size:  6pt;\n",
              "            background-color:  #030303;\n",
              "            color:  #f1f1f1;\n",
              "        }#T_dca8c932_9f29_11eb_a96a_0242ac1c0002row9_col12{\n",
              "            font-size:  6pt;\n",
              "            background-color:  #181818;\n",
              "            color:  #f1f1f1;\n",
              "        }#T_dca8c932_9f29_11eb_a96a_0242ac1c0002row9_col13{\n",
              "            font-size:  6pt;\n",
              "            background-color:  #303030;\n",
              "            color:  #f1f1f1;\n",
              "        }#T_dca8c932_9f29_11eb_a96a_0242ac1c0002row9_col14{\n",
              "            font-size:  6pt;\n",
              "            background-color:  #a9a9a9;\n",
              "            color:  #000000;\n",
              "        }#T_dca8c932_9f29_11eb_a96a_0242ac1c0002row9_col15{\n",
              "            font-size:  6pt;\n",
              "            background-color:  #fefefe;\n",
              "            color:  #000000;\n",
              "        }#T_dca8c932_9f29_11eb_a96a_0242ac1c0002row10_col8,#T_dca8c932_9f29_11eb_a96a_0242ac1c0002row10_col9{\n",
              "            font-size:  6pt;\n",
              "            background-color:  #bababa;\n",
              "            color:  #000000;\n",
              "        }#T_dca8c932_9f29_11eb_a96a_0242ac1c0002row10_col10{\n",
              "            font-size:  6pt;\n",
              "            background-color:  #393939;\n",
              "            color:  #f1f1f1;\n",
              "        }</style><table id=\"T_dca8c932_9f29_11eb_a96a_0242ac1c0002\" ><thead>    <tr>        <th class=\"blank level0\" ></th>        <th class=\"col_heading level0 col0\" >0</th>        <th class=\"col_heading level0 col1\" >1</th>        <th class=\"col_heading level0 col2\" >2</th>        <th class=\"col_heading level0 col3\" >3</th>        <th class=\"col_heading level0 col4\" >4</th>        <th class=\"col_heading level0 col5\" >5</th>        <th class=\"col_heading level0 col6\" >6</th>        <th class=\"col_heading level0 col7\" >7</th>        <th class=\"col_heading level0 col8\" >8</th>        <th class=\"col_heading level0 col9\" >9</th>        <th class=\"col_heading level0 col10\" >10</th>        <th class=\"col_heading level0 col11\" >11</th>        <th class=\"col_heading level0 col12\" >12</th>        <th class=\"col_heading level0 col13\" >13</th>        <th class=\"col_heading level0 col14\" >14</th>        <th class=\"col_heading level0 col15\" >15</th>        <th class=\"col_heading level0 col16\" >16</th>        <th class=\"col_heading level0 col17\" >17</th>    </tr></thead><tbody>\n",
              "                <tr>\n",
              "                        <th id=\"T_dca8c932_9f29_11eb_a96a_0242ac1c0002level0_row0\" class=\"row_heading level0 row0\" >0</th>\n",
              "                        <td id=\"T_dca8c932_9f29_11eb_a96a_0242ac1c0002row0_col0\" class=\"data row0 col0\" >0</td>\n",
              "                        <td id=\"T_dca8c932_9f29_11eb_a96a_0242ac1c0002row0_col1\" class=\"data row0 col1\" >0</td>\n",
              "                        <td id=\"T_dca8c932_9f29_11eb_a96a_0242ac1c0002row0_col2\" class=\"data row0 col2\" >0</td>\n",
              "                        <td id=\"T_dca8c932_9f29_11eb_a96a_0242ac1c0002row0_col3\" class=\"data row0 col3\" >0</td>\n",
              "                        <td id=\"T_dca8c932_9f29_11eb_a96a_0242ac1c0002row0_col4\" class=\"data row0 col4\" >0</td>\n",
              "                        <td id=\"T_dca8c932_9f29_11eb_a96a_0242ac1c0002row0_col5\" class=\"data row0 col5\" >0</td>\n",
              "                        <td id=\"T_dca8c932_9f29_11eb_a96a_0242ac1c0002row0_col6\" class=\"data row0 col6\" >0</td>\n",
              "                        <td id=\"T_dca8c932_9f29_11eb_a96a_0242ac1c0002row0_col7\" class=\"data row0 col7\" >0</td>\n",
              "                        <td id=\"T_dca8c932_9f29_11eb_a96a_0242ac1c0002row0_col8\" class=\"data row0 col8\" >0</td>\n",
              "                        <td id=\"T_dca8c932_9f29_11eb_a96a_0242ac1c0002row0_col9\" class=\"data row0 col9\" >0</td>\n",
              "                        <td id=\"T_dca8c932_9f29_11eb_a96a_0242ac1c0002row0_col10\" class=\"data row0 col10\" >0</td>\n",
              "                        <td id=\"T_dca8c932_9f29_11eb_a96a_0242ac1c0002row0_col11\" class=\"data row0 col11\" >0</td>\n",
              "                        <td id=\"T_dca8c932_9f29_11eb_a96a_0242ac1c0002row0_col12\" class=\"data row0 col12\" >0</td>\n",
              "                        <td id=\"T_dca8c932_9f29_11eb_a96a_0242ac1c0002row0_col13\" class=\"data row0 col13\" >0</td>\n",
              "                        <td id=\"T_dca8c932_9f29_11eb_a96a_0242ac1c0002row0_col14\" class=\"data row0 col14\" >0</td>\n",
              "                        <td id=\"T_dca8c932_9f29_11eb_a96a_0242ac1c0002row0_col15\" class=\"data row0 col15\" >0</td>\n",
              "                        <td id=\"T_dca8c932_9f29_11eb_a96a_0242ac1c0002row0_col16\" class=\"data row0 col16\" >0</td>\n",
              "                        <td id=\"T_dca8c932_9f29_11eb_a96a_0242ac1c0002row0_col17\" class=\"data row0 col17\" >0</td>\n",
              "            </tr>\n",
              "            <tr>\n",
              "                        <th id=\"T_dca8c932_9f29_11eb_a96a_0242ac1c0002level0_row1\" class=\"row_heading level0 row1\" >1</th>\n",
              "                        <td id=\"T_dca8c932_9f29_11eb_a96a_0242ac1c0002row1_col0\" class=\"data row1 col0\" >0</td>\n",
              "                        <td id=\"T_dca8c932_9f29_11eb_a96a_0242ac1c0002row1_col1\" class=\"data row1 col1\" >0</td>\n",
              "                        <td id=\"T_dca8c932_9f29_11eb_a96a_0242ac1c0002row1_col2\" class=\"data row1 col2\" >0</td>\n",
              "                        <td id=\"T_dca8c932_9f29_11eb_a96a_0242ac1c0002row1_col3\" class=\"data row1 col3\" >0</td>\n",
              "                        <td id=\"T_dca8c932_9f29_11eb_a96a_0242ac1c0002row1_col4\" class=\"data row1 col4\" >0</td>\n",
              "                        <td id=\"T_dca8c932_9f29_11eb_a96a_0242ac1c0002row1_col5\" class=\"data row1 col5\" >29</td>\n",
              "                        <td id=\"T_dca8c932_9f29_11eb_a96a_0242ac1c0002row1_col6\" class=\"data row1 col6\" >150</td>\n",
              "                        <td id=\"T_dca8c932_9f29_11eb_a96a_0242ac1c0002row1_col7\" class=\"data row1 col7\" >195</td>\n",
              "                        <td id=\"T_dca8c932_9f29_11eb_a96a_0242ac1c0002row1_col8\" class=\"data row1 col8\" >254</td>\n",
              "                        <td id=\"T_dca8c932_9f29_11eb_a96a_0242ac1c0002row1_col9\" class=\"data row1 col9\" >255</td>\n",
              "                        <td id=\"T_dca8c932_9f29_11eb_a96a_0242ac1c0002row1_col10\" class=\"data row1 col10\" >254</td>\n",
              "                        <td id=\"T_dca8c932_9f29_11eb_a96a_0242ac1c0002row1_col11\" class=\"data row1 col11\" >176</td>\n",
              "                        <td id=\"T_dca8c932_9f29_11eb_a96a_0242ac1c0002row1_col12\" class=\"data row1 col12\" >193</td>\n",
              "                        <td id=\"T_dca8c932_9f29_11eb_a96a_0242ac1c0002row1_col13\" class=\"data row1 col13\" >150</td>\n",
              "                        <td id=\"T_dca8c932_9f29_11eb_a96a_0242ac1c0002row1_col14\" class=\"data row1 col14\" >96</td>\n",
              "                        <td id=\"T_dca8c932_9f29_11eb_a96a_0242ac1c0002row1_col15\" class=\"data row1 col15\" >0</td>\n",
              "                        <td id=\"T_dca8c932_9f29_11eb_a96a_0242ac1c0002row1_col16\" class=\"data row1 col16\" >0</td>\n",
              "                        <td id=\"T_dca8c932_9f29_11eb_a96a_0242ac1c0002row1_col17\" class=\"data row1 col17\" >0</td>\n",
              "            </tr>\n",
              "            <tr>\n",
              "                        <th id=\"T_dca8c932_9f29_11eb_a96a_0242ac1c0002level0_row2\" class=\"row_heading level0 row2\" >2</th>\n",
              "                        <td id=\"T_dca8c932_9f29_11eb_a96a_0242ac1c0002row2_col0\" class=\"data row2 col0\" >0</td>\n",
              "                        <td id=\"T_dca8c932_9f29_11eb_a96a_0242ac1c0002row2_col1\" class=\"data row2 col1\" >0</td>\n",
              "                        <td id=\"T_dca8c932_9f29_11eb_a96a_0242ac1c0002row2_col2\" class=\"data row2 col2\" >0</td>\n",
              "                        <td id=\"T_dca8c932_9f29_11eb_a96a_0242ac1c0002row2_col3\" class=\"data row2 col3\" >48</td>\n",
              "                        <td id=\"T_dca8c932_9f29_11eb_a96a_0242ac1c0002row2_col4\" class=\"data row2 col4\" >166</td>\n",
              "                        <td id=\"T_dca8c932_9f29_11eb_a96a_0242ac1c0002row2_col5\" class=\"data row2 col5\" >224</td>\n",
              "                        <td id=\"T_dca8c932_9f29_11eb_a96a_0242ac1c0002row2_col6\" class=\"data row2 col6\" >253</td>\n",
              "                        <td id=\"T_dca8c932_9f29_11eb_a96a_0242ac1c0002row2_col7\" class=\"data row2 col7\" >253</td>\n",
              "                        <td id=\"T_dca8c932_9f29_11eb_a96a_0242ac1c0002row2_col8\" class=\"data row2 col8\" >234</td>\n",
              "                        <td id=\"T_dca8c932_9f29_11eb_a96a_0242ac1c0002row2_col9\" class=\"data row2 col9\" >196</td>\n",
              "                        <td id=\"T_dca8c932_9f29_11eb_a96a_0242ac1c0002row2_col10\" class=\"data row2 col10\" >253</td>\n",
              "                        <td id=\"T_dca8c932_9f29_11eb_a96a_0242ac1c0002row2_col11\" class=\"data row2 col11\" >253</td>\n",
              "                        <td id=\"T_dca8c932_9f29_11eb_a96a_0242ac1c0002row2_col12\" class=\"data row2 col12\" >253</td>\n",
              "                        <td id=\"T_dca8c932_9f29_11eb_a96a_0242ac1c0002row2_col13\" class=\"data row2 col13\" >253</td>\n",
              "                        <td id=\"T_dca8c932_9f29_11eb_a96a_0242ac1c0002row2_col14\" class=\"data row2 col14\" >233</td>\n",
              "                        <td id=\"T_dca8c932_9f29_11eb_a96a_0242ac1c0002row2_col15\" class=\"data row2 col15\" >0</td>\n",
              "                        <td id=\"T_dca8c932_9f29_11eb_a96a_0242ac1c0002row2_col16\" class=\"data row2 col16\" >0</td>\n",
              "                        <td id=\"T_dca8c932_9f29_11eb_a96a_0242ac1c0002row2_col17\" class=\"data row2 col17\" >0</td>\n",
              "            </tr>\n",
              "            <tr>\n",
              "                        <th id=\"T_dca8c932_9f29_11eb_a96a_0242ac1c0002level0_row3\" class=\"row_heading level0 row3\" >3</th>\n",
              "                        <td id=\"T_dca8c932_9f29_11eb_a96a_0242ac1c0002row3_col0\" class=\"data row3 col0\" >0</td>\n",
              "                        <td id=\"T_dca8c932_9f29_11eb_a96a_0242ac1c0002row3_col1\" class=\"data row3 col1\" >93</td>\n",
              "                        <td id=\"T_dca8c932_9f29_11eb_a96a_0242ac1c0002row3_col2\" class=\"data row3 col2\" >244</td>\n",
              "                        <td id=\"T_dca8c932_9f29_11eb_a96a_0242ac1c0002row3_col3\" class=\"data row3 col3\" >249</td>\n",
              "                        <td id=\"T_dca8c932_9f29_11eb_a96a_0242ac1c0002row3_col4\" class=\"data row3 col4\" >253</td>\n",
              "                        <td id=\"T_dca8c932_9f29_11eb_a96a_0242ac1c0002row3_col5\" class=\"data row3 col5\" >187</td>\n",
              "                        <td id=\"T_dca8c932_9f29_11eb_a96a_0242ac1c0002row3_col6\" class=\"data row3 col6\" >46</td>\n",
              "                        <td id=\"T_dca8c932_9f29_11eb_a96a_0242ac1c0002row3_col7\" class=\"data row3 col7\" >10</td>\n",
              "                        <td id=\"T_dca8c932_9f29_11eb_a96a_0242ac1c0002row3_col8\" class=\"data row3 col8\" >8</td>\n",
              "                        <td id=\"T_dca8c932_9f29_11eb_a96a_0242ac1c0002row3_col9\" class=\"data row3 col9\" >4</td>\n",
              "                        <td id=\"T_dca8c932_9f29_11eb_a96a_0242ac1c0002row3_col10\" class=\"data row3 col10\" >10</td>\n",
              "                        <td id=\"T_dca8c932_9f29_11eb_a96a_0242ac1c0002row3_col11\" class=\"data row3 col11\" >194</td>\n",
              "                        <td id=\"T_dca8c932_9f29_11eb_a96a_0242ac1c0002row3_col12\" class=\"data row3 col12\" >253</td>\n",
              "                        <td id=\"T_dca8c932_9f29_11eb_a96a_0242ac1c0002row3_col13\" class=\"data row3 col13\" >253</td>\n",
              "                        <td id=\"T_dca8c932_9f29_11eb_a96a_0242ac1c0002row3_col14\" class=\"data row3 col14\" >233</td>\n",
              "                        <td id=\"T_dca8c932_9f29_11eb_a96a_0242ac1c0002row3_col15\" class=\"data row3 col15\" >0</td>\n",
              "                        <td id=\"T_dca8c932_9f29_11eb_a96a_0242ac1c0002row3_col16\" class=\"data row3 col16\" >0</td>\n",
              "                        <td id=\"T_dca8c932_9f29_11eb_a96a_0242ac1c0002row3_col17\" class=\"data row3 col17\" >0</td>\n",
              "            </tr>\n",
              "            <tr>\n",
              "                        <th id=\"T_dca8c932_9f29_11eb_a96a_0242ac1c0002level0_row4\" class=\"row_heading level0 row4\" >4</th>\n",
              "                        <td id=\"T_dca8c932_9f29_11eb_a96a_0242ac1c0002row4_col0\" class=\"data row4 col0\" >0</td>\n",
              "                        <td id=\"T_dca8c932_9f29_11eb_a96a_0242ac1c0002row4_col1\" class=\"data row4 col1\" >107</td>\n",
              "                        <td id=\"T_dca8c932_9f29_11eb_a96a_0242ac1c0002row4_col2\" class=\"data row4 col2\" >253</td>\n",
              "                        <td id=\"T_dca8c932_9f29_11eb_a96a_0242ac1c0002row4_col3\" class=\"data row4 col3\" >253</td>\n",
              "                        <td id=\"T_dca8c932_9f29_11eb_a96a_0242ac1c0002row4_col4\" class=\"data row4 col4\" >230</td>\n",
              "                        <td id=\"T_dca8c932_9f29_11eb_a96a_0242ac1c0002row4_col5\" class=\"data row4 col5\" >48</td>\n",
              "                        <td id=\"T_dca8c932_9f29_11eb_a96a_0242ac1c0002row4_col6\" class=\"data row4 col6\" >0</td>\n",
              "                        <td id=\"T_dca8c932_9f29_11eb_a96a_0242ac1c0002row4_col7\" class=\"data row4 col7\" >0</td>\n",
              "                        <td id=\"T_dca8c932_9f29_11eb_a96a_0242ac1c0002row4_col8\" class=\"data row4 col8\" >0</td>\n",
              "                        <td id=\"T_dca8c932_9f29_11eb_a96a_0242ac1c0002row4_col9\" class=\"data row4 col9\" >0</td>\n",
              "                        <td id=\"T_dca8c932_9f29_11eb_a96a_0242ac1c0002row4_col10\" class=\"data row4 col10\" >0</td>\n",
              "                        <td id=\"T_dca8c932_9f29_11eb_a96a_0242ac1c0002row4_col11\" class=\"data row4 col11\" >192</td>\n",
              "                        <td id=\"T_dca8c932_9f29_11eb_a96a_0242ac1c0002row4_col12\" class=\"data row4 col12\" >253</td>\n",
              "                        <td id=\"T_dca8c932_9f29_11eb_a96a_0242ac1c0002row4_col13\" class=\"data row4 col13\" >253</td>\n",
              "                        <td id=\"T_dca8c932_9f29_11eb_a96a_0242ac1c0002row4_col14\" class=\"data row4 col14\" >156</td>\n",
              "                        <td id=\"T_dca8c932_9f29_11eb_a96a_0242ac1c0002row4_col15\" class=\"data row4 col15\" >0</td>\n",
              "                        <td id=\"T_dca8c932_9f29_11eb_a96a_0242ac1c0002row4_col16\" class=\"data row4 col16\" >0</td>\n",
              "                        <td id=\"T_dca8c932_9f29_11eb_a96a_0242ac1c0002row4_col17\" class=\"data row4 col17\" >0</td>\n",
              "            </tr>\n",
              "            <tr>\n",
              "                        <th id=\"T_dca8c932_9f29_11eb_a96a_0242ac1c0002level0_row5\" class=\"row_heading level0 row5\" >5</th>\n",
              "                        <td id=\"T_dca8c932_9f29_11eb_a96a_0242ac1c0002row5_col0\" class=\"data row5 col0\" >0</td>\n",
              "                        <td id=\"T_dca8c932_9f29_11eb_a96a_0242ac1c0002row5_col1\" class=\"data row5 col1\" >3</td>\n",
              "                        <td id=\"T_dca8c932_9f29_11eb_a96a_0242ac1c0002row5_col2\" class=\"data row5 col2\" >20</td>\n",
              "                        <td id=\"T_dca8c932_9f29_11eb_a96a_0242ac1c0002row5_col3\" class=\"data row5 col3\" >20</td>\n",
              "                        <td id=\"T_dca8c932_9f29_11eb_a96a_0242ac1c0002row5_col4\" class=\"data row5 col4\" >15</td>\n",
              "                        <td id=\"T_dca8c932_9f29_11eb_a96a_0242ac1c0002row5_col5\" class=\"data row5 col5\" >0</td>\n",
              "                        <td id=\"T_dca8c932_9f29_11eb_a96a_0242ac1c0002row5_col6\" class=\"data row5 col6\" >0</td>\n",
              "                        <td id=\"T_dca8c932_9f29_11eb_a96a_0242ac1c0002row5_col7\" class=\"data row5 col7\" >0</td>\n",
              "                        <td id=\"T_dca8c932_9f29_11eb_a96a_0242ac1c0002row5_col8\" class=\"data row5 col8\" >0</td>\n",
              "                        <td id=\"T_dca8c932_9f29_11eb_a96a_0242ac1c0002row5_col9\" class=\"data row5 col9\" >0</td>\n",
              "                        <td id=\"T_dca8c932_9f29_11eb_a96a_0242ac1c0002row5_col10\" class=\"data row5 col10\" >43</td>\n",
              "                        <td id=\"T_dca8c932_9f29_11eb_a96a_0242ac1c0002row5_col11\" class=\"data row5 col11\" >224</td>\n",
              "                        <td id=\"T_dca8c932_9f29_11eb_a96a_0242ac1c0002row5_col12\" class=\"data row5 col12\" >253</td>\n",
              "                        <td id=\"T_dca8c932_9f29_11eb_a96a_0242ac1c0002row5_col13\" class=\"data row5 col13\" >245</td>\n",
              "                        <td id=\"T_dca8c932_9f29_11eb_a96a_0242ac1c0002row5_col14\" class=\"data row5 col14\" >74</td>\n",
              "                        <td id=\"T_dca8c932_9f29_11eb_a96a_0242ac1c0002row5_col15\" class=\"data row5 col15\" >0</td>\n",
              "                        <td id=\"T_dca8c932_9f29_11eb_a96a_0242ac1c0002row5_col16\" class=\"data row5 col16\" >0</td>\n",
              "                        <td id=\"T_dca8c932_9f29_11eb_a96a_0242ac1c0002row5_col17\" class=\"data row5 col17\" >0</td>\n",
              "            </tr>\n",
              "            <tr>\n",
              "                        <th id=\"T_dca8c932_9f29_11eb_a96a_0242ac1c0002level0_row6\" class=\"row_heading level0 row6\" >6</th>\n",
              "                        <td id=\"T_dca8c932_9f29_11eb_a96a_0242ac1c0002row6_col0\" class=\"data row6 col0\" >0</td>\n",
              "                        <td id=\"T_dca8c932_9f29_11eb_a96a_0242ac1c0002row6_col1\" class=\"data row6 col1\" >0</td>\n",
              "                        <td id=\"T_dca8c932_9f29_11eb_a96a_0242ac1c0002row6_col2\" class=\"data row6 col2\" >0</td>\n",
              "                        <td id=\"T_dca8c932_9f29_11eb_a96a_0242ac1c0002row6_col3\" class=\"data row6 col3\" >0</td>\n",
              "                        <td id=\"T_dca8c932_9f29_11eb_a96a_0242ac1c0002row6_col4\" class=\"data row6 col4\" >0</td>\n",
              "                        <td id=\"T_dca8c932_9f29_11eb_a96a_0242ac1c0002row6_col5\" class=\"data row6 col5\" >0</td>\n",
              "                        <td id=\"T_dca8c932_9f29_11eb_a96a_0242ac1c0002row6_col6\" class=\"data row6 col6\" >0</td>\n",
              "                        <td id=\"T_dca8c932_9f29_11eb_a96a_0242ac1c0002row6_col7\" class=\"data row6 col7\" >0</td>\n",
              "                        <td id=\"T_dca8c932_9f29_11eb_a96a_0242ac1c0002row6_col8\" class=\"data row6 col8\" >0</td>\n",
              "                        <td id=\"T_dca8c932_9f29_11eb_a96a_0242ac1c0002row6_col9\" class=\"data row6 col9\" >0</td>\n",
              "                        <td id=\"T_dca8c932_9f29_11eb_a96a_0242ac1c0002row6_col10\" class=\"data row6 col10\" >249</td>\n",
              "                        <td id=\"T_dca8c932_9f29_11eb_a96a_0242ac1c0002row6_col11\" class=\"data row6 col11\" >253</td>\n",
              "                        <td id=\"T_dca8c932_9f29_11eb_a96a_0242ac1c0002row6_col12\" class=\"data row6 col12\" >245</td>\n",
              "                        <td id=\"T_dca8c932_9f29_11eb_a96a_0242ac1c0002row6_col13\" class=\"data row6 col13\" >126</td>\n",
              "                        <td id=\"T_dca8c932_9f29_11eb_a96a_0242ac1c0002row6_col14\" class=\"data row6 col14\" >0</td>\n",
              "                        <td id=\"T_dca8c932_9f29_11eb_a96a_0242ac1c0002row6_col15\" class=\"data row6 col15\" >0</td>\n",
              "                        <td id=\"T_dca8c932_9f29_11eb_a96a_0242ac1c0002row6_col16\" class=\"data row6 col16\" >0</td>\n",
              "                        <td id=\"T_dca8c932_9f29_11eb_a96a_0242ac1c0002row6_col17\" class=\"data row6 col17\" >0</td>\n",
              "            </tr>\n",
              "            <tr>\n",
              "                        <th id=\"T_dca8c932_9f29_11eb_a96a_0242ac1c0002level0_row7\" class=\"row_heading level0 row7\" >7</th>\n",
              "                        <td id=\"T_dca8c932_9f29_11eb_a96a_0242ac1c0002row7_col0\" class=\"data row7 col0\" >0</td>\n",
              "                        <td id=\"T_dca8c932_9f29_11eb_a96a_0242ac1c0002row7_col1\" class=\"data row7 col1\" >0</td>\n",
              "                        <td id=\"T_dca8c932_9f29_11eb_a96a_0242ac1c0002row7_col2\" class=\"data row7 col2\" >0</td>\n",
              "                        <td id=\"T_dca8c932_9f29_11eb_a96a_0242ac1c0002row7_col3\" class=\"data row7 col3\" >0</td>\n",
              "                        <td id=\"T_dca8c932_9f29_11eb_a96a_0242ac1c0002row7_col4\" class=\"data row7 col4\" >0</td>\n",
              "                        <td id=\"T_dca8c932_9f29_11eb_a96a_0242ac1c0002row7_col5\" class=\"data row7 col5\" >0</td>\n",
              "                        <td id=\"T_dca8c932_9f29_11eb_a96a_0242ac1c0002row7_col6\" class=\"data row7 col6\" >0</td>\n",
              "                        <td id=\"T_dca8c932_9f29_11eb_a96a_0242ac1c0002row7_col7\" class=\"data row7 col7\" >14</td>\n",
              "                        <td id=\"T_dca8c932_9f29_11eb_a96a_0242ac1c0002row7_col8\" class=\"data row7 col8\" >101</td>\n",
              "                        <td id=\"T_dca8c932_9f29_11eb_a96a_0242ac1c0002row7_col9\" class=\"data row7 col9\" >223</td>\n",
              "                        <td id=\"T_dca8c932_9f29_11eb_a96a_0242ac1c0002row7_col10\" class=\"data row7 col10\" >253</td>\n",
              "                        <td id=\"T_dca8c932_9f29_11eb_a96a_0242ac1c0002row7_col11\" class=\"data row7 col11\" >248</td>\n",
              "                        <td id=\"T_dca8c932_9f29_11eb_a96a_0242ac1c0002row7_col12\" class=\"data row7 col12\" >124</td>\n",
              "                        <td id=\"T_dca8c932_9f29_11eb_a96a_0242ac1c0002row7_col13\" class=\"data row7 col13\" >0</td>\n",
              "                        <td id=\"T_dca8c932_9f29_11eb_a96a_0242ac1c0002row7_col14\" class=\"data row7 col14\" >0</td>\n",
              "                        <td id=\"T_dca8c932_9f29_11eb_a96a_0242ac1c0002row7_col15\" class=\"data row7 col15\" >0</td>\n",
              "                        <td id=\"T_dca8c932_9f29_11eb_a96a_0242ac1c0002row7_col16\" class=\"data row7 col16\" >0</td>\n",
              "                        <td id=\"T_dca8c932_9f29_11eb_a96a_0242ac1c0002row7_col17\" class=\"data row7 col17\" >0</td>\n",
              "            </tr>\n",
              "            <tr>\n",
              "                        <th id=\"T_dca8c932_9f29_11eb_a96a_0242ac1c0002level0_row8\" class=\"row_heading level0 row8\" >8</th>\n",
              "                        <td id=\"T_dca8c932_9f29_11eb_a96a_0242ac1c0002row8_col0\" class=\"data row8 col0\" >0</td>\n",
              "                        <td id=\"T_dca8c932_9f29_11eb_a96a_0242ac1c0002row8_col1\" class=\"data row8 col1\" >0</td>\n",
              "                        <td id=\"T_dca8c932_9f29_11eb_a96a_0242ac1c0002row8_col2\" class=\"data row8 col2\" >0</td>\n",
              "                        <td id=\"T_dca8c932_9f29_11eb_a96a_0242ac1c0002row8_col3\" class=\"data row8 col3\" >0</td>\n",
              "                        <td id=\"T_dca8c932_9f29_11eb_a96a_0242ac1c0002row8_col4\" class=\"data row8 col4\" >0</td>\n",
              "                        <td id=\"T_dca8c932_9f29_11eb_a96a_0242ac1c0002row8_col5\" class=\"data row8 col5\" >11</td>\n",
              "                        <td id=\"T_dca8c932_9f29_11eb_a96a_0242ac1c0002row8_col6\" class=\"data row8 col6\" >166</td>\n",
              "                        <td id=\"T_dca8c932_9f29_11eb_a96a_0242ac1c0002row8_col7\" class=\"data row8 col7\" >239</td>\n",
              "                        <td id=\"T_dca8c932_9f29_11eb_a96a_0242ac1c0002row8_col8\" class=\"data row8 col8\" >253</td>\n",
              "                        <td id=\"T_dca8c932_9f29_11eb_a96a_0242ac1c0002row8_col9\" class=\"data row8 col9\" >253</td>\n",
              "                        <td id=\"T_dca8c932_9f29_11eb_a96a_0242ac1c0002row8_col10\" class=\"data row8 col10\" >253</td>\n",
              "                        <td id=\"T_dca8c932_9f29_11eb_a96a_0242ac1c0002row8_col11\" class=\"data row8 col11\" >187</td>\n",
              "                        <td id=\"T_dca8c932_9f29_11eb_a96a_0242ac1c0002row8_col12\" class=\"data row8 col12\" >30</td>\n",
              "                        <td id=\"T_dca8c932_9f29_11eb_a96a_0242ac1c0002row8_col13\" class=\"data row8 col13\" >0</td>\n",
              "                        <td id=\"T_dca8c932_9f29_11eb_a96a_0242ac1c0002row8_col14\" class=\"data row8 col14\" >0</td>\n",
              "                        <td id=\"T_dca8c932_9f29_11eb_a96a_0242ac1c0002row8_col15\" class=\"data row8 col15\" >0</td>\n",
              "                        <td id=\"T_dca8c932_9f29_11eb_a96a_0242ac1c0002row8_col16\" class=\"data row8 col16\" >0</td>\n",
              "                        <td id=\"T_dca8c932_9f29_11eb_a96a_0242ac1c0002row8_col17\" class=\"data row8 col17\" >0</td>\n",
              "            </tr>\n",
              "            <tr>\n",
              "                        <th id=\"T_dca8c932_9f29_11eb_a96a_0242ac1c0002level0_row9\" class=\"row_heading level0 row9\" >9</th>\n",
              "                        <td id=\"T_dca8c932_9f29_11eb_a96a_0242ac1c0002row9_col0\" class=\"data row9 col0\" >0</td>\n",
              "                        <td id=\"T_dca8c932_9f29_11eb_a96a_0242ac1c0002row9_col1\" class=\"data row9 col1\" >0</td>\n",
              "                        <td id=\"T_dca8c932_9f29_11eb_a96a_0242ac1c0002row9_col2\" class=\"data row9 col2\" >0</td>\n",
              "                        <td id=\"T_dca8c932_9f29_11eb_a96a_0242ac1c0002row9_col3\" class=\"data row9 col3\" >0</td>\n",
              "                        <td id=\"T_dca8c932_9f29_11eb_a96a_0242ac1c0002row9_col4\" class=\"data row9 col4\" >0</td>\n",
              "                        <td id=\"T_dca8c932_9f29_11eb_a96a_0242ac1c0002row9_col5\" class=\"data row9 col5\" >16</td>\n",
              "                        <td id=\"T_dca8c932_9f29_11eb_a96a_0242ac1c0002row9_col6\" class=\"data row9 col6\" >248</td>\n",
              "                        <td id=\"T_dca8c932_9f29_11eb_a96a_0242ac1c0002row9_col7\" class=\"data row9 col7\" >250</td>\n",
              "                        <td id=\"T_dca8c932_9f29_11eb_a96a_0242ac1c0002row9_col8\" class=\"data row9 col8\" >253</td>\n",
              "                        <td id=\"T_dca8c932_9f29_11eb_a96a_0242ac1c0002row9_col9\" class=\"data row9 col9\" >253</td>\n",
              "                        <td id=\"T_dca8c932_9f29_11eb_a96a_0242ac1c0002row9_col10\" class=\"data row9 col10\" >253</td>\n",
              "                        <td id=\"T_dca8c932_9f29_11eb_a96a_0242ac1c0002row9_col11\" class=\"data row9 col11\" >253</td>\n",
              "                        <td id=\"T_dca8c932_9f29_11eb_a96a_0242ac1c0002row9_col12\" class=\"data row9 col12\" >232</td>\n",
              "                        <td id=\"T_dca8c932_9f29_11eb_a96a_0242ac1c0002row9_col13\" class=\"data row9 col13\" >213</td>\n",
              "                        <td id=\"T_dca8c932_9f29_11eb_a96a_0242ac1c0002row9_col14\" class=\"data row9 col14\" >111</td>\n",
              "                        <td id=\"T_dca8c932_9f29_11eb_a96a_0242ac1c0002row9_col15\" class=\"data row9 col15\" >2</td>\n",
              "                        <td id=\"T_dca8c932_9f29_11eb_a96a_0242ac1c0002row9_col16\" class=\"data row9 col16\" >0</td>\n",
              "                        <td id=\"T_dca8c932_9f29_11eb_a96a_0242ac1c0002row9_col17\" class=\"data row9 col17\" >0</td>\n",
              "            </tr>\n",
              "            <tr>\n",
              "                        <th id=\"T_dca8c932_9f29_11eb_a96a_0242ac1c0002level0_row10\" class=\"row_heading level0 row10\" >10</th>\n",
              "                        <td id=\"T_dca8c932_9f29_11eb_a96a_0242ac1c0002row10_col0\" class=\"data row10 col0\" >0</td>\n",
              "                        <td id=\"T_dca8c932_9f29_11eb_a96a_0242ac1c0002row10_col1\" class=\"data row10 col1\" >0</td>\n",
              "                        <td id=\"T_dca8c932_9f29_11eb_a96a_0242ac1c0002row10_col2\" class=\"data row10 col2\" >0</td>\n",
              "                        <td id=\"T_dca8c932_9f29_11eb_a96a_0242ac1c0002row10_col3\" class=\"data row10 col3\" >0</td>\n",
              "                        <td id=\"T_dca8c932_9f29_11eb_a96a_0242ac1c0002row10_col4\" class=\"data row10 col4\" >0</td>\n",
              "                        <td id=\"T_dca8c932_9f29_11eb_a96a_0242ac1c0002row10_col5\" class=\"data row10 col5\" >0</td>\n",
              "                        <td id=\"T_dca8c932_9f29_11eb_a96a_0242ac1c0002row10_col6\" class=\"data row10 col6\" >0</td>\n",
              "                        <td id=\"T_dca8c932_9f29_11eb_a96a_0242ac1c0002row10_col7\" class=\"data row10 col7\" >43</td>\n",
              "                        <td id=\"T_dca8c932_9f29_11eb_a96a_0242ac1c0002row10_col8\" class=\"data row10 col8\" >98</td>\n",
              "                        <td id=\"T_dca8c932_9f29_11eb_a96a_0242ac1c0002row10_col9\" class=\"data row10 col9\" >98</td>\n",
              "                        <td id=\"T_dca8c932_9f29_11eb_a96a_0242ac1c0002row10_col10\" class=\"data row10 col10\" >208</td>\n",
              "                        <td id=\"T_dca8c932_9f29_11eb_a96a_0242ac1c0002row10_col11\" class=\"data row10 col11\" >253</td>\n",
              "                        <td id=\"T_dca8c932_9f29_11eb_a96a_0242ac1c0002row10_col12\" class=\"data row10 col12\" >253</td>\n",
              "                        <td id=\"T_dca8c932_9f29_11eb_a96a_0242ac1c0002row10_col13\" class=\"data row10 col13\" >253</td>\n",
              "                        <td id=\"T_dca8c932_9f29_11eb_a96a_0242ac1c0002row10_col14\" class=\"data row10 col14\" >253</td>\n",
              "                        <td id=\"T_dca8c932_9f29_11eb_a96a_0242ac1c0002row10_col15\" class=\"data row10 col15\" >187</td>\n",
              "                        <td id=\"T_dca8c932_9f29_11eb_a96a_0242ac1c0002row10_col16\" class=\"data row10 col16\" >22</td>\n",
              "                        <td id=\"T_dca8c932_9f29_11eb_a96a_0242ac1c0002row10_col17\" class=\"data row10 col17\" >0</td>\n",
              "            </tr>\n",
              "    </tbody></table>"
            ],
            "text/plain": [
              "<pandas.io.formats.style.Styler at 0x7f86511a1b10>"
            ]
          },
          "metadata": {
            "tags": []
          },
          "execution_count": 11
        }
      ]
    },
    {
      "cell_type": "markdown",
      "metadata": {
        "id": "EipAn7RIr3tC"
      },
      "source": [
        "Podemos ver que los píxeles blancos del fondo se almacenan con el número 0, el negro es el número 255 y los tonos de gris están entre los dos. La imagen completa contiene 28 píxeles de ancho y 28 píxeles de profundidad, para un total de 784 píxeles. Obvio que es un tamaño mucho más pequeño que una imagen que obtendría la cámara de un teléfono, que tiene millones de píxeles, pero tiene un tamaño conveniente para lo que queremos aprender ahora.\n"
      ]
    },
    {
      "cell_type": "markdown",
      "metadata": {
        "id": "bmmyFvamsZkd"
      },
      "source": [
        "Entonces ahora que hemos visto cómo se ve una imagen en un computador, recordemos nuestro objetivo: crear un modelo que pueda reconocer 3 y 7. ¿Cómo podríamos conseguir que un computador haga eso?"
      ]
    },
    {
      "cell_type": "markdown",
      "metadata": {
        "id": "aMhMbULfsncz"
      },
      "source": [
        "## Primer Intento: Similaridad de Píxeles"
      ]
    },
    {
      "cell_type": "markdown",
      "metadata": {
        "id": "35pAz6VTIdqJ"
      },
      "source": [
        "Aquí una primera idea: ¿qué tal si encontramos el valor de píxel promedio para cada píxel de los 3 y luego hacemos lo mismo con los 7? Esto nos dará dos promedios de grupo, definiendo lo que podríamos llamar los 3 y 7 \"ideales\". Luego, para clasificar una imagen como un dígito u otro, vemos cuál de estos dos dígitos ideales es más similar a la imagen. Esta metodología parece lógica y debería ser mejor que tener nada, por lo que se dice que será una buena línea de base (**baseline**)."
      ]
    },
    {
      "cell_type": "markdown",
      "metadata": {
        "id": "BHQMjgWGI8tl"
      },
      "source": [
        "Baseline: Es un modelo simple del que estamos seguros que se desempeñara razonablemente bien. Debe ser fácil de implementar y fácil de probar cosa de poder compararlo contra cualquier idea nueva y cerciorarnos que es mejor que esta línea base."
      ]
    },
    {
      "cell_type": "markdown",
      "metadata": {
        "id": "ki4gQl4SJYQ_"
      },
      "source": [
        "El primer paso de nuestro modelo simple es obtener el promedio de los valores de píxeles para cada uno de nuestros dos grupos. \n",
        "\n",
        "Crearemos un tensor que contenga todos nuestros 3 apilados juntos. Ya sabemos cómo crear un tensor que contenga una sola imagen. Para crear un tensor que contenga todas las imágenes en un directorio, primero usaremos una lista de comprensión de Python para crear una lista simple de los tensores de una sola imagen.\n",
        "\n",
        "Usaremos Jupyter para hacer algunas pequeñas verificaciones de nuestro trabajo a lo largo del camino, en este caso, asegurándonos de que la cantidad de artículos devueltos parezca razonable:"
      ]
    },
    {
      "cell_type": "code",
      "metadata": {
        "colab": {
          "base_uri": "https://localhost:8080/"
        },
        "id": "6wMMyjDLnsWg",
        "outputId": "e1c3d99b-96c9-4cda-b99c-fc3231429b7d"
      },
      "source": [
        "seven_tensors = [tensor(Image.open(o)) for o in sevens]\n",
        "three_tensors = [tensor(Image.open(o)) for o in threes]\n",
        "len(three_tensors),len(seven_tensors)"
      ],
      "execution_count": null,
      "outputs": [
        {
          "output_type": "execute_result",
          "data": {
            "text/plain": [
              "(6131, 6265)"
            ]
          },
          "metadata": {
            "tags": []
          },
          "execution_count": 12
        }
      ]
    },
    {
      "cell_type": "markdown",
      "metadata": {
        "id": "By7ZJNxHJu7a"
      },
      "source": [
        "También comprobemos que las imágenes se vean bien. Dado que ahora tenemos tensores (que Jupyter por defecto imprimirá como valores), en lugar de imágenes PIL (que Jupyter por defecto mostrará como imágenes), necesitamos usar la función `show_image` de fastai para mostrarlo:"
      ]
    },
    {
      "cell_type": "code",
      "metadata": {
        "colab": {
          "base_uri": "https://localhost:8080/",
          "height": 85
        },
        "id": "74q2rM1dnvG1",
        "outputId": "371dedae-f70a-466a-dbfb-1ce6854dbacb"
      },
      "source": [
        "show_image(three_tensors[1]);"
      ],
      "execution_count": null,
      "outputs": [
        {
          "output_type": "display_data",
          "data": {
            "image/png": "[encoded data removed]",
            "text/plain": [
              "<Figure size 72x72 with 1 Axes>"
            ]
          },
          "metadata": {
            "tags": [],
            "needs_background": "light"
          }
        }
      ]
    },
    {
      "cell_type": "markdown",
      "metadata": {
        "id": "w-jusvFoJ6Zn"
      },
      "source": [
        "Para cada posición de píxel queremos calcular el promedio de todas  las intensidad del pixel en el conjunto imágenes. Para hacer esto, primero combinamos todas las imágenes de esta lista en un solo tensor tridimensional. La forma más común de describir tal tensor es llamarlo *tensor de rango 3*. A menudo necesitamos apilar tensores individuales en una colección en un solo tensor. Como era de esperar, PyTorch viene con una función llamada `stack` (pila) que podemos usar para este propósito.\n",
        "\n",
        "Algunas operaciones en PyTorch, como tomar una media, nos requieren *convertir* nuestros tipos enteros a tipos flotantes. Como necesitaremos esto más adelante, también convertiremos nuestro tensor apilado para que sea un float. Hacer esta conversión (casting) en PyTorch es tan simple como escribir el nombre del tipo al que desea convertir y tratarlo como un método.\n",
        "\n",
        "Generalmente, cuando las imágenes son floats, se espera que los valores de los píxeles estén entre 0 y 1, por lo que también dividiremos por 255:"
      ]
    },
    {
      "cell_type": "code",
      "metadata": {
        "colab": {
          "base_uri": "https://localhost:8080/"
        },
        "id": "XBQerFR9nxjr",
        "outputId": "5a1ca589-abfc-4772-a1a8-aa0de445968f"
      },
      "source": [
        "stacked_sevens = torch.stack(seven_tensors).float()/255\n",
        "stacked_threes = torch.stack(three_tensors).float()/255\n",
        "stacked_threes.shape"
      ],
      "execution_count": null,
      "outputs": [
        {
          "output_type": "execute_result",
          "data": {
            "text/plain": [
              "torch.Size([6131, 28, 28])"
            ]
          },
          "metadata": {
            "tags": []
          },
          "execution_count": 14
        }
      ]
    },
    {
      "cell_type": "markdown",
      "metadata": {
        "id": "iDWQp1xnLJyh"
      },
      "source": [
        "Quizás el atributo más importante de un tensor es su *forma* (shape). Nos indica la longitud de cada eje. En este caso, podemos ver que tenemos 6.131 imágenes, cada una de tamaño 28 × 28 píxeles. No hay nada específicamente en este tensor que diga que el primer eje es el número de imágenes, el segundo es la altura y el tercero es el ancho; la semántica de un tensor depende completamente de nosotros y de cómo lo construimos. En lo que respecta a PyTorch, es solo un montón de números en la memoria.\n",
        "\n",
        "La *longitud* de la forma de un tensor es su rango:"
      ]
    },
    {
      "cell_type": "code",
      "metadata": {
        "colab": {
          "base_uri": "https://localhost:8080/"
        },
        "id": "Fb7D9ysYnzeu",
        "outputId": "cdc1313b-74f9-48c1-9cfe-1c0b222f68a7"
      },
      "source": [
        "len(stacked_threes.shape)"
      ],
      "execution_count": null,
      "outputs": [
        {
          "output_type": "execute_result",
          "data": {
            "text/plain": [
              "3"
            ]
          },
          "metadata": {
            "tags": []
          },
          "execution_count": 15
        }
      ]
    },
    {
      "cell_type": "code",
      "metadata": {
        "colab": {
          "base_uri": "https://localhost:8080/"
        },
        "id": "ZO4eujyyn2Gr",
        "outputId": "12ca28f6-c279-4cce-dfea-a32911dbcca3"
      },
      "source": [
        "stacked_threes.ndim"
      ],
      "execution_count": null,
      "outputs": [
        {
          "output_type": "execute_result",
          "data": {
            "text/plain": [
              "3"
            ]
          },
          "metadata": {
            "tags": []
          },
          "execution_count": 16
        }
      ]
    },
    {
      "cell_type": "markdown",
      "metadata": {
        "id": "2-u_zrPLLina"
      },
      "source": [
        "Es muy importante recordar para el futuro estos conceptos de la jerga tensorial: _rank_ (rango) es el número de ejes o dimensiones en un tensor; _shape_ (forma) es el tamaño de cada eje de un tensor."
      ]
    },
    {
      "cell_type": "markdown",
      "metadata": {
        "id": "y9YaXZEXL4be"
      },
      "source": [
        "Finalmente, podemos calcular cómo se ve el 3 ideal. Calculamos la media de todos los tensores de imagen tomando la media a lo largo de la dimensión 0 de nuestro tensor de rango 3 apilado. Esta es la dimensión que indexa todas las imágenes.\n",
        "\n",
        "En otras palabras: para cada posición de píxel se calculará el promedio de ese píxel en todas las imágenes. El resultado será un valor para cada posición de píxel, es decir nos entregará una sola imagen."
      ]
    },
    {
      "cell_type": "code",
      "metadata": {
        "colab": {
          "base_uri": "https://localhost:8080/",
          "height": 85
        },
        "id": "zyWqBQW_n3xG",
        "outputId": "1742286d-347b-4d87-8013-3507fb24ad58"
      },
      "source": [
        "mean3 = stacked_threes.mean(0)\n",
        "show_image(mean3);"
      ],
      "execution_count": null,
      "outputs": [
        {
          "output_type": "display_data",
          "data": {
            "image/png": "[encoded data removed]",
            "text/plain": [
              "<Figure size 72x72 with 1 Axes>"
            ]
          },
          "metadata": {
            "tags": [],
            "needs_background": "light"
          }
        }
      ]
    },
    {
      "cell_type": "markdown",
      "metadata": {
        "id": "A6kN2hM2MGYT"
      },
      "source": [
        "Según este conjunto de datos, ¡este es el número 3 ideal! Se puede ver cómo es más oscuro en los píxeles donde todas las imágenes coinciden en que debería estar oscuro, pero se vuelve tenue y borroso donde las imágenes en general no coinciden.\n",
        "\n",
        "Hagamos lo mismo con los 7:"
      ]
    },
    {
      "cell_type": "code",
      "metadata": {
        "colab": {
          "base_uri": "https://localhost:8080/",
          "height": 85
        },
        "id": "O-u_tu2sn5lm",
        "outputId": "c0c81c0d-ecec-4237-b2d5-f71132df9505"
      },
      "source": [
        "mean7 = stacked_sevens.mean(0)\n",
        "show_image(mean7);"
      ],
      "execution_count": null,
      "outputs": [
        {
          "output_type": "display_data",
          "data": {
            "image/png": "[encoded data removed]",
            "text/plain": [
              "<Figure size 72x72 with 1 Axes>"
            ]
          },
          "metadata": {
            "tags": [],
            "needs_background": "light"
          }
        }
      ]
    },
    {
      "cell_type": "markdown",
      "metadata": {
        "id": "TdieWHeAMYMk"
      },
      "source": [
        "Ahora veamos un ejemplo de un 3:"
      ]
    },
    {
      "cell_type": "code",
      "metadata": {
        "colab": {
          "base_uri": "https://localhost:8080/",
          "height": 85
        },
        "id": "TKDlRVt1n8_N",
        "outputId": "6a24408c-1ab9-4f31-c750-a1517bbf6bd3"
      },
      "source": [
        "a_3 = stacked_threes[1]\n",
        "show_image(a_3);"
      ],
      "execution_count": null,
      "outputs": [
        {
          "output_type": "display_data",
          "data": {
            "image/png": "[encoded data removed]",
            "text/plain": [
              "<Figure size 72x72 with 1 Axes>"
            ]
          },
          "metadata": {
            "tags": [],
            "needs_background": "light"
          }
        }
      ]
    },
    {
      "cell_type": "markdown",
      "metadata": {
        "id": "EUi_xMFXM9tI"
      },
      "source": [
        "¿Cómo podemos determinar su distancia de nuestro 3 ideal? No podemos simplemente sumar las diferencias entre los píxeles de esta imagen y el dígito ideal. Algunas diferencias serán positivas mientras que otras serán negativas, y esas diferencias se cancelarían, dando como resultado una situación en la que una imagen que es demasiado oscura en algunos lugares y demasiado clara en otros puede mostrarse como que tiene cero diferencias totales con respecto al ideal. ¡Eso sería engañoso!\n",
        "\n",
        "Para evitar esto, hay dos formas recomendadas para medir la distancia en este contexto:\n",
        "\n",
        "- Tomar la media del *valor absoluto* de las diferencias (el valor absoluto es la función que reemplaza los valores negativos con valores positivos). Esto se llama *diferencia absoluta media* o *norma L1*\n",
        "\n",
        "- Tomar la media del *cuadrado* de las diferencias (que hace que todo sea positivo) y luego sacar la *raíz cuadrada* (que deshace el cuadrado). Esto se denomina *error cuadrático medio* (RMSE) o *norma L2*."
      ]
    },
    {
      "cell_type": "markdown",
      "metadata": {
        "id": "b0Qjb8U3NarQ"
      },
      "source": [
        "Probemos ambas distancias:"
      ]
    },
    {
      "cell_type": "code",
      "metadata": {
        "colab": {
          "base_uri": "https://localhost:8080/"
        },
        "id": "4qcYrZjjn-3n",
        "outputId": "b420a9e9-a723-4cea-c55c-2238d9595f1b"
      },
      "source": [
        "dist_3_abs = (a_3 - mean3).abs().mean()\n",
        "dist_3_sqr = ((a_3 - mean3)**2).mean().sqrt()\n",
        "dist_3_abs,dist_3_sqr"
      ],
      "execution_count": null,
      "outputs": [
        {
          "output_type": "execute_result",
          "data": {
            "text/plain": [
              "(tensor(0.1114), tensor(0.2021))"
            ]
          },
          "metadata": {
            "tags": []
          },
          "execution_count": 20
        }
      ]
    },
    {
      "cell_type": "code",
      "metadata": {
        "colab": {
          "base_uri": "https://localhost:8080/"
        },
        "id": "7FcFf4JUoBKn",
        "outputId": "0298aac5-dff5-4490-9dcc-6692489d690b"
      },
      "source": [
        "dist_7_abs = (a_3 - mean7).abs().mean()\n",
        "dist_7_sqr = ((a_3 - mean7)**2).mean().sqrt()\n",
        "dist_7_abs,dist_7_sqr"
      ],
      "execution_count": null,
      "outputs": [
        {
          "output_type": "execute_result",
          "data": {
            "text/plain": [
              "(tensor(0.1586), tensor(0.3021))"
            ]
          },
          "metadata": {
            "tags": []
          },
          "execution_count": 21
        }
      ]
    },
    {
      "cell_type": "markdown",
      "metadata": {
        "id": "0FDF-H9GNguv"
      },
      "source": [
        "En ambos casos, la distancia entre este 3 y el 3 ideal es menor que la distancia al 7 ideal. Es decir que nuestro modelo simple dará la predicción correcta en este caso."
      ]
    },
    {
      "cell_type": "markdown",
      "metadata": {
        "id": "o5gJFdrONuKX"
      },
      "source": [
        "PyTorch ya proporciona ambos distancias como funciones de pérdida (loss). Se encuentran dentro de torch.nn.functional, que la documentación de PyTorch recomienda importar como F (y está disponible de forma predeterminada con ese nombre en fastai):"
      ]
    },
    {
      "cell_type": "code",
      "metadata": {
        "colab": {
          "base_uri": "https://localhost:8080/"
        },
        "id": "9XFaF45boC8x",
        "outputId": "96219fa1-ff55-47e1-e168-343659641250"
      },
      "source": [
        "F.l1_loss(a_3.float(),mean7), F.mse_loss(a_3,mean7).sqrt()"
      ],
      "execution_count": null,
      "outputs": [
        {
          "output_type": "execute_result",
          "data": {
            "text/plain": [
              "(tensor(0.1586), tensor(0.3021))"
            ]
          },
          "metadata": {
            "tags": []
          },
          "execution_count": 22
        }
      ]
    },
    {
      "cell_type": "markdown",
      "metadata": {
        "id": "SL8p9MfhN7KC"
      },
      "source": [
        "Aquí `mse` significa *error cuadrático medio*, y` l1` se refiere a la jerga matemática estándar para *valor absoluto medio* (en matemáticas se llama la *norma L1*)."
      ]
    },
    {
      "cell_type": "markdown",
      "metadata": {
        "id": "i-1ZueWEryBS"
      },
      "source": [
        "## Calculando métricas usando Broadcasting"
      ]
    },
    {
      "cell_type": "markdown",
      "metadata": {
        "id": "l8iPXd1Er8WW"
      },
      "source": [
        "Una métrica es un número que se calcula en función de las predicciones de nuestro modelo y las etiquetas correctas en nuestro dataset para decirnos qué tan bueno es nuestro modelo. Por ejemplo, podríamos usar cualquiera de las funciones que vimos en la sección anterior, el error cuadrático medio o el error absoluto medio, y tomar el promedio de ellas en todo el conjunto de datos. Sin embargo, ninguno de estos números es comprensibles para la mayoría de la gente; en la práctica, normalmente usamos la *exactitud* (accuracy) como métrica para los modelos de clasificación.\n",
        "\n",
        "Como hemos comentado anteriormente, queremos calcular nuestra métrica sobre un *conjunto de validación*. Esto es para que no sobreajustemos (overfit), es decir, entrenemos un modelo para que funcione bien solo en nuestros datos de entrenamiento. Esto no es realmente un riesgo con el modelo de similitud de píxeles que estamos usando aquí como primer intento, ya que no tiene componentes entrenados, pero usaremos un conjunto de validación de todos modos para seguir las prácticas normales de la disciplina.\n",
        "\n",
        "Para obtener un conjunto de validación, debemos eliminar algunos de los datos del entrenamiento por completo, para que el modelo no los vea en absoluto al ajustar sus parámetros. Resulta que los creadores del conjunto de datos MNIST ya lo han hecho por nosotros. ¿Recuerdan cómo había un directorio completamente separado llamado *valid*? ¡Para eso es esa carpeta!\n",
        "\n",
        "Entonces creemos tensores para nuestros 3 y 7 a partir de ese directorio. Estos son los tensores que usaremos para calcular una métrica que mide la calidad de nuestro modelo de línea base, que mide la distancia a una imagen ideal:"
      ]
    },
    {
      "cell_type": "code",
      "metadata": {
        "colab": {
          "base_uri": "https://localhost:8080/"
        },
        "id": "5bgarlHVnviY",
        "outputId": "943ee02f-509d-48ba-9399-72af8176d82e"
      },
      "source": [
        "valid_3_tens = torch.stack([tensor(Image.open(o)) \n",
        "                            for o in (path/'valid'/'3').ls()])\n",
        "valid_3_tens = valid_3_tens.float()/255\n",
        "valid_7_tens = torch.stack([tensor(Image.open(o)) \n",
        "                            for o in (path/'valid'/'7').ls()])\n",
        "valid_7_tens = valid_7_tens.float()/255\n",
        "valid_3_tens.shape,valid_7_tens.shape"
      ],
      "execution_count": null,
      "outputs": [
        {
          "output_type": "execute_result",
          "data": {
            "text/plain": [
              "(torch.Size([1010, 28, 28]), torch.Size([1028, 28, 28]))"
            ]
          },
          "metadata": {
            "tags": []
          },
          "execution_count": 23
        }
      ]
    },
    {
      "cell_type": "markdown",
      "metadata": {
        "id": "fJdh1UsBszZu"
      },
      "source": [
        "Es bueno adquirir el hábito de comprobar las formas de los tensores sobre la marcha. Aquí vemos dos tensores, uno que representa el conjunto de validación de 3 de 1010 imágenes de tamaño 28 × 28 y otro que representa el conjunto de validación de 7 de 1028 imágenes de tamaño 28 × 28.\n",
        "\n",
        "Ahora queremos escribir una función, `is_3`, que decidirá si una imagen arbitraria es un 3 o un 7. Lo hará decidiendo a cuál de nuestros dos \"dígitos ideales\" está más cerca esta imagen arbitraria. Para eso, necesitamos definir una noción de distancia, es decir, una función que calcula la distancia entre dos imágenes.\n",
        "\n",
        "Podemos escribir una función simple que calcule el error absoluto medio usando una expresión muy similar a la que escribimos en la última sección:"
      ]
    },
    {
      "cell_type": "code",
      "metadata": {
        "colab": {
          "base_uri": "https://localhost:8080/"
        },
        "id": "GfmBZU4Knvk_",
        "outputId": "e95c2425-7284-4394-cfc0-5b0f74b2dd08"
      },
      "source": [
        "def mnist_distance(a,b): return (a-b).abs().mean((-1,-2))\n",
        "mnist_distance(a_3, mean3)"
      ],
      "execution_count": null,
      "outputs": [
        {
          "output_type": "execute_result",
          "data": {
            "text/plain": [
              "tensor(0.1114)"
            ]
          },
          "metadata": {
            "tags": []
          },
          "execution_count": 24
        }
      ]
    },
    {
      "cell_type": "markdown",
      "metadata": {
        "id": "w2Paf061t6F0"
      },
      "source": [
        "Este es el mismo valor que calculamos previamente para la distancia entre estas dos imágenes, el 3 ideal `mean3` y la muestra arbitraria 3 `a_3`, que recordemos son tensores de una sola imagen con una forma de [28,28].\n",
        "\n",
        "Pero para calcular una métrica para la exactitud general, necesitaremos calcular la distancia al 3 ideal para cada imagen en el conjunto de validación. ¿Cómo hacemos ese cálculo? Podríamos escribir un bucle (loop) sobre todos los tensores de una sola imagen que están apilados dentro de nuestro tensor de conjunto de validación, `valid_3_tens`, que tiene una forma de [1010,28,28] que representa 1010 imágenes. Pero hay una mejor manera.\n",
        "\n",
        "Algo muy interesante sucede cuando tomamos exactamente la misma función de distancia, diseñada para comparar dos imágenes individuales, pero pasamos como argumento `valid_3_tens`, el tensor que representa el conjunto de validación de 3:"
      ]
    },
    {
      "cell_type": "code",
      "metadata": {
        "colab": {
          "base_uri": "https://localhost:8080/"
        },
        "id": "wvqpB7uKnvp6",
        "outputId": "5aa79bdf-3fde-4096-b753-12097e6f96bb"
      },
      "source": [
        "valid_3_dist = mnist_distance(valid_3_tens, mean3)\n",
        "valid_3_dist, valid_3_dist.shape"
      ],
      "execution_count": null,
      "outputs": [
        {
          "output_type": "execute_result",
          "data": {
            "text/plain": [
              "(tensor([0.1294, 0.1213, 0.1086,  ..., 0.1116, 0.1150, 0.1219]),\n",
              " torch.Size([1010]))"
            ]
          },
          "metadata": {
            "tags": []
          },
          "execution_count": 25
        }
      ]
    },
    {
      "cell_type": "markdown",
      "metadata": {
        "id": "C_h1PDOGtqE0"
      },
      "source": [
        "En lugar de quejarse de que las formas no coinciden, devolvió la distancia para cada imagen como un vector (es decir: un tensor de rango 1) de longitud 1010 (el número de 3 en nuestro conjunto de validación). ¿Cómo ocurrió eso?\n",
        "\n",
        "Echemos un vistazo a nuestra función `mnist_distance` y veamos que tenemos la resta `(a-b)`. El truco de magia es que PyTorch, cuando intenta realizar una simple operación de resta entre dos tensores de diferentes rangos, usará algo llamado *broadcasting*. Eso quiere decir que expandirá automáticamente el tensor con el rango más pequeño para que tenga el mismo tamaño que el que tiene el rango más grande. El broadcasting hace entonces que el código tensorial sea mucho más fácil de escribir.\n",
        "\n",
        "Después del broadcasting para que los dos tensores de argumento tengan el mismo rango, PyTorch aplica su lógica habitual para dos tensores del mismo rango: realiza la operación en cada elemento correspondiente de los dos tensores y devuelve el resultado del tensor. Por ejemplo:"
      ]
    },
    {
      "cell_type": "code",
      "metadata": {
        "colab": {
          "base_uri": "https://localhost:8080/"
        },
        "id": "q0eyRWP2nvut",
        "outputId": "b2eed2a4-8798-41e6-f6ca-1e58009fdc7e"
      },
      "source": [
        "tensor([1,2,3]) + tensor(1)"
      ],
      "execution_count": null,
      "outputs": [
        {
          "output_type": "execute_result",
          "data": {
            "text/plain": [
              "tensor([2, 3, 4])"
            ]
          },
          "metadata": {
            "tags": []
          },
          "execution_count": 26
        }
      ]
    },
    {
      "cell_type": "markdown",
      "metadata": {
        "id": "HehxXkrwuxY9"
      },
      "source": [
        "Entonces, en el caso de nuestras métrica, PyTorch trata `mean3`, un tensor de rango 2 que representa una sola imagen, como si fueran 1010 copias de la misma imagen y luego resta cada una de esas copias de cada 3 en nuestro conjunto de validación. ¿Qué forma esperaríamos que tuviera este tensor?"
      ]
    },
    {
      "cell_type": "code",
      "metadata": {
        "colab": {
          "base_uri": "https://localhost:8080/"
        },
        "id": "fWzUWEifnvxn",
        "outputId": "e0112487-4f6e-4262-8b29-f4e77b03d78f"
      },
      "source": [
        "(valid_3_tens-mean3).shape"
      ],
      "execution_count": null,
      "outputs": [
        {
          "output_type": "execute_result",
          "data": {
            "text/plain": [
              "torch.Size([1010, 28, 28])"
            ]
          },
          "metadata": {
            "tags": []
          },
          "execution_count": 27
        }
      ]
    },
    {
      "cell_type": "markdown",
      "metadata": {
        "id": "2Z-P23G9vC8I"
      },
      "source": [
        "Podemos usar `mnist_distance` para averiguar si una imagen es un 3 o no usando la siguiente lógica: si la distancia entre el dígito en cuestión y el 3 ideal es menor que la distancia al 7 ideal, entonces es un 3. Esta función hará el broadcasting automáticamente y se aplicará por elementos, al igual que todas las funciones y operadores de PyTorch:"
      ]
    },
    {
      "cell_type": "code",
      "metadata": {
        "id": "YHopvPURnv1B"
      },
      "source": [
        "def is_3(x): return mnist_distance(x,mean3) < mnist_distance(x,mean7)"
      ],
      "execution_count": null,
      "outputs": []
    },
    {
      "cell_type": "markdown",
      "metadata": {
        "id": "ASUAU0AAvPg_"
      },
      "source": [
        "Probemos en la imagen arbitraria que habíamos seleccionado:"
      ]
    },
    {
      "cell_type": "code",
      "metadata": {
        "colab": {
          "base_uri": "https://localhost:8080/"
        },
        "id": "V77qxW5pnv2p",
        "outputId": "ec719ed7-ffa0-40a6-f52d-301cb522d4a0"
      },
      "source": [
        "is_3(a_3), is_3(a_3).float()"
      ],
      "execution_count": null,
      "outputs": [
        {
          "output_type": "execute_result",
          "data": {
            "text/plain": [
              "(tensor(True), tensor(1.))"
            ]
          },
          "metadata": {
            "tags": []
          },
          "execution_count": 29
        }
      ]
    },
    {
      "cell_type": "markdown",
      "metadata": {
        "id": "LlTie8vIvXw7"
      },
      "source": [
        "Notemos que cuando convertimos la respuesta *bool* a un *float* obtenemos un `1.0` para `True` y un `0.0` para  `False`. Gracias al broadcasting podemos aplicarlo a todo el conjunto de validación de 3:"
      ]
    },
    {
      "cell_type": "code",
      "metadata": {
        "colab": {
          "base_uri": "https://localhost:8080/"
        },
        "id": "E49DJT7Cnv47",
        "outputId": "6bccbd74-7f70-4840-c0f0-609b87128145"
      },
      "source": [
        "is_3(valid_3_tens)"
      ],
      "execution_count": null,
      "outputs": [
        {
          "output_type": "execute_result",
          "data": {
            "text/plain": [
              "tensor([ True, False,  True,  ...,  True,  True,  True])"
            ]
          },
          "metadata": {
            "tags": []
          },
          "execution_count": 30
        }
      ]
    },
    {
      "cell_type": "markdown",
      "metadata": {
        "id": "YtVsq6XFvwvq"
      },
      "source": [
        "Ahora podemos calcular la exactitud de cada 3 y 7 tomando el promedio de la función para todos los 3 y su inverso para todos los 7:"
      ]
    },
    {
      "cell_type": "code",
      "metadata": {
        "colab": {
          "base_uri": "https://localhost:8080/"
        },
        "id": "r8SfHuXloJVk",
        "outputId": "e67f3c73-4c56-4ff2-d627-df05b0957465"
      },
      "source": [
        "accuracy_3s =      is_3(valid_3_tens).float().mean()\n",
        "accuracy_7s = (1 - is_3(valid_7_tens).float()).mean()\n",
        "\n",
        "accuracy_3s,accuracy_7s,(accuracy_3s+accuracy_7s)/2"
      ],
      "execution_count": null,
      "outputs": [
        {
          "output_type": "execute_result",
          "data": {
            "text/plain": [
              "(tensor(0.9168), tensor(0.9854), tensor(0.9511))"
            ]
          },
          "metadata": {
            "tags": []
          },
          "execution_count": 31
        }
      ]
    },
    {
      "cell_type": "markdown",
      "metadata": {
        "id": "ohVsysHtwGDb"
      },
      "source": [
        "¡Parece un buen comienzo! Estamos obteniendo más del 90% de exactitud tanto en 3 como en 7, y hemos visto cómo definir una métrica de manera conveniente mediante el broadcasting.\n",
        "\n",
        "Pero seamos honestos: 3 y 7 son dígitos de aspecto muy diferente. Y solo estamos clasificando 2 de los 10 dígitos posibles hasta ahora. ¡Así que tendremos que hacerlo mejor!\n",
        "\n",
        "Para hacerlo mejor, tal vez sea el momento de probar un sistema que aprenda de verdad, es decir, que pueda modificarse automáticamente para mejorar su rendimiento. En otras palabras, es hora de hablar sobre el proceso de entrenamiento y el SGD."
      ]
    },
    {
      "cell_type": "markdown",
      "metadata": {
        "id": "5VCzwiCUtOIc"
      },
      "source": [
        "## Motivación al SGD (gradiente descendente estocástico)"
      ]
    },
    {
      "cell_type": "markdown",
      "metadata": {
        "id": "qYNajLI3wvQD"
      },
      "source": [
        "En lugar de tratar de encontrar la similitud entre una imagen y una \"imagen ideal\", podríamos mirar cada píxel individual y obtener un conjunto de pesos para cada uno, de modo que los pesos más altos estén asociados con los píxeles con mayor probabilidad de ser negro para una categoría en particular. Por ejemplo, es poco probable que los píxeles hacia la parte inferior derecha se activen para un 7, por lo que deberían tener un peso bajo para un 7 en esa zona, pero es probable que se activen para un 8, por lo que deberían tener un peso alto para un 8. Esto se puede representar como una función y un conjunto de valores de peso para cada categoría posible, por ejemplo, la probabilidad de ser el número 8:\n",
        "\n",
        "`def pr_eight(x,w): return (x*w).sum()`"
      ]
    },
    {
      "cell_type": "markdown",
      "metadata": {
        "id": "lV5YmPMXw9js"
      },
      "source": [
        "Aquí asumimos que `x` es la imagen, representada como un vector; en otras palabras, con todas las filas apiladas de punta a punta en una sola línea larga. Y estamos asumiendo que los pesos son un vector `w`. Si tenemos esta función, entonces solo necesitamos alguna forma de actualizar los pesos para mejorarlos un poco. Con este enfoque, podemos repetir ese paso varias veces, haciendo que los pesos sean cada vez mejores, hasta que sean tan buenos como sea posible.\n",
        "\n",
        "Queremos encontrar los valores específicos para el vector `w` que hace que el resultado de nuestra función sea alto para aquellas imágenes que en realidad son 8s y bajo para aquellas imágenes que no lo son. La búsqueda del mejor vector `w` es una forma de buscar la mejor función para reconocer 8s.\n",
        "\n",
        "Para ser más específicos, estos son los pasos que vamos a requerir para convertir esta función en un clasificador de machine learning:\n",
        "\n",
        "1. *Inicialicemos* los pesos.\n",
        "1. Para cada imagen, usemos estos pesos para *predecir* si parece ser un 3 o un 7.\n",
        "1. Con base en estas predicciones, calculemos qué tan bueno es el modelo (su *pérdida* o *loss*).\n",
        "1. Calculemos el *gradiente*, que mide para cada peso, cómo cambiar ese peso incide en nuestro valor de pérdida\n",
        "1. Relizar un *Paso* (*Step*) para cambiar todos los pesos basados ​​en ese cálculo.\n",
        "1. Volvemos al paso 2 y *repitimos* el proceso.\n",
        "1. Repitimos hasta que decidamos *detener* el proceso de entrenamiento (por ejemplo, porque el modelo es lo suficientemente bueno o no queremos seguir esperando)."
      ]
    },
    {
      "cell_type": "markdown",
      "metadata": {
        "id": "I4bQCMF1r96b"
      },
      "source": [
        "![fastai1.JPG](data:image/jpeg;base64,/9j/4AAQSkZJRgABAQEAeAB4AAD/4REKRXhpZgAATU0AKgAAAAgABAE7AAIAAAAVAAAISodpAAQAAAABAAAIYJydAAEAAAAqAAAQ2OocAAcAAAgMAAAAPgAAAAAc6gAAAAgAAAAAAAAAAAAAAAAAAAAAAAAAAAAAAAAAAAAAAAAAAAAAAAAAAAAAAAAAAAAAAAAAAAAAAAAAAAAAAAAAAAAAAAAAAAAAAAAAAAAAAAAAAAAAAAAAAAAAAAAAAAAAAAAAAAAAAAAAAAAAAAAAAAAAAAAAAAAAAAAAAAAAAAAAAAAAAAAAAAAAAAAAAAAAAAAAAAAAAAAAAAAAAAAAAAAAAAAAAAAAAAAAAAAAAAAAAAAAAAAAAAAAAAAAAAAAAAAAAAAAAAAAAAAAAAAAAAAAAAAAAAAAAAAAAAAAAAAAAAAAAAAAAAAAAAAAAAAAAAAAAAAAAAAAAAAAAAAAAAAAAAAAAAAAAAAAAAAAAAAAAAAAAAAAAAAAAAAAAAAAAAAAAAAAAAAAAAAAAAAAAAAAAAAAAAAAAAAAAAAAAAAAAAAAAAAAAAAAAAAAAAAAAAAAAAAAAAAAAAAAAAAAAAAAAAAAAAAAAAAAAAAAAAAAAAAAAAAAAAAAAAAAAAAAAAAAAAAAAAAAAAAAAAAAAAAAAAAAAAAAAAAAAAAAAAAAAAAAAAAAAAAAAAAAAAAAAAAAAAAAAAAAAAAAAAAAAAAAAAAAAAAAAAAAAAAAAAAAAAAAAAAAAAAAAAAAAAAAAAAAAAAAAAAAAAAAAAAAAAAAAAAAAAAAAAAAAAAAAAAAAAAAAAAAAAAAAAAAAAAAAAAAAAAAAAAAAAAAAAAAAAAAAAAAAAAAAAAAAAAAAAAAAAAAAAAAAAAAAAAAAAAAAAAAAAAAAAAAAAAAAAAAAAAAAAAAAAAAAAAAAAAAAAAAAAAAAAAAAAAAAAAAAAAAAAAAAAAAAAAAAAAAAAAAAAAAAAAAAAAAAAAAAAAAAAAAAAAAAAAAAAAAAAAAAAAAAAAAAAAAAAAAAAAAAAAAAAAAAAAAAAAAAAAAAAAAAAAAAAAAAAAAAAAAAAAAAAAAAAAAAAAAAAAAAAAAAAAAAAAAAAAAAAAAAAAAAAAAAAAAAAAAAAAAAAAAAAAAAAAAAAAAAAAAAAAAAAAAAAAAAAAAAAAAAAAAAAAAAAAAAAAAAAAAAAAAAAAAAAAAAAAAAAAAAAAAAAAAAAAAAAAAAAAAAAAAAAAAAAAAAAAAAAAAAAAAAAAAAAAAAAAAAAAAAAAAAAAAAAAAAAAAAAAAAAAAAAAAAAAAAAAAAAAAAAAAAAAAAAAAAAAAAAAAAAAAAAAAAAAAAAAAAAAAAAAAAAAAAAAAAAAAAAAAAAAAAAAAAAAAAAAAAAAAAAAAAAAAAAAAAAAAAAAAAAAAAAAAAAAAAAAAAAAAAAAAAAAAAAAAAAAAAAAAAAAAAAAAAAAAAAAAAAAAAAAAAAAAAAAAAAAAAAAAAAAAAAAAAAAAAAAAAAAAAAAAAAAAAAAAAAAAAAAAAAAAAAAAAAAAAAAAAAAAAAAAAAAAAAAAAAAAAAAAAAAAAAAAAAAAAAAAAAAAAAAAAAAAAAAAAAAAAAAAAAAAAAAAAAAAAAAAAAAAAAAAAAAAAAAAAAAAAAAAAAAAAAAAAAAAAAAAAAAAAAAAAAAAAAAAAAAAAAAAAAAAAAAAAAAAAAAAAAAAAAAAAAAAAAAAAAAAAAAAAAAAAAAAAAAAAAAAAAAAAAAAAAAAAAAAAAAAAAAAAAAAAAAAAAAAAAAAAAAAAAAAAAAAAAAAAAAAAAAAAAAAAAAAAAAAAAAAAAAAAAAAAAAAAAAAAAAAAAAAAAAAAAAAAAAAAAAAAAAAAAAAAAAAAAAAAAAAAAAAAAAAAAAAAAAAAAAAAAAAAAAAAAAAAAAAAAAAAAAAAAAAAAAAAAAAAAAAAAAAAAAAAAAAAAAAAAAAAAAAAAAAAAAAAAAAAAAAAAAAAAAAAAAAAAAAAAAAAAAAAAAAAAAAAAAAAAAAAAAAAAAAAAAAAAAAAAAAAAAAAAAAAAAAAAAAAAAAAAAAAAAAAAAAAAAAAAAAAAAAAAAAAAAAAAAAAAAAAAAAAAAAAAAAAAAAAAAAAAAAAAAAAAAAAAAAAAAAAAAAAAAAAAAAAAAAAAAAAAAAAAAAAAAAAAAAAAAAAAAAAAAAAAAAAAAAAAAAAAAAAAAAAAAAAAAAAAAAAAAAAAAAAAAAAAAAAAAAAAAAAAAAAAAAAAAAAAAAAAAAAAAAAAAAAAAAAAAAAAAAAAAAAAAAAAAAAAAAAAAAAAAAAAAAAAAAAAAAAAAAAAAAAAAAAAAAAAAAAAAAAAAAAAAAAAAAAAAAAAAAAAAAAAAAAAAAAAAAAAAAAAAAAAAAAAAAAAAAAAAAAAAAAAAAAAAAAAAAAAAAAAAAAAAAAAAAAAAAAAAAAAAAAAAAAAAAAAAAAAAAAAAAAAAAAAAAAAAAAAAAAAAAAAAAAAAAAAAAAAAAAAAAAAAAAAAAAAAAAAAAAAAAAAAAAAAAAAAAAAAAAAAAAAAAAAAAAAAAAAAAAAAAAAAAAAAAAAAAAAAAAAAAAAAAAAAAAAAAAAAAAAAAAAAAAAAAAAAAAAAAAAAAAAAAAAAAAAAAAAAAAAAAAAAAAAAAAAAAAAAAAAAAAAAAAAAAAAAAAAAAAAAAAAAAAAAAAAAAAAAAAAAAAAAAAAAAAAAAAAAAAAAAAAAAAAAAAAAAAAAAAAAAAAAAAAAAAAAAAAAAAAAAAAAAAAAAAAAAAAAAAAAAAAAAAAAAAAAAAAAAAAAAAAAAAAAAAAAAAAAAAAAAAAAAAAAAAAAAAAAAAAAAAAAAAEFsb25zbyBBc3Ryb3phIFRhZ2xlAAAABZADAAIAAAAUAAAQrpAEAAIAAAAUAAAQwpKRAAIAAAADMTEAAJKSAAIAAAADMTEAAOocAAcAAAgMAAAIogAAAAAc6gAAAAgAAAAAAAAAAAAAAAAAAAAAAAAAAAAAAAAAAAAAAAAAAAAAAAAAAAAAAAAAAAAAAAAAAAAAAAAAAAAAAAAAAAAAAAAAAAAAAAAAAAAAAAAAAAAAAAAAAAAAAAAAAAAAAAAAAAAAAAAAAAAAAAAAAAAAAAAAAAAAAAAAAAAAAAAAAAAAAAAAAAAAAAAAAAAAAAAAAAAAAAAAAAAAAAAAAAAAAAAAAAAAAAAAAAAAAAAAAAAAAAAAAAAAAAAAAAAAAAAAAAAAAAAAAAAAAAAAAAAAAAAAAAAAAAAAAAAAAAAAAAAAAAAAAAAAAAAAAAAAAAAAAAAAAAAAAAAAAAAAAAAAAAAAAAAAAAAAAAAAAAAAAAAAAAAAAAAAAAAAAAAAAAAAAAAAAAAAAAAAAAAAAAAAAAAAAAAAAAAAAAAAAAAAAAAAAAAAAAAAAAAAAAAAAAAAAAAAAAAAAAAAAAAAAAAAAAAAAAAAAAAAAAAAAAAAAAAAAAAAAAAAAAAAAAAAAAAAAAAAAAAAAAAAAAAAAAAAAAAAAAAAAAAAAAAAAAAAAAAAAAAAAAAAAAAAAAAAAAAAAAAAAAAAAAAAAAAAAAAAAAAAAAAAAAAAAAAAAAAAAAAAAAAAAAAAAAAAAAAAAAAAAAAAAAAAAAAAAAAAAAAAAAAAAAAAAAAAAAAAAAAAAAAAAAAAAAAAAAAAAAAAAAAAAAAAAAAAAAAAAAAAAAAAAAAAAAAAAAAAAAAAAAAAAAAAAAAAAAAAAAAAAAAAAAAAAAAAAAAAAAAAAAAAAAAAAAAAAAAAAAAAAAAAAAAAAAAAAAAAAAAAAAAAAAAAAAAAAAAAAAAAAAAAAAAAAAAAAAAAAAAAAAAAAAAAAAAAAAAAAAAAAAAAAAAAAAAAAAAAAAAAAAAAAAAAAAAAAAAAAAAAAAAAAAAAAAAAAAAAAAAAAAAAAAAAAAAAAAAAAAAAAAAAAAAAAAAAAAAAAAAAAAAAAAAAAAAAAAAAAAAAAAAAAAAAAAAAAAAAAAAAAAAAAAAAAAAAAAAAAAAAAAAAAAAAAAAAAAAAAAAAAAAAAAAAAAAAAAAAAAAAAAAAAAAAAAAAAAAAAAAAAAAAAAAAAAAAAAAAAAAAAAAAAAAAAAAAAAAAAAAAAAAAAAAAAAAAAAAAAAAAAAAAAAAAAAAAAAAAAAAAAAAAAAAAAAAAAAAAAAAAAAAAAAAAAAAAAAAAAAAAAAAAAAAAAAAAAAAAAAAAAAAAAAAAAAAAAAAAAAAAAAAAAAAAAAAAAAAAAAAAAAAAAAAAAAAAAAAAAAAAAAAAAAAAAAAAAAAAAAAAAAAAAAAAAAAAAAAAAAAAAAAAAAAAAAAAAAAAAAAAAAAAAAAAAAAAAAAAAAAAAAAAAAAAAAAAAAAAAAAAAAAAAAAAAAAAAAAAAAAAAAAAAAAAAAAAAAAAAAAAAAAAAAAAAAAAAAAAAAAAAAAAAAAAAAAAAAAAAAAAAAAAAAAAAAAAAAAAAAAAAAAAAAAAAAAAAAAAAAAAAAAAAAAAAAAAAAAAAAAAAAAAAAAAAAAAAAAAAAAAAAAAAAAAAAAAAAAAAAAAAAAAAAAAAAAAAAAAAAAAAAAAAAAAAAAAAAAAAAAAAAAAAAAAAAAAAAAAAAAAAAAAAAAAAAAAAAAAAAAAAAAAAAAAAAAAAAAAAAAAAAAAAAAAAAAAAAAAAAAAAAAAAAAAAAAAAAAAAAAAAAAAAAAAAAAAAAAAAAAAAAAAAAAAAAAAAAAAAAAAAAAAAAAAAAAAAAAAAAAAAAAAAAAAAAAAAAAAAAAAAAAAAAAAAAAAAAAAAAAAAAAAAAAAAAAAAAAAAAAAAAAAAAAAAAAAAAAAAAAAAAAAAAAAAAAAAAAAAAAAAAAAAAAAAAAAAAAAAAAAAAAAAAAAAAAAAAAAAAAAAAAAAAAAAAAAAAAAAAAAAAAAAAAAAAAAAAAAAAAAAAAAAAAAAAAAAAAAAAAAAAAAAAAAAAAAAAAAAAAAAAAAAAAAAAAAAAAAAAAAAAAAAAAAAAAAAAAAAAAAAAAAAAAAAAAAAAAAAAAAAAAAAAAAAAAAAAAAAAAAAAAAAAAAAAAAAAAAAAAAAAAAAAAAAAAAAAAAAAAAAAAAAAAAAAAAAAAAAAAAAAAAAAAAAAAAAAAAAAAAAAAAAAAAAAAAAAAAAAAAAAAAAAAAAAAAAAAAAAAAAAAAAAAAAAAAAAAAAAAAAAAAAAAAAAAAAAAAAAAAAAAAAAAAAAAAAAAAAAAAAAAAAAAAAAAAAAAAAAAAAAAAAAAAAAAAAAAAAAAAAAAAAAAAAAAAAAAAAAAAAAAAAAAAAAAAAAAAAAAAAAAAAAAAAAAAAAAAAAAAAAAAAAAAAAAAAAAAAAAAAAAAAAAAAAAAAAAAAAAAAAAAAAAAAAAAAAAAAAAAAAAAAAAAAAAAAAAAAAAAAAAAAAAAAAAAAAAAAAAAAAAAAAAAAAAAAAAAAAAAAAAAAAAAAAAAAAAAAAAAAAAAAAAAAAAAAAAAAAAAAAAAAAAAAAAAAAAAAAAAAAAAAAAAAAAAAAAAAAAAAAAAAAAAAAAAAAAAAAAAAAAAAAAAAAAAAAAAAAAAAAAAAAAAAAAAAAAAAAAAAAAAAAAAAAAAAAAAAAAAAAAAAAAAAAAAAAAAAAAAAAAAAAAAAAAAAAAAAAAAAAAAAAAAAAAAAAAAAAAAAAAAAAAAAAAAAAAAAAAAAAAAAAAAAAAAAAAAADIwMjE6MDQ6MTYgMTc6NTY6NDQAMjAyMTowNDoxNiAxNzo1Njo0NAAAAEEAbABvAG4AcwBvACAAQQBzAHQAcgBvAHoAYQAgAFQAYQBnAGwAZQAAAP/hCydodHRwOi8vbnMuYWRvYmUuY29tL3hhcC8xLjAvADw/eHBhY2tldCBiZWdpbj0n77u/JyBpZD0nVzVNME1wQ2VoaUh6cmVTek5UY3prYzlkJz8+DQo8eDp4bXBtZXRhIHhtbG5zOng9ImFkb2JlOm5zOm1ldGEvIj48cmRmOlJERiB4bWxuczpyZGY9Imh0dHA6Ly93d3cudzMub3JnLzE5OTkvMDIvMjItcmRmLXN5bnRheC1ucyMiPjxyZGY6RGVzY3JpcHRpb24gcmRmOmFib3V0PSJ1dWlkOmZhZjViZGQ1LWJhM2QtMTFkYS1hZDMxLWQzM2Q3NTE4MmYxYiIgeG1sbnM6ZGM9Imh0dHA6Ly9wdXJsLm9yZy9kYy9lbGVtZW50cy8xLjEvIi8+PHJkZjpEZXNjcmlwdGlvbiByZGY6YWJvdXQ9InV1aWQ6ZmFmNWJkZDUtYmEzZC0xMWRhLWFkMzEtZDMzZDc1MTgyZjFiIiB4bWxuczp4bXA9Imh0dHA6Ly9ucy5hZG9iZS5jb20veGFwLzEuMC8iPjx4bXA6Q3JlYXRlRGF0ZT4yMDIxLTA0LTE2VDE3OjU2OjQ0LjEwNzwveG1wOkNyZWF0ZURhdGU+PC9yZGY6RGVzY3JpcHRpb24+PHJkZjpEZXNjcmlwdGlvbiByZGY6YWJvdXQ9InV1aWQ6ZmFmNWJkZDUtYmEzZC0xMWRhLWFkMzEtZDMzZDc1MTgyZjFiIiB4bWxuczpkYz0iaHR0cDovL3B1cmwub3JnL2RjL2VsZW1lbnRzLzEuMS8iPjxkYzpjcmVhdG9yPjxyZGY6U2VxIHhtbG5zOnJkZj0iaHR0cDovL3d3dy53My5vcmcvMTk5OS8wMi8yMi1yZGYtc3ludGF4LW5zIyI+PHJkZjpsaT5BbG9uc28gQXN0cm96YSBUYWdsZTwvcmRmOmxpPjwvcmRmOlNlcT4NCgkJCTwvZGM6Y3JlYXRvcj48L3JkZjpEZXNjcmlwdGlvbj48L3JkZjpSREY+PC94OnhtcG1ldGE+DQogICAgICAgICAgICAgICAgICAgICAgICAgICAgICAgICAgICAgICAgICAgICAgICAgICAgICAgICAgICAgICAgICAgICAgICAgICAgICAgICAgICAgICAgICAgICAgICAgICAgCiAgICAgICAgICAgICAgICAgICAgICAgICAgICAgICAgICAgICAgICAgICAgICAgICAgICAgICAgICAgICAgICAgICAgICAgICAgICAgICAgICAgICAgICAgICAgICAgICAgICAKICAgICAgICAgICAgICAgICAgICAgICAgICAgICAgICAgICAgICAgICAgICAgICAgICAgICAgICAgICAgICAgICAgICAgICAgICAgICAgICAgICAgICAgICAgICAgICAgICAgIAogICAgICAgICAgICAgICAgICAgICAgICAgICAgICAgICAgICAgICAgICAgICAgICAgICAgICAgICAgICAgICAgICAgICAgICAgICAgICAgICAgICAgICAgICAgICAgICAgICAgCiAgICAgICAgICAgICAgICAgICAgICAgICAgICAgICAgICAgICAgICAgICAgICAgICAgICAgICAgICAgICAgICAgICAgICAgICAgICAgICAgICAgICAgICAgICAgICAgICAgICAKICAgICAgICAgICAgICAgICAgICAgICAgICAgICAgICAgICAgICAgICAgICAgICAgICAgICAgICAgICAgICAgICAgICAgICAgICAgICAgICAgICAgICAgICAgICAgICAgICAgIAogICAgICAgICAgICAgICAgICAgICAgICAgICAgICAgICAgICAgICAgICAgICAgICAgICAgICAgICAgICAgICAgICAgICAgICAgICAgICAgICAgICAgICAgICAgICAgICAgICAgCiAgICAgICAgICAgICAgICAgICAgICAgICAgICAgICAgICAgICAgICAgICAgICAgICAgICAgICAgICAgICAgICAgICAgICAgICAgICAgICAgICAgICAgICAgICAgICAgICAgICAKICAgICAgICAgICAgICAgICAgICAgICAgICAgICAgICAgICAgICAgICAgICAgICAgICAgICAgICAgICAgICAgICAgICAgICAgICAgICAgICAgICAgICAgICAgICAgICAgICAgIAogICAgICAgICAgICAgICAgICAgICAgICAgICAgICAgICAgICAgICAgICAgICAgICAgICAgICAgICAgICAgICAgICAgICAgICAgICAgICAgICAgICAgICAgICAgICAgICAgICAgCiAgICAgICAgICAgICAgICAgICAgICAgICAgICAgICAgICAgICAgICAgICAgICAgICAgICAgICAgICAgICAgICAgICAgICAgICAgICAgICAgICAgICAgICAgICAgICAgICAgICAKICAgICAgICAgICAgICAgICAgICAgICAgICAgICAgICAgICAgICAgICAgICAgICAgICAgICAgICAgICAgICAgICAgICAgICAgICAgICAgICAgICAgICAgICAgICAgICAgICAgIAogICAgICAgICAgICAgICAgICAgICAgICAgICAgICAgICAgICAgICAgICAgICAgICAgICAgICAgICAgICAgICAgICAgICAgICAgICAgICAgICAgICAgICAgICAgICAgICAgICAgCiAgICAgICAgICAgICAgICAgICAgICAgICAgICAgICAgICAgICAgICAgICAgICAgICAgICAgICAgICAgICAgICAgICAgICAgICAgICAgICAgICAgICAgICAgICAgICAgICAgICAKICAgICAgICAgICAgICAgICAgICAgICAgICAgICAgICAgICAgICAgICAgICAgICAgICAgICAgICAgICAgICAgICAgICAgICAgICAgICAgICAgICAgICAgICAgICAgICAgICAgIAogICAgICAgICAgICAgICAgICAgICAgICAgICAgICAgICAgICAgICAgICAgICAgICAgICAgICAgICAgICAgICAgICAgICAgICAgICAgICAgICAgICAgICAgICAgICAgICAgICAgCiAgICAgICAgICAgICAgICAgICAgICAgICAgICAgICAgICAgICAgICAgICAgICAgICAgICAgICAgICAgICAgICAgICAgICAgICAgICAgICAgICAgICAgICAgICAgICAgICAgICAKICAgICAgICAgICAgICAgICAgICAgICAgICAgICAgICAgICAgICAgICAgICAgICAgICAgICAgICAgICAgICAgICAgICAgICAgICAgICAgICAgICAgICAgICAgICAgICAgICAgIAogICAgICAgICAgICAgICAgICAgICAgICAgICAgICAgICAgICAgICAgICAgICAgICAgICAgICAgICAgICAgICAgICAgICAgICAgICAgICAgICAgICAgICAgICAgICAgICAgICAgCiAgICAgICAgICAgICAgICAgICAgICAgICAgICAgICAgICAgICAgICAgICAgICAgICAgICAgICAgICAgICAgICAgICAgICAgICAgICAgICAgICAgICAgICAgICAgICAgICAgICAKICAgICAgICAgICAgICAgICAgICAgICAgICAgIDw/eHBhY2tldCBlbmQ9J3cnPz7/2wBDAAcFBQYFBAcGBQYIBwcIChELCgkJChUPEAwRGBUaGRgVGBcbHichGx0lHRcYIi4iJSgpKywrGiAvMy8qMicqKyr/2wBDAQcICAoJChQLCxQqHBgcKioqKioqKioqKioqKioqKioqKioqKioqKioqKioqKioqKioqKioqKioqKioqKioqKir/wAARCACKA+QDASIAAhEBAxEB/8QAHwAAAQUBAQEBAQEAAAAAAAAAAAECAwQFBgcICQoL/8QAtRAAAgEDAwIEAwUFBAQAAAF9AQIDAAQRBRIhMUEGE1FhByJxFDKBkaEII0KxwRVS0fAkM2JyggkKFhcYGRolJicoKSo0NTY3ODk6Q0RFRkdISUpTVFVWV1hZWmNkZWZnaGlqc3R1dnd4eXqDhIWGh4iJipKTlJWWl5iZmqKjpKWmp6ipqrKztLW2t7i5usLDxMXGx8jJytLT1NXW19jZ2uHi4+Tl5ufo6erx8vP09fb3+Pn6/8QAHwEAAwEBAQEBAQEBAQAAAAAAAAECAwQFBgcICQoL/8QAtREAAgECBAQDBAcFBAQAAQJ3AAECAxEEBSExBhJBUQdhcRMiMoEIFEKRobHBCSMzUvAVYnLRChYkNOEl8RcYGRomJygpKjU2Nzg5OkNERUZHSElKU1RVVldYWVpjZGVmZ2hpanN0dXZ3eHl6goOEhYaHiImKkpOUlZaXmJmaoqOkpaanqKmqsrO0tba3uLm6wsPExcbHyMnK0tPU1dbX2Nna4uPk5ebn6Onq8vP09fb3+Pn6/9oADAMBAAIRAxEAPwD6RooooAKKKKACiiigAooooAKKKKACiiigAooooAKKKKACiiigAooooAKKKKACiiigAooooAKKKKACiiigAooooAKKKKACiiigAooooAKKKKACiiigAooooAKKwvE/jTQfB9skmu36QyS8QWyAvNOegCRrlm546Y9a59da8f8AiaMNoeh2vhmykHF1rbGW5KnuLeM4U+zv+FAHe0Vwo+HWoah83iXx14h1An70VpMljCw9NsKhsf8AAqf/AMKd8DH/AF2jyTnubi/uJc/99SGgDt6K4j/hTfgAf6vw5BEfWGaWM/mrCkPwn0W2+bQdU8QaE/c2OrzEH6rKXU/lQB3FFcIdI+Iugtv0vxDY+JbcdbXV7YW0uB/dmiGCf95KksPidYR6rHpHjGwuPCuqSHESX7Kbe4P/AEynX5G+hwfagDt6KAcjI6UUAFFFFABRRRQAUUUUAFFFFABRRRQAUUUUAFFFFABRRRQAUUVyWvfE7wroN59hk1A6hqZOF07TYzdXDH02Jnaf97FAHW0VwqeJvHmtIDofguHS4n5S41++CMB7wxBmB9iRSjwx481H59V8eJYBvvW+j6XGir7B5S7fjxQB3NFcP/wq60uP+Qx4n8U6op+9HPq7xof+AxbBS/8ACnfA5+/pE0v/AF11G5f/ANCkNAHb0VxH/Cmvh9/F4YtGPqzOx/Mtmj/hTngQfc0Pyv8ArleTp/6C4oA7eiuHPwm0CDnSL7X9Ib+9Za1cjP4O7D9KQ+B/E9l/yBfiNq6gdE1K0t7sH6nYrfrQB3NFcN9s+Jmkf8fOl6F4jhHG6yuXspj7lZAyZ/4EKbB8WtFtrxbLxbZ6h4Uu2bao1aDZDIf9mZSYyPckUAd3RUVtcwXlulxaTRzwyDKSROGVh6gjg1LQAUUUUAFFFFABRRRQAUUUUAFFFFABRRRQAUUUUAFFFFABRRRQAUUUUAFFFFABRRRQAUUUUAFFFFABRRRQAUUUUAFFFFABRRRQAUUUUAFFFFABRRRQAUUUUAFFFFABRRRQAUUUUAFFFFABRRRQAUUUUAFFFFABRRRQAUUUUAFFFFABRRRQAUUUUAFFFFABRRRQAUUUUAFFFFABRRRQAUUUUAFFFFABRRRQAVwfiXxlql7r83hH4fwR3OsxqpvtQnGbbS1YcF/78hHKoPqeARWp8RPEtx4X8Gz3OmKJNVupEstNiIz5lzKdqDHfHLY9FNT+CvCNt4N8OpYQyNc3Urme+vJDmS6nbl5GPuenoAKAKnhP4d6P4XmbUZN+q67MM3OsX3zzyseuCfuL2CrgYx1611lFFABRWNpPiiw1rXdX0mzS4W40holuTLFsUmRSy7c8ngeg61s0AFFFFABVPVdI07XNOksNZsoL60lGHhnjDqffB7+/arlFAHl81hrfwkL3ehrda54MXLT6YzmS50xe7wsxy8Y7oTkdQepr0TSdVstc0i21PSrhLmzuoxJDKnRlP8j6g8g8VcrzfRLcfD34n/8ACO27FPD3iSOW60+E/dtLtPmliT0RlO8D1BAFAHpFFFFABRRRQAUUUUAFFFFABRRRQAUUUUAFFIGDZ2kHBwcGloAK5bxR47s/D95HpWn2k2ta/cLug0qywZCP78jHiJP9pvwzUPj3xRe6PFYaL4cRJfEWuSmCwWQZSEKMyTv/ALKLzjucDB5q74P8GWHg+wlSB5LzULt/Nv8AUrjma7kPVmPp6L0A/EkA52PwR4i8X4n+I2tPFaNyNA0eVoYAP7ssow8p9QCBkcV2GheGdE8M2n2bw/pVpp0WORbxBS3ux6sfc5rUooAKKKKACiiigAorH1vxNY6Be6Xa3qXDSapdraQGKLKh2BI3NwAMA+/tVoapnxA2lfYb0bbYXH2ww/6Ofm27A+fv98Y6Ub/18w/r9C9RRRQAVFc2tve2z295BHcQSDDxSoGVh6EHg1LSI6yRq8bB0YAqynII9QaAODuvhTYWFw9/4Cv7nwnqDHcRZHdayn0kt2+Qj/d2mksPHupaBfxaV8TbCHTJZX8u21m1YtYXTdgWPMLn+6/BwcHpXfVW1DTrPVtOnsNTtorq0uEKSwyqGVwexFAFkHIyORRXnGhTXfw58W2fhHUbmW78PapuXQ7qdtz2sijJtHbuuOUJ54289vR6ACiiigAooooAKKKKACiiigAooooAKKKKACiiigAooooAKKKKACiiigAooooAKKKKACiiigAooooAKKKKACiiigAooooAKKKKACiiigAooooAKKKKACiiigAooooAKKKKACiiigAooooAKKKKACiiigAooooAKKKKACiiigAooooAKKKKACiiigAooooAKKKKACiiigAooooAKKKKACiiigAooooA4TxkRd/FLwBpzgGIT3t8wPQmKDav4gy5/Cu7rgfiKRpXifwX4ll+W10/U3tbmTtGlzGYgzei79mT7iu+oAKKKKAPMtE1SHRPiB8UdUugxgsltLiQL1Kpaljj8qdqWueKtP8Ah1F48TUxM6Wsd/c6KYIxb+QQGZFfb5gdUP3ixBI+6AcC1o/g7XG8XeL7jxFa6U2keJUSN0tr2R5Y1SMxgEGJQdwOTyMe9Ja+CvEQ8EHwPf3djNowh+yDUkkcXLW2ceWYdm0Ns+Xfv99tG8dN7K33a/oPS/zd/wALfqP8Q+MBFq2li71m58OaNf2SXFtqawRmOSZjnyZXkRljG3BH3ScnDDHLvEXiDUtD0fQP7a1SWxtLlGXUtcsLdJFhkCjYcMroiOSfmKkDAGRnNamrab4gXUGt9KstG1DQZbJLZ7DULh4trAtkjEbhlKlQVI5x1Hehp3hnxJ4V0PRNN8PS6dqFtZwzxXltfTSQJJvYMgjKpJtCfMoBB+Xj3A7dO/8AmJX0v2/T+vmdF4aluZ9ESW71KHVd8jtDewbNs0RY7D8ny524yR3zWtXOeCvDB8LaVd258iP7XeSXf2W1z5Frvx+7jzj5RjOcDJJOB0ro6bEgrgPi9OmmaHoWtyA7dJ16zuHKrlthcxuABySVc8V39cD8SD/aet+DvDtv89xc61FfSx9hb2wMjsfQbtg9yaQxv/C6vCXprH/gnuf/AIij/hdXhL01j/wT3P8A8RXoFFAHn/8Awurwl6ax/wCCe5/+Io/4XV4S9NY/8E9z/wDEV6BRQB5//wALq8Jemsf+Ce5/+Io/4XV4S9NY/wDBPc//ABFegUUAef8A/C6vCXprH/gnuf8A4ij/AIXV4S9NY/8ABPc//EV6BRQB5/8A8Lq8Jemsf+Ce5/8AiKP+F1eEvTWP/BPc/wDxFegUUAef/wDC6vCXprH/AIJ7n/4ij/hdXhL01j/wT3P/AMRXoFFAHw/4v+IOsWHxX13WPCGsahp0NzdmRVBeLcMD78bdenRhXbeFv2p9fsdkPivS7fVYhwZ7c+RL9SOVP0AWui8R/s56v4y+Jmta3qOrW2m6Zd3RkiEamaZ1wP4eFX8z9K73wt8AvAfhkRyNph1e6Tnz9SbzRn/rnwn/AI6T70AZXwz8aab8SvirrfiGziukjstMtrOySeEgxq7O8u4jKhiwUDnJA9jXsFedSGLwb8aopHjSDS/FVlFaI4ACpd2+7YnoA0bkD1K4r0WgAoooJABJOAOpNAHkWt+I/FGreAvFXifR/EEuizaLdXUMFlHawSIUgbB8zzEZt7YJ4IAyOD32dZ1nxHpFp4Jhs9TM0ur3qQXT39vGZCHieTny1Vfl2gYVQTj7wzmsS30fxFqt9ea3Y6Doet2V/ePcwTf2vPbR3UYbERkgVTG5CquGYHoDWzr1n4r8Yp4W1XSNN0uzfSr83dxb31++S6b4mjVo4mBUgkh/p8tEdlf+7f8AX7+oSvd2/vf8D7uhcvV8VaTBp9pq/iaFbJ5Z2vdcSGCCWMZHkQpG4ZCxJxnac7emTk5WlfEe8tPhtr2samft9zpWqS6bbPJF5DXJ8xUiMi4G0kuN2AOh4FdB4i8P6/d+MdD17RptPcWUMsE9pfM+xfM2/vYyoPzjbjkDIJGRmsOL4Yahe+GPFeg63qdsYNZ1KTULW5tY2DwyMUcEqTgbXTpk5HcULz/rVfpe3+dwfl3/AEf62/QreM9N1qy13wPLqWuvqMcmvwedDJbxxrHJ5b4MRRQQv3uHLnpzxz0MOv6qPjNc6BPcxtpiaIL1IlhClXM2zJbJJ4HsOelUr/wz4z1+Pw6dYudEguNG1OO7llt/NkFyqKwztIXYTu+7kjnO7jBsR+HfEg+MMniWSHSjpUmmjTiou5PP2hy/mbPK25ycbd3TnPamtNPN/wDpNl+JLXXyX4Sd/wADl774h61f+G18ReGm1u4u/M8yDRovD08lrcw+ZjaZ/IJ3lOdyyBc8YNdJc634gu/iha6FaXsdlY3WhPfbHtQZYX81FzyeWAJGDgA8kHGKg0Xwn428L3D6NoWr6Q/hkyu8D3cEjXdmjMWMaBSEcDJ2ljx3BAxVuXw94lX4tW/iGCHS30qDTTpwEt9KLhlZ1cyEeUVzlcbd3PXPalG11fbX8n+ti31/rqv0v/VjBn1jXr34YeO7S/1mcahoEt1BHqNrHHFJOixCRdw27VOG2kqAeOCDzXa+BbOez8F6WLnU7rUDJaQurXKxAxAxr8i+Wi/KPfJ9Sa5rSPBniOXTfGthr66XbR+JXmliksrqSZoGkiEe1g0SZACg5B/Cus8JWOrab4ZsrLXns2uraFIf9D3FMIoXOWAJJxnoMdPckfh13tH77O/4ky1krdHL8bWNqiiigZw3xkg3fC7Ur+IhLvSWi1G0k7xywyKwI/AEfQmu0tpvtFpDMBt8xFfHpkZrg/i3cf2npFh4Jsjuv/E1yluQp5itkYPPKfYKuPq1egKoVQqjAAwB6UALRRRQAUUUUAFFFFABRRRQAUUUUAFFFFABRRRQAUUUUAFFFFABRRRQAUUUUAFFFFABRRRQAUUUUAFFFFABRRRQAUUUUAFFFFABRRRQAUUUUAFFFFABRRRQAUUUUAFFFFABRRRQAUUUUAFFFFABRRRQAUUUUAFFFFABRRRQAUUUUAFFFFABRRRQAUUUUAFFFFABRRRQAUUUUAFFFFABRUVzdW9lbPcXk8dvBGMvLK4VVHqSeBXF3HxX0S4uHtPClrf+KrtTtK6RAZIkP+1McRge+40AdT4gvrvTPDmoX+nWq3l1a27zRW7OV80qpO3IBwTjFfOn/DWt9/0KNv8A+Bzf/EV695HxL8R/6+40zwdaN/BAPt95j0LHES/gGxXy7rfwh10fF3UPBvh+3kvWikEkdxIAqpA4DK8jAADAODgdQQB2oA7nVv2jbrxrpFz4al8EJdDVIzbCKC8ZpGZuAVHln5gcEe4FewfDHxdrEkaeFPiBALDxPaW6SRo7A/bYNvEisCQzAghgOhGfXC/C74O6L8OLNbgBb/W5ExNfuv3M9VjH8K/qe/oOp8U+ENK8X2CQanG6TwN5lpe27+XPaydnjccqensccg0AblFeep4o8SeBlEHjyzfVdKj4XxDpsRYqvrcQDlDjqybl+ldrpWs6brtit7o1/b39s/SW3lDr9MjofagC7RRRQAUUUUAFFHTrXG6v8SNOhv20nwvbS+J9aHWz05gUh95pvuRD6nPtQB0Ova9p3hnQ7nVtauUtrO2Tc7sevoAO5PQAck1yvgTStU1PWLzxz4ogNpf6lAtvYWDD5rCzB3Krf7bkhm9OBx0DtJ8EX2q61D4h+IdxBqGoQNusdNgybPT/AHUH/WSert+AGBXc0AFFFFABRRRQAUUUUAFFFFABRRRQAUUUUAFFFFAGP4p8Maf4v8PT6Rqqt5UuGjljOJIJBysiHsynkH8OhNcppHjTUPCt/B4d+JbJDK7eXY6+o22t/wCgc9IpcdVPBIOD0z6HVbUdNstX0+Wx1S0hvLWZdskM6B0Ye4NAFkHIyORQRkYPIrz0eCPEfg8hvhzrKyWC/wDMC1p2lgUekMoy8fsDuGTUifFOPSHWHx/oOo+GJCcfaZE+02bHtiePIH/AgtAGtD8N/CtreNcWmmNbb2LPbwXU0duxPXMKuIzn/drpo40hiSKFFjjRQqoowFA6ADsKqaZrOma1b/aNH1G1v4f+elrMsi/mpNXaPIPMKKKKACiiigAooooAKKZNNHbwtLPIkUajLO7AAD3JrjdS+K/hm1uzY6PNP4j1If8ALlokRumH+8y/Iv4sKAO1rlPFnj6x8N3EWl2cEmseILof6LpFoQZX/wBpz0jT1Zu2cZxWS0XxE8YYS5MHgnS3++IJVutQkHoGx5cWfUbiKlX4M+Do7dTDaXcOoKS/9qxX0qXjOertKGyxPvx7UAW/BvhC9sNSu/E3i24ivfEuoII5GiH7qzhHIt4s87QeSf4jya7GuC/4R7x/4f58PeKLfXrZeln4ghxIB7XEQBJ/3lNH/CzJtG+Xx14W1XQQPvXkKfbbQe5liyV/4EooA72is3RfEejeI7X7ToOqWmoxY5a2mV9v1A5B9jWlQAUUUUAFFFFABRRRQAUUUUAFFFFABRRRQAUUUUAFFFFABRRRQAUUUUAFFFFABRRRQAUUUUAFFFFABRRRQAUUUUAFFFFABRRRQAUUUUAFFFFABXLeKfiN4e8JXcVhfTzXeqT/AOp0ywiM9zJ6YRemfVsA1j33iLWfHGpXOjeBZjY6ZbSmDUPEJUHDDhorYH7z9i5+Ve2Tiuh8MeCNB8IRyHR7LF1Oc3F9OxluLhjyS8jfMcnnHT2oA5v+2Pib4mP/ABJtD0/wpZN0uNYk+0XLD1EMfCn2Y04fDjxBqXzeJviRr9wf7mlCPT0+nyAkj8a9CooA8/8A+FN6FJ/x+av4lvPXz9anOfyIo/4U5osf/Hnrniiz9PI1uYY/MmvQKKAPPT8PfFOmc+GfiRrCKOfK1iGO/De25grAe+c00eJPiJ4ZOPEvhe38RWa9b3w9JiUD3t5OWP8AutivRKKAOc8KePfD3jNJhol7m5tzi4sp0MVxAf8AajbkemeR710dcx4n+H+h+KZ0vbiKSx1aH/j31WxfybmE9sOPvD2bI9qzNF8U6toOtW3hnx+ENzct5ena1Cu2DUCBwjD/AJZTY/h6Nzt9KAO6ooooAKKKKACiiigAooooAKKK4bXvH11JrcnhvwFp6a3rcRAupZHK2en57zSDq3+wvzHB6UAdtNPFbQPNcSpFFGNzySMFVR6knpXEXfxY0eW4ktPCVjqHiy6jO1xpEHmQxn/anOIwPoTUVr8LYdVmW++ImqXHii93bxbSkx2MB9EgU7Tjplsk9TXdWtpb2NqltZQRW8EYwkUKBFUegA4FAHA/a/ivrpzbaboPhW3P/P5O19cD6BMJ+ZNO/wCEB8X6h/yHviZqrKeqaVZQ2ePYNhj+Jr0GigDz/wD4VBp7/wDH14q8YXXr52uSnP5Yo/4Ux4ZPLXevM/8AfOs3Gf8A0KvQKKAPP/8AhT+lp/x7eJPFlt6eTrkwx+ZNJ/wrnxFYf8i/8S/EEHoNSSG/H/j6g/rXoNFAHnvl/FnRDuWfw94pgXqjI9jO30I3J+dPi+KsWmsI/HXh3VvC5yFNzcRfaLTPp58WQPxAFd/SMquhR1DKwwVIyCKAK+n6lY6tZJeaXeW97bSfcmt5RIjfQjirNcPqfwp0V7uTUfC01z4V1ZuftWkv5aOe3mQ/6txnqCOfWsXUPiXrfw6hMHxK0eW8jJCWmsaNGDFdN2V0Zh5T/jtPOOlAHqVMmmit4XmuJEiiQZZ3YKqj1JPSvPV1H4n+KQP7O03TfB9i44uL9/tl0R2ZY0win2YmpoPhFpV7Ml1411PUvFl0p3AajORbo3+zAmEA9jmgCe9+Lfhtbt7Hw99s8T368G30S3NwF/3pOIwPfdUIk+JniT/VxaX4NtG/ikP2+8H4DES/juxXbWNhZ6ZaJa6baQWlun3IYIxGi/QDgVYoA4e2+E+gy3KXfiie+8U3iHcsmszmWND/ALMIxGB7ba7S3t4bS3SC1hjghjGEjjUKqj0AHAqSigApqxRrK8iookcAMwHLY6ZPfGTTqKACiiigArk9W+GnhvUr1tQtbebRtTb/AJiGkTG1mP8AvFflf/gQNdZRQBxbeHvHenqP7J8a29+qjCxaxpasT9ZIWjP44qB7n4rQcnTfCV4PSK7uIifwZCP1ru6KAOCTVPipcHCeG/Ddp23T6pK4+vyx1Mln8Tr75bvV/DWkJ3aysprp/wA5HQfpXb0UAcRJ8NU1eQN4z8Rat4hTvZySrbWp+sUIXd/wImus03StP0ayWz0ixt7G2T7sNtEsaj8AKt0UAFFFFABRRRQAUUVQ1nW9N8PaXLqWtXkdnaQjLyydvwHJPsKA3L9FYdp408O311qdvbatA0mlKrXu7KrCGBIJYgAjg9CcHinaf4v0TU7y5tILt4rm1jEssF3byWzrGTjeFlVSVz/EMj3oA2qK5Kb4p+CoLa0uJdftxBeOUhmCOUyHKZZguEG5WALYBwcE1v6lrNjpVuk15K2JTiKOGJppJTjOERAWc45+UHjmgOti9RWPaeLNCvdBm1qDUovsFuzLPLIDGYWU4KurAMrA8bSAeRxSaX4s0fWbi5trKacXNrGJZba4s5oJghzhhHIqsynBwQCDQBs0Vyng/wAe2XjC51CK0tNQg+y3UkKG40+eJSE2g5dlCBtxPyZ3AdQOa6ujomAUUUUAFFFFABSOiyIySKGVhhlYZBHpS0UAcXqXwi8Ealcm6GhxWF3nIudNdrR1PrmMgZ+oNRQ+Atd0tSuhfELXI07R6nHDfAe251DY/wCBV3NFAHEmy+J1lxb6x4Z1VR3urGa1Y/ikjgflTGvvinH/AMwPwtN/1z1KcfziruaKAOBOt/FFTj/hD9Df/aXWGA/WOnrqfxSk6eHPDcP/AF01SU/yiru6KAOIA+KVzwx8JaeD1ZftN0w/D92KVvCfjO9QrqfxBmhRvvLpmlwwEfRn8wj6121FAHBR/BrwtPMs/iBtT8STqciXWdQknx/wAEJ/47XZaZpOnaLZraaPYW1hbL0htoVjUfgAKt0UAFFFFABRRRQByutfDTwprl19sn0pLTUAcrf6e7Ws6n13xkEn65rM/wCEa8eeH+fDfiyLWrdfu2fiKHc+Pa4iw2f95TXe0UAcF/wsi90X5fHPhLVNGVfvXtov260A9S8Y3L/wJRXUaH4n0PxNbef4f1az1GPGW+zzBiv+8Oq/jWrXL658OPCniC5+132kRRXwOVvrMm3uFPr5kZDH8SaAOorPi1/Sp9fn0SK/hbU7eNZZbTdiRUbo2O4+nTj1rkm8L+NvDyl/DPjBdTtkGRZ+JIvM47/6RHhx/wACDV8geJPHOr6z8RrzxbBctZahJceZFJayH90FAVQrcEjaAORz3FAH35RXh3wm/aFsvEvkaL40eKw1c4SK84SG6PYHsjn06E9MZAr0TxV4xuNO1OLw94YsRqviS6j81IGbbDax5x507D7qZ6AcseB60Aa/iPxRovhLSm1HxFqMNjbKcBpDy5/uqo5Y+wBNcgPHni3xMo/4QTwbLFbOPl1PxA/2WHHZliGZHU+vFaWg/DiytdRTXPFE7eIvEXU312uUgPXbBF92NR2xz712dAHng8FeO9W58Q/ESa1jb71todjHb7fpK25qf/wp/TJP+PzxL4tvPXz9blOfyxXoFFAHn/8Awpnw6nNtqPiG2b+9DrM4P6saQ/C/ULH954e+IXimzlHQXl0t7EP+ASL/AFr0GigDzst8VfDjb2Gj+M7ReqoP7Puj7jJMZ+nFXtE+Kmh6nrEei6tDe+HdakHyWGrw+S0vb92/Kvz0wcn0rtqy9f8ADWjeKdNaw8Q6dBf2zchJlyVPqrdVPuCDQBqUV5u8utfCvL3Mt3r3g1eWlkJlvNJX1J6ywj1+8o9QK9DtbmC9tIrq0mSeCZBJFLG25XUjIIPcEUAS0UUUAFFFFABRRRQAUUUUAFYvifxhoXg3Tft3iPUYrOJjiNTlnlPoiDLMfoKyPE3jC+TWf+EY8GWceoeIGjEkzyki206NukkzDnJ6hB8x68Dq7w58OdM0jUBrOsSya94iYZk1W/G5lPXESfdiUc4C9B3NAGT/AMJp428TDHgrwcbC1cfLqXiOTyFx6iBMuR3ByKcPA3jXVf8AkY/iNeRRt1t9Es47Tb9JDuY16HRQB5//AMKe0qT/AI/PEXiu89fP1uY5/Iij/hTXh5P+PXU/EVqfWHWpx/NjXoFFAHnp+GOq2Hz+HPiJ4ms5Owv5kv4x/wAAkX+tNNx8U/DZ3XNrpPjGzHU2p+w3f12sTGfoCDXolFAHG+HvifoOu6v/AGNdLd6JreM/2Zq0Jglb/cz8r+20k45xXZVj+I/Cmh+LdP8AsfiHTYb2IcoXGHiPqjj5lPuCK5H+0dZ+F8gj1+4udb8IlgseqSfPdabk4An7yR/9NByOhzwaAPRqKbHIk0SSROskbqGV1OQwPQg9xTqACiiigArifH9/eX95pfgzRLqS1vdbZ2urmH79rZIP3rg/wsxKop9WPpXbVwPhsfb/AI2eM76T5v7PtbHToWPYFGmcD8XWgDstI0mx0HR7bS9JtktbK1jEcMSDhQP5nuSeSSTVyiigAqjDqfna3dab9hvI/s8SSfapIcQS7s/Kj55YY5GOMir1cZpOuaxdfFTxHodxdwtZ2djazWqCADy2kL5JOct90dwPYUr6pd/8mw6N/wBbnZ1R1HU/7Omso/sN5dfa7gQbraHesOQTvkOflTjGfUivLj4n8Yz/AAivfFq65BFc6XPdSGFbJCl0kM7qUfOSoKrgbcEYyWOeOo8X+JNV03UPBp06eOG31fVIra5jMQZijRs5AY9PugdM+9OOrVvL8dhSfKm30v8AgdtvUSBCw3kEhc8kDqcfiKWvN7ez1Gf496nGPEWpx28GlW1wtuogMZDTSAxYaIkKdg5BD8/e6Y9IoXwp/wBbj6tf1sFZXiXw5p/ivQLjSdWjZoJgCrodrxOOVkQ9mU8g1q0UAcj8Pdcvr/Tb7RtflEut6DcmzvJMbfPXG6KfHYOhB+u6uury/X/EGk+CPjkmo67fxadp+r6D5TSSEhXnhn+XOO+yQj8K2f8Ahcvw8/6GzT/++j/hQB29FcR/wuX4ef8AQ2af/wB9H/Cj/hcvw8/6GzT/APvo/wCFAHb0VxH/AAuX4ef9DZp//fR/wo/4XL8PP+hs0/8A76P+FAHb0V8RWXxo8Z+GPEF62i69Lc6ebqRo7a7/AH8RQuSAA3Kj/dIr1jwt+1Zp8+yHxhokto/ANzp7eYn1KMQyj6FjQB6X481jU7/VrLwR4WuGtdU1OMz3l8nXT7MHa0g/22Pyr75PGM10vhzw1pXhPRIdK0O1W3to+TjlpG7u7dWY9ya4X4T6zpvi/wATeM/FVhdLcfar6K0g6hltooV2HaeVDMzntkg+len0AFFFcj8T9b1Xw54AvdV0OeKG5gaIAyRb8h5UTjJwDhj1B+lA0r6HXUV5zruseKvCHizQb3UdWg1HRdav006axW0WM2kkmfLaNx8zDIwd31GM8Fre+Mdf8YeKNIsdftdOi0i7tPJlFgshZGjDvGVJ6HJG7JPTGO7Sv/Xp/miXp/Xr/lb/AIB6NRXleseOtS1Kz1m68P3esQXenXE8FlaWnh+a6gu3iJUrLKIWHzOpHyOm0YzzmteDxZqniTV9G0G2W40C8utIGqaizwqZ7YEhFiVZFIDby2SynAXpk8JarT+tL/kimrb/ANa2/NnS6X4msdX17VtItUuFudJMS3Blj2KTIpZdueTwPQdataNqn9saat59hvbDc7p5F9D5Ug2sVyVyeDjIPcEVwfgO21C2+JPxAgvL8Xdyr2IW6eEKWHkHaWVcDOMZxgE9h0qHQviBq7fCqw1bUJIbnV9R1ZtMgkMW2NXa5aJWKr/CqjOM5OMZ5zT7Lul+Nv1C3X+trnqFIrq+djBtpwcHOD6VzdtpHii11x1k8RG90ie2YO08MS3NtPn5TFsjCFMZ4cMcgdeawPg3b3x8IyXt9rd/f+be3ieTciIqpFy4LhljDljjnLEc8AcYS3sJ6L5nolV7+wtNU0+ax1K2iurWdCksMqhldT2INWKKAPOfDL3Pw+8YReC7+aW40LUVeTQLmZizQFRl7RmPJwOUJ7ZGTjj0avPfja8dl8OW1resd1ot9a39oxOP3iSqMD1yrMMVx/in9qTwzpu+HwxYXWszjgSyfuIfrkgsfptH1oA9yor4n8U/H7x74mLxpqY0i1bjyNNUxHH/AF0yXz/wID2r6G8E/FzwPZ+APD9tqfimzS9h0y2juFldiyyCJQwPHXINAHqVFcR/wuX4ef8AQ2af/wB9H/Cj/hcvw8/6GzT/APvo/wCFAHb0VxH/AAuX4ef9DZp//fR/wo/4XL8PP+hs0/8A76P+FAHb0VxH/C5fh5/0Nmn/APfR/wAKP+Fy/Dz/AKGzT/8Avo/4UAdvRXEf8Ll+Hn/Q2af/AN9H/Cj/AIXL8PP+hs0//vo/4UAdvRXEf8Ll+Hn/AENmn/8AfR/wo/4XL8PP+hs0/wD76P8AhQB29FcR/wALl+Hn/Q2af/30f8KP+Fy/Dz/obNP/AO+j/hQB29FcR/wuX4ef9DZp/wD30f8ACj/hcvw8/wChs0//AL6P+FAHb0VxH/C5fh5/0Nmn/wDfR/wo/wCFy/Dz/obNP/76P+FAHb0VxH/C5fh5/wBDZp//AH0f8KP+Fy/Dz/obNP8A++j/AIUAdvXFfGJlX4O+JS5AH2Jhz9RTf+Fy/Dz/AKGzT/8Avo/4VS1X4lfCfXbVbbW9Z0PUoFfesV5EJlDYIyAykZwTz71MlzRaKi7NMPiU/wBm+Gun31lJLBY2l1ZT3M1lErvHbI6kuqlWUheGwVI46U3Q7Hw9q3jbTNdtPHF54l1K3tpUhRJrQqkLj5jIsMSHGcYyfvY96lsfij8LdL09LDTNe0azs0BCW9unlxrkknChQBkkn8aqwfFD4V+HNPun8P3+kRM+ZGttPjjhad/x2qSfViPrVN2bfq/vViOXRL5fqYvhOTSJ/wBm3WIbzyJI/wDiYRzx8EmUzSbFwOd5ymO/3cdqjmN34a1PwLH4o8QXnh6I+H/sJv0EJVLoeWWjkeaN1Xcq9eMlOtZXws8c/D/T/D1uvioaTY6zYTTNDeTmCZykkzyDZIhZhjdgg49s139/8VPhfqtm9nqniDSL22k+/BcJ5iN9VZSDT2d/T8mv1Kk0215v8Wn+hz9/B4T8P+Gte1IajN4qh1XUrT7VPdXEQtlud6qjF4ERVC4VnwD0A71d0i9Rf2gHF7rVtf3EvhxVLQqqRq/2j7iAEnuDhmY89cVf/wCFmfCn+yP7K/trRP7O2eX9j8oeTt/u7Nu3Htikg+JfwntZbaS21nQ4ZLWMxW7xxBTCh6qpC/KD6DiiOjv/AFtb+v8AgE/Za7/53JPhXd24h8SWZmjFyPEd+xh3DeB5gOcdccjn3FegV5/B8Uvhba3txeWuv6PDdXRBnnjTa8uOm5guWx71Z/4XL8PP+hs0/wD76P8AhS6Jdkl9ysPq33bf3u529FcR/wALl+Hn/Q2af/30f8KP+Fy/Dz/obNP/AO+j/hQB29FcR/wuX4ef9DZp/wD30f8ACj/hcvw8/wChs0//AL6P+FAHb0VxH/C5fh5/0Nmn/wDfR/wo/wCFy/Dz/obNP/76P+FAHb0VxH/C5fh5/wBDZp//AH0f8KP+Fy/Dz/obNP8A++j/AIUAdvRXEf8AC5fh5/0Nmn/99H/Cj/hcvw8/6GzT/wDvo/4UAdvRXEf8Ll+Hn/Q2af8A99H/AAo/4XL8PP8AobNP/wC+j/hQB29FcR/wuX4ef9DZp/8A30f8KP8Ahcvw8/6GzT/++j/hQB29FcR/wuX4ef8AQ2af/wB9H/Cj/hcvw8/6GzT/APvo/wCFAHb0VxH/AAuX4ef9DZp//fR/wo/4XL8PP+hs0/8A76P+FAHb0VxH/C5fh5/0Nmn/APfR/wAKP+Fy/Dz/AKGzT/8Avo/4UAdvRXEf8Ll+Hn/Q2af/AN9H/Cj/AIXL8PP+hs0//vo/4UAdvRXEf8Ll+Hn/AENmn/8AfR/wo/4XL8PP+hs0/wD76P8AhQB1Otab/bOg32mG4ktheW7wNNFjegZSpK54zg8V43D+yl4PUnz9Z1x/TZJCuPzjNd3/AMLl+Hn/AENmn/8AfR/wo/4XL8PP+hs0/wD76P8AhQB5b4y/Z48CeEvCN9rDaj4gmlhTbbwC4hzPMx2xxgCHPLEDj3r1X4Y+AU8B+GhDcXMt7qt2sb31zMwdi6oFCK2M7FAwoJOPxrmdc8ZeHfHvj7wRo3h3VrfUkh1OTULkQkkJ5MLsmcj+8ePpXrVABRRRQAU3epkKBl3gAlc8geuPwNeeeHPEl/rOupBN4hktdXhumF/4dureKPZCCwBiygkYY2tv3MCM9M4FbRo72H4x+Mrm68Q6k1rp9tZymArAUeMrK3ln93kKvONpUnJyTSurXew7bpb/APBsenUV4/P8Q9dn0PTfEehrr1/PO0Us2hx+HZzbtA5GQk3k5Lqpzv8AMKsQcDBFdFcal4n1H4l6r4csdXgsLWPS4LuKZbNXkhLyOpwGJDH5ByeBz8vcVZ/n+CuK6/r1sd9RXFfDrxBrOovrmh+KJYbnVNBvBbSXcMYjW5jZA8blRwrEHkDiu1oEncRlV0KOoZWGCpGQRXn3huL/AIQPx4fCKu39hatFJeaKj9LaVTme2U/3cMHUdhuFehV598YGWw0HRNec7F0XXbO6kk7iMv5bj6ESUhnoNFcR/wALl+Hn/Q2af/30f8KP+Fy/Dz/obNP/AO+j/hQB29FcR/wuX4ef9DZp/wD30f8ACj/hcvw8/wChs0//AL6P+FAHb0VxH/C5fh5/0Nmn/wDfR/wr59+Kvxb1O0+K02pfD7xTN9ha2hH+jyboXcDnMbAqT9RQB9c1znjvxJJ4W8Jz3llGJ9SndbTTrc/8trmQ7Y1x35OT7A14J4W/as1CApD4w0SK7jHBubA+XJ9SjEqx+hWu3tviJ4c+J3xQ8ER6BdvJFYm8vLm2uIzGySCELGMHgkb2Pyk9KAPR/BvhSHwnopgaZrzUbpzcajfyffup2+8x9B2A7ACugoooAKKr38txBptzLZQ+fcxxM0UROPMcAkL+J4riPBmu3HiG5ieDxTNdyCFhqel3VtDDcWExAxhNgdVDbh8+/PHzHnJu2g21O9V1dmCsrFDhgD904zg/gQfxp1eR+D9UuvDHhLxl4m1XW9S1OLTdSvwbWcQ7ZTGwCtuWMMGOAOG2gdFFaniPWvE3hDwlb+MbrVTqEUfkyalpf2eNYVjcgMYWC+YCpYH52YEA9KFrb5fiGt2vNr7j0iiuCvtX8R3vxQk8O6bqsFnZS6IL1Jfsgd4mM2zI3EhjgcZwBnJBqT4feINaudY8Q+GPFNzHfajoM0QF9FCIhcwypuRmQcBuCCBxTSbX9dHYHp+H4q6/M7mo54Irq3kt7mJJYZUKSRuoZXUjBBB6gipKKQHAeD/M8G+L7rwNPNJJpslv9u0JpTkpEGxLbbj18slSvU7W9q7+uC+Jg+x6v4J1iPiS18QQ2zN6R3CNEw+mStd7QAUUUUAFcFo5/sj45eI7W4+Qa9p9rfWpPR2gDRSAe4BjOPSu9rkPiB4d1HVLSw1nw0Y18QaFMbmyEnCzgrtkgY9g68Z9QOlAHX0Vh+EfFdh4w0CPUtP3Rvkx3NrJxLazLw8TjqGB/Pr3rcoAK4Sw0HxXZfEzXfEZtNHks9QtI7eCL+0JRIDFuKFv3GBuLc4zt7bsc93RStrf+uwdLHlMPgfxmnwh1bwjJDoJu76ScJcLfzeWqTO7sSPIzlSwAHQ9cjGDo+JfDXjDWYvCL21roaTaHdx3lysmoTBZHRWTYhEBOCGzuI4PGD1PotFNaO68vw2E1zKz8/x3OSk8N6xF8Tj4jsJ7IWd3p0dndxzbzJGY5GcGPAw2Q5HJGODz0rraKKOlh9bhRRXNeN/GEfhPSY/s8P27WL5/s+mach+e5mPQeyjqzdAPqKAMSGKLXvjzfT+Wlxa6FoqWcm9QVW4nl8zAz3EaL9N1dv8A2bY/8+dv/wB+l/wrC8B+F5/C/h549SuVu9Wv7h73UrlRgSTyHLbf9kABR7KOnSumoArf2bY/8+dv/wB+l/wo/s2x/wCfO3/79L/hVmigCt/Ztj/z52//AH6X/Cj+zbH/AJ87f/v0v+FWaKAPlSx/Zm8Ua/4gvbzWLu00SymupHQE+dKVLEghFO0cerAj0r1jwt+zx4E8ObJbuyk1u5XrJqLb0z7RjC4+oP1r1OigDz3wTHD4Z+JHivwusUdtDeSR6zp8aKFVo3RYpQoHA2vGBj0YV6FXKeOfCt1rsFnqegXCWXiLSJDNp9w4yjZGHhk9Y3HB9OD2p/g7xvaeKY5bO4hfTNdssLf6TcHEsDeo/voeoccEEUAdRXBfG1Wb4P6yqPsYm3AfGdp+0R813tY3ibwpo/jDTBp3iGCa5s925oUupYVcjpu8tl3AEZwcjPNHYqLtJMyJ/D2s+I9T0h/Ey6fDZ6RcreRJZzPI11MqlUZgyL5ajcW2gvk4+bjmHwtoPibTPH3iTVtVh0kadrMkUiC2vJHliMabBkNEoO4DJ5GPeuusLGHTbCGztjMYoV2oZ53mfHu7ksfxJqxT2en9bf5Ijor/ANf1c8/j8K+MvDniC/Pg3UtHbRdTunu5bfVIpWezlflzFsI3qTk7WI571Z1jwfrEPirTPFHhq9t5tUtrQ2F5DqLMsd5CW3Z3ICUYNkghSOcYxXb0Ulpby/4b8h738/6/M4vRfDfiHSvFHifXpZdMnk1dYGgtFMiBXji2hWkwcDPcIemcDOBgaT8Mtam+FcnhXXbqysr23vTfWF/p0zzeXL5plViromME44zkelep0Uf19w7v+vSxzPhm18ZF1k8Z3uknyQVji0mOQCU9N8jOfT+EDGTnJwKh8B+HNX8LWN3puoT2c1kt5PNaNBu8x1lkMn7zIAUjcRgZz1yOldZRR1uT0sFFFYvijxZpPhDSvtuszld7bILeJd81zIekcaDlmJxx+eBQM5r4uONS0DTvCMHzXfiS/htgg6rCjiWaT6Kic/7wpPFHwQ8B+K9z3WipYXLf8vOnYgf6kAbSfcqan8GaBqt9rU3jTxlEIdWuovJstPzuXTLbOdme8jcF2/AYHFdzQB8s+Kf2VtZsxJP4S1eDUoxyttdjyZcegblWPudtfQXgvQE03wFoFjqenwx3trpltDcIyKxWRYlDAkZB5B5rpKKAK39m2P8Az52//fpf8KP7Nsf+fO3/AO/S/wCFWaKAK39m2P8Az52//fpf8KP7Nsf+fO3/AO/S/wCFWaKAK39m2P8Az52//fpf8KP7Nsf+fO3/AO/S/wCFWaKAK39m2P8Az52//fpf8KP7Nsf+fO3/AO/S/wCFWaKAK39m2P8Az52//fpf8KP7Nsf+fO3/AO/S/wCFWaKAK39m2P8Az52//fpf8KP7Nsf+fO3/AO/S/wCFWaKAK39m2P8Az52//fpf8KP7Nsf+fO3/AO/S/wCFWaKAK39m2P8Az52//fpf8KP7Nsf+fO3/AO/S/wCFWaKAK39m2P8Az52//fpf8KP7Nsf+fO3/AO/S/wCFWaKAK39m2P8Az52//fpf8KP7Nsf+fO3/AO/S/wCFWaKAK39m2P8Az52//fpf8KP7Nsf+fO3/AO/S/wCFWaKAK39m2P8Az52//fpf8KP7Nsf+fO3/AO/S/wCFWaKAK39m2P8Az52//fpf8KP7Nsf+fO3/AO/S/wCFWaKAK39m2P8Az52//fpf8KP7Nsf+fO3/AO/S/wCFWaKAK39m2P8Az52//fpf8KP7Nsf+fO3/AO/S/wCFWaKAK39m2P8Az52//fpf8KP7Nsf+fO3/AO/S/wCFWaKAK39m2P8Az52//fpf8KP7Nsf+fO3/AO/S/wCFWaKAK39m2P8Az52//fpf8KP7Nsf+fO3/AO/S/wCFWaKAK39m2P8Az52//fpf8KP7Nsf+fO3/AO/S/wCFWaKAK39m2P8Az52//fpf8KP7Nsf+fO3/AO/S/wCFWaKAK39m2P8Az52//fpf8KP7Nsf+fO3/AO/S/wCFWaKAK39m2P8Az52//fpf8KP7Nsf+fO3/AO/S/wCFWaKAK39m2P8Az52//fpf8KP7Nsf+fO3/AO/S/wCFWaKAK39m2P8Az52//fpf8KP7Nsf+fO3/AO/S/wCFWaKAK39m2P8Az52//fpf8KP7Nsf+fO3/AO/S/wCFWaKAK39m2P8Az52//fpf8KP7Nsf+fO3/AO/S/wCFWaKAK39m2P8Az52//fpf8KP7Nsf+fO3/AO/S/wCFWaKAPPfiDb2+h+IPBviVIY4LfT9VNvdSIgURx3EbRbm/2Q5Qe2RXoVZviPQrTxP4bv8ARdRBNtfQNC5HVcjhh7g4I9xXM+AvE179on8H+LnVPEelIMSdF1G36JcJnrnGGHZvrgAHcUUUUAcBJ4T8R662jR+J00hZNIvI7qPVbSeRrlwjZ2BWjAXcMBjvIPPy8jF+Lwrqdv8AEbWNXils5NJ1q0giuo5d3nI0QZcKANpDBzyTkehrsKKOlv67Du/69bnnnhzwr458OJF4fg1rSp/DVv8AJb3MsMn2+KHtGMEISBwHPTrg9KrTHWI/j5qkuhR2dw6+H7YPb3k7wq4M8uCJFVyCMHjac57V6ZXPQ+BtCt/Fj+JYobwatICrznUbhgy5J2FDJs2AnIXG0dgMU03zJvz/ACsS0rO3l+dx3hbw4+iPqd9fSxzanq919qu3iBCKQoREXPO1VUDJ5JyeM4G/RRSGFcD8UcalJ4X8NxYkm1TW4JHi9beA+bKx9gFUfVhXZ6pqlloml3Gparcx2tnbIZJZpDgKB/np3NcV4GtL/wAT+Ip/iBrcDWqXNv8AZdFsZB80FoW3ea/o8hAPsuBk0Adv/Ztj/wA+dv8A9+l/wo/s2x/587f/AL9L/hVmigCt/Ztj/wA+dv8A9+l/wo/s2x/587f/AL9L/hVmigCt/Ztj/wA+dv8A9+l/wrwD4pfA/wASePPipNfaPHZWGlfZok+0zyBQWA+YKigsT9QB719EUUAeJ+Fv2YPCek+XN4iurrXLheShPkQ5/wB1TuP4tg+lb+vaFpPgrx34G1LR9NtdM0wXFxplx9lhVBuuIx5W7A5y8YGT3avTaxvF3hu38XeFL7RLqRoVuo8JMn3oZAQyOPdWAP4UAbNFcb4D8W3WqfafD/idY7bxRpOEvIgcLcp/DcR+qMMH2PBxxXZUAVtTiubjSbuGwlEN1JC6wyMSAjlSFPHocVyVr4Y1rU/Feja74jt9Js7zSUkU3GmTSSPeb0K7W3IuxATu25fkDkc57aijZ3DpY4LTfAN4NO8U6DrM1pNoetXdzcRmHd548/khsjaNpzgjOeOmMFB4Q8Q6p4Ug8JeJbiwn0uHyo5b+CR/PvIo2BCNEVCoWCgMwdu/HPHfUULT8Pw2Drf1/Hc8z1T+1Y/2gVk0NLSaVPDADW93K0SSL9pP8aqxUg4/hPpx1rq/DPhyXSr/VtX1KSKTVdYmSW58nPlxKiBI41JAJAA+8QMkk4HQDeBtBbxcPE5hvP7XC7Bcf2jcY2Zzs2eZs2Z52Y257V0NNaRS66/i7jk7yb6afgkv0/qwUUVn67rmneG9EudW1q5S2s7VC8kjH8gB3J6ADkmkI5L4gn+1PF3gnQIPmmOrDVJlH8ENsjHcfQF2QD1Nd7XCeAdL1PUtWvvHPiaA2t/qsKQWNiw+axslJZUb/AG2J3MOxwOOg7ugAooooAKKKKAOI8UeB7v8AthvFHgW5j0vxEABOkgP2bUkH8E6jv6OOR+WE0P4n2NxqiaJ4tspvC+utwtpfsPKuD6wzD5ZB+R9q7iqGs6FpXiLT2sdd0+31C1Y5MVxGHAPqM9D7jmgC/RXnsnwy1DR+fAHjDVNCQdLK6xf2oHoqSncn1DUiy/FzSuJbbwvr8Q6GKWW0mb65DJ+VAHodFcInivx+n/Hz8Nt3qbbXYGz/AN9haR/FXxCfi2+G8aejXOvQrj8EVv50Ad5SEhVJYgADJJ7V56y/F3Vej+F/D8LeglvJ1/PalPi+Fh1UiTx/4m1TxO3e1L/ZLP2/cRYB/EmgBdU+J631/No/w605vE+qxnbJNE22ytT6yzdDjrtXJOCODV/wj4FOkX0mv+JLz+2fE90m2a+dcJAv/PKBf4EH5t1PoOm03TLHR7COx0mzgsrWIYSG3jCIv0Aq1QAUUUUAFFFFABRRRQAUUUUAFc34r8DaX4s8i4nM1jqtpzZ6pZP5dxbn2buvqpyDk10lFAHng8ReN/B37rxXoreJdOTpq+ixjzwvrLbE5z3JQke1dP4b8aeHvF0LSeH9Vgu2T/WQg7ZYv96NsMv4ityud17wD4X8TXAudZ0a3mux0u4wYpx9JUIb9aAOiorgn+H3iDTP+RS8f6vZp/z76pGmoxgegL4cD/gRoRfivYfefwrrMa+vn2krflvX+VAHe0VxA8TfEBP9b8Pbd/eHXozn/vqNaP8AhLfGw4Pw1us+o1i02/8AoWf0oA7eiuI/4Sfx83+r+Hca/wDXbXoV/wDQUao3uPirf821j4W0aNu1xcT3ci/98qi/rQB3dZut+ItH8NWBvdf1K20+3HR7iQLuPoB1J9hzXJJ4I8Y6mSPEvxDvFhPJt9Fs47PH/bU7n/lWppHwz8J6PeLfR6Ut5fqc/bdQka6mz6h5CSD9MUAY58eeIfFQ8v4d+HJTbPwNa1pWt7YD+8kf+slH4KK1PDXw/t9J1Q67r19L4g8ROu1tRu1AEI/uQxj5Yl68Dnk5NdfRQAUUUUAFFFFABRRRQAUUUUAFFFFABRRRQAUUUUAFFFFABRRRQAUUUUAFFFFABRRRQAUUUUAFFFFABRRRQAUUUUAFFFFABRRRQAUUUUAFFFFABRRRQAUUUUAFFFFABRRRQAUUUUAFFFFABRRRQAUUUUAFFFFABXO+L/BeneMLKIXTS2moWjeZY6latsntJP7yt6eqng/kR0VFAHm9t4+1jwY8en/FKxaOEN5cXiOzjL2k/OAZVHMLHjgjbnOMCvQrS8tr+0jurG4iubeVd0c0Lh0ceoI4IqSWKOeF4p41kjdSro65DA9QQeorhrv4TaRBM934PvtQ8J3jHcTpU22Bz/twNmMj2AFAHd0V52un/FzSeLfW/DfiGMdTfWklpKw9vLJUH8KnTxP8R4uLr4d2s+Or22vRjP0DoP50Ad7RXCv4t8eMP3Hw0kDf9N9ctkH/AI7u/lVd9Q+LWpfLZ6F4a0Re7319LdMPoI1UZ+tAHoVcp4p+IuieGLpNOJm1PWpv9RpOnJ51w591H3B3y2OPWsdPAPivWj/xWfj29ltj1stFhWxQ+oaQZdh7ZFdT4c8HeH/CULx+HtKgsjJ/rJVBaSX/AHpGyzfiTQByun+EdZ8Z6rDrnxKhjhtrd/M0/wAORyCSGA9pJ2HEsnoPuj8a9EoooAKKKKACiiigAooooAKKKKAOZ8YeCbPxXHBcxzyaZrVkd1hqttxNbt6f7SHuh4IJ+tc/Z/EbUPC80WmfFPTv7MkLCOLXLYF7C5PQEt1hY+jcdTkCvRqjubaC8tpLe7hjnglUrJFKgZXB6gg8EUAEE8N1bpPbSpNDIoZJI2DKwPQgjqKkrgrj4T6fZSNceCNW1Lwnck7tlhLvtmb1a3fKH6DFQLafF3SeIdT8M+IYl6m6t5bOZvps3ID9aAPRKK4JPFHxFi4ufh1by+rW2vRc/g6D+dPfxZ49b/j3+Gjg/wDTxrlsg/8AHd1AHdUV56978W9TOLXSPDOhJ3a7u5btx9AiqM/Wkj+HniPWv+R48dahewH/AJcdJjFhER3VmTLuPxFAGp4m+JOj6BqA0iyjn1zXnH7vSdNXzJR7ueka+pY9OcGs7RfBureItZh8SfEnynuIH36docL77bT/AEdj0ll/2ug7dsdT4e8K6F4Us2tvDul29hG5y5iT5pD6sx+Zj7kmtegAooooAKKKKACiiigAooooAKKKKACiiigAooooAKKKKACiiigAooooAKKKKACiiigAooooAKKKKACiiigAooooAKKKKACiiigAooooAKKKKACiiigAooooAKKKKACiiigAooooAKKKKACiiigAooooAKKKKACiiigAooooAKKKKACiiigAooooAKKKKACiiigAooooAKKKKACiiigAooooAKKKKACiiigAooooAKKKKACiiigAooooAKKKKACiiigAooooAKKKKACiiigAooooAKKKKACiiigAooooAKKKKACiiigAooooAKKKKACiiigAooooAKKKKACiiigAooooAKKKKAP/2Q==)"
      ]
    },
    {
      "cell_type": "markdown",
      "metadata": {
        "id": "4v5nViE-sJrz"
      },
      "source": [
        "Antes de aplicar estos pasos a nuestro problema de clasificación de imágenes, ilustremos cómo se desarrollarían en un caso más simple. Primero definiremos una función muy simple, la cuadrática; supongamos que esta es nuestra función de pérdida, y `x` es un parámetro de ponderación de la función:"
      ]
    },
    {
      "cell_type": "code",
      "metadata": {
        "id": "noToB_YfoJYO"
      },
      "source": [
        "def f(x): return x**2"
      ],
      "execution_count": null,
      "outputs": []
    },
    {
      "cell_type": "markdown",
      "metadata": {
        "id": "1_8hUlLpsZ0o"
      },
      "source": [
        "Este sería el gráfico de esta función:"
      ]
    },
    {
      "cell_type": "code",
      "metadata": {
        "id": "b9rfbyHLpALK"
      },
      "source": [
        "x = np.linspace(-2, 2, 100)"
      ],
      "execution_count": null,
      "outputs": []
    },
    {
      "cell_type": "code",
      "metadata": {
        "colab": {
          "base_uri": "https://localhost:8080/",
          "height": 282
        },
        "id": "sU11f9KooJa2",
        "outputId": "ae075ed6-1652-4aed-cab8-08724be75244"
      },
      "source": [
        "plt.plot(x, f(x))"
      ],
      "execution_count": null,
      "outputs": [
        {
          "output_type": "execute_result",
          "data": {
            "text/plain": [
              "[<matplotlib.lines.Line2D at 0x7efdb9368b50>]"
            ]
          },
          "metadata": {
            "tags": []
          },
          "execution_count": 33
        },
        {
          "output_type": "display_data",
          "data": {
            "image/png": "[encoded data removed]",
            "text/plain": [
              "<Figure size 432x288 with 1 Axes>"
            ]
          },
          "metadata": {
            "tags": [],
            "needs_background": "light"
          }
        }
      ]
    },
    {
      "cell_type": "markdown",
      "metadata": {
        "id": "BfGg9ugzsdrP"
      },
      "source": [
        "La secuencia de pasos que definimos más arriba requiere iniciar eligiendo algún valor al azar de los parámetros y calcular el valor de pérdida:"
      ]
    },
    {
      "cell_type": "code",
      "metadata": {
        "colab": {
          "base_uri": "https://localhost:8080/",
          "height": 265
        },
        "id": "0vOZZAHmoJdn",
        "outputId": "b603835e-fd3c-41e5-d9b5-a6970589fe3c"
      },
      "source": [
        "plt.plot(x, f(x))\n",
        "plt.scatter(-1.5, f(-1.5), color='red');"
      ],
      "execution_count": null,
      "outputs": [
        {
          "output_type": "display_data",
          "data": {
            "image/png": "[encoded data removed]",
            "text/plain": [
              "<Figure size 432x288 with 1 Axes>"
            ]
          },
          "metadata": {
            "tags": [],
            "needs_background": "light"
          }
        }
      ]
    },
    {
      "cell_type": "markdown",
      "metadata": {
        "id": "OT0ZAj2cw2dX"
      },
      "source": [
        "Ahora veamos que pasaría si aumentamos o disminuimos el parámetro un poquito para ajustarlo. En este caso sería simplemente tomar la pendiente en un punto en particular:"
      ]
    },
    {
      "cell_type": "markdown",
      "metadata": {
        "id": "VIpcHBq_pnwb"
      },
      "source": [
        "![CapturaSGD1.JPG](data:image/jpeg;base64,/9j/4AAQSkZJRgABAQEAeAB4AAD/4REKRXhpZgAATU0AKgAAAAgABAE7AAIAAAAVAAAISodpAAQAAAABAAAIYJydAAEAAAAqAAAQ2OocAAcAAAgMAAAAPgAAAAAc6gAAAAgAAAAAAAAAAAAAAAAAAAAAAAAAAAAAAAAAAAAAAAAAAAAAAAAAAAAAAAAAAAAAAAAAAAAAAAAAAAAAAAAAAAAAAAAAAAAAAAAAAAAAAAAAAAAAAAAAAAAAAAAAAAAAAAAAAAAAAAAAAAAAAAAAAAAAAAAAAAAAAAAAAAAAAAAAAAAAAAAAAAAAAAAAAAAAAAAAAAAAAAAAAAAAAAAAAAAAAAAAAAAAAAAAAAAAAAAAAAAAAAAAAAAAAAAAAAAAAAAAAAAAAAAAAAAAAAAAAAAAAAAAAAAAAAAAAAAAAAAAAAAAAAAAAAAAAAAAAAAAAAAAAAAAAAAAAAAAAAAAAAAAAAAAAAAAAAAAAAAAAAAAAAAAAAAAAAAAAAAAAAAAAAAAAAAAAAAAAAAAAAAAAAAAAAAAAAAAAAAAAAAAAAAAAAAAAAAAAAAAAAAAAAAAAAAAAAAAAAAAAAAAAAAAAAAAAAAAAAAAAAAAAAAAAAAAAAAAAAAAAAAAAAAAAAAAAAAAAAAAAAAAAAAAAAAAAAAAAAAAAAAAAAAAAAAAAAAAAAAAAAAAAAAAAAAAAAAAAAAAAAAAAAAAAAAAAAAAAAAAAAAAAAAAAAAAAAAAAAAAAAAAAAAAAAAAAAAAAAAAAAAAAAAAAAAAAAAAAAAAAAAAAAAAAAAAAAAAAAAAAAAAAAAAAAAAAAAAAAAAAAAAAAAAAAAAAAAAAAAAAAAAAAAAAAAAAAAAAAAAAAAAAAAAAAAAAAAAAAAAAAAAAAAAAAAAAAAAAAAAAAAAAAAAAAAAAAAAAAAAAAAAAAAAAAAAAAAAAAAAAAAAAAAAAAAAAAAAAAAAAAAAAAAAAAAAAAAAAAAAAAAAAAAAAAAAAAAAAAAAAAAAAAAAAAAAAAAAAAAAAAAAAAAAAAAAAAAAAAAAAAAAAAAAAAAAAAAAAAAAAAAAAAAAAAAAAAAAAAAAAAAAAAAAAAAAAAAAAAAAAAAAAAAAAAAAAAAAAAAAAAAAAAAAAAAAAAAAAAAAAAAAAAAAAAAAAAAAAAAAAAAAAAAAAAAAAAAAAAAAAAAAAAAAAAAAAAAAAAAAAAAAAAAAAAAAAAAAAAAAAAAAAAAAAAAAAAAAAAAAAAAAAAAAAAAAAAAAAAAAAAAAAAAAAAAAAAAAAAAAAAAAAAAAAAAAAAAAAAAAAAAAAAAAAAAAAAAAAAAAAAAAAAAAAAAAAAAAAAAAAAAAAAAAAAAAAAAAAAAAAAAAAAAAAAAAAAAAAAAAAAAAAAAAAAAAAAAAAAAAAAAAAAAAAAAAAAAAAAAAAAAAAAAAAAAAAAAAAAAAAAAAAAAAAAAAAAAAAAAAAAAAAAAAAAAAAAAAAAAAAAAAAAAAAAAAAAAAAAAAAAAAAAAAAAAAAAAAAAAAAAAAAAAAAAAAAAAAAAAAAAAAAAAAAAAAAAAAAAAAAAAAAAAAAAAAAAAAAAAAAAAAAAAAAAAAAAAAAAAAAAAAAAAAAAAAAAAAAAAAAAAAAAAAAAAAAAAAAAAAAAAAAAAAAAAAAAAAAAAAAAAAAAAAAAAAAAAAAAAAAAAAAAAAAAAAAAAAAAAAAAAAAAAAAAAAAAAAAAAAAAAAAAAAAAAAAAAAAAAAAAAAAAAAAAAAAAAAAAAAAAAAAAAAAAAAAAAAAAAAAAAAAAAAAAAAAAAAAAAAAAAAAAAAAAAAAAAAAAAAAAAAAAAAAAAAAAAAAAAAAAAAAAAAAAAAAAAAAAAAAAAAAAAAAAAAAAAAAAAAAAAAAAAAAAAAAAAAAAAAAAAAAAAAAAAAAAAAAAAAAAAAAAAAAAAAAAAAAAAAAAAAAAAAAAAAAAAAAAAAAAAAAAAAAAAAAAAAAAAAAAAAAAAAAAAAAAAAAAAAAAAAAAAAAAAAAAAAAAAAAAAAAAAAAAAAAAAAAAAAAAAAAAAAAAAAAAAAAAAAAAAAAAAAAAAAAAAAAAAAAAAAAAAAAAAAAAAAAAAAAAAAAAAAAAAAAAAAAAAAAAAAAAAAAAAAAAAAAAAAAAAAAAAAAAAAAAAAAAAAAAAAAAAAAAAAAAAAAAAAAAAAAAAAAAAAAAAAAAAAAAAAAAAAAAAAAAAAAAAAAAAAAAAAAAAAAAAAAAAAAAAAAAAAAAAAAAAAAAAAAAAAAAAAAAAAAAAAAAAAAAAAAAAAAAAAAAAAAAAAAAAAAAAAAAAAAAAAAAAAAAAAAAAAAAAAAAAAAAAAAAAAAAAAAAAAAAAAAAAAAAAAAAAAAAAAAAAAAAAAAAAAAAAAAAAAAAAAAAAAAAAAAAAAAAAAAAAAAAAAAAAAAAAAAAAAAAAAAAAAAAAAAAAAAAAAAAAAAAAAAAAAAAAAAAAAAAAAAAAAAAAAAAAAAAAAAAAAAAAAAAAAAAAAAAAAAAAAAAAAAAAAAAAAAAAAAAAAAAAAAAAAAAAAAAAAAAAAAAAAAAAAAAAAAAAAAAAAAAAAAAAAAAAAAAAAAAAAAAAAAAAAAAAAAAAAAAAAAAAAAAAAAAAAAAAAAAAAAAAAAAAAAAAAAAAAAAAAAAAAAAAAAAAAAAAAAAAAAAAAAAAAAAAAAAAAAAAAAAAAAAAAAAAAAAAAAAAAAAAAAAAAAAAAAAAAAAAAAAAAAAAAAAAAAAAAAAAAAAAAAAAAAAAAAAAAAAAAAAAAAAAAAAAAAAAAAAAAAAAAAAAAAAAAAAAAAAAAAAAAAAAAAAAAAAAAAAAAAAAAAAAAAAAAAAAAAAAAAAAAAEFsb25zbyBBc3Ryb3phIFRhZ2xlAAAABZADAAIAAAAUAAAQrpAEAAIAAAAUAAAQwpKRAAIAAAADMzYAAJKSAAIAAAADMzYAAOocAAcAAAgMAAAIogAAAAAc6gAAAAgAAAAAAAAAAAAAAAAAAAAAAAAAAAAAAAAAAAAAAAAAAAAAAAAAAAAAAAAAAAAAAAAAAAAAAAAAAAAAAAAAAAAAAAAAAAAAAAAAAAAAAAAAAAAAAAAAAAAAAAAAAAAAAAAAAAAAAAAAAAAAAAAAAAAAAAAAAAAAAAAAAAAAAAAAAAAAAAAAAAAAAAAAAAAAAAAAAAAAAAAAAAAAAAAAAAAAAAAAAAAAAAAAAAAAAAAAAAAAAAAAAAAAAAAAAAAAAAAAAAAAAAAAAAAAAAAAAAAAAAAAAAAAAAAAAAAAAAAAAAAAAAAAAAAAAAAAAAAAAAAAAAAAAAAAAAAAAAAAAAAAAAAAAAAAAAAAAAAAAAAAAAAAAAAAAAAAAAAAAAAAAAAAAAAAAAAAAAAAAAAAAAAAAAAAAAAAAAAAAAAAAAAAAAAAAAAAAAAAAAAAAAAAAAAAAAAAAAAAAAAAAAAAAAAAAAAAAAAAAAAAAAAAAAAAAAAAAAAAAAAAAAAAAAAAAAAAAAAAAAAAAAAAAAAAAAAAAAAAAAAAAAAAAAAAAAAAAAAAAAAAAAAAAAAAAAAAAAAAAAAAAAAAAAAAAAAAAAAAAAAAAAAAAAAAAAAAAAAAAAAAAAAAAAAAAAAAAAAAAAAAAAAAAAAAAAAAAAAAAAAAAAAAAAAAAAAAAAAAAAAAAAAAAAAAAAAAAAAAAAAAAAAAAAAAAAAAAAAAAAAAAAAAAAAAAAAAAAAAAAAAAAAAAAAAAAAAAAAAAAAAAAAAAAAAAAAAAAAAAAAAAAAAAAAAAAAAAAAAAAAAAAAAAAAAAAAAAAAAAAAAAAAAAAAAAAAAAAAAAAAAAAAAAAAAAAAAAAAAAAAAAAAAAAAAAAAAAAAAAAAAAAAAAAAAAAAAAAAAAAAAAAAAAAAAAAAAAAAAAAAAAAAAAAAAAAAAAAAAAAAAAAAAAAAAAAAAAAAAAAAAAAAAAAAAAAAAAAAAAAAAAAAAAAAAAAAAAAAAAAAAAAAAAAAAAAAAAAAAAAAAAAAAAAAAAAAAAAAAAAAAAAAAAAAAAAAAAAAAAAAAAAAAAAAAAAAAAAAAAAAAAAAAAAAAAAAAAAAAAAAAAAAAAAAAAAAAAAAAAAAAAAAAAAAAAAAAAAAAAAAAAAAAAAAAAAAAAAAAAAAAAAAAAAAAAAAAAAAAAAAAAAAAAAAAAAAAAAAAAAAAAAAAAAAAAAAAAAAAAAAAAAAAAAAAAAAAAAAAAAAAAAAAAAAAAAAAAAAAAAAAAAAAAAAAAAAAAAAAAAAAAAAAAAAAAAAAAAAAAAAAAAAAAAAAAAAAAAAAAAAAAAAAAAAAAAAAAAAAAAAAAAAAAAAAAAAAAAAAAAAAAAAAAAAAAAAAAAAAAAAAAAAAAAAAAAAAAAAAAAAAAAAAAAAAAAAAAAAAAAAAAAAAAAAAAAAAAAAAAAAAAAAAAAAAAAAAAAAAAAAAAAAAAAAAAAAAAAAAAAAAAAAAAAAAAAAAAAAAAAAAAAAAAAAAAAAAAAAAAAAAAAAAAAAAAAAAAAAAAAAAAAAAAAAAAAAAAAAAAAAAAAAAAAAAAAAAAAAAAAAAAAAAAAAAAAAAAAAAAAAAAAAAAAAAAAAAAAAAAAAAAAAAAAAAAAAAAAAAAAAAAAAAAAAAAAAAAAAAAAAAAAAAAAAAAAAAAAAAAAAAAAAAAAAAAAAAAAAAAAAAAAAAAAAAAAAAAAAAAAAAAAAAAAAAAAAAAAAAAAAAAAAAAAAAAAAAAAAAAAAAAAAAAAAAAAAAAAAAAAAAAAAAAAAAAAAAAAAAAAAAAAAAAAAAAAAAAAAAAAAAAAAAAAAAAAAAAAAAAAAAAAAAAAAAAAAAAAAAAAAAAAAAAAAAAAAAAAAAAAAAAAAAAAAAAAAAAAAAAAAAAAAAAAAAAAAAAAAAAAAAAAAAAAAAAAAAAAAAAAAAAAAAAAAAAAAAAAAAAAAAAAAAAAAAAAAAAAAAAAAAAAAAAAAAAAAAAAAAAAAAAAAAAAAAAAAAAAAAAAAAAAAAAAAAAAAAAAAAAAAAAAAAAAAAAAAAAAAAAAAAAAAAAAAAAAAAAAAAAAAAAAAAAAAAAAAAAAAAAAAAAAAAAAAAAAAAAAAAAAAAAAAAAAAAAAAAAAAAAAAAAAAAAAAAAAAAAAAAAAAAAAAAAAAAAAAAAAAAAAAAAAAAAAAAAAAAAAAAAAAAAAAAAAAAAAAAAAAAAAAAAAAAAAAAAAAAAAAAAAAAAAAAAAAAAAAAAAAAAAAAAAAAAAAAAAAAAAAAAAAAAAAAAAAAAAAAAAAAAAAAAAAAAAAAAAAAAAAAAAAAAAAAAAAAAAAAAAAAAAAAAAAAAAAAAAAAAAAAAAAAAAAAAAAAAAAAAAAAAAAAAAAAAAAAAAAAAAAAAAAAAAAAAAAAAAAAAAAAAAAAAAAAAAAAAAAAAAAAAAAAAAAAAAAAAAAAAAAAAAAAAAAAAAAAAAAAAAAAAAAAAAAAAAAAAAAAAAAAAAAAAAAAAAAAAAAAAAAAAAAAAAAAAAAAAAAAAAAAAAAAAAAAAAAAAAAAAAAAAAAAAAAAAAAAAAAAAAAAAAAAAAAAAAAAAAAAAAAAAAAAAAAAAAAAAAAAAAAAAAAAAAAAAAAAAAAAAAAAAAAAAAAAAAAAAAAAAAAAAAAAAAAAAAAAAAAAAAAAAAAAAAAAAAAAAAAAAAAAAAAAAAAAAAAAAAAAAAAAAAAAAAAAAAAAAAAAAAAAADIwMjE6MDQ6MTAgMDc6NTg6NTEAMjAyMTowNDoxMCAwNzo1ODo1MQAAAEEAbABvAG4AcwBvACAAQQBzAHQAcgBvAHoAYQAgAFQAYQBnAGwAZQAAAP/hCydodHRwOi8vbnMuYWRvYmUuY29tL3hhcC8xLjAvADw/eHBhY2tldCBiZWdpbj0n77u/JyBpZD0nVzVNME1wQ2VoaUh6cmVTek5UY3prYzlkJz8+DQo8eDp4bXBtZXRhIHhtbG5zOng9ImFkb2JlOm5zOm1ldGEvIj48cmRmOlJERiB4bWxuczpyZGY9Imh0dHA6Ly93d3cudzMub3JnLzE5OTkvMDIvMjItcmRmLXN5bnRheC1ucyMiPjxyZGY6RGVzY3JpcHRpb24gcmRmOmFib3V0PSJ1dWlkOmZhZjViZGQ1LWJhM2QtMTFkYS1hZDMxLWQzM2Q3NTE4MmYxYiIgeG1sbnM6ZGM9Imh0dHA6Ly9wdXJsLm9yZy9kYy9lbGVtZW50cy8xLjEvIi8+PHJkZjpEZXNjcmlwdGlvbiByZGY6YWJvdXQ9InV1aWQ6ZmFmNWJkZDUtYmEzZC0xMWRhLWFkMzEtZDMzZDc1MTgyZjFiIiB4bWxuczp4bXA9Imh0dHA6Ly9ucy5hZG9iZS5jb20veGFwLzEuMC8iPjx4bXA6Q3JlYXRlRGF0ZT4yMDIxLTA0LTEwVDA3OjU4OjUxLjM2MTwveG1wOkNyZWF0ZURhdGU+PC9yZGY6RGVzY3JpcHRpb24+PHJkZjpEZXNjcmlwdGlvbiByZGY6YWJvdXQ9InV1aWQ6ZmFmNWJkZDUtYmEzZC0xMWRhLWFkMzEtZDMzZDc1MTgyZjFiIiB4bWxuczpkYz0iaHR0cDovL3B1cmwub3JnL2RjL2VsZW1lbnRzLzEuMS8iPjxkYzpjcmVhdG9yPjxyZGY6U2VxIHhtbG5zOnJkZj0iaHR0cDovL3d3dy53My5vcmcvMTk5OS8wMi8yMi1yZGYtc3ludGF4LW5zIyI+PHJkZjpsaT5BbG9uc28gQXN0cm96YSBUYWdsZTwvcmRmOmxpPjwvcmRmOlNlcT4NCgkJCTwvZGM6Y3JlYXRvcj48L3JkZjpEZXNjcmlwdGlvbj48L3JkZjpSREY+PC94OnhtcG1ldGE+DQogICAgICAgICAgICAgICAgICAgICAgICAgICAgICAgICAgICAgICAgICAgICAgICAgICAgICAgICAgICAgICAgICAgICAgICAgICAgICAgICAgICAgICAgICAgICAgICAgICAgCiAgICAgICAgICAgICAgICAgICAgICAgICAgICAgICAgICAgICAgICAgICAgICAgICAgICAgICAgICAgICAgICAgICAgICAgICAgICAgICAgICAgICAgICAgICAgICAgICAgICAKICAgICAgICAgICAgICAgICAgICAgICAgICAgICAgICAgICAgICAgICAgICAgICAgICAgICAgICAgICAgICAgICAgICAgICAgICAgICAgICAgICAgICAgICAgICAgICAgICAgIAogICAgICAgICAgICAgICAgICAgICAgICAgICAgICAgICAgICAgICAgICAgICAgICAgICAgICAgICAgICAgICAgICAgICAgICAgICAgICAgICAgICAgICAgICAgICAgICAgICAgCiAgICAgICAgICAgICAgICAgICAgICAgICAgICAgICAgICAgICAgICAgICAgICAgICAgICAgICAgICAgICAgICAgICAgICAgICAgICAgICAgICAgICAgICAgICAgICAgICAgICAKICAgICAgICAgICAgICAgICAgICAgICAgICAgICAgICAgICAgICAgICAgICAgICAgICAgICAgICAgICAgICAgICAgICAgICAgICAgICAgICAgICAgICAgICAgICAgICAgICAgIAogICAgICAgICAgICAgICAgICAgICAgICAgICAgICAgICAgICAgICAgICAgICAgICAgICAgICAgICAgICAgICAgICAgICAgICAgICAgICAgICAgICAgICAgICAgICAgICAgICAgCiAgICAgICAgICAgICAgICAgICAgICAgICAgICAgICAgICAgICAgICAgICAgICAgICAgICAgICAgICAgICAgICAgICAgICAgICAgICAgICAgICAgICAgICAgICAgICAgICAgICAKICAgICAgICAgICAgICAgICAgICAgICAgICAgICAgICAgICAgICAgICAgICAgICAgICAgICAgICAgICAgICAgICAgICAgICAgICAgICAgICAgICAgICAgICAgICAgICAgICAgIAogICAgICAgICAgICAgICAgICAgICAgICAgICAgICAgICAgICAgICAgICAgICAgICAgICAgICAgICAgICAgICAgICAgICAgICAgICAgICAgICAgICAgICAgICAgICAgICAgICAgCiAgICAgICAgICAgICAgICAgICAgICAgICAgICAgICAgICAgICAgICAgICAgICAgICAgICAgICAgICAgICAgICAgICAgICAgICAgICAgICAgICAgICAgICAgICAgICAgICAgICAKICAgICAgICAgICAgICAgICAgICAgICAgICAgICAgICAgICAgICAgICAgICAgICAgICAgICAgICAgICAgICAgICAgICAgICAgICAgICAgICAgICAgICAgICAgICAgICAgICAgIAogICAgICAgICAgICAgICAgICAgICAgICAgICAgICAgICAgICAgICAgICAgICAgICAgICAgICAgICAgICAgICAgICAgICAgICAgICAgICAgICAgICAgICAgICAgICAgICAgICAgCiAgICAgICAgICAgICAgICAgICAgICAgICAgICAgICAgICAgICAgICAgICAgICAgICAgICAgICAgICAgICAgICAgICAgICAgICAgICAgICAgICAgICAgICAgICAgICAgICAgICAKICAgICAgICAgICAgICAgICAgICAgICAgICAgICAgICAgICAgICAgICAgICAgICAgICAgICAgICAgICAgICAgICAgICAgICAgICAgICAgICAgICAgICAgICAgICAgICAgICAgIAogICAgICAgICAgICAgICAgICAgICAgICAgICAgICAgICAgICAgICAgICAgICAgICAgICAgICAgICAgICAgICAgICAgICAgICAgICAgICAgICAgICAgICAgICAgICAgICAgICAgCiAgICAgICAgICAgICAgICAgICAgICAgICAgICAgICAgICAgICAgICAgICAgICAgICAgICAgICAgICAgICAgICAgICAgICAgICAgICAgICAgICAgICAgICAgICAgICAgICAgICAKICAgICAgICAgICAgICAgICAgICAgICAgICAgICAgICAgICAgICAgICAgICAgICAgICAgICAgICAgICAgICAgICAgICAgICAgICAgICAgICAgICAgICAgICAgICAgICAgICAgIAogICAgICAgICAgICAgICAgICAgICAgICAgICAgICAgICAgICAgICAgICAgICAgICAgICAgICAgICAgICAgICAgICAgICAgICAgICAgICAgICAgICAgICAgICAgICAgICAgICAgCiAgICAgICAgICAgICAgICAgICAgICAgICAgICAgICAgICAgICAgICAgICAgICAgICAgICAgICAgICAgICAgICAgICAgICAgICAgICAgICAgICAgICAgICAgICAgICAgICAgICAKICAgICAgICAgICAgICAgICAgICAgICAgICAgIDw/eHBhY2tldCBlbmQ9J3cnPz7/2wBDAAcFBQYFBAcGBQYIBwcIChELCgkJChUPEAwRGBUaGRgVGBcbHichGx0lHRcYIi4iJSgpKywrGiAvMy8qMicqKyr/2wBDAQcICAoJChQLCxQqHBgcKioqKioqKioqKioqKioqKioqKioqKioqKioqKioqKioqKioqKioqKioqKioqKioqKir/wAARCAGNAf8DASIAAhEBAxEB/8QAHwAAAQUBAQEBAQEAAAAAAAAAAAECAwQFBgcICQoL/8QAtRAAAgEDAwIEAwUFBAQAAAF9AQIDAAQRBRIhMUEGE1FhByJxFDKBkaEII0KxwRVS0fAkM2JyggkKFhcYGRolJicoKSo0NTY3ODk6Q0RFRkdISUpTVFVWV1hZWmNkZWZnaGlqc3R1dnd4eXqDhIWGh4iJipKTlJWWl5iZmqKjpKWmp6ipqrKztLW2t7i5usLDxMXGx8jJytLT1NXW19jZ2uHi4+Tl5ufo6erx8vP09fb3+Pn6/8QAHwEAAwEBAQEBAQEBAQAAAAAAAAECAwQFBgcICQoL/8QAtREAAgECBAQDBAcFBAQAAQJ3AAECAxEEBSExBhJBUQdhcRMiMoEIFEKRobHBCSMzUvAVYnLRChYkNOEl8RcYGRomJygpKjU2Nzg5OkNERUZHSElKU1RVVldYWVpjZGVmZ2hpanN0dXZ3eHl6goOEhYaHiImKkpOUlZaXmJmaoqOkpaanqKmqsrO0tba3uLm6wsPExcbHyMnK0tPU1dbX2Nna4uPk5ebn6Onq8vP09fb3+Pn6/9oADAMBAAIRAxEAPwD6RooooAKKKKACiqUWs6ZPq0ulwahay6hCnmS2qTK0ka8csoOQOR19au0AFFFFABRRRQAUUUUAFFFFABRRRQAUUUUAFFFFABRRRQAUUUUAFFFFABRRRQAUUUUAFFFFABRRRQAUUUUAFFFFABRRRQAUUUUAFFFFABRRRQAUUUUAFFFFABRRRQAUUUUAFFFFABRRRQAUUUUAFFFFABRRRQAUUUUAFFFFAHH3EkcHxjjmmZURPDsrO54AAuEJJp3/AAnX/FHDxZ/Z/wDxIyvn+YJj5wt8487y9uOnzbd2dvv8tOvvD+qX3xAbUZoLJtIk0qTTpP8ASnE53uGLbfLx0GPve9ZreDtZf4bDwKz232UWwsP7S807jbDC58vb/rNnGM7c85/hoA0rjxwj3msWWjxWd5f6aoKWUt75U10TEJBsXYflO4ANzk56Y5dd+NlGqa1pemQWtzqWkhf9BmvPKmuSYlkHlptYlSGCg92DDAxk5OseAjrVjqFjqWjaVeD/AFWkXrttnsoxGoXLhNwKsCw2nnPOOtO1fwPca7a6haa/p2matI3yabqUzbbi1Xy1AJYJuVg4Zsoe/brQB31FQ2kL29lBDLM07xxqjSt1cgYLH3PWpqACiiigAooooAKKKKACiiigAooooAKKKKACiiigAooooAKKKKACiiigAooooAKKKKACiiigAooooAKKKKACiiigAooooAKKKKACiiigAooooAKKKKACiiigAooooAKKKKACiiigAooooAKKKKACiiigAooooAKgu7yCwtzPdyCOMHHQksT0AA5JPYDk1PRjOM9ulAGTofiG31uFsRPa3KtIDbTEb8I5QsMcEZHUZweK1qxfCf8AyAf+3u7/APSiStqgAooooAKKKKACiiigAooooAKqaZfjUrBbgRmI73jZGOSrI5Rh+amrdYui/wCjavrVj2W5W5jGOiSoCf8Ax9ZK1jFShJ9VZ/Lb9ULqbVFFFZDCiiigAooooAKKKKACiiigAooooAKKKKACiiigAooooAKKKKACiiigAooooAKKKKACiiigAooooAKqarfrpelz3jRmXylysanBdjwF/EkCrdYviD/SLjSdP6/aL5JHGP4YgZcn23Ig/EVrRipVEpbdfRav8BPY2qKKKyGFFFFABRRRQAUUUUAFFFFABRRRQAUUUUAFFFFABRRRQAUUUUAYvhP/AJAH/b3df+lElbVYvhP/AJAH/b3df+lElbVABRRRQAUUUUAFFFFABRRRQAViz/6L41tJcHbfWckDH/ajYOg/J5fyrarF8T/uLWy1AdbG+ilJ9FY+U5/BJGP4Vvh9Z8ve6+/b8bCextUUUVgMKKKKACiiigAooooAKKKKACiiigAooooAKKKKACiiigAooooAKKKKACiiigAooooAKKKKACiiigArFH+leOCcZXT7DAPbdM/8wIR/3171tVi+Hf8ASJtW1D/n6v3VD/sxAQ/lujY/8CrelpGc/K33/wDAuJm1RRRWAwooooAKKKKACiiigAooooAKKKKACiiigAooooAKKKKACiiigDF8J/8AIA/7e7r/ANKJK2qxfCf/ACAP+3u6/wDSiStqgAooooAKKKKACiiigAooooAKp6vYDVNFvbBjgXUDxZ9NykZ/WrlFVGTjJSW6Ao6JfNqeg2N64w88CO6/3WI+Yfgcir1Y3hz9wNS0/gfY76QKB/dkxMPw/eY/CtmtK0VGo0tuno9vwEtgooorEYUUUUAFFFFABRRRQAUUUUAFFFFABRRRQAUUUUAFFFFABRRRQAUUUUAFFFFABRRRQAUUUUAVtSvU03Sru+l+5bQvM2T2VSf6VX0CyfTvDthaTf66OBRKfVyMsfxYk1W8UfvtOt7DqdQu4rcg903b5B/37R62q3fu0Uu7/Lb82LqFFFFYDCiiigAooooAKKKKACiiigAooooAKKKKACiiigAooooAKKKKAMXwn/yAP+3u6/8ASiStqsXwn/yAP+3u6/8ASiStqgAooooAKKKKACiiigAooooAKKKKAMVT9k8buvRdQsQ4543wvg/iRMv/AHz7GtqsXxD/AKNNpWog4FtfIknukoMWPpudD/wGtqt6usYz8rfd/wACwkFFFFYDCiiigAooooAKKKKACiiigAooooAKKKKACiiigAooooAKKKKACiiigAooooAKKKKACiiigDFuT9q8ZWUHJWxtZLluejufLT9BLW1WLohN1qus35OVe5FtF/uRLg/+RDLW1W9fRqHZL/N/ixIKKKKwGFFFFABRRRQAUUUUAFFFFABRRRQAUUUUAFFFFABRRRQAUUUUAYvhP/kAf9vd1/6USVtVi+E/+QB/293X/pRJW1QAUUUUAFFFFABRRRQAUUUUAFFFFAFDXLA6noN7ZIcSTQssbA/dfHyn8Dg/hUmlX66po9nfoNq3UCShf7u5QcfhmrdYvhvMEWoac3H2G9kRRjHyPiVMewWQL/wGt4+9Ra7O/wB+j/QXU2qKKKwGFFFFABRRRQAUUUUAFFFFABRRRQAUUUUAFFFFABRRRQAUUUUAFFFFABRRRQAUUUUAFQ3t1HY2FxdznEVvE0rn0VRk/wAqmrF8UZm0uHT1GTqFzFbEY6oW3Sf+Q1etaUVOoovYT2J/DdrJZ+HLKOcbZ2j82YH/AJ6OS7/+PMa06KKmc3Obk+o1oFFFFQAUUUUAFFFFABRRRQAUUUUAFFFFABRRRQAUUUUAFFFFABRRRQBi+E/+QB/293X/AKUSVtVyHhrxFaW9gbN7bU2kF9cpvj024ePJuJP+WgQrjnrnFdNf38Wm2puJ47iRAQNttbvM/P8AsoCf0oAs0VR03VoNVSRreG8iEZAP2qzltyc+gkUZ/Cq154ls7G8e2ltdUd0IBaDS7iVDxnh1QqevY0Aa9FQXt2ljZyXMyTOkeMrBC0rnnHCqCT17Cq2ma1b6q0i28F9EYwCftVjNbg59DIoz+FAGhRWVf+IbTTro289tqUjgA7rfTZ5k5/2kQj9avSXaRWJu2SYxrH5hVYWaTGM42Abs+2M0AT0Vm6brttqlw0Nvb6hEyruJutPngXGQOGdACeenWjUtdttLuFhuLfUJWZdwNrp8864yRyyIQDx060AaVFQR3aS2Iu1SYRtH5gVoWWTGM42Ebs+2M1RsPENpqN0LeC21KNyCd1xps8Kcf7ToB+tAGrWKP9D8bsOiajZAj03wtg/iVlH4J7Va1PWrfSmjW4gvpTICR9lsZrgDHqY1OPxrL1vUIP7P0vXh5kEVreoX+0xNCwSQmFtyuAR98NyP4RW9FrmcX1TX+X42Czex0lFFFYAFFFFABRRRQAUUUUAFFFFABRRRQAUUUUAFFFFABRRRQAUUUUAFFFFABRRRQAUUUUAFYtx/pnjSzh6rp9q9yw9HkPlof++VmrarF0Efab7V9RPInuzBEf8ApnCNmP8Av4JT+Nb0vdjKfZW+/T8riZtUUUVgMKKKKACiiigAooooAKKKKACiiigAooooAKKKKACiiigAooooAKKKKAMXwn/yAP8At7uv/SiStqsXwn/yAP8At7uv/SiStqgAooooAKKKKACiiigAooooAKKKKACsHxtoc3iTwhd6TalVkuGiG5jgACVWJ/IGt6s/XNSbSdL+1RxrIfPgi2sccSSohP4Bs/hQOMnFqS3Qzw3qbax4Z0+/k/1s0CmUYxiQDDj8GBH4Vp1z3ho/ZNT1zSSzH7Pem5iBGAI5x5nH/bTzR+FdDTZpWio1Hbbdej1QUUUUjIKKKKACiiigAooooAKKKKACiiigAooooAKKKKACiiigAooooAKKKKACiiigCpqt+ul6PeX8g3LbQvKVH8W0E4+p6VHoVg2maDZWcp3SxQqJW/vSYyx/FiT+NVPEf+k/2dpg/wCXy8TeP+mcf71vwOwL/wACrareXu0Uu7v92i/UXUKKKKwGFFFFABRRRQAUUUUAFFFFABRRRQAUUUUAFFFFABRRRQAUUUUAFFFFAGL4T/5AH/b3df8ApRJW1WL4T/5AH/b3df8ApRJW1QAUUUUAFFFFABRRRQAUUUUAFFFFABUF5a297b+TeIskW9H2scfMrBlP4MAanrJ8TWVxqGifZ7OPzJftVtJt3AfKk6Ox59FUn8KAKl7mx8fabcgN5eo2sllJ6B0/ex5/Dzvzroa57xsjJ4cOoxIXl0qeO/UA9RG2XH4pvH41vo6yRq8bBkYAqw6EU+hvU96EZfL7v+A0OooopGAUUUUAFFFFABRRRQAUUUUAFFFFABRRRQAUUUUAFFFFABRRRQAUUUUAFFFFAGLF/pnjSaQjMenWgiU/9NJW3OPwWOP/AL6rarF8Lfv9Kk1LqdTne7BI6o2Fj/8AIax1tVviNJ8n8un3b/jcS2CiiisBhRRRQAUUUUAFFFFABRRRQAUUUUAFFFFABRRRQAUUUUAFFFFABRRRQBi+E/8AkAf9vd1/6USVtVi+E/8AkAf9vd1/6USVtUAFFFFABRRRQAUUUUAFFFFABRRRQAVR1jUxpGnfazF5o86GLaGx/rJVjzn23Z/Cr1V7+wg1K1+z3alo/MSTAOPmRw6/qooAkuII7q2lt513RyoUdT3BGCKwvA9w8nhWC0uGDXGnO9jNjs0R2j81Cn8a6GuX0pv7N+IesacTiPUIY9QhUDgMP3cnPcnCn8KuKvdf1p/wLm8daUl2s/0/VfcdRRRRUGAUUUUAFFFFABRRRQAUUUUAFFFFABRRRQAUUUUAFFFFABRRRQAUUUUAFZPiaeSLw/cRW77Li622sLf3XkYID+G7P4VrVi3x+2eLNOsxgx2cb3svHRiPLjH47pD/AMAregv3ik+mv3f57CexrQQR21vHBAoSOJAiKOwAwBUlFFYttu7GFFFFIAooooAKKKKACiiigAooooAKKKKACiiigAooooAKKKKACiiigAooooAxfCf/ACAP+3u6/wDSiStqsXwn/wAgD/t7uv8A0okraoAKKKKACiiigAooooAKKKKACiiigArI8TwXNxofl2Su0v2q2bEfXaJ4y34bQc+1a9U9V1KPSbH7VMjOnmxRYTrmSRUB/NgaALlcp4vJ03WtB1tQdsFybebH/POQYLH2UBjXV1i+LrBNS8J38EkZkAiMmwdW2/MV/EAj8aqMlGSk9v06/gbUNaij30+/Q2qKyvDN++peHLSeZxJOqmKdh/FIhKMfoSpI9iK1ac4uEnF9DEKKKKgAooooAKKKKACiiigAooooAKKKKACiiigAooooAKKKKACiiigArG0H/S7zVNUYcXFyYIj/ANMocoPwL+Yw9mFWtdv30zQ7u7hG6ZI8Qqf45G+VF/FiB+NSaVYJpekWljGdy28Kx7j1bAwSfc9a3j7tFvvp92r/AEF1LdFFFYDCiiigAooooAKKKKACiiigAooooAKKKKACiiigAooooAKKKKACiiigAooooAxfCf8AyAP+3u6/9KJK2qxfCf8AyAP+3u6/9KJK2qACiiigAooooAKKKKACiiigAooooAKqalp0Oq2X2W5LrH5scuUODlHVx+qj8Kt1keJ2ul0PNgZhN9qtv9Tndt8+Pf07bd2fbNAGvQQCCCMg9QaKKAOR8HMdP1C/0d2OFPmRA/7B8pv/AB1Ym+slddXCalqkVj4ujurcSBjLFJJG6MhCSDyZSwIyFG2Bs99td3WkmpRjJdrfNaflZ/M6cTCUajclbm1+/X87oKKKKzOYKKKKACiiigAooooAKKKKACiiigAooooAKKKKACiiigAooooAxtVP2zXtK05SdqO17MB3WPAQH/gbqw/3DWzWNoubzVNU1Rs7Hm+yQZ/55xZBP4yGT6gCtmt63u2h2X47v/L5CXcKKKKwGFFFFABRRRQAUUUUAFFFFABRRRQAUUUUAFFFFABRRRQAUUUUAFFFFABRRRQBi+E/+QB/293X/pRJW1WL4T/5AH/b3df+lElbVABRRRQAUUUUAFFFFABRRRQAUUUUAFVdR1CHS7P7TdbvL8yOL5Rk5d1Rf1YVaqlq2mpq2n/ZZJGjXzopdyjJzHIrgfiVxQBdooooArX9hb6jZT2t0gZJ4XhY452sMEA/56Cqvh68lvdDga7ObqHdb3P/AF1jYo5+hKkj2IrTrFtf+Jf4su7UnEWoxC7iHbzE2xyD8vKOP941vD3qcodtV+v4a/IT3NqiiisBhRRRQAUUUUAFFFFABRRRQAUUUUAFFFFABRRRQAUUUUAFUNcv30zRLm6hUPOqhIEP8crELGv4syj8av1i6j/p/iXTrAcx2oN9OO3GUiU/VizD3jrajFOd5bLV/L/PYT2L+lWCaXpNrYxsXFvEqbz1cgcsfcnJ/GrdFFZyk5Nye7GFFFFSAUUUUAFFFFABRRRQAUUUUAFFFFABRRRQAUUUUAFFFFABRRRQAUUUUAFFFFAGL4T/AOQB/wBvd1/6USVtVi+E/wDkAf8Ab3df+lElbVABRRRQAUUUUAFFFFABRRRQAUUUUAFZHie6uLPQ/Ns3ZJftVsmVGTtaeNWH4qSK16r3t9b6dbfaLx/Li3pHu2k/M7BFHHqzAUAWKKKKACsbxKDb2UOqxgl9MmFw2O8WCso9/kZjj1UVs0josiMjqGVhhlIyCPStKc+Sal/XmJ6gCGUFSCCMgjvS1j+GnaHT5NLlYmXS5Da5JyWjABibJ65jK5PqG9K2KKkOSbiCCiiisxhRRRQAUUUUAFFFFABRRRQAUUUUAFFFFABRRRQAVi+Hf9MW81duft85MOe0CfJHj2OC/wD20qTxHPImlfZLZ9l1qEgtIWHVSwO5h7qgdv8AgNaUEEVrbRW9ugjiiQIiDoqgYA/Kt17lK/WX5L/g2+4XUkooorAYUUUUAFFFFABRRRQAUUUUAFFFFABRRRQAUUUUAFFFFABRRRQAUUUUAFFFFABRRRQBi+E/+QB/293X/pRJW1WL4T/5AH/b3df+lElbVABRRRQAUUUUAFFFFABRRRQAUUUUAFUNa0z+19N+yCXyv38Mu7bu/wBXKsmMe+3H41frK8S30+naL9otGCSfabaPJAPyvOiN19mNAGrRRRQAUUUUAYt7/wAS7xPZ3o4hv1+xz8dHGWiY/wDkRfcstbVU9WsP7T0me0WQxSOuYpB1jkB3I34MAfwpNH1D+1NJgu2Ty5HBWWPP+rkUlXT/AICwYfhW8/fpqfbR/p+q+QupdooorAYUUUUAFFFFABRRRQAUUUUAFFFFABRRRQAUUVV1O/j0vS7i9lUusKFgi9XPZR7k4A9zTjFyait2Bnw/8TLxZNN1g0uPyE44M7gM5/4Cmwf8DYVtVQ0Sxk0/SYYbhg9y2Zbhx/FK5LOfpknHoMCr9a1pJytHZaL+vN6iQUUUViMKKKKACiiigAooooAKKKKACiiigAooooAKKKKACiiigAooooAKKKKACiiigAooooAxfCf/ACAP+3u6/wDSiStqsXwn/wAgD/t7uv8A0okraoAKKKKACiiigAooooAKKKKACiiigAqC8ntra38y9ZEi3ouXHG4sAv47iPxqes7XtNk1bSvssLqjfaIJct0xHMjkfiFIoA0aKKKACiiigArFts6Z4nntTxbakpuYeOFmXAkX8RtYe4c1tVm67YzXum7rLb9ttXFxaljgeYv8JPYMCUJ9GNbUWublls9P8n9/4CZpUVXsL2HUtPgvbYkxToHXcMEZ7EdiOhHY1YrJpxdmMKKKKQBRRRQAUUUUAFFFFABRRRQAUUUUAFYt/nUvENpp45t7PF7c8cFskQp/30C/sY19a1Lu6hsbOa7unEcMEbSSOf4VAyTVHQLSaGxe6vV23l9IbidT1TIAVP8AgKhV+oJ71vT9yLqfJev/AAF+NhPsalFFFYDCiiigAooooAKKKKACiiigAooooAKKKKACiiigAooooAKKKKACiiigAooooAKKKKACiiigDF8J/wDIA/7e7r/0okrarF8J/wDIA/7e7r/0okraoAKKKKACiiigAooooAKKKKACiiigArM8Q6jNpekfarYIZPtFvF84yMPMiH9GNadQXgtTb/6f5Jh3p/r8bd24bOvGd23HvjFAE9FFFABRRRQAUUUUAYtj/wASrxBcaceLa+3Xdr6LJn98n4kiQdyXfstbVUNZsZb6w/0RhHeW7ie2c9FkXoD7EEqfZjUum38ep6dFdxKyBwQ0bfejcEqyH3VgVPuDW9T34qp8n69/mvxTEtNC1RRRWAwooooAKKKKACiiigAooooAKKKr399DpunzXlySIoULEKMs3oAO5J4A7kgU0nJ2QGbqeNU1i20gcwxbbu8x02hv3aH/AHnUn6RkHrW1WbollNa2bz32Pt12/n3GDkKxGAgPooAUeuM9zWlWtVq6hHZfn1f9dLCQUUUViMKKKKACiiigAooooAKKKKACiiigAooooAKKKKACiiigAooooAKKKKACiiigAooooAKKKKAMXwn/AMgD/t7uv/SiStqsXwn/AMgD/t7uv/SiStqgAooooAKKKKACiiigAooooAKKKKACsvxFp82qaP8AZrbb5n2m3l+c4GEmR2/RTWpWdrupPpOl/aoo1kbz4ItrHjEkqIT+AbNAGjRRRQAUUUUAFFFFABWK/wDxJte83pY6m4V/SK54Cn6OBj/eVe7mtqoL2zh1CxmtLpd0UyFWAOCPcHsR1B7Gtac1F2ls9/68hMnorN0i8mbzbDUWBvrXAZsY86M/clA98YI7MGHTBOlUzg4SsxhRRRUAFFFFABRRRQAUUUUAFYsn/E515Y+tjpjhn9Jbjqo+iDk/7TL3U1Z1e9mgjjtNP2nULrKwBhkIBjdIw7quQfclRkbhVmwsYdNsY7W23bI8/MxyzsTlmY9ySSSe5JreP7uHP1e36v8ARfPsLcsUUUVgMKKKKACiiigAooooAKKKKACiiigAooooAKKKKACiiigAooooAKKKKACiiigAooooAKKKKACiiigDF8J/8gD/ALe7r/0okrarF8J/8gD/ALe7r/0okraoAKKKKACiiigAooooAKKKKACiiigAqC8tre7t/KvEV4t6PhjxuVgyn/voA1PWT4lsbjUdF+z2ib5ftVtJjcB8qTo7Hn/ZUmgDWooooAKKKKACiiigAooooAz9VsJbgR3dgUXULUMYGc4Vwcbo2I/hbA9cEK2DtFT6ffxajZrPCGQ5KyROMPE46ow7EH/EZHNWazL2znt7ptS0tN85AFxbZCi5UehPAkA6E8H7rcYK7RanHkl8v8v62fqLzNOioLO9gv7YT2r7kyVIIIZWHBVgeQQeCDyKnrJpxdmMKKKKQBRRRQAVXvr2HTrN7m4J2rgBVGWdicKqjuxJAA7k067u4LG2a4u5BHEuAWPck4AA6kkkAAckkAVRtLWa9u49S1NDG0eTa2rYP2fIILNjgyEEjPRQSo6sW1hFW5pbfn5f1t9yaHaVZTI0l/qKr9vuQN6qciFB92JT7Z5PdiT0wBpUUVM5OcrsYUUUVABRRRQAUUUUAFFFFABRRRQAUUUUAFFFFABRRRQAUUUUAFFFFABRRRQAUUUUAFFFFABRRRQAUUUUAYvhP/kAf9vd1/6USVtVi+E/+QB/293X/pRJW1QAUUUUAFFFFABRRRQAUUUUAFFFFABVDWdT/sjTftfled++hi27tv8ArJVjznB6bs/hV+q99Y2+o2v2e7QvF5iSYBI+ZHDqeP8AaUUAWKKKKACiiigAooooAKKKKACiiigDNvNNl+1G+0qVYLwjDq4zFcADADgd/RhyPcfKUtNchluVs7+NtPvmyFt5yP3mO8bDhx345HcDpWnUN3Z21/bNb3sEdxC33o5FDA/ga2VSLXLUXz6/8H+tUK3YmorG/sCe2/5BWs31qo6QyMtxH/5EBYfQMBR9j8SdBrOnbfU6Y+78/Ox+lP2cHtNfNP8ARP8AMLs2azbzW7e3uTZ2yte33H+i2+CyA9C56Ivu2M9snioP7Cubn/kKa3fXC94oCtun5oA//j1aVnY2unW4gsbeO3iBzsjUAE+p9T70WpQ3fN6aL/P8PmGpTtNNnluUvtZaOa6Q5hijyYrbII+XPJbBILkA4JACgkHToorOc3N3YwoooqACiiigAooooAKKKKACiiigAooooAKKKKACiiigAooooAKKKKACiiozcRLdJbFx5zo0ip3KggE/mw/OgCSiiigAooooAq6hqEOm2v2i4S4dNwXFtbSTtz/sxqTj3xWX/wAJjpv/AD6a1/4I7z/41W9RQBg/8Jjpv/PprX/gjvP/AI1R/wAJjpv/AD6a1/4I7z/41W9RQBg/8Jjpv/PprX/gjvP/AI1R/wAJjpv/AD6a1/4I7z/41W9RQBxXhfxZp8Wh7WtdYJ+1XJ+XRbthzPIeoi9/w6Vr/wDCY6b/AM+mtf8AgjvP/jVSeE/+QB/293X/AKUSVtUAYP8AwmOm/wDPprX/AII7z/41R/wmOm/8+mtf+CO8/wDjVb1FAGD/AMJjpv8Az6a1/wCCO8/+NUf8Jjpv/PprX/gjvP8A41W9RQBg/wDCY6b/AM+mtf8AgjvP/jVH/CY6b/z6a1/4I7z/AONVvUUAYP8AwmOm/wDPprX/AII7z/41R/wmOm/8+mtf+CO8/wDjVb1FAGD/AMJjpv8Az6a1/wCCO8/+NUf8Jjpv/PprX/gjvP8A41W9RQBg/wDCY6b/AM+mtf8AgjvP/jVZXiXxNb3ui+TY2WuNN9ptnwNFvF+VZ0ZufK/ug12dFAGD/wAJjpv/AD6a1/4I7z/41R/wmOm/8+mtf+CO8/8AjVb1FAGD/wAJjpv/AD6a1/4I7z/41R/wmOm/8+mtf+CO8/8AjVb1FAGD/wAJjpv/AD6a1/4I7z/41R/wmOm/8+mtf+CO8/8AjVb1FAGD/wAJjpv/AD6a1/4I7z/41R/wmOm/8+mtf+CO8/8AjVb1FAGD/wAJjpv/AD6a1/4I7z/41R/wmOm/8+mtf+CO8/8AjVb1FAGD/wAJjpv/AD6a1/4I7z/41R/wmOm/8+mtf+CO8/8AjVb1FAGD/wAJjpv/AD6a1/4I7z/41R/wmOm/8+mtf+CO8/8AjVb1FAGD/wAJjpv/AD6a1/4I7z/41R/wmOm/8+mtf+CO8/8AjVb1FAGD/wAJjpv/AD6a1/4I7z/41R/wmOm/8+mtf+CO8/8AjVb1FAGD/wAJjpv/AD6a1/4I7z/41R/wmOm/8+mtf+CO8/8AjVb1FAGD/wAJjpv/AD6a1/4I7z/41R/wmOm/8+mtf+CO8/8AjVb1FAGD/wAJjpv/AD6a1/4I7z/41R/wmOm/8+mtf+CO8/8AjVb1FAGD/wAJjpv/AD6a1/4I7z/41R/wmOm/8+mtf+CO8/8AjVb1FAGD/wAJjpv/AD6a1/4I7z/41R/wmOm/8+mtf+CO8/8AjVb1FAGD/wAJjpv/AD6a1/4I7z/41VabxpbJqVmkdrqf2ed/JcS6RdRkOxG1gzRhcdcg+oPYg9PUD2cMl7FdyJumhVljJJwobGcDpngc9cZ9TQBMwLKQGKkjAYdR7815x4bn1/U/CniKdvEd19t0vU7+1s5pY4iu2GRgnmDZ82QADjHHTB5r0d2CIzNkhRk7QSfyHJrzTwT4el1XSfEtpqEutadb3+tXs72zwG3E8E0rFSGePcNy9djAj2JoAs6f4zn8R2vhS8FwIF1bTXuZtLtA5uXkwmGVhwsancNzlVOVGT0qlf8AiPXZ/glr+pnUprPV9Ikvo1uIki3v9nmdF3jDLkhRu24Gc4wK7E+DtOi1e01LS5JtLuLSxGnp9k2bTbghljKurDAIyCMHrzis6X4a6U+hanpCXuoRWmptJ5yrIhYLIS0iqWQnDMSxJycnggcUAJrraz4e8N6rqM/ieCOSX7P5Ju7bMds24LIqBBuffnCrgnOOpJqPSdfvW+I13oMn2uOxm0pL+3+2KvmRN5pjODknacqQHGQQexAG3qfhmDWdEt9P1O8up3tp47mK8yizJLG4dH+VQmQQONuD3BqvJ4LspvEEetz3t7LfrCIGkZkxIiusiAgJgbXUMNuMknOQcUAcQmu+IIPhp4v1p9buJbvQb+/itGdI/nWCVtvmAKA2QNpxjjpg810tzq2o6d4u8IQteyTRa59ojuoWVdissBmUpgZXBQr1OQecnmpv+FdWJ8M6xoT6rqb2msTyz3RLQhy0pLS4Ij4DE88cdsVaufBsV3qOiX02r6iZ9E3G2I8kAlkKMWHl85Qle3qMHmgDl9O8ReJvE/hrWNY0W2vjfR3dzFpkSNAsGIXKLG4dwTvKYZiMjd8uMZq6sM//AAt+4ubjU7uzX+wIp5I2eIpCPObcuSpAAxyRz710cXhS0tZr42F1d2cGoStPc2sDqI3kb77DKlkLY52kc5PUk0t94Vsb7Vl1DzJ7eT7G1jLHCyhJoCc7GBBxg5wVwRk80Ac/Brmqa94s8S2VvHqEdtpMsdnbmyaFSJDEsjSuJGBb74AXlcDJBJ4pT6l4qbxF4Hs9TvJNKutWtblNTtIfKdEkijV9yHDck5H3iAG9RXYS+HIP7auNVsLu50+6u0VLprbYVn2AhCwdWG5QSMjBIwDkAYq3vg21u9Y0nUY9QvrWXSVdbVImjZRvGHLb0YsWHUk+/XmgDW0m1u7HSLW21G/bUbqKMLLdtGIzMw/iKrwPwq5RRQAUUUUAFFFFABRRRQBi+E/+QB/293X/AKUSVtVi+E/+QB/293X/AKUSVtUAFFFFABRRRQAUUUUAFFFFABRRRQAUUUUAFFFFABRRRQAUUUUAFFFFABRRRQAUUUUAFFFFABRRRQAUUUUAFFFFABRRRQAUUUUAFFFFABRRRQAUUUUAFFFFABRRRQAUUUUAFFFFABRRRQAUUUUAFFFFABRRRQAUUUUAFFFFAGL4T/5AH/b3df8ApRJW1WL4T/5AH/b3df8ApRJW1QAUUUUAFFFFABRRRQAUUUUAFFFFABRRRQAUUUUAFFFFABRRRQAUUUUAFFFFABRRRQAUUUUAFFFFABRRRQAUUUUAFFFFABRRRQAUUUUAFFFFABRRRQAUUUUAFFFFABRRRQAUUUUAFFFFABRRRQAUUUUAFFFFABRRRQAUUUUAQWdnBYW/kWqbI97vjJPLMWbr7sanoooAKKKKACiiigAooooAKKKKACiiigAooooAKKKKACiiigAooooAKKKKACiiigAooooAKKKKACiiigAooooAKKKKACiiigAooooAKKKKACiiigAooooAKKKKACiiigAooooAKKKKACiiigAooooAKKKKAP/Z)"
      ]
    },
    {
      "cell_type": "markdown",
      "metadata": {
        "id": "5P2D4SeqxHwA"
      },
      "source": [
        "Podemos cambiar el peso un poco en dirección de la pendiente, calcula la pérdida, ajustar nuevamente y repetir el procesos algunas veces más. Eventualmente llegaremos al punto más bajo de la curva:"
      ]
    },
    {
      "cell_type": "markdown",
      "metadata": {
        "id": "x4QLnhWjpq2D"
      },
      "source": [
        "![CapturaSGD2.JPG](data:image/jpeg;base64,/9j/4AAQSkZJRgABAQEAeAB4AAD/4REKRXhpZgAATU0AKgAAAAgABAE7AAIAAAAVAAAISodpAAQAAAABAAAIYJydAAEAAAAqAAAQ2OocAAcAAAgMAAAAPgAAAAAc6gAAAAgAAAAAAAAAAAAAAAAAAAAAAAAAAAAAAAAAAAAAAAAAAAAAAAAAAAAAAAAAAAAAAAAAAAAAAAAAAAAAAAAAAAAAAAAAAAAAAAAAAAAAAAAAAAAAAAAAAAAAAAAAAAAAAAAAAAAAAAAAAAAAAAAAAAAAAAAAAAAAAAAAAAAAAAAAAAAAAAAAAAAAAAAAAAAAAAAAAAAAAAAAAAAAAAAAAAAAAAAAAAAAAAAAAAAAAAAAAAAAAAAAAAAAAAAAAAAAAAAAAAAAAAAAAAAAAAAAAAAAAAAAAAAAAAAAAAAAAAAAAAAAAAAAAAAAAAAAAAAAAAAAAAAAAAAAAAAAAAAAAAAAAAAAAAAAAAAAAAAAAAAAAAAAAAAAAAAAAAAAAAAAAAAAAAAAAAAAAAAAAAAAAAAAAAAAAAAAAAAAAAAAAAAAAAAAAAAAAAAAAAAAAAAAAAAAAAAAAAAAAAAAAAAAAAAAAAAAAAAAAAAAAAAAAAAAAAAAAAAAAAAAAAAAAAAAAAAAAAAAAAAAAAAAAAAAAAAAAAAAAAAAAAAAAAAAAAAAAAAAAAAAAAAAAAAAAAAAAAAAAAAAAAAAAAAAAAAAAAAAAAAAAAAAAAAAAAAAAAAAAAAAAAAAAAAAAAAAAAAAAAAAAAAAAAAAAAAAAAAAAAAAAAAAAAAAAAAAAAAAAAAAAAAAAAAAAAAAAAAAAAAAAAAAAAAAAAAAAAAAAAAAAAAAAAAAAAAAAAAAAAAAAAAAAAAAAAAAAAAAAAAAAAAAAAAAAAAAAAAAAAAAAAAAAAAAAAAAAAAAAAAAAAAAAAAAAAAAAAAAAAAAAAAAAAAAAAAAAAAAAAAAAAAAAAAAAAAAAAAAAAAAAAAAAAAAAAAAAAAAAAAAAAAAAAAAAAAAAAAAAAAAAAAAAAAAAAAAAAAAAAAAAAAAAAAAAAAAAAAAAAAAAAAAAAAAAAAAAAAAAAAAAAAAAAAAAAAAAAAAAAAAAAAAAAAAAAAAAAAAAAAAAAAAAAAAAAAAAAAAAAAAAAAAAAAAAAAAAAAAAAAAAAAAAAAAAAAAAAAAAAAAAAAAAAAAAAAAAAAAAAAAAAAAAAAAAAAAAAAAAAAAAAAAAAAAAAAAAAAAAAAAAAAAAAAAAAAAAAAAAAAAAAAAAAAAAAAAAAAAAAAAAAAAAAAAAAAAAAAAAAAAAAAAAAAAAAAAAAAAAAAAAAAAAAAAAAAAAAAAAAAAAAAAAAAAAAAAAAAAAAAAAAAAAAAAAAAAAAAAAAAAAAAAAAAAAAAAAAAAAAAAAAAAAAAAAAAAAAAAAAAAAAAAAAAAAAAAAAAAAAAAAAAAAAAAAAAAAAAAAAAAAAAAAAAAAAAAAAAAAAAAAAAAAAAAAAAAAAAAAAAAAAAAAAAAAAAAAAAAAAAAAAAAAAAAAAAAAAAAAAAAAAAAAAAAAAAAAAAAAAAAAAAAAAAAAAAAAAAAAAAAAAAAAAAAAAAAAAAAAAAAAAAAAAAAAAAAAAAAAAAAAAAAAAAAAAAAAAAAAAAAAAAAAAAAAAAAAAAAAAAAAAAAAAAAAAAAAAAAAAAAAAAAAAAAAAAAAAAAAAAAAAAAAAAAAAAAAAAAAAAAAAAAAAAAAAAAAAAAAAAAAAAAAAAAAAAAAAAAAAAAAAAAAAAAAAAAAAAAAAAAAAAAAAAAAAAAAAAAAAAAAAAAAAAAAAAAAAAAAAAAAAAAAAAAAAAAAAAAAAAAAAAAAAAAAAAAAAAAAAAAAAAAAAAAAAAAAAAAAAAAAAAAAAAAAAAAAAAAAAAAAAAAAAAAAAAAAAAAAAAAAAAAAAAAAAAAAAAAAAAAAAAAAAAAAAAAAAAAAAAAAAAAAAAAAAAAAAAAAAAAAAAAAAAAAAAAAAAAAAAAAAAAAAAAAAAAAAAAAAAAAAAAAAAAAAAAAAAAAAAAAAAAAAAAAAAAAAAAAAAAAAAAAAAAAAAAAAAAAAAAAAAAAAAAAAAAAAAAAAAAAAAAAAAAAAAAAAAAAAAAAAAAAAAAAAAAAAAAAAAAAAAAAAAAAAAAAAAAAAAAAAAAAAAAAAAAAAAAAAAAAAAAAAAAAAAAAAAAAAAAAAAAAAAAAAAAAAAAAAAAAAAAAAAAAAAAAAAAAAAAAAAAAAAAAAAAAAAAAAAAAAAAAAAAAAAAAAAAAAAAAAAAAAAAAAAAAAAAAAAAAAAAAAAAAAAAAAAAAAAAAAAAAAAAAAAAAAAAAAAAAAAAAAAAAAAAAAAAAAAAAAAAAAAAAAAAAAAAAAAAAAAAAAAAAAAAAAAAAAAAAAAAAAAAAAAAAAAAAAAAAAAAAAAAAAAAAAAAAAAAAAAAAAAAAAAAAAAAAAAAAAAAAAAAAAAAAAAAAAAAAAAAAAAAAAAAAAAAAAAAAAAAAAAAAAAAAAAAAAAAAAAAAAAAAAAAAAAAAAAAAAAAAAAAAAAAAAAAAAAAAAAAAAAAAAAAAAAAAAAAAAAAAAAAAAAAAAAAAAAAAAAAAAAAAAAAAAAAAAAAAAAAAAAAAAAAAAAAAAAAAAAAAAAAAAAAAAAAAAAAAAAAAAAAAAAAAAAAAAAAAAAAAAAAAAAAAAAAAAAAAAAAAAAAAAAAAAAAAAAAAAAAAAAAAAAAAAAAAAAAAAAAAAAAAAAAAAAAAAAAAAAAAAAAAAAAAAAAAAAAAAAAAAAAAAAAAAAAAAAAAAAAAAAAAAAAAAAAAAAAAAAAAAAAAAAAAAAAAAAAAAAAAAAAAAAAAAAAAEFsb25zbyBBc3Ryb3phIFRhZ2xlAAAABZADAAIAAAAUAAAQrpAEAAIAAAAUAAAQwpKRAAIAAAADNTgAAJKSAAIAAAADNTgAAOocAAcAAAgMAAAIogAAAAAc6gAAAAgAAAAAAAAAAAAAAAAAAAAAAAAAAAAAAAAAAAAAAAAAAAAAAAAAAAAAAAAAAAAAAAAAAAAAAAAAAAAAAAAAAAAAAAAAAAAAAAAAAAAAAAAAAAAAAAAAAAAAAAAAAAAAAAAAAAAAAAAAAAAAAAAAAAAAAAAAAAAAAAAAAAAAAAAAAAAAAAAAAAAAAAAAAAAAAAAAAAAAAAAAAAAAAAAAAAAAAAAAAAAAAAAAAAAAAAAAAAAAAAAAAAAAAAAAAAAAAAAAAAAAAAAAAAAAAAAAAAAAAAAAAAAAAAAAAAAAAAAAAAAAAAAAAAAAAAAAAAAAAAAAAAAAAAAAAAAAAAAAAAAAAAAAAAAAAAAAAAAAAAAAAAAAAAAAAAAAAAAAAAAAAAAAAAAAAAAAAAAAAAAAAAAAAAAAAAAAAAAAAAAAAAAAAAAAAAAAAAAAAAAAAAAAAAAAAAAAAAAAAAAAAAAAAAAAAAAAAAAAAAAAAAAAAAAAAAAAAAAAAAAAAAAAAAAAAAAAAAAAAAAAAAAAAAAAAAAAAAAAAAAAAAAAAAAAAAAAAAAAAAAAAAAAAAAAAAAAAAAAAAAAAAAAAAAAAAAAAAAAAAAAAAAAAAAAAAAAAAAAAAAAAAAAAAAAAAAAAAAAAAAAAAAAAAAAAAAAAAAAAAAAAAAAAAAAAAAAAAAAAAAAAAAAAAAAAAAAAAAAAAAAAAAAAAAAAAAAAAAAAAAAAAAAAAAAAAAAAAAAAAAAAAAAAAAAAAAAAAAAAAAAAAAAAAAAAAAAAAAAAAAAAAAAAAAAAAAAAAAAAAAAAAAAAAAAAAAAAAAAAAAAAAAAAAAAAAAAAAAAAAAAAAAAAAAAAAAAAAAAAAAAAAAAAAAAAAAAAAAAAAAAAAAAAAAAAAAAAAAAAAAAAAAAAAAAAAAAAAAAAAAAAAAAAAAAAAAAAAAAAAAAAAAAAAAAAAAAAAAAAAAAAAAAAAAAAAAAAAAAAAAAAAAAAAAAAAAAAAAAAAAAAAAAAAAAAAAAAAAAAAAAAAAAAAAAAAAAAAAAAAAAAAAAAAAAAAAAAAAAAAAAAAAAAAAAAAAAAAAAAAAAAAAAAAAAAAAAAAAAAAAAAAAAAAAAAAAAAAAAAAAAAAAAAAAAAAAAAAAAAAAAAAAAAAAAAAAAAAAAAAAAAAAAAAAAAAAAAAAAAAAAAAAAAAAAAAAAAAAAAAAAAAAAAAAAAAAAAAAAAAAAAAAAAAAAAAAAAAAAAAAAAAAAAAAAAAAAAAAAAAAAAAAAAAAAAAAAAAAAAAAAAAAAAAAAAAAAAAAAAAAAAAAAAAAAAAAAAAAAAAAAAAAAAAAAAAAAAAAAAAAAAAAAAAAAAAAAAAAAAAAAAAAAAAAAAAAAAAAAAAAAAAAAAAAAAAAAAAAAAAAAAAAAAAAAAAAAAAAAAAAAAAAAAAAAAAAAAAAAAAAAAAAAAAAAAAAAAAAAAAAAAAAAAAAAAAAAAAAAAAAAAAAAAAAAAAAAAAAAAAAAAAAAAAAAAAAAAAAAAAAAAAAAAAAAAAAAAAAAAAAAAAAAAAAAAAAAAAAAAAAAAAAAAAAAAAAAAAAAAAAAAAAAAAAAAAAAAAAAAAAAAAAAAAAAAAAAAAAAAAAAAAAAAAAAAAAAAAAAAAAAAAAAAAAAAAAAAAAAAAAAAAAAAAAAAAAAAAAAAAAAAAAAAAAAAAAAAAAAAAAAAAAAAAAAAAAAAAAAAAAAAAAAAAAAAAAAAAAAAAAAAAAAAAAAAAAAAAAAAAAAAAAAAAAAAAAAAAAAAAAAAAAAAAAAAAAAAAAAAAAAAAAAAAAAAAAAAAAAAAAAAAAAAAAAAAAAAAAAAAAAAAAAAAAAAAAAAAAAAAAAAAAAAAAAAAAAAAAAAAAAAAAAAAAAAAAAAAAAAAAAAAAAAAAAAAAAAAAAAAAAAAAAAAAAAAAAAAAAAAAAAAAAAAAAAAAAAAAAAAAAAAAAAAAAAAAAAAAAAAAAAAAAAAAAAAAAAAAAAAAAAAAAAAAAAAAAAAAAAAAAAAAAAAAAAAAAAAAAAAAAAAAAAAAAAAAAAAAAAAAAAAAAAAAAAAAAAAAAAAAAAAAAAAAAAAAAAAAAAAAAAAAAAAAAAAAAAAAAAAAAAAAAAAAAAAAAAAAAAAAAAAAAAAAAAAAAAAAAAAAAAAAAAAAAAAAAAAAAAAAAAAAAAAAAAAAAAAAAAAAAAAAAAAAAAAAAAAAAAAAAAAAAAAAAAAAAAAAAAAAAAAAAAAAAAAAAAAAAAAAAAAAAAAAAAAAAAAAAAAAAAAAAAAAAAAAAAAAAAAAAAAAAAAAAAAAAAAAAAAAAAAAAAAAAAAAAAAAAAAAAAAAAAAAAAAAAAAAAAAAAAAAAAAAAAAAAAAAAAAAAAAAAAAAAAAAAAAAAAAAAAAAAAAAAAAAAAAAAAAAAAAAAAAAAAAAAAAAAAAAAAAAAAAAAAAAAAAAAAAAAAAAAAAAAAAAAAAAAAAAAAAAAAAAAAAAAAAAAAAAAAAAAAAAAAAAAAAAAAAAAAAAAAAAAAAAAAAAAAAAAAAAAAAAAAAAAAAAAAAAAAAAAAAAAAAAAAAAAAAAAAAAAAAAAAAAAAAAAAAAAAAAAAAAAAAAAAAAAAAAAAAAAAAAAAAAAAAAAAAAAAAAAAAAAAAAAAAAAAAAAAAAAAAAAAAAAAAAAAAAAAAAAAAAAAAAAAAAAAAAAAAAAAAAAAAAAAAAAAAAAAAAAAAAAAAAAAAAAADIwMjE6MDQ6MTAgMDc6NTk6MDUAMjAyMTowNDoxMCAwNzo1OTowNQAAAEEAbABvAG4AcwBvACAAQQBzAHQAcgBvAHoAYQAgAFQAYQBnAGwAZQAAAP/hCydodHRwOi8vbnMuYWRvYmUuY29tL3hhcC8xLjAvADw/eHBhY2tldCBiZWdpbj0n77u/JyBpZD0nVzVNME1wQ2VoaUh6cmVTek5UY3prYzlkJz8+DQo8eDp4bXBtZXRhIHhtbG5zOng9ImFkb2JlOm5zOm1ldGEvIj48cmRmOlJERiB4bWxuczpyZGY9Imh0dHA6Ly93d3cudzMub3JnLzE5OTkvMDIvMjItcmRmLXN5bnRheC1ucyMiPjxyZGY6RGVzY3JpcHRpb24gcmRmOmFib3V0PSJ1dWlkOmZhZjViZGQ1LWJhM2QtMTFkYS1hZDMxLWQzM2Q3NTE4MmYxYiIgeG1sbnM6ZGM9Imh0dHA6Ly9wdXJsLm9yZy9kYy9lbGVtZW50cy8xLjEvIi8+PHJkZjpEZXNjcmlwdGlvbiByZGY6YWJvdXQ9InV1aWQ6ZmFmNWJkZDUtYmEzZC0xMWRhLWFkMzEtZDMzZDc1MTgyZjFiIiB4bWxuczp4bXA9Imh0dHA6Ly9ucy5hZG9iZS5jb20veGFwLzEuMC8iPjx4bXA6Q3JlYXRlRGF0ZT4yMDIxLTA0LTEwVDA3OjU5OjA1LjU4MTwveG1wOkNyZWF0ZURhdGU+PC9yZGY6RGVzY3JpcHRpb24+PHJkZjpEZXNjcmlwdGlvbiByZGY6YWJvdXQ9InV1aWQ6ZmFmNWJkZDUtYmEzZC0xMWRhLWFkMzEtZDMzZDc1MTgyZjFiIiB4bWxuczpkYz0iaHR0cDovL3B1cmwub3JnL2RjL2VsZW1lbnRzLzEuMS8iPjxkYzpjcmVhdG9yPjxyZGY6U2VxIHhtbG5zOnJkZj0iaHR0cDovL3d3dy53My5vcmcvMTk5OS8wMi8yMi1yZGYtc3ludGF4LW5zIyI+PHJkZjpsaT5BbG9uc28gQXN0cm96YSBUYWdsZTwvcmRmOmxpPjwvcmRmOlNlcT4NCgkJCTwvZGM6Y3JlYXRvcj48L3JkZjpEZXNjcmlwdGlvbj48L3JkZjpSREY+PC94OnhtcG1ldGE+DQogICAgICAgICAgICAgICAgICAgICAgICAgICAgICAgICAgICAgICAgICAgICAgICAgICAgICAgICAgICAgICAgICAgICAgICAgICAgICAgICAgICAgICAgICAgICAgICAgICAgCiAgICAgICAgICAgICAgICAgICAgICAgICAgICAgICAgICAgICAgICAgICAgICAgICAgICAgICAgICAgICAgICAgICAgICAgICAgICAgICAgICAgICAgICAgICAgICAgICAgICAKICAgICAgICAgICAgICAgICAgICAgICAgICAgICAgICAgICAgICAgICAgICAgICAgICAgICAgICAgICAgICAgICAgICAgICAgICAgICAgICAgICAgICAgICAgICAgICAgICAgIAogICAgICAgICAgICAgICAgICAgICAgICAgICAgICAgICAgICAgICAgICAgICAgICAgICAgICAgICAgICAgICAgICAgICAgICAgICAgICAgICAgICAgICAgICAgICAgICAgICAgCiAgICAgICAgICAgICAgICAgICAgICAgICAgICAgICAgICAgICAgICAgICAgICAgICAgICAgICAgICAgICAgICAgICAgICAgICAgICAgICAgICAgICAgICAgICAgICAgICAgICAKICAgICAgICAgICAgICAgICAgICAgICAgICAgICAgICAgICAgICAgICAgICAgICAgICAgICAgICAgICAgICAgICAgICAgICAgICAgICAgICAgICAgICAgICAgICAgICAgICAgIAogICAgICAgICAgICAgICAgICAgICAgICAgICAgICAgICAgICAgICAgICAgICAgICAgICAgICAgICAgICAgICAgICAgICAgICAgICAgICAgICAgICAgICAgICAgICAgICAgICAgCiAgICAgICAgICAgICAgICAgICAgICAgICAgICAgICAgICAgICAgICAgICAgICAgICAgICAgICAgICAgICAgICAgICAgICAgICAgICAgICAgICAgICAgICAgICAgICAgICAgICAKICAgICAgICAgICAgICAgICAgICAgICAgICAgICAgICAgICAgICAgICAgICAgICAgICAgICAgICAgICAgICAgICAgICAgICAgICAgICAgICAgICAgICAgICAgICAgICAgICAgIAogICAgICAgICAgICAgICAgICAgICAgICAgICAgICAgICAgICAgICAgICAgICAgICAgICAgICAgICAgICAgICAgICAgICAgICAgICAgICAgICAgICAgICAgICAgICAgICAgICAgCiAgICAgICAgICAgICAgICAgICAgICAgICAgICAgICAgICAgICAgICAgICAgICAgICAgICAgICAgICAgICAgICAgICAgICAgICAgICAgICAgICAgICAgICAgICAgICAgICAgICAKICAgICAgICAgICAgICAgICAgICAgICAgICAgICAgICAgICAgICAgICAgICAgICAgICAgICAgICAgICAgICAgICAgICAgICAgICAgICAgICAgICAgICAgICAgICAgICAgICAgIAogICAgICAgICAgICAgICAgICAgICAgICAgICAgICAgICAgICAgICAgICAgICAgICAgICAgICAgICAgICAgICAgICAgICAgICAgICAgICAgICAgICAgICAgICAgICAgICAgICAgCiAgICAgICAgICAgICAgICAgICAgICAgICAgICAgICAgICAgICAgICAgICAgICAgICAgICAgICAgICAgICAgICAgICAgICAgICAgICAgICAgICAgICAgICAgICAgICAgICAgICAKICAgICAgICAgICAgICAgICAgICAgICAgICAgICAgICAgICAgICAgICAgICAgICAgICAgICAgICAgICAgICAgICAgICAgICAgICAgICAgICAgICAgICAgICAgICAgICAgICAgIAogICAgICAgICAgICAgICAgICAgICAgICAgICAgICAgICAgICAgICAgICAgICAgICAgICAgICAgICAgICAgICAgICAgICAgICAgICAgICAgICAgICAgICAgICAgICAgICAgICAgCiAgICAgICAgICAgICAgICAgICAgICAgICAgICAgICAgICAgICAgICAgICAgICAgICAgICAgICAgICAgICAgICAgICAgICAgICAgICAgICAgICAgICAgICAgICAgICAgICAgICAKICAgICAgICAgICAgICAgICAgICAgICAgICAgICAgICAgICAgICAgICAgICAgICAgICAgICAgICAgICAgICAgICAgICAgICAgICAgICAgICAgICAgICAgICAgICAgICAgICAgIAogICAgICAgICAgICAgICAgICAgICAgICAgICAgICAgICAgICAgICAgICAgICAgICAgICAgICAgICAgICAgICAgICAgICAgICAgICAgICAgICAgICAgICAgICAgICAgICAgICAgCiAgICAgICAgICAgICAgICAgICAgICAgICAgICAgICAgICAgICAgICAgICAgICAgICAgICAgICAgICAgICAgICAgICAgICAgICAgICAgICAgICAgICAgICAgICAgICAgICAgICAKICAgICAgICAgICAgICAgICAgICAgICAgICAgIDw/eHBhY2tldCBlbmQ9J3cnPz7/2wBDAAcFBQYFBAcGBQYIBwcIChELCgkJChUPEAwRGBUaGRgVGBcbHichGx0lHRcYIi4iJSgpKywrGiAvMy8qMicqKyr/2wBDAQcICAoJChQLCxQqHBgcKioqKioqKioqKioqKioqKioqKioqKioqKioqKioqKioqKioqKioqKioqKioqKioqKir/wAARCAGiAhcDASIAAhEBAxEB/8QAHwAAAQUBAQEBAQEAAAAAAAAAAAECAwQFBgcICQoL/8QAtRAAAgEDAwIEAwUFBAQAAAF9AQIDAAQRBRIhMUEGE1FhByJxFDKBkaEII0KxwRVS0fAkM2JyggkKFhcYGRolJicoKSo0NTY3ODk6Q0RFRkdISUpTVFVWV1hZWmNkZWZnaGlqc3R1dnd4eXqDhIWGh4iJipKTlJWWl5iZmqKjpKWmp6ipqrKztLW2t7i5usLDxMXGx8jJytLT1NXW19jZ2uHi4+Tl5ufo6erx8vP09fb3+Pn6/8QAHwEAAwEBAQEBAQEBAQAAAAAAAAECAwQFBgcICQoL/8QAtREAAgECBAQDBAcFBAQAAQJ3AAECAxEEBSExBhJBUQdhcRMiMoEIFEKRobHBCSMzUvAVYnLRChYkNOEl8RcYGRomJygpKjU2Nzg5OkNERUZHSElKU1RVVldYWVpjZGVmZ2hpanN0dXZ3eHl6goOEhYaHiImKkpOUlZaXmJmaoqOkpaanqKmqsrO0tba3uLm6wsPExcbHyMnK0tPU1dbX2Nna4uPk5ebn6Onq8vP09fb3+Pn6/9oADAMBAAIRAxEAPwD6RooooAKKKKACiiigAooooAKKKKACiiigAooooAKKKKACiiigAooooAKKKKACiiigAooooAKKKKACiiigAooooAKKKKACiiigAooooAKKKKACiiigAooooAKKKKACiiigAooooAKKKKACiiigAooooAKKKKACiiigAooooAKKKKACiiigAooooAKKKKACiiigAoorkPEAkg+JXhKSG5ukW5e6jmhFy/lSBYGK5jztyD3xmgDr6KyrjxNpNr9rM1y2yyOLmVIXeOA4yQ7hSq4BBOTwDk4FTy6zZRXBgEkk0oiWYrbwvLhGJCt8oPXBx64OOhoAvUVlQeJdLuoIJbSaW4E9pHeIsNvI7eTJnY5ULld2GwCATtbjg1esb2DUtPt76yfzLe5iWaJ9pXcjAEHB5HBHBoAnooooAKKKKACiiigAooooAKKKKACiiigAooooAKKKKACiiigAooooAKKKKACiiigAooooAKKKKACiiigAooooAKKKKACiiigAooooAKKKKACiiigAooooAKKKKACiiigAooooAKKKKACiiigAooooAKKKKACiiigAooooAK43xRMy/EPwiy2d9LHby3LTTQWUsscQeEqu51UqMk45NdlRQB514aWfwt4P1jRdWtLufURd3ssYit3k+3CWR3RlYAgkhgDk/Lj5sDmsXSfCVxYWOnWF/qet6FrOl6Na27anpoMkN0RvIhZSjJIYzkAdSG49vX6rWmoWl9JcJZ3EczW0phmCNny3AyVPvzQB5pFpV5qd1aT6vcax4Z1y30m2jOoaVEywXXMhEbRFGTKHnZjI8wgH077wqdRPhTTf7aijivhbqJkjj8tQRwPk/hyMHb26dq1qKACiiigAooooAKKKKACiiigAoqKC5hufM8hw/lSGN8fwsOoqWm007MAooopAFFFFABRRRQAUUUUAFFFFABRRRQAUUUUAFFFFABRRRQAUUUUAFFFFABRRRQAUUUUAFFFFABRRRQAUUhIVSWIAAySe1Mt7iK7tYri3bfFMgdGxjcpGQfyp2drgSUUUUgCiiigAooooAKKKKACiiigAooooAKKKKACiiigAooooAKKKKACiiigCO4gW5t3hkLhXGCUcocexGCPwrn/DumWkWq6vLDCIWt7/AMuMREoAn2eIBSBwQOwPQ8iukrF0D/j/ANe/7CX/ALQhoA2qKKKACiiigAooooAKKKKACiiigDG04/ZvFWr2pwFnWG8T3JUxt+XlKf8AgVbNYupf6L4q0e7zhZxNZN7llEi/+imH/Avetqt62vLLul+Gn6CQUUUVgMKKKKACiiigAooooAKKKKACiiigAooooAKKKKACiiigAooooAKKKKACiiigAooooAKKKKACiiigDJ8UTPF4ZvVgO2adBbRH0eUiNf1YVpwwpb28cMS7Y41CKB2AGBWRrX+k6xotj2a5a6kHqkSHH/kRo62q3npSiu93+n6MXUKKKKwGFFFFABRRRQAUUUUAFFFFABRRRQAUUUUAFFFFABRRRQAUUUUAFFFFABWLoH/H/r3/AGEv/aENbVYugf8AH/r3/YS/9oQ0AbVFFFABRRRQAUUUUAFFFFABRRRQBi+LP3Xh+S9X72nyx3mfRY3DP+aBh+NbQORkVHc28d3ay2843RzIUceoIwazfC9xJceF7EzndPFH5Ex9ZIyY3/8AHlNb/FQ9H+a/4DF1NaiiisBhRRRQAUUUUAFFFFABRRRQAUUUUAFFFFABRRRQAUUUUAFFFFABRRRQAUUUUAFFFFABRRRQAUUUUAYtv/pXjW8l6pY2kcCn0eRi7j/vlYq2qxfDH7+zvNQPW/vZZQfVFPlofxSNT+NbVb4jSfL2svu3/G4lsFFFFYDCiiigAooooAKKKKACiiigAooooAKKKKACiiigAooooAKKKKACiiigArF0D/j/ANe/7CX/ALQhrarF0D/j/wBe/wCwl/7QhoA2qKKKACiiigAooooAKKKKACiiigArG0T/AEbVdZsTnCXIuYwR0SVQT/4+JK2axbj/AETxpaTdFvrR7dvd42DoP++WlrejqpR7r8tfyuJm1RRRWAwooooAKKKKACiiigAooooAKKKKACiiigAooooAKKKKACiiigAooooAKKKKACiiigAooooAKo65fHTdBvrxAS8EDuigZLNj5QPcnAq9WL4i/wBIOmafx/pd9GWH+xFmY/h+7A/GtqEVKok9uvotX+AnsX9KsRpmj2dip3C2gSLd67VAz+lW6KKzlJybk+owoooqQCiiigAooooAKKKKACiiigAooooAKKKKACiiigAooooAKKKKACiiigArF0D/AI/9e/7CX/tCGtqsXQP+P/Xv+wl/7QhoA2qKKKACiiigAooooAKKKKACiiigArF8T/uLG11ADnT7yKcn0Qny5D+Ecj1tVW1Gyj1LS7qxn/1dzC8L/RlIP861oyUKik9uvp1E9izRWd4fvJL/AMPWNxOcztCFm9pF+Vx/30DWjUTi4ScX0GFFFFSAUUUUAFFFFABRRRQAUUUUAFFFFABRRRQAUUUUAFFFFABRRRQAUUUUAFFFFABRRRQAVi/8ffjbplNPsc5/25n/AJhYv/HvetqsXw4PPOp6jnP2y+k2H/YjxEPw/dk/8Crel7sZT8rff/wLiZtUUUVgMKKKKACiiigAooooAKKKKACiiigAooooAKKKKACiiigAooooAKKKKACiiigArF0D/j/17/sJf+0Ia2qxdA/4/wDXv+wl/wC0IaANqiiigAooooAKKKKACiiigAooooAKKKKAOd0u/s9J1DVtNvLqG22XZuIRNKF3JKA5Iz/00Mg/CtP+3dI/6Cll/wCBCf41RvIY4fGlnNLGjJfWr27FlB+eM70H/fLTflWv9ktv+feL/vgVrX5nJT7pP9H+KZrB0bWknf5f5Fb+3dI/6Cll/wCBCf40f27pH/QUsv8AwIT/ABqz9ktv+feL/vgUfZLb/n3i/wC+BWHvF3odn96/yK39u6R/0FLL/wACE/xo/t3SP+gpZf8AgQn+NWfslt/z7xf98Cj7Jbf8+8X/AHwKPeC9Ds/vX+RW/t3SP+gpZf8AgQn+NH9u6R/0FLL/AMCE/wAas/ZLb/n3i/74FH2S2/594v8AvgUe8F6HZ/ev8ii/iPTEuoYxf2jpLld63Cna3GARnvzz649a1Kx9d0SO/wBLuo4YUaT7NKsUQUKGkK4Uk+3bPHOewxrRgrEgPUKAaUea7TCqqPJGVPfW46iiirOcKKKKACiiigAooooAKKKKACiiigAooooAKKKKACiiigClrN//AGXod7fAbmt4HkVf7zAcD8TgUaPYf2XollY53G3gSNm/vEDk/icmqXiL/SG0zThg/a71C4/2Isyn8CUVf+BVtVvL3aKXd3+7RfqLqFFFFYDCiiigAooooAKKKKACiiigAooooAKKKKACiiigAooooAKKKKACiiigAooooAKxdA/4/wDXv+wl/wC0Ia2qxdA/4/8AXv8AsJf+0IaANqiiigAooooAKKKKACiiigAooooAKKKKAMXxT+40qLUR1025juifRAdsh/79s9bVRXVvHd2k1tOMxzI0bgdwRg1n+GbmW68N2ZuW3XEKG3nPrLGTG/8A48prd+9RT7P8/wDhn94upq0UUVgMKKKKACiiigCtqN3/AGfpd1ebPM+zwvLszjdtUnGe3SrCNvRW6ZGajuraO8tJra4XdFNG0bgHGVIwf0NSKAqgDoBgUtbl+7yJdRaKKKZAUUUUAFFFFABRRRQAUUUUAFFFFABRRRQAUUUUAFFFFAGKn+meN5G6pp1kEB7b5myw+oWJP++62qxfDJNxZ3epMc/2hdyTKf8ApmD5cePYoin8a2q3r6T5P5dP8/xuJbBRRRWAwooooAKKKKACiiigAooooAKKKKACiiigAooooAKKKKACiiigAooooAKKKKACsXQP+P8A17/sJf8AtCGtqsXQP+P/AF7/ALCX/tCGgDaooooAKKKKACiiigAooooAKKKKACiiigArF0n/AETxBrFgeFd472If7Mg2sB/wONif98VtVi6piz8SaRfdFmMljJ6fON6E/wDAo9o/363o680O6/LX9LfMTNqiiisBhRRRQAUUUUAUdbjlm0DUIrYM0z2sixhepYqcY/GrkYIiQHrtGaivrtbDTrm8kUslvE0rKvUhQTj9KmVtyBh3GanS5o3L2aVtLv8AQWiiiqMwooooAKKKKACiiigAooooAKKKKACiiigAooooAKzfEV5LY+Hrya1/4+TH5cH/AF1c7E/8eYVpVi6x/peuaPp3Uea17KPVIhgf+RHjP/Aa2oJOor7LX7tRPY0rCzi07TbaytxiK2iSFB/sqAB+gqxRRWTbk7sYUUUUgCiiigAooooAKKKKACiiigAooooAKKKKACiiigAooooAKKKKACiiigAooooAKxdA/wCP/Xv+wl/7QhrarF0D/j/17/sJf+0IaANqiiigAooooAKKKKACiiigAooooAKKKKACsvxLby3Hh26+yruuYVFxAPWSMh0H4lQPxrUoq6c3CakugbkVrcxXlnDc27bopo1kRvVSMg/kalrG8MD7Pp8+mEFf7OuXt1B/55/fj/8AHHQfga2adWChNxW36dBLYKKKKzGFFFFAEN5ax31jPaTFhHPG0TlTg4YYOPzqVVCqFHQDFUtb87+wNQ+yeZ5/2WTyvLzu3bTjGOc59KuR58pN2c7RnNLqaNP2ad9Lv9B1FFFMzCiiigAooooAKKKKACiiigAooooAKKKKACiiigArG03/AEvxNqt6cFLcR2UX/ARvc/iZAP8AgFatzcR2lrLcTnbHChdz6ADJrO8M28lv4etjcKUuLgNczqeoklYyMPwLEfQVvD3aUpd7L9f0/EXU1aKKKwGFFFFABRRRQAUUUUAFFFFABRRRQAUUUUAFFFFABRRRQAUUUUAFFFFABRRRQAUUUUAFYugf8f8Ar3/YS/8AaENbVYugf8f+vf8AYS/9oQ0AbVFFFABRRRQAUUUUAFFFFABRRRQAUUUUAFFFFAGL/wAePjT0j1O0/DzYT/Nlk/KOtqsXxRiDTYtT5B0udbokDpGMrL/5DZ62q3qe9CM/l93/AALCQUUUVgMKKKKAIby6jsbGe7m3eXBG0j7Rk4UZOPyqVWDKGHQjIqG/tFv9NubN2KLcRNEWHUBgRn9amVdiKo7DFLW5fu8i7i0UUUyAooooAKKKKACiiigAooooAKKKKACiiigAooooAxfE+Lixt9LwSdSuUt2APWPl5PzjRx+IrarFXF940ZusemWu3282Y5P4hEH4SVtVvV92EYfP7/8AgWEgooorAYUUUUAFFFFABRRRQAUUUUAFFFFABRRRQAUUUUAFFFFABRRRQAUUUUAFFFFABRRRQAVi6B/x/wCvf9hL/wBoQ1tVi6B/x/69/wBhL/2hDQBtUUUUAFFFFABRRRQAUUUUAFFFFABRRRQAUUUUAMmhjuIJIZlDxyKUdT0YEYIrL8MTSSaDFb3LF7iyZrSZj1Zozt3H/eADf8CrXrGtv9B8X3kHAj1GFbpOesiYjk/8d8n9a3p+9TlD5/d/wHf5Ce5s0UUVgMKKKKAKOtyyweH9QmtmKzR2sjRsvUMFJBH41cjJMSE9SozTLm4is7Sa5uG2xQo0jtjOFAyT+QqRSGUEdCMil1NG/wB2lbq9fuFooopmYUUUUAFFFFABRRRQAUUUUAFFFFABRRRQAUhIVSWIAAySe1LWR4nkc6K1nCcTahItmmDggOcMR9E3t/wGrpw55qPcT0Q3wsDNpL6k4w+pzPd8jB2NgR59xGsY/CtmmxxpFEscShURQqqOgA6CnU6k+ebkC0QUUUVmMKKKKACiiigAooooAKKKKACiiigAooooAKKKKACiiigAooooAKKKKACiiigAooooAKxdA/4/9e/7CX/tCGtqsXQP+P8A17/sJf8AtCGgDaooooAKKKKACiiigAooooAKKKKACiiigAooooAKxfEn+iwWmrD/AJh1wskh/wCmTfJJ+AVt3/ABW1UdzbxXdrLbXCB4pkMbqf4lIwR+VaUpqE1J7dfTr+AnsSUVleGriWbRI4bp991Zs1rOx6s0Z27v+BABvowrVpVIOE3F9BrUKKKKgCtqNp/aGl3dnv8AL+0QvFvxnbuUjOO/WrCLsjVeuBiqes3EtnoN/c27bZYbaSRGxnDBSQfzFW4yWiQnqVBNTpc1al7NPpd/oOoooqjIKKKKACiiigAooooAKKKKACiiigAooooAKxZP9P8AGMUfWLS7cyt/11lyq/iEV/8AvsVsswVSzEBQMkk9Kx/DAM2mSanIMSanM11yMERnAiH/AH7VPxzW9L3YSn8vv/4FxPsbNFFFYDCiiigAooooAKKKKACiiigAooooAKKKKACiiigAooooAKKKKACiiigAooooAKKKKACiiigArF0D/j/17/sJf+0Ia2qxdA/4/wDXv+wl/wC0IaANqiiigAooooAKKKKACiiigAooooAKKKKACiiigAooooAxYv8AiX+MJo+kOqQiZf8ArtGAjfiUMf8A37NbVY/iZGj0xNRhUtNpkou1AGSVUESKPcxs4HuRWsjrLGskbBkYBlYHIIPet6nvQjP5fd/wLCXYdRRRWAyO4ligtZZbllWGNC0hboFAyc/hTwQVBHQjiq2qWjX+j3lmjBWuIHiVj0BZSM/rVhF2Rqp7AClrcu0eRO+o6iiimQFFFFABRRRQAUUUUAFFFFABRRRQAUUUUAY/idml0tdNiJEupyraDBwQjZMhHuIw5HuBWuiLGioihVUYAAwAKxov+Jh4vml6w6XCIF/67SAM/wCSCP8A77atqt6nuwjD5/f/AMCwl3CiiisBhRRRQAUUUUAFFFFABRRRQAUUUUAFFFFABRRRQAUUUUAFFFFABRRRQAUUUUAFFFFABRRRQAVi6B/x/wCvf9hL/wBoQ1tVi6B/x/69/wBhL/2hDQBtUUUUAFFFFABRRRQAUUUUAFFFFABRRRQAUUUUAFFFFAAQCCCMg9QaxvDZNtaT6S+d2mymBM94T80R98IQufVTWzWLqH/Eu8SWWoDiK8Asbg54ByWhY/8AAiy/WUVvS96MqffVeq/4F/mJ9zaooorAZT1e6ksdEvruHb5kFvJIm4ZGVUkZ/KrUbFo1Y9SAabceT9ll+1+X5Gw+b5mNu3HOc8Yx608Y2jbjGOMUupba5Era33+4WiiimQFFFFABRRRQAUUUUAFFFFABRRRQAVBe3cVhYT3dwSIoI2kfAycAZOPep6xdaH2/UdP0gcpJJ9quef8AllEQQD/vSFBjuA3vWtKKnNJ7dfRbiZP4fs5bPR4/tYxd3Ba4ufaRzuYfQZ2j2UVp0UVM5ucnJ9R7BRRRUAFFFFABRRRQAUUUUAFFFFABRRRQAUUUUAFFFFABRRRQAUUUUAFFFFABRRRQAUUUUAFFFFABWLoH/H/r3/YS/wDaENbVYugf8f8Ar3/YS/8AaENAG1RRRQAUUUUAFFFFABRRRQAUUUUAFFFFABRRRQAUUUUAFVNVsF1TSrizZthlT5HHWNxyrD3DAH8Kt0VUZOMlJboCjo2oHU9JhuZEEc2Ck8Y/5ZyqSrr+DAir1YsH/Es8UzW54g1RfPj9BMgCuv8AwJQrAequa2q0rRSleOz1X9eWwkVNXtZL7Rb60h2iSe3kiTccDLKQM/nVmNSsaqeoAFV9Uu2sNHvLyNQzW8DyqrdCVUnH6VYRt8ase4Brn05jZ83s12u/0HUUUVRkFFFFABRRRQAUUUUAFFFFABRRRQAVjaD/AKdPe60cEXjiO3P/AEwjJCn/AIExd/o49Kf4ink+wJYWrsl1qMn2aNlPMYIJdx/uoGI9wo71pQQR21vHBboI4okCIg6KoGAPyrde5Sv1l+S/zf5MXUkooorAYUUUUAFFFFABRRRQAUUUUAFFFFABRRRQAUUUUAFFFFABRRRQAUUUUAFFFFABRRRQAUUUUAFFFFABWLoH/H/r3/YS/wDaENbVYugf8f8Ar3/YS/8AaENAG1RRRQAUUUUAFFFFABRRRQAUUUUAFFFFABRRRQAUUUUAFFFFAGdrtlNe6aWstv222cXFqWOB5i9FJ7BhlSfRjVnT72LUtOgvLfd5c8YdQwwy5HQjsR0I7GrFYtj/AMSrxBcaeeLa+3Xlr6K+f3yfiSJB3Jd+y1vH36bj1Wq9Ov8An94tma1xFFNayxXKq0LoVkDdCpGDn8KeAAoA6AcVT1m3kvNBv7a3XdLNbSRoM4yxUgfqatxgrEgPUKAa5+pq17id+u33DqKKKZmFFFFABRRRQAUUUUAFFFFABRRWbrt5NbWAhsmC3144t7UkZ2uQSWx3CqGY+y1cIuclFAQadnUteu9SYfuLbNna5HXB/euPqwC/9s/etmoLGyh07T4LO1BEMEYjTJycAdSe59TU9VVkpS02Wi9P61fmJBRRRWQwooooAKKKKACiiigAooooAKKKKACiiigAooooAKKKKACiiigAooooAKKKKACiiigAooooAKKKKACsXQP+P/Xv+wl/7QhrarF0D/j/ANe/7CX/ALQhoA2qKKKACiiigAooooAKKKKACiiigAooooAKKKKACiiigAooooAKz9asZL2xDWm0Xtq4ntWY4AkUEYJ9GBZT7Ma0KKqEnCSkgM3+2o38NS6xBGWWO3eYxMdrBkB3IfQggqfQg1oo2+NW6ZGawbm3isdVmtrhc6ZreUcZwI5yuCOOgdR7fMPV63lAVQB0AwKqrDllePwvb+vLYq8eS3W4tFFNllSGF5ZTtRFLMfQCsyVroh1FAIIBByD0IooAKKKKACiiigAooooAKxdN/wCJrrE2rNzbwbrWy/2hn95J+LKFHsmRw1Sa3cSyeTpVjI0d1fZBkQ8wQj78n15Cj/aZewNaVvbxWlrFbW0axQwoI40UYCqBgAfhW6/d079Zfl1+/b7xbskooorAYUUUUAFFFFABRRRQAUUUUAFFFFABRRRQAUUUUAFFFFABRRRQAUUUUAFFFFABRRRQAUUUUAFFFFABRRRQAVi6B/x/69/2Ev8A2hDW1WLoH/H/AK9/2Ev/AGhDQBtUUUUAFFFFABRRRQAUUUUAFFFFABRRRQAUUUUAFFFFABRRRQAUUUUAVdT06DVtMuLC7BMM6FG2nBX0IPYg4IPYisPR7GeeOS0vdX1Bb6zIScLIoDgj5ZFG37rDnvghhnKmumrN1SzmMkWoacM3ltn93nAuIz96M5491PZgOxYHSCjNckvk/P8Ayf8AwTSNWcFaLGf2G/8A0F9S/wC/q/8AxNMl0aZIXaLVNTkdVJVPPQbj2GSvFaNjew6jZRXVqxaKQZGRgqehUg8ggggg8ggg1PWMqaTs1qaLE1N7/gjD8NQz2TX2nzXL3C2sqLGWx8oaNW2j2BPA7Ctyoo5oZJpo4mUyRMBIAOQSARn8CKloirKxNabqT52rN2/Lf57hRRRVGIUUUUAFQ3d3DY2ct1dP5cMSlnbGcD6dz7d6mrGiP9u6itwCTptnJ+6Ha5lH8fuingerDP8ACpOlOClrLZb/ANd2JkujWs377UtQQpeXmCY2Ofs8Y+5F9Rkk+rM3bFalFFKc3OXMxhRRRUAFFFFABRRRQAUUUUAFFFFABRRRQAUUUUAFFFFABRRRQAUUUUAFFFFABRRRQAUUUUAFFFFABRRRQAUUUUAFYugf8f8Ar3/YS/8AaENbVYugf8f+vf8AYS/9oQ0AbVFFFABRRRQAUUUUAFFFFABRRRQAUUUUAFFFFABRRRQAUUUUAFFFFABRRRQBk3UEulXkmo2MbywS/NeW0YJYkD/WoB1bAwVH3gOORhtKCeK6t457aRZYZFDJIhyrA9CDUlZU9nc6dcvd6QnmpK2+4stwUOT1eMnhXPUg4Vj1wSWrdNVFZ7/1v/mLYs2lk1vqF9cMwIupEdQP4cIF/pVysHTfFNjeXt/HNeQwC3kRVjnPlSLlASGVsEHJNXoNbsbjUfscd1bs7Lui2TK3meo46Eenpz645tIvleh1TpVpe810X3WX6GhRRRVHMFFMmmit4XmuJEiijG53dgqqPUk9KyfPuNeyloZrPTjw9zgxyzj0j7qp/v8ABx93qHGkKblrsu4rjrqR9amksLN2SzRil3co2CxHWFCO/ZmH3eQPmyU1Y40hiSKFFjjRQqIowFA6ADsKSCCK2gSG3jWOKMbURRgKPSn0TndcsdkAUUUVmMKKKKACiiigAooooAKKKKACiiigAooooAKKKKACiiigAooooAKKKKACiiigAooooAKKKKACiiigAopNw9R+dG4eo/OgBaKTcPUfnRuHqPzoAWsXQP8Aj/17/sJf+0Ia2dw9R+dY2gMPt+vcj/kJf+0IaANqik3D1H50bh6j86AFopNw9R+dG4eo/OgBaKTcPUfnRuHqPzoAWik3D1H50bh6j86AFopNw9R+dG4eo/OgBaKTcPUfnRuHqPzoAWik3D1H50bh6j86AFopNw9R+dG4eo/OgBaKTcPUfnRuHqPzoAWik3D1H50bh6j86AFopNw9R+dG4eo/OgBaKTcPUfnRuHqPzoAztT0Gw1WRJriLZcxjCXMR2yKPTPcf7JyPaua1vw/q0Nu1wH0+9SAq4kcG2kRVOT9wEFjxyAvtXbbh6j86Nw9R+dXzXjyyV15/1c2pVp0pqUXsc5puteIBZquq+Gbwz/34Li3KsPU5kUg+uBj+VW/tfiG6GINMtbEEf6y7ufMZf+AIMH/vsVsbh6j86Nw9R+dXGpGKtyL8f87GU3zSctr9jKi0JZJkuNYuX1KdDuRZBthjOcgrEOMjsW3MPWtak3D1H50bh6j86idSU/iYhaKTcPUfnRuHqPzqAFopNw9R+dG4eo/OgBaKTcPUfnRuHqPzoAWik3D1H50bh6j86AFopNw9R+dG4eo/OgBaKTcPUfnRuHqPzoAWiqt7fx2PktMreVJJsaVfuxZBwzegyAM9iRnjmrVABRXI6b4o1zVNf8Q6TDpVgs2i3Ece97x9swkiWRBny8g4bBOMA9N3Z1j42Os6BpeoaVptxm9untLkSJkacybxIZcHorJtzkZyDmgDrKK5XTPF82saXrx0+2tZb/R52gIFzmCc+WsisrhSQCrjIxwQR71DoPi7WtX8N2+uyeHGFncaONQiSG4DyvLt3eSEIGdw5Vvpnk4AB2FFcraeMwfE2l6LfwxRz6ravPGiSDzLd0VWaKVOoOG4YdSrDA4zBaeLtYvdW8TadFpVmk2gyKC7XTFJleFZUAOzIYhsHjC4/izQB2NFcXB4/efQvDuvHThHpuu3FvborzfvojNwjEY2kbsDGehz1+Wpbjx1DJrOsadp0mniTSNqSC9uxD58xQP5a/3QAVy5zycYOCaAOvorz1vFl/rviLwXeaHHbvpeq2k94kc0zI5cRLwxCsBtEjDAzk9+K29R8Y29p4qTw+stnb3S2Yu7ma6n2xxKzFUVem9iVb0wBnuAQDp6K4Gf4kzNpGk32n6ZBcfbNXbR7iP7Uf3c4Z0BRghDoWXO7j5WBx2rr9HuNSubN21mwjsbhZpEVI5/NV0DEI+cDG4YODyKAL9FFFABRRRQAVDd2ltf2sltfW8VzbyDDxTIHRx6EHg1NRQBhf8ACD+E/wDoV9G/8F8X/wATR/wg/hP/AKFfRv8AwXxf/E1u0UAYX/CD+E/+hX0b/wAF8X/xNH/CD+E/+hX0b/wXxf8AxNbtFAGF/wAIP4T/AOhX0b/wXxf/ABNZGh+DPC8l9rYk8N6Q4j1DagawiO0eTEcD5eBkk/jXaVi6B/x/69/2Ev8A2hDQAz/hB/Cf/Qr6N/4L4v8A4mj/AIQfwn/0K+jf+C+L/wCJrdooAwv+EH8J/wDQr6N/4L4v/iaP+EH8J/8AQr6N/wCC+L/4mt2igDC/4Qfwn/0K+jf+C+L/AOJo/wCEH8J/9Cvo3/gvi/8Aia3aKAML/hB/Cf8A0K+jf+C+L/4mj/hB/Cf/AEK+jf8Agvi/+JrdooAwv+EH8J/9Cvo3/gvi/wDiaP8AhB/Cf/Qr6N/4L4v/AImt2igDC/4Qfwn/ANCvo3/gvi/+Jo/4Qfwn/wBCvo3/AIL4v/ia3aKAML/hB/Cf/Qr6N/4L4v8A4mj/AIQfwn/0K+jf+C+L/wCJrdooAwv+EH8J/wDQr6N/4L4v/iaP+EH8J/8AQr6N/wCC+L/4mt2igDC/4Qfwn/0K+jf+C+L/AOJo/wCEH8J/9Cvo3/gvi/8Aia3aKAML/hB/Cf8A0K+jf+C+L/4mj/hB/Cf/AEK+jf8Agvi/+JrdooAwv+EH8J/9Cvo3/gvi/wDiaP8AhB/Cf/Qr6N/4L4v/AImt2igDC/4Qfwn/ANCvo3/gvi/+Jo/4Qfwn/wBCvo3/AIL4v/ia3aKAML/hB/Cf/Qr6N/4L4v8A4mj/AIQfwn/0K+jf+C+L/wCJrdooAwv+EH8J/wDQr6N/4L4v/iaP+EH8J/8AQr6N/wCC+L/4mt2igDC/4Qfwn/0K+jf+C+L/AOJo/wCEH8J/9Cvo3/gvi/8Aia3aKAML/hB/Cf8A0K+jf+C+L/4mj/hB/Cf/AEK+jf8Agvi/+JrdooAwv+EH8J/9Cvo3/gvi/wDiaP8AhB/Cf/Qr6N/4L4v/AImt2igDC/4Qfwn/ANCvo3/gvi/+Jo/4Qfwn/wBCvo3/AIL4v/ia3aKAML/hB/Cf/Qr6N/4L4v8A4mj/AIQfwn/0K+jf+C+L/wCJrdooAwv+EH8J/wDQr6N/4L4v/iaP+EH8J/8AQr6N/wCC+L/4mt2igDC/4Qfwn/0K+jf+C+L/AOJo/wCEH8J/9Cvo3/gvi/8Aia3aKAOZvPh94ZuvJSPQNIgjWTdLs0+INIoB+UNj5ecZI5wCO+a6VVVECoAqqMAAcAUtFAHnXh+TVE+JnxBOlQWc+buzGLmdotrfY4u6o2R7cdPfgt/hrdadY6BDDdwaktje3F9qNtdFoob6eXJ8zADY2OcqpBHvkZrt7PQ9J067kutP0uytbiUESTQW6I75OTlgMnnmr1AHF2nhzxDZ6r4ivVksJF1dxOsPmuoV/JSEIx2H5VVAdwGSeNo60618L62PhCvhQ3sOnalDpi6fDe2krOBsjCCTJVSpOOgzjPBNdlRQBwdz4M1WTUPDt1pkWmaQmixTwpbW8jOqiaLYXVigyVIUhSPm5ywqzp/h7XbLXfF+oNFpzDXDG9ugu3+QpCsID/uuhC7sjOOmD1rs6KAPN/8AhCPEKfD/AMKaAg0xp9Cu7O4kkN1IFlFu4YAfusgtj/gPvW/p3h3UNA8Q6xqGki1mt9ZkS6mt55WjME4QIxVgjblYKpwQMEHrnA6migDmtT0HVJ9a8P6tbz29zc6YJ0nSfMSyrKgBKlQ20gqMAg5GcnPNQQ+Fr7SvFEOu6bPDd3E2nRWGoR3UjR+d5ZykwYBju+ZgQRyCORjnrKKAOP8AFXh/Xtcg0UwGweWw1WLUpFlneNQI84iUiNieD9845Gcc4HXIXMamRVV8DcFOQD7HAz+VOooAKKKKACiiigAooooAKKKKACiiigArF0D/AI/9e/7CX/tCGtqsXQP+P/Xv+wl/7QhoA2qKKKACiiigAooooAKKKKACiiigAooooAKKKKACiiigAooooAKKKKACiiigAooooAKKKKACiiigAooooAKKKKACiiigAooooAKKKKACiiigAooooAKKKKACiiigAooooAKKKKACiiigAooooAKKKKACiiigAooooAKKKKACiiigAooooAKxdA/4/wDXv+wl/wC0Ia2qpafp5sbjUJDJv+2XPn4242fu0THv9zP40AXaKKKACiiigAooooAKKKKACiiigAooooAKKKKACiiigAooooAKKKKACiiigAooooAKKKKACiiigAooooAKKKKACiiigAooooAKKKKACiiigAooooAKKKKACiiigAooooAKKKKACiiigAooooAKKKKACiiigAooooAKKKKACiiigAooooAKKKKACiiigAooooAKKKKACiiigAooooAKKKKACiiigAooooAKKKKACiiigAooooAKKKKACiiigAooooAKKKKACiiigAooooAKKKKACiiigAooooAKKKKACiiigAooooAKKKKACiiigAooooAKKKKACiiigAooooAKKKKACiiigAooooAKKKKACiiigAooooAKKKKACiiigAooooAKKKKACiiigAooooAKKKKACiiigAooooAKKKKACiiigAooooAKKKKACiiigAooooAKKKKACiiigAooooAKKKKACiiigAooooAKKKKACiiigAooooAKKKKACiiigAooooAKKKKACiiigD//2Q==)"
      ]
    },
    {
      "cell_type": "markdown",
      "metadata": {
        "id": "a51Hn-OJ0N3w"
      },
      "source": [
        "## Calculando Gradientes"
      ]
    },
    {
      "cell_type": "markdown",
      "metadata": {
        "id": "GDeaYMUj0QgK"
      },
      "source": [
        "La clave entonces es poder calcular los gradientes que nos dirán cuando tenemos que cambiar cada peso para hacer que nuestro modelo mejore.\n",
        "\n",
        "Pytorch es capaz de calcular de manera automática la derivada de cualquier función. Y lo hace super rápido. Veamos un ejemplo.\n",
        "\n",
        "Primero seleccionemos un valor tensorial del cual queramos sus gradientes:"
      ]
    },
    {
      "cell_type": "code",
      "metadata": {
        "id": "dbvOf2BZpsAd"
      },
      "source": [
        "xt = tensor(3.).requires_grad_()"
      ],
      "execution_count": null,
      "outputs": []
    },
    {
      "cell_type": "markdown",
      "metadata": {
        "id": "DEAZ5uQk14IV"
      },
      "source": [
        "Ojo con el método especial `require_grad_`. Ese es el truco mágico que usamos para decirle a PyTorch que queremos calcular gradientes con respecto a esa variable en ese valor. Básicamente se trata de etiquetar la variable, por lo que PyTorch recordará realizar un seguimiento de cómo calcular los gradientes de cualquier otro cálculo que le pidamos.\n",
        "\n",
        "Ahora calculemos nuestra función con ese valor. Observemos cómo PyTorch imprime no solo el valor calculado, sino también una nota de que tiene una función de gradiente que usará para calcular nuestros gradientes cuando sea necesario:\n"
      ]
    },
    {
      "cell_type": "code",
      "metadata": {
        "colab": {
          "base_uri": "https://localhost:8080/"
        },
        "id": "B77vE-Fn1xOZ",
        "outputId": "7265e28f-a227-4189-c6e9-75d7c2add5c4"
      },
      "source": [
        "yt = f(xt)\n",
        "yt"
      ],
      "execution_count": null,
      "outputs": [
        {
          "output_type": "execute_result",
          "data": {
            "text/plain": [
              "tensor(9., grad_fn=<PowBackward0>)"
            ]
          },
          "metadata": {
            "tags": []
          },
          "execution_count": 36
        }
      ]
    },
    {
      "cell_type": "markdown",
      "metadata": {
        "id": "tVcJqojZ2i7r"
      },
      "source": [
        "Pidamosle entonces a Pytorch que calcule el gradiente:"
      ]
    },
    {
      "cell_type": "code",
      "metadata": {
        "id": "NjYxboNG2e03"
      },
      "source": [
        "yt.backward()"
      ],
      "execution_count": null,
      "outputs": []
    },
    {
      "cell_type": "markdown",
      "metadata": {
        "id": "sYnPPQAL2vA5"
      },
      "source": [
        "Acá el \"backward\" hace referencia a *backpropagation*, que es el nombre que se le da al proceso de calcular la derivada de cada capa. Esto es lo que comúnmente se le llama el \"paso hacia atrás\" de la red neuronal, que es lo opuesto al \"paso hacia adelante\" que es cuando las activaciones son calculadas. \n",
        "\n",
        "Ahora podemos ver los gradientes revisando el atributo grad del tensor:\n",
        "\n"
      ]
    },
    {
      "cell_type": "code",
      "metadata": {
        "colab": {
          "base_uri": "https://localhost:8080/"
        },
        "id": "aSIxJoXF2uBs",
        "outputId": "d4b6641a-f0a4-4c0c-ee38-f8ac00044cb3"
      },
      "source": [
        "xt.grad"
      ],
      "execution_count": null,
      "outputs": [
        {
          "output_type": "execute_result",
          "data": {
            "text/plain": [
              "tensor(6.)"
            ]
          },
          "metadata": {
            "tags": []
          },
          "execution_count": 38
        }
      ]
    },
    {
      "cell_type": "markdown",
      "metadata": {
        "id": "9NQ3qnA23S_I"
      },
      "source": [
        "Recordando algún curso de cálculo que hayamos cursado, sabemos que la derivada de `x**2` es `2*x`, y si tenemos que `x=3`, entonces los gradientes deberían ser `2*3=6`, que fue precisamente el cálculo que hizo Pytorch.\n",
        "\n",
        "Ahora repitamos los mismos pasos pero para un vector como argumento de la función:"
      ]
    },
    {
      "cell_type": "code",
      "metadata": {
        "colab": {
          "base_uri": "https://localhost:8080/"
        },
        "id": "rFa46krJ2ucX",
        "outputId": "8f558c7c-ae0b-4fca-a74b-968a2f4af2a6"
      },
      "source": [
        "xt = tensor([3.,4.,10.]).requires_grad_()\n",
        "xt"
      ],
      "execution_count": null,
      "outputs": [
        {
          "output_type": "execute_result",
          "data": {
            "text/plain": [
              "tensor([ 3.,  4., 10.], requires_grad=True)"
            ]
          },
          "metadata": {
            "tags": []
          },
          "execution_count": 39
        }
      ]
    },
    {
      "cell_type": "markdown",
      "metadata": {
        "id": "dOgf_hLj3xz6"
      },
      "source": [
        "Vamos a agregar una suma a nuestra función para que pueda procesar un vector (tensor de rango 1) y devolver un escalar (tensor de rango 0):"
      ]
    },
    {
      "cell_type": "code",
      "metadata": {
        "colab": {
          "base_uri": "https://localhost:8080/"
        },
        "id": "rxu93QLK3q6M",
        "outputId": "7873e600-bb6d-4555-b737-4d0f2bf4ba37"
      },
      "source": [
        "def f(x): return (x**2).sum()\n",
        "\n",
        "yt = f(xt)\n",
        "yt"
      ],
      "execution_count": null,
      "outputs": [
        {
          "output_type": "execute_result",
          "data": {
            "text/plain": [
              "tensor(125., grad_fn=<SumBackward0>)"
            ]
          },
          "metadata": {
            "tags": []
          },
          "execution_count": 40
        }
      ]
    },
    {
      "cell_type": "markdown",
      "metadata": {
        "id": "hm0B3tPO396B"
      },
      "source": [
        "Nuestros gradientes son `2*xt` como lo esperabamos:"
      ]
    },
    {
      "cell_type": "code",
      "metadata": {
        "colab": {
          "base_uri": "https://localhost:8080/"
        },
        "id": "pYrpFudP3tvI",
        "outputId": "d6581321-2ebb-44c3-bd41-30acab954c30"
      },
      "source": [
        "yt.backward()\n",
        "xt.grad"
      ],
      "execution_count": null,
      "outputs": [
        {
          "output_type": "execute_result",
          "data": {
            "text/plain": [
              "tensor([ 6.,  8., 20.])"
            ]
          },
          "metadata": {
            "tags": []
          },
          "execution_count": 41
        }
      ]
    },
    {
      "cell_type": "markdown",
      "metadata": {
        "id": "08meKztO7Apt"
      },
      "source": [
        "## Agregando una tasa de aprendizaje"
      ]
    },
    {
      "cell_type": "markdown",
      "metadata": {
        "id": "z2rNRGD_7DDo"
      },
      "source": [
        "Decidir cómo cambiar nuestros parámetros en función de los valores de los gradientes es una parte importante en deep learning. Casi todos los enfoques comienzan con la idea básica de multiplicar el gradiente por un número pequeño, llamado *tasa de aprendizaje* (Learning Rate, LR). La tasa de aprendizaje suele ser un número entre 0.001 y 0.1, aunque podría ser cualquier cosa. A menudo, los data scientist seleccionan una tasa de aprendizaje simplemente probando algunas y encontrando cuál da como resultado el mejor modelo después del entrenamiento. Una vez que se haya elegido una tasa de aprendizaje, se puede ajustar los parámetros usando esta sencilla función:\n",
        "\n",
        "`w -= gradient(w)*lr`\n",
        "\n",
        "\n",
        "Esto se conoce como *escalonamiento* (stepping) de parámetros, usando un *paso optimizador*.\n",
        "\n",
        "Si elegimos una tasa de aprendizaje que es demasiado baja, puede significar tener que realizar muchos pasos como muestra la siguiente figura."
      ]
    },
    {
      "cell_type": "markdown",
      "metadata": {
        "id": "dujR0F9r_1fs"
      },
      "source": [
        "![fastai2.JPG](data:image/jpeg;base64,/9j/4AAQSkZJRgABAQEAeAB4AAD/4REKRXhpZgAATU0AKgAAAAgABAE7AAIAAAAVAAAISodpAAQAAAABAAAIYJydAAEAAAAqAAAQ2OocAAcAAAgMAAAAPgAAAAAc6gAAAAgAAAAAAAAAAAAAAAAAAAAAAAAAAAAAAAAAAAAAAAAAAAAAAAAAAAAAAAAAAAAAAAAAAAAAAAAAAAAAAAAAAAAAAAAAAAAAAAAAAAAAAAAAAAAAAAAAAAAAAAAAAAAAAAAAAAAAAAAAAAAAAAAAAAAAAAAAAAAAAAAAAAAAAAAAAAAAAAAAAAAAAAAAAAAAAAAAAAAAAAAAAAAAAAAAAAAAAAAAAAAAAAAAAAAAAAAAAAAAAAAAAAAAAAAAAAAAAAAAAAAAAAAAAAAAAAAAAAAAAAAAAAAAAAAAAAAAAAAAAAAAAAAAAAAAAAAAAAAAAAAAAAAAAAAAAAAAAAAAAAAAAAAAAAAAAAAAAAAAAAAAAAAAAAAAAAAAAAAAAAAAAAAAAAAAAAAAAAAAAAAAAAAAAAAAAAAAAAAAAAAAAAAAAAAAAAAAAAAAAAAAAAAAAAAAAAAAAAAAAAAAAAAAAAAAAAAAAAAAAAAAAAAAAAAAAAAAAAAAAAAAAAAAAAAAAAAAAAAAAAAAAAAAAAAAAAAAAAAAAAAAAAAAAAAAAAAAAAAAAAAAAAAAAAAAAAAAAAAAAAAAAAAAAAAAAAAAAAAAAAAAAAAAAAAAAAAAAAAAAAAAAAAAAAAAAAAAAAAAAAAAAAAAAAAAAAAAAAAAAAAAAAAAAAAAAAAAAAAAAAAAAAAAAAAAAAAAAAAAAAAAAAAAAAAAAAAAAAAAAAAAAAAAAAAAAAAAAAAAAAAAAAAAAAAAAAAAAAAAAAAAAAAAAAAAAAAAAAAAAAAAAAAAAAAAAAAAAAAAAAAAAAAAAAAAAAAAAAAAAAAAAAAAAAAAAAAAAAAAAAAAAAAAAAAAAAAAAAAAAAAAAAAAAAAAAAAAAAAAAAAAAAAAAAAAAAAAAAAAAAAAAAAAAAAAAAAAAAAAAAAAAAAAAAAAAAAAAAAAAAAAAAAAAAAAAAAAAAAAAAAAAAAAAAAAAAAAAAAAAAAAAAAAAAAAAAAAAAAAAAAAAAAAAAAAAAAAAAAAAAAAAAAAAAAAAAAAAAAAAAAAAAAAAAAAAAAAAAAAAAAAAAAAAAAAAAAAAAAAAAAAAAAAAAAAAAAAAAAAAAAAAAAAAAAAAAAAAAAAAAAAAAAAAAAAAAAAAAAAAAAAAAAAAAAAAAAAAAAAAAAAAAAAAAAAAAAAAAAAAAAAAAAAAAAAAAAAAAAAAAAAAAAAAAAAAAAAAAAAAAAAAAAAAAAAAAAAAAAAAAAAAAAAAAAAAAAAAAAAAAAAAAAAAAAAAAAAAAAAAAAAAAAAAAAAAAAAAAAAAAAAAAAAAAAAAAAAAAAAAAAAAAAAAAAAAAAAAAAAAAAAAAAAAAAAAAAAAAAAAAAAAAAAAAAAAAAAAAAAAAAAAAAAAAAAAAAAAAAAAAAAAAAAAAAAAAAAAAAAAAAAAAAAAAAAAAAAAAAAAAAAAAAAAAAAAAAAAAAAAAAAAAAAAAAAAAAAAAAAAAAAAAAAAAAAAAAAAAAAAAAAAAAAAAAAAAAAAAAAAAAAAAAAAAAAAAAAAAAAAAAAAAAAAAAAAAAAAAAAAAAAAAAAAAAAAAAAAAAAAAAAAAAAAAAAAAAAAAAAAAAAAAAAAAAAAAAAAAAAAAAAAAAAAAAAAAAAAAAAAAAAAAAAAAAAAAAAAAAAAAAAAAAAAAAAAAAAAAAAAAAAAAAAAAAAAAAAAAAAAAAAAAAAAAAAAAAAAAAAAAAAAAAAAAAAAAAAAAAAAAAAAAAAAAAAAAAAAAAAAAAAAAAAAAAAAAAAAAAAAAAAAAAAAAAAAAAAAAAAAAAAAAAAAAAAAAAAAAAAAAAAAAAAAAAAAAAAAAAAAAAAAAAAAAAAAAAAAAAAAAAAAAAAAAAAAAAAAAAAAAAAAAAAAAAAAAAAAAAAAAAAAAAAAAAAAAAAAAAAAAAAAAAAAAAAAAAAAAAAAAAAAAAAAAAAAAAAAAAAAAAAAAAAAAAAAAAAAAAAAAAAAAAAAAAAAAAAAAAAAAAAAAAAAAAAAAAAAAAAAAAAAAAAAAAAAAAAAAAAAAAAAAAAAAAAAAAAAAAAAAAAAAAAAAAAAAAAAAAAAAAAAAAAAAAAAAAAAAAAAAAAAAAAAAAAAAAAAAAAAAAAAAAAAAAAAAAAAAAAAAAAAAAAAAAAAAAAAAAAAAAAAAAAAAAAAAAAAAAAAAAAAAAAAAAAAAAAAAAAAAAAAAAAAAAAAAAAAAAAAAAAAAAAAAAAAAAAAAAAAAAAAAAAAAAAAAAAAAAAAAAAAAAAAAAAAAAAAAAAAAAAAAAAAAAAAAAAAAAAAAAAAAAAAAAAAAAAAAAAAAAAAAAAAAAAAAAAAAAAAAAAAAAAAAAAAAAAAAAAAAAAAAAAAAAAAAAAAAAAAAAAAAAAAAAAAAAAAAAAAAAAAAAAAAAAAAAAAAAAAAAAAAAAAAAAAAAAAAAAAAAAAAAAAAAAAAAAAAAAAAAAAAAAAAAAAAAAAAAAAAAAAAAAAAAAAAAAAAAAAAAAAAAAAAAAAAAAAAAAAAAAAAAAAAAAAAAAAAAAAAAAAAAAAAAAAAAAAAAAAAAAAAAAAAAAAAAAAAAAAAAAAAAAAAAAAAAAAAAAAAAAAAAAAAAAAAAAAAAAAAAAAAAAAAAAAAAAAAAAAAAAAAAAAAAAAAAAAAAAAAAAAAAAAAAAAAAAAAAAAAAAAAAAAAAAAAAAAAAAAAAAAAAAAAAAAAAAAAAAAAAAAAAAAAAAAAAAAAAAAEFsb25zbyBBc3Ryb3phIFRhZ2xlAAAABZADAAIAAAAUAAAQrpAEAAIAAAAUAAAQwpKRAAIAAAADNjAAAJKSAAIAAAADNjAAAOocAAcAAAgMAAAIogAAAAAc6gAAAAgAAAAAAAAAAAAAAAAAAAAAAAAAAAAAAAAAAAAAAAAAAAAAAAAAAAAAAAAAAAAAAAAAAAAAAAAAAAAAAAAAAAAAAAAAAAAAAAAAAAAAAAAAAAAAAAAAAAAAAAAAAAAAAAAAAAAAAAAAAAAAAAAAAAAAAAAAAAAAAAAAAAAAAAAAAAAAAAAAAAAAAAAAAAAAAAAAAAAAAAAAAAAAAAAAAAAAAAAAAAAAAAAAAAAAAAAAAAAAAAAAAAAAAAAAAAAAAAAAAAAAAAAAAAAAAAAAAAAAAAAAAAAAAAAAAAAAAAAAAAAAAAAAAAAAAAAAAAAAAAAAAAAAAAAAAAAAAAAAAAAAAAAAAAAAAAAAAAAAAAAAAAAAAAAAAAAAAAAAAAAAAAAAAAAAAAAAAAAAAAAAAAAAAAAAAAAAAAAAAAAAAAAAAAAAAAAAAAAAAAAAAAAAAAAAAAAAAAAAAAAAAAAAAAAAAAAAAAAAAAAAAAAAAAAAAAAAAAAAAAAAAAAAAAAAAAAAAAAAAAAAAAAAAAAAAAAAAAAAAAAAAAAAAAAAAAAAAAAAAAAAAAAAAAAAAAAAAAAAAAAAAAAAAAAAAAAAAAAAAAAAAAAAAAAAAAAAAAAAAAAAAAAAAAAAAAAAAAAAAAAAAAAAAAAAAAAAAAAAAAAAAAAAAAAAAAAAAAAAAAAAAAAAAAAAAAAAAAAAAAAAAAAAAAAAAAAAAAAAAAAAAAAAAAAAAAAAAAAAAAAAAAAAAAAAAAAAAAAAAAAAAAAAAAAAAAAAAAAAAAAAAAAAAAAAAAAAAAAAAAAAAAAAAAAAAAAAAAAAAAAAAAAAAAAAAAAAAAAAAAAAAAAAAAAAAAAAAAAAAAAAAAAAAAAAAAAAAAAAAAAAAAAAAAAAAAAAAAAAAAAAAAAAAAAAAAAAAAAAAAAAAAAAAAAAAAAAAAAAAAAAAAAAAAAAAAAAAAAAAAAAAAAAAAAAAAAAAAAAAAAAAAAAAAAAAAAAAAAAAAAAAAAAAAAAAAAAAAAAAAAAAAAAAAAAAAAAAAAAAAAAAAAAAAAAAAAAAAAAAAAAAAAAAAAAAAAAAAAAAAAAAAAAAAAAAAAAAAAAAAAAAAAAAAAAAAAAAAAAAAAAAAAAAAAAAAAAAAAAAAAAAAAAAAAAAAAAAAAAAAAAAAAAAAAAAAAAAAAAAAAAAAAAAAAAAAAAAAAAAAAAAAAAAAAAAAAAAAAAAAAAAAAAAAAAAAAAAAAAAAAAAAAAAAAAAAAAAAAAAAAAAAAAAAAAAAAAAAAAAAAAAAAAAAAAAAAAAAAAAAAAAAAAAAAAAAAAAAAAAAAAAAAAAAAAAAAAAAAAAAAAAAAAAAAAAAAAAAAAAAAAAAAAAAAAAAAAAAAAAAAAAAAAAAAAAAAAAAAAAAAAAAAAAAAAAAAAAAAAAAAAAAAAAAAAAAAAAAAAAAAAAAAAAAAAAAAAAAAAAAAAAAAAAAAAAAAAAAAAAAAAAAAAAAAAAAAAAAAAAAAAAAAAAAAAAAAAAAAAAAAAAAAAAAAAAAAAAAAAAAAAAAAAAAAAAAAAAAAAAAAAAAAAAAAAAAAAAAAAAAAAAAAAAAAAAAAAAAAAAAAAAAAAAAAAAAAAAAAAAAAAAAAAAAAAAAAAAAAAAAAAAAAAAAAAAAAAAAAAAAAAAAAAAAAAAAAAAAAAAAAAAAAAAAAAAAAAAAAAAAAAAAAAAAAAAAAAAAAAAAAAAAAAAAAAAAAAAAAAAAAAAAAAAAAAAAAAAAAAAAAAAAAAAAAAAAAAAAAAAAAAAAAAAAAAAAAAAAAAAAAAAAAAAAAAAAAAAAAAAAAAAAAAAAAAAAAAAAAAAAAAAAAAAAAAAAAAAAAAAAAAAAAAAAAAAAAAAAAAAAAAAAAAAAAAAAAAAAAAAAAAAAAAAAAAAAAAAAAAAAAAAAAAAAAAAAAAAAAAAAAAAAAAAAAAAAAAAAAAAAAAAAAAAAAAAAAAAAAAAAAAAAAAAAAAAAAAAAAAAAAAAAAAAAAAAAAAAAAAAAAAAAAAAAAAAAAAAAAAAAAAAAAAAAAAAAAAAAAAAAAAAAAAAAAAAAAAAAAAAAAAAAAAAAAAAAAAAAAAAAAAAAAAAAAAAAAAAAAAAAAAAAAAAAAAAAAAAAAAAAAAAAAAAAAAAAAAAAAAAAAAAAAAAAAAAAAAAAAAAAAAAAAAAAAAAAAAAAAAAAAAAAAAAAAAAAAAAAAAAAAAAAAAAAAAAAAAAAAAAAAAAAAAAAAAAAAAAAAAAAAAAAAAAAAAAAAAAAAAAAAAAAAAAAAAAAAAAAAAAAAAAAAAAAAAAAAAAAAAAAAAAAAAAAAAAAAAAAAAAAAAAAAAAAAAAAAAAAAAAAAAAAAAAAAAAAAAAAAAAAAAAAAAAAAAAAAAAAAAAAAAAAAAAAAAAAAAAAAAAAAAAAAAAAAAAAAAAAAAAAAAAAAAAAAAAAAAAAAAAAAAAAAAAAAAAAAAAAAAAAAAAAAAAAAAAAAAAAAAAAAAAAAAAAAAAAAAAAAAAAAAAAAAAAAAAAAAAAAAAAAAAAAAAAAAAAAAAAAAAAAAAAAAAAAAAAAAAAAAAAAAAAAAAAAAAAAAAAAAAAAAAAAAAAAAAAAAAAAAAAAAAAAAAAAAAAAAAAAAAAAAAAAAAAAAAAAAAAAAAAAAAAAAAAAAAAAAAAAAAAAAAAAAAAAAAAAAAAAAAAAAAAAAAAAAAAAAAAAAAAAAAAAAAAAAAAAAAAAAADIwMjE6MDQ6MTYgMTk6MjE6MzYAMjAyMTowNDoxNiAxOToyMTozNgAAAEEAbABvAG4AcwBvACAAQQBzAHQAcgBvAHoAYQAgAFQAYQBnAGwAZQAAAP/hCydodHRwOi8vbnMuYWRvYmUuY29tL3hhcC8xLjAvADw/eHBhY2tldCBiZWdpbj0n77u/JyBpZD0nVzVNME1wQ2VoaUh6cmVTek5UY3prYzlkJz8+DQo8eDp4bXBtZXRhIHhtbG5zOng9ImFkb2JlOm5zOm1ldGEvIj48cmRmOlJERiB4bWxuczpyZGY9Imh0dHA6Ly93d3cudzMub3JnLzE5OTkvMDIvMjItcmRmLXN5bnRheC1ucyMiPjxyZGY6RGVzY3JpcHRpb24gcmRmOmFib3V0PSJ1dWlkOmZhZjViZGQ1LWJhM2QtMTFkYS1hZDMxLWQzM2Q3NTE4MmYxYiIgeG1sbnM6ZGM9Imh0dHA6Ly9wdXJsLm9yZy9kYy9lbGVtZW50cy8xLjEvIi8+PHJkZjpEZXNjcmlwdGlvbiByZGY6YWJvdXQ9InV1aWQ6ZmFmNWJkZDUtYmEzZC0xMWRhLWFkMzEtZDMzZDc1MTgyZjFiIiB4bWxuczp4bXA9Imh0dHA6Ly9ucy5hZG9iZS5jb20veGFwLzEuMC8iPjx4bXA6Q3JlYXRlRGF0ZT4yMDIxLTA0LTE2VDE5OjIxOjM2LjYwMzwveG1wOkNyZWF0ZURhdGU+PC9yZGY6RGVzY3JpcHRpb24+PHJkZjpEZXNjcmlwdGlvbiByZGY6YWJvdXQ9InV1aWQ6ZmFmNWJkZDUtYmEzZC0xMWRhLWFkMzEtZDMzZDc1MTgyZjFiIiB4bWxuczpkYz0iaHR0cDovL3B1cmwub3JnL2RjL2VsZW1lbnRzLzEuMS8iPjxkYzpjcmVhdG9yPjxyZGY6U2VxIHhtbG5zOnJkZj0iaHR0cDovL3d3dy53My5vcmcvMTk5OS8wMi8yMi1yZGYtc3ludGF4LW5zIyI+PHJkZjpsaT5BbG9uc28gQXN0cm96YSBUYWdsZTwvcmRmOmxpPjwvcmRmOlNlcT4NCgkJCTwvZGM6Y3JlYXRvcj48L3JkZjpEZXNjcmlwdGlvbj48L3JkZjpSREY+PC94OnhtcG1ldGE+DQogICAgICAgICAgICAgICAgICAgICAgICAgICAgICAgICAgICAgICAgICAgICAgICAgICAgICAgICAgICAgICAgICAgICAgICAgICAgICAgICAgICAgICAgICAgICAgICAgICAgCiAgICAgICAgICAgICAgICAgICAgICAgICAgICAgICAgICAgICAgICAgICAgICAgICAgICAgICAgICAgICAgICAgICAgICAgICAgICAgICAgICAgICAgICAgICAgICAgICAgICAKICAgICAgICAgICAgICAgICAgICAgICAgICAgICAgICAgICAgICAgICAgICAgICAgICAgICAgICAgICAgICAgICAgICAgICAgICAgICAgICAgICAgICAgICAgICAgICAgICAgIAogICAgICAgICAgICAgICAgICAgICAgICAgICAgICAgICAgICAgICAgICAgICAgICAgICAgICAgICAgICAgICAgICAgICAgICAgICAgICAgICAgICAgICAgICAgICAgICAgICAgCiAgICAgICAgICAgICAgICAgICAgICAgICAgICAgICAgICAgICAgICAgICAgICAgICAgICAgICAgICAgICAgICAgICAgICAgICAgICAgICAgICAgICAgICAgICAgICAgICAgICAKICAgICAgICAgICAgICAgICAgICAgICAgICAgICAgICAgICAgICAgICAgICAgICAgICAgICAgICAgICAgICAgICAgICAgICAgICAgICAgICAgICAgICAgICAgICAgICAgICAgIAogICAgICAgICAgICAgICAgICAgICAgICAgICAgICAgICAgICAgICAgICAgICAgICAgICAgICAgICAgICAgICAgICAgICAgICAgICAgICAgICAgICAgICAgICAgICAgICAgICAgCiAgICAgICAgICAgICAgICAgICAgICAgICAgICAgICAgICAgICAgICAgICAgICAgICAgICAgICAgICAgICAgICAgICAgICAgICAgICAgICAgICAgICAgICAgICAgICAgICAgICAKICAgICAgICAgICAgICAgICAgICAgICAgICAgICAgICAgICAgICAgICAgICAgICAgICAgICAgICAgICAgICAgICAgICAgICAgICAgICAgICAgICAgICAgICAgICAgICAgICAgIAogICAgICAgICAgICAgICAgICAgICAgICAgICAgICAgICAgICAgICAgICAgICAgICAgICAgICAgICAgICAgICAgICAgICAgICAgICAgICAgICAgICAgICAgICAgICAgICAgICAgCiAgICAgICAgICAgICAgICAgICAgICAgICAgICAgICAgICAgICAgICAgICAgICAgICAgICAgICAgICAgICAgICAgICAgICAgICAgICAgICAgICAgICAgICAgICAgICAgICAgICAKICAgICAgICAgICAgICAgICAgICAgICAgICAgICAgICAgICAgICAgICAgICAgICAgICAgICAgICAgICAgICAgICAgICAgICAgICAgICAgICAgICAgICAgICAgICAgICAgICAgIAogICAgICAgICAgICAgICAgICAgICAgICAgICAgICAgICAgICAgICAgICAgICAgICAgICAgICAgICAgICAgICAgICAgICAgICAgICAgICAgICAgICAgICAgICAgICAgICAgICAgCiAgICAgICAgICAgICAgICAgICAgICAgICAgICAgICAgICAgICAgICAgICAgICAgICAgICAgICAgICAgICAgICAgICAgICAgICAgICAgICAgICAgICAgICAgICAgICAgICAgICAKICAgICAgICAgICAgICAgICAgICAgICAgICAgICAgICAgICAgICAgICAgICAgICAgICAgICAgICAgICAgICAgICAgICAgICAgICAgICAgICAgICAgICAgICAgICAgICAgICAgIAogICAgICAgICAgICAgICAgICAgICAgICAgICAgICAgICAgICAgICAgICAgICAgICAgICAgICAgICAgICAgICAgICAgICAgICAgICAgICAgICAgICAgICAgICAgICAgICAgICAgCiAgICAgICAgICAgICAgICAgICAgICAgICAgICAgICAgICAgICAgICAgICAgICAgICAgICAgICAgICAgICAgICAgICAgICAgICAgICAgICAgICAgICAgICAgICAgICAgICAgICAKICAgICAgICAgICAgICAgICAgICAgICAgICAgICAgICAgICAgICAgICAgICAgICAgICAgICAgICAgICAgICAgICAgICAgICAgICAgICAgICAgICAgICAgICAgICAgICAgICAgIAogICAgICAgICAgICAgICAgICAgICAgICAgICAgICAgICAgICAgICAgICAgICAgICAgICAgICAgICAgICAgICAgICAgICAgICAgICAgICAgICAgICAgICAgICAgICAgICAgICAgCiAgICAgICAgICAgICAgICAgICAgICAgICAgICAgICAgICAgICAgICAgICAgICAgICAgICAgICAgICAgICAgICAgICAgICAgICAgICAgICAgICAgICAgICAgICAgICAgICAgICAKICAgICAgICAgICAgICAgICAgICAgICAgICAgIDw/eHBhY2tldCBlbmQ9J3cnPz7/2wBDAAcFBQYFBAcGBQYIBwcIChELCgkJChUPEAwRGBUaGRgVGBcbHichGx0lHRcYIi4iJSgpKywrGiAvMy8qMicqKyr/2wBDAQcICAoJChQLCxQqHBgcKioqKioqKioqKioqKioqKioqKioqKioqKioqKioqKioqKioqKioqKioqKioqKioqKir/wAARCAGUAfsDASIAAhEBAxEB/8QAHwAAAQUBAQEBAQEAAAAAAAAAAAECAwQFBgcICQoL/8QAtRAAAgEDAwIEAwUFBAQAAAF9AQIDAAQRBRIhMUEGE1FhByJxFDKBkaEII0KxwRVS0fAkM2JyggkKFhcYGRolJicoKSo0NTY3ODk6Q0RFRkdISUpTVFVWV1hZWmNkZWZnaGlqc3R1dnd4eXqDhIWGh4iJipKTlJWWl5iZmqKjpKWmp6ipqrKztLW2t7i5usLDxMXGx8jJytLT1NXW19jZ2uHi4+Tl5ufo6erx8vP09fb3+Pn6/8QAHwEAAwEBAQEBAQEBAQAAAAAAAAECAwQFBgcICQoL/8QAtREAAgECBAQDBAcFBAQAAQJ3AAECAxEEBSExBhJBUQdhcRMiMoEIFEKRobHBCSMzUvAVYnLRChYkNOEl8RcYGRomJygpKjU2Nzg5OkNERUZHSElKU1RVVldYWVpjZGVmZ2hpanN0dXZ3eHl6goOEhYaHiImKkpOUlZaXmJmaoqOkpaanqKmqsrO0tba3uLm6wsPExcbHyMnK0tPU1dbX2Nna4uPk5ebn6Onq8vP09fb3+Pn6/9oADAMBAAIRAxEAPwD6RooooAKKKjuJXhtpJI4JLh0UkRRlQzn0G4gZ+pAoAkorL8N69D4m8P2+rWsE9tFOXAiuAodCrshB2kjqp6E1qUAFFFFABRRRQAUUUUAFFFFABRRRQAUUUUAFFFFABRRRQAUUUUAFFFFABRRRQAUUUUAFFFFABRRRQAUUUUAFFFFABRRRQAUUUUAFFFFABRRRQAUUUUAFFFFABRRRQAUUUUAFFFFABRRRQAUUUUAFFFFABRRRQAUUUUAFFFMlRpIXRJGiZhgSIBlfcZBH5g0AeXeG9fudO8HeEdH09vKudb1S7g+0EA+TGks0jkA8FiFwMgjJzg4wdrW/EOt6F4mbQ7GQapcahpNxd6eLlUQpcQ7RsJUKCrbxjIyCDzgjGhZ+ALCz0Cz0v+0L+Y2F0buyu5TF51vKWZiVKoFOd7AhgQQxFS33gq21V7241O9uZr26szZLcptja2iJDERADgkgEk5OQOwAoA5+z8Y32pT3dvpM2pQ6tBpNzLHo+vWS20k042eU6sEVWUEMrbWI+cH3q74Y8XJrHiiOxlutWsrhbORpNK1mxW3ldtyYkjYIA4UbwdrEfMDjvWpq/g6LX7WSLVtRupW+zS20M0apG8QkADOCF+/hRz068Veh0P8A4mlrf395LeTWcbpbl0Vdu/AZjtAyxAA7DrxQBrUUUUAFFFFABRRRQAUUUUAFFFFABRRRQAUUUUAFFFFABRRRQAUUUUAFFFFABRRRQAUUUUAFFFFABRRRQAUUUUAFFFFABRRRQAUUUUAFFFFABRRRQAUUUUAFFFFABRRRQAUUUUAFFFFABRRRQAUUUUAFFFFABRRRQAVg+I9T1WyEA0u3iUG5gjea4Pyyb5FXYoHI68sRxxgNk43qxfFH/HhZf9hK0/8AR6UAatrNJPbJJNA9u5zuikIJU5x1BIqWiigAooooAKKKKACiiigAooooAzdcvZtOsorqJlVEuYVm3DOY2cI30xuz+FaVUtZsf7T0O9sehuIHjU+hKkA/gaNGv/7U0OxvsYNzbpKR/dJUEj8DxWzSdJSW6ev6fqLqXaKKKxGFFFFABRRRQAUUUUAFFFFABRRRQAUUUUAFFFFABRRRQAUUUUAFFFFABRRRQAUUUUAFFFFABRRRQAVmi9mk8UNYxlfIgsxLKMclnchOfpG/51pVi6D/AKTqGs3/AGlvDBGf9iJQhH/fYk/OtqaXLKT6L8W/8riZtUUUViMKKKKACiiigAooooAKKKKACiiigAooooAKKKKACiiigArF8Uf8eFl/2ErT/wBHpW1WL4o/48LL/sJWn/o9KANqiiigAooooAKKKKACiiigAooooAKxfDX7mC/sDjNlfSoBjornzUH4LIB+FbVYsP8Aovja6j6Lf2STKPV4mKufykiH4VvT96E4/P7v+A2J7m1RRRWAwooooAKKKKACiiigAooooAKKKKACiiigAooooAKKKKACiiigAooooAKKKKACiiigAooooAKKKKAIru5js7Oa6nOI4I2kc+gAyf5VQ8NW0lr4ZsEuABO0QlmwP+Wj/O//AI8xqHxX+90I2I66hNHaEHuruA//AI5vP4VtVu/dorzf5f8ADsXUKKKKwGFFFFABRRRQAUUUUAFFFFABRRRQAUUUUAFFFFABRRRQAVi+KP8Ajwsv+wlaf+j0rarF8Uf8eFl/2ErT/wBHpQBtUUUUAFFFFABRRRQAUUUUAFFFFABWLrn+japot+OBHdG3kP8AsSqVA/7+COtqsrxNBLceGb4W3NxHEZoQO8kZ3p/48orfDtKqk+un36Cexq0VFa3Ed3aQ3MBzHMiyIfUEZFS1i007MYUUUUgCiiigAooooAKKKKACiiigAooooAKKKKACiiigAooooAKKKKACiiigAooooAKKKKACiiigDF1D/SvFuk2vVbaOa9f2IAiX8/Nc/wDAa2qxdLJuvE2s3Z5WExWSenyL5jEfjLg/7vtW1W9bTlj2S/HX9RIKKKKwGFFFFABRRRQAUUUUAFFFFABRRRQAUUUUAFFFFABRRRQAVi+KP+PCy/7CVp/6PStqsXxR/wAeFl/2ErT/ANHpQBtUUUUAFFFFABRRRQAUUUUAFFFFABRRRQBjeFcxaGLFvvafNJaY9FRiI/8AxzYfxrZrFsf9E8X6pbdFvIorxPdgPKf8gkX51tVviNajl31+/US2CiiisBhRRRQAUUUUAFFFFABRRRQAUUUUAFFFFABRRRQAUUUUAFFFFABRRRQAUUUUAFFFFABSMyohZyFVRkk9hS1j+K5GHhq6giYrLebbOMjqGlYRgj6bs/hWlOHPNQ7sT0QeFVY+HYLmUYkvWe8b281i4H4BgPwrYpscaRRLHGoVEUKqjsB0FOoqT55uXdgtEFFFFZjCiiigAooooAKKKKACiiigAooooAKKKKACiiigAooooAKxfFH/AB4WX/YStP8A0elbVYvij/jwsv8AsJWn/o9KANqiiigAooooAKKKKACiiigAooooAKKKKAMXWM22u6NfDoZXs5Tjoki5H/j8cY/GtqsnxPbyXPhq8+zjNxCguIB/00jIkT/x5RTLa51y7tYriD+zGimQSI26TkEZB6VtUd6UX2uv1/V/cXCnzN6peps0VzOrXGu2vlThLFpogzhUZ+YxgvnIxjGPxxXQ2032i0hm27fMRXxnOMjNcyld2NalB04Kd00yWiiirOcKKKKACiiigAooooAKKKKACiiigAooooAKKKKACiiigAooooAKKKKACiiigArF1TN14k0ezAykRlvZOOMIuxQf+BSgj/crarF00favFGr3mcrAIrJPbapkY/iZQP8AgNb0dOafZP8AHT9biZtUUUVgMKKKKACiiigAooooAKKKKACiiigAooooAKKKKACiiigAooooAKxfFH/HhZf9hK0/9HpW1WL4o/48LL/sJWn/AKPSgDaooooAKKKKACiiigAooooAKKKKACiiigArF8KfudFOnng6bPJZgeiI37v/AMhlD+NbVYtqfsnjK+gJOy+t0ukHq6fu5P8Ax3ya3p+9TnH0f3f8BsT3NeaJLiCSGUZSRSrDOMgjBpYolhhSKMYRFCqPQCoNRR5NLukhBMjQuFA6k7TinWKumnWyygh1iUMD1BwM1z9TWz9ne/XYnooopmYUUUUAFFFFABRRRQAUUUUAFFFFABRRRQAUUUUAFFFFABRRRQAUUUUAFFFFADZJFijaSRgqICzMewHesnwpGw8OW9xKpWW9L3kgPUGVi+D9AwH4Unipy3h+W0jYrJfulmpXqPNYIxH0Us34VsKoRQqAKqjAA7Ct/hoer/L/AIf8BdRaKKKwGFFFFABRRRQAUUUUAFFFFABRRRQAUUUUAFFFFABRRRQAUUUUAFYvij/jwsv+wlaf+j0rarF8Uf8AHhZf9hK0/wDR6UAbVFFFABRRRQAUUUUAFFFFABRRRQAUUUUAFYuu/wCjahpGojAEN19nlP8A0zmGzH/fzyj+FbVUdbsDqehXlnGdsksTCNs/dfqp/BgD+FbUZKNRX22fo9H+AnsWbmcWtpNO4JWJGcgdSAM0tvMLi2imUECRA4B7ZGaqWNxHrvh2C4wUjvrYMyjgrvXkfUZxVyCJbe3jhTJWNQoz1wBispRlGTi+hp7vJ5/oPooopEBRRRQAUUUUAFFFFABRRRQAUUUUAFFFFABRRRQAUUUUAFFFFABRRRQAUUUUAY19/pfi3TbUYKWkUl5J7MR5cf5hpD/wGtmsXRMXeraxqXZ5xaRn1SHIP/kRpa2q3r6NQ7L/AIL/ABdhIKKKKwGFFFFABRRRQAUUUUAFFFFABRRRQAUUUUAFFFFABRRRQAUUUUAFYvij/jwsv+wlaf8Ao9K2qxfFH/HhZf8AYStP/R6UAbVFFFABRRRQAUUUUAFFFFABRRRQAUUUUAFFFFAHOacZLXT9d02IsJLOaZoNv3tkq+auPoXZR/uVuWJc6dbGbd5nlLu3dc4Gc+9ZF9KuleK4rxwRBeWTxSkD+OHMifmrTf8AfIrbhlWeCOZM7ZFDLn0IzW1fWan/ADK/6P8AFMtN+ztbruPooorEgKKKKACiiigAooooAKKKKACiiigAooooAKKKKACiiigAooooAKKKKACqup3yaZpN3fTDKW0LysB3CgnH6VarF8Rj7SNP0wc/bbxPM/65x/vWz7HYF/4HWtGKnUSe3X06/gJ7FrQbKTTtAs7W4O6dIgZm/vSHlz+LEmtCiionJzk5PqMKKKKkAooooAKKKKACiiigAooooAKKKKACiiigAooooAKKKKACiiigArF8Uf8AHhZf9hK0/wDR6VtVi+KP+PCy/wCwlaf+j0oA2qKKKACiiigAooooAKKKKACiiigAooooAKKKKAMHxnb+b4aluBuDWTC5yoyQi8SY9zGXH41s2saw2kMSNvVI1UN6gDrT5I0mieOVQyOpVlPcHqK5fw3olpLo6wXE2oNPZSPaSn+0J1yUbaGwHwMrtbj+9WrvKldLZ/g/+G/E0g425ZtpeSv+qOl+0R/a/sxOJdnmAEdVzjI9cHr6ZHrUtctrGhfZAl5ZzXi/ZnjaPN7NIWYuFOQzEY2k/XPoOeprni220zSrTpxjGUHe/wCa+/uFFFFWc4UUUUAFFFFABRRRQAUUUUAFFFFABRRRQAUUUUAFFFFABRRRQAViw/6b40uJesem2qwKf+mkpDuPwVYv++jWyzBFLMQqgZJJ4ArH8LKZNFF+4Ik1KVrw7hghXPyA+4jCD8K3p+7CU/l9/wDwE18xPc2aKKKwGFFFFABRRRQAUUUUAFFFFABRRRQAUUUUAFFFFABRRRQAUUUUAFFFFABWL4o/48LL/sJWn/o9K2qxfFH/AB4WX/YStP8A0elAG1RRRQAUUUUAFFFFABRRRQAUUUUAFFFFABRRRQAVi23+g+MbuDpHqUC3SD1kjxHJ/wCOmH8jW1WL4jP2WOy1UD/jwuVaQ/8ATJ/3b/gA27/gFb0NZOH8yt/l+NhM1Lq6is7cz3DbYwVBIGeSQB+pFTVV1Ky/tCxa28zy9zI27GfusG/pVqufW5o+XkTW+v6W/UKKKKZAUUUUAFFFFABRRRQAUUUUAFFFFABRRRQAUUUUAFFFFABRRRQBj+KHZtEaxibbLqMi2aEdQHOHI9wm9vwrXRFjjVI1CqoAUAcAVjS/6d4ygixmPTLYzt/11lyifkiy/wDfY/Harep7sIw+f3/8BJ/MS3CiiisBhRRRQAUUUUAFFFFABRRRQAUUUUAFFFFABRRRQAUUUUAFFFFABRRRQAVi+KP+PCy/7CVp/wCj0rarF8Uf8eFl/wBhK0/9HpQBtUUUUAFFFFABRRRQAUUUUAFFFFABRRRQAUUUUAFQ3tpFf2FxZ3K7obiJopF9VYYI/I1NRTTad0BzsGqXY8GRzvJi+t3S2uGwDmRJRG5/HBI9iK6KsGOaHSfEt/BcssdtfIl5GW7yArFIMf8Afk/Vz+O9WlZL2jktnr9/9W+Rd/3aVur1+7+vmFFFFZEBRRRQAUUUUAFFFFABRRRQAUUUUAFFFFABRRRQAUUUUAFFFZXiWeSPRZILZttzeutpCc8hpDtLf8BUs3/AaunBzmorqD0IvDP+k2dzqp5Op3DTof8ApkMJFj2KIrfVjW1UcEEdrbRwQIEiiQIijoqgYAqSnVnzzclt+nT8BLYKKKKzGFFFFABRRRQAUUUUAFFFFABRRRQAUUUUAFFFFABRRRQAUUUUAFFFFABWL4o/48LL/sJWn/o9K2qxfFH/AB4WX/YStP8A0elAG1RRRQAUUUUAFFFFABRRRQAUUUUAFFFFABRRRQAUUUUAc145tQ2jw6iMg6fcJNIQMnytwEn4AfN/wAVefXkaNgllqSMQQG+wucH1xitO4giurWW3uEDxTIUdT0ZSMEflWZ4eke50IWl4xee0Z7Oc5wWKfKGz23Ltb/gQrWUXOlzJ6rT5PX87/ebQqRSUZq63/L/Ik0PWo9Yt5MI8c8DbJUdCvPIyM9jg1p1StNPFpqFzOhURzJGiRgfcCAj+tXawje2oVvZuo3T2CiiiqMQooooAKKKKACiiigAooooAKKKKACiiigAooooAKxpf9P8AF8MfBh0uEzHn/ltJlV/EIJP+/grYd1jRndgqqMkk4AFZHhlGk0x9RmXbLqcrXZB6hGwIwfcRqgPvmt6fuwlP5ff/AMC4n2NiiiisBhRRRQAUUUUAFFFFABRRRQAUUUUAFFFFABRRRQAUUUUAFFFFABRRRQAUUUUAFYvij/jwsv8AsJWn/o9K2qxfFH/HhZf9hK0/9HpQBtUUUUAFFFFABRRRQAUUUUAFFFFABRRRQAUUUUAFFFFABWMMaf4uYcLDqsO4f9d4gAfxaPH4RGtmsrxFbyy6Sbi0UtdWTrdQKvVmTkoP95dyf8Crei1zcr2en+X42YmT2t3LLrV/bPjy4FiKYHPzBs/yq9Vazu7O9UT2ckbmSNJCVxkqwypP4dKs1hZrRmk2m9FbRfl+u4UUUUEBRRRQAUUUUAFFFFABRRRQAUUUUAFFFFABRRRQBjeJWM9jDpUZxJqkotjjtHgtKfb92rAH1I9a2FUKoVQAAMAAdKxrP/iYeKLu8OTDYJ9jh9DI2Hlb3/5Zr7FWrarer7sY0/n83/wLfO4l3CiiisBhRRRQAUUUUAFFFFABRRRQAUUUUAFFFFABRRRQAUUUUAFFFFABRRRQAUUUUAFYvij/AI8LL/sJWn/o9K2qxfFH/HhZf9hK0/8AR6UAbVFFFABRRRQAUUUUAFFFFABRRRQAUUUUAFFFFABRRRQAUUUUAcfo80HhzX9W0+684pmOS1EVvJLiFi5A+RTgBiyAeiite08R20+rfYnMqNMc25ktpYtwAyVO9RzwTx2+lGt/6BfWOsjAWBvs9yf+mMhAz/wFwhz2G71NWLrShLf2t1DtDx3QnlLE5YCJ0AH03A46dT1NXWUnaouu/r1/z+Z1wnRmmqid7b37LTp5dzRoooqDkCiiigAooooAKKKKACiiigAooooAKKKKACqeragNL0m5vChkaJMpGOsjnhUHuzEAfWrlY19/xMvElpYDDQ2Si8uP9/JWFfzDt7FF9a1oxUp+9stX/XnsJlvRtPOl6TBau/mSqC80n/PSRiWdvxYk/jV6iiolJzk5PdjCiiipAKKKKACiiigAooooAKKKKACiiigAooooAKKKKACiiigAooooAKKKKACiiigArF8Uf8eFl/2ErT/0elbVYvij/jwsv+wlaf8Ao9KANqiiigAooooAKKKKACiiigAooooAKKKKACiiigAooooAKKKKAI7m3iu7WW2uEDxTIY5FP8SkYI/KsHTtVuoYbHT7lhLdw3psbp3+84WJ3WT6sqo3pyR2roq53XcaTrFprK2jXSSMtrNGm0MrkkRSAsQAQXZOv/LQelbQ96Dp/Neq/wA1+Ni6dufU6KiuePiC5t9aiiu9NvIILjYh8xoW8pi21W+RycMSBz6ZHeuhrnjJS2Lq0ZUrc3XtqFFFFUYhRRRQAUUUUAFFFFABRRRQAUUUUAR3FxFaWstzcyCOGFDJI7dFUDJJ/Cs3w9BMLB769Rku9QkNzKjdYwQAkf8AwFAoPuCe9R6z/wATLUbTRV5jci5vP+uSH5VP++4A91V62q3fuUrdZfl0+9/khbsKKKKwGFFFFABRRRQAUUUUAFFFFABRRRQAUUUUAFFFFABRRRQAUUUUAFFFFABRRRQAUUUUAFYvij/jwsv+wlaf+j0rarF8Uf8AHhZf9hK0/wDR6UAbVFFFABRRRQAUUUUAFFFFABRRRQAUUUUAFFFFABRRRQAUUUUAFQX1lDqNhPZ3SloZ4zG4BwcEdQex96noppuLugMHT4jq2nm3vmVNQsrmJbt1UAyNEyurfRlww9N3tW9XM+KGm0e4t9ctHMcRlhg1EgZ/ceYDvxg/dyw/3XY9hV+x8RWV5qTWInXzWy0HylfMXHI5/iHPHpz64daUOfmWl/6t/XSx0RpVp0uZapX/AE/r5GvRRRUnOFFFFABRRRQAUUUUAFFFFABUc88VrbSXFw6xxRIXd2PCqBkk/hUlYup41bVItHXm3i23N6QeCoOY4/8AgTDJH91SD96tKcFOWu3X0/rbzEyTQIJWgm1O8RkutQYSlGHMUYGI4/bC8kf3mataiilUm5ycgWgUUUVAwooooAKKKKACiiigAooooAKKKKACiiigAooooAKKKKACiiigAooooAKKKKACiiigArF8Uf8AHhZf9hK0/wDR6VtVi+KP+PCy/wCwlaf+j0oA2qKKKACiiigAooooAKKKKACiiigAooooAKKKKACiiigAooooAKKKKAGyxpNE8UqK8bqVZWGQwPUGuY06wkt9Yt7CWTfNYT+essrEtNbGKSOPB7lSdrD/AIEfvjPU1k+IdIbU7JXtWZL22O+BkmaIv6xl1IYK2MHHTg4OMVpC0lyS6/g/63NKc3CV776P0Zo29xHcxl4WyAxQ5GCCDggipa5Pw+Ei1mK4gnuPKvYJzLFPcSSeW6SRoqHeSQ4ywPvnsBXWVkuZXUlZouvTjCS5HdMKKKKZgFFFFABRRRQAUUUUAVdSv49NsJLmRS5GFjjX70jk4VB7kkD8ai0ewksbI/anEt5O5muZF6NIew/2QAFHsoqpZf8AE71JdTbmwtiRYj/no/KtN9MEqvsWbkMMbVbz/dx9n16/5fLr5+gt9QooorAYUUUUAFFFFABRRRQAUUUUAFFFFABRRRQAUUUUAFFFFABRRRQAUUUUAFFFFABRRRQAUUUUAFYvij/jwsv+wlaf+j0rarF8Uf8AHhZf9hK0/wDR6UAbVFFFABRRRQAUUUUAFFFFABRRRQAUUUUAFFFFABRRRQAUUUUAFFFFABRRRQBy/iezurKObUNNcrDMR9uhWIvkgYWZccgrhdxHO0AjlQDq+Hrye90gSXU0c8qSyRGaNcLJscqGA9wM1p1iCH/hG2d7WLOkuxeSKNcm2Ykkuo7oc5IH3eo4zjRR9q/P8/8Ag/8ADeu3tV7H2bXW9/zNuimxyJLGskTK6OAyspyGB6EGnVmYhRRRQAUUUUAFY9+7axdvpVszLbRkfb5l9CM+Sp/vMCNx7KexYES3N7NeXT2GkuFkjYC5usZW3HXaueGkI6Doudzfwq9yzs4LC0S2tU2RJnAJLEknJYk8liSSSeSSSeTW8f3XvPfp/n/l9/a63JkRY41SNQiKMKqjAA9BS0UVgMKKKKACiiigAooooAKKKKACiiigAooooAKKKKACiiigAooooAKKKKACiiigAooooAKKKKACiiigArF8Uf8AHhZf9hK0/wDR6VtVi+KP+PCy/wCwlaf+j0oA2qKKKACiiigAooooAKKKKACiiigAooooAKKKKACiiigAooooAKKKKACiiigAooooAyJNOutMkafQdhjZi8lhKxWNiepjPPlk9cY2k9gSWqaz1yzu7n7K5e0vec2lyNkhx1Kjo4/2lJHvWjVe9sLTUbcwX9tDcxE52SoGGfXnvW/tIz0qL59f+D+fmK3YsUVjf8IzBF/x46hqdmP7sd2zqPosm4D6AYo/4R134udc1ade6+esWfxjVT+tHJS35/w1/wAvxDUv32pWemQiS/uI4VY4QMfmc+ijqx9hk1Q36lrXEay6XYHrI3FzMPQLj90Pc/N14U4NWrHQtN02YzWloizsNrXDkvKw9DI2WP4mr9HPTh8Cu+7/AMv87hr1IrW1hsrVLe1jWKKMYVV7f/X96loorFtt3YwooopAFFFFABRRRQAUUUUAFFFFABRRRQAUUUUAFFFFABRRRQAUUUUAFFFVdO1CDVLIXdo26FndVbj5trFcjHYlcj2oAtUUUUAFFFFAGVf6rqFpdGK18P3t9GACJoZoFU+2HkU/pVb+3tW/6FLU/wDwItf/AI9W9RQBg/29q3/Qpan/AOBFr/8AHqP7e1b/AKFLU/8AwItf/j1b1FAGD/b2rf8AQpan/wCBFr/8erI8Sa3qr2NoH8LajGBqFqQWuLU5ImTA4l79K7WsXxR/x4WX/YStP/R6UAR/29q3/Qpan/4EWv8A8eo/t7Vv+hS1P/wItf8A49W9RQBg/wBvat/0KWp/+BFr/wDHqP7e1b/oUtT/APAi1/8Aj1b1FAGD/b2rf9Clqf8A4EWv/wAeo/t7Vv8AoUtT/wDAi1/+PVvUUAYP9vat/wBClqf/AIEWv/x6j+3tW/6FLU//AAItf/j1b1FAGD/b2rf9Clqf/gRa/wDx6j+3tW/6FLU//Ai1/wDj1b1FAGD/AG9q3/Qpan/4EWv/AMeo/t7Vv+hS1P8A8CLX/wCPVvUUAYP9vat/0KWp/wDgRa//AB6j+3tW/wChS1P/AMCLX/49W9RQBg/29q3/AEKWp/8AgRa//HqP7e1b/oUtT/8AAi1/+PVvUUAYP9vat/0KWp/+BFr/APHqP7e1b/oUtT/8CLX/AOPVvUUAYP8Ab2rf9Clqf/gRa/8Ax6j+3tW/6FLU/wDwItf/AI9W9RQBg/29q3/Qpan/AOBFr/8AHqP7e1b/AKFLU/8AwItf/j1b1FAGD/b2rf8AQpan/wCBFr/8eo/t7Vv+hS1P/wACLX/49W9RQBg/29q3/Qpan/4EWv8A8eo/t7Vv+hS1P/wItf8A49W9RQBg/wBvat/0KWp/+BFr/wDHqP7e1b/oUtT/APAi1/8Aj1b1FAGD/b2rf9Clqf8A4EWv/wAeo/t7Vv8AoUtT/wDAi1/+PVvUUAYP9vat/wBClqf/AIEWv/x6j+3tW/6FLU//AAItf/j1b1FAGD/b2rf9Clqf/gRa/wDx6j+3tW/6FLU//Ai1/wDj1b1FAGD/AG9q3/Qpan/4EWv/AMeo/t7Vv+hS1P8A8CLX/wCPVvUUAYP9vat/0KWp/wDgRa//AB6j+3tW/wChS1P/AMCLX/49W9RQBg/29q3/AEKWp/8AgRa//HqP7e1b/oUtT/8AAi1/+PVvUUAYP9vat/0KWp/+BFr/APHqP7e1b/oUtT/8CLX/AOPVvUUAYP8Ab2rf9Clqf/gRa/8Ax6k8Natf389/BfWFzAlvKRHNO8TZySTH+7dgSvTPpgHkEnfpkUMcEeyCNY0yW2ouBknJP4kk/jQBxfxc8yHwBLeW089tc297Z+VLBKyFd91EjdDg5ViMHI5qHXmk8M+PPCUeiSz7dVuZbS8s2meQTRrEX87DE/MhUZbqQ2Dnir3xO0e/8Q+CZtH0vTzey3M9u7AvGqKsc8crBt7DOQhAwDyRnA5ra07RNPguItSWyljvTAIwbqYzSQIcExglmC84ztOCQOuBQB5vd6nOfDSeI9IuZbgf8JBEtvq07rFJcQyXqxNEqKDviCsyjeV4UMAMLW5q2mQav8WbKKK+u47W+0K8e4W3unVZSstuikAHCkbs5A7c5rpD4L8PmwexOnj7IztILcSuI43LbiyLuwjZ5BXBBJIxk09PCOjR6rFqUcE6XcKLHHIt5MNiAqdgG/G0lVLLjDEZbJoA56eGO58YDQLeW61hdP0mKOe3u3AjtmYsEnafBfznVWA2gn5Scr35O41y81X9nnTNVm1KZtYt5bTF1HOQ5Bvlh3NjAfcqsDkEHmvVbjw9plzqUmoSW226miEMskcjx+cgzhXCkBwMnG7OMn1NZ83gPw3Pprae+nYs2l8028dxIibtxccKwGA5LBeisSQAeaAMS+tvsvxb0bS7ee4SxvNKuZrqDzmKzvHJEEZsnJPznJ6nocjiubvfEGraZ4L8U2+nTyqtt4qXTIpmmINrbSGAthzkqB5rAH+HIx0Fejv4S0iTVrfU3jumvbWMRQztfTllQADb9/kHALZ+8QC2TzTbHwdoWnQ38MFmzxalk3kVxcSTpcEjBZ1kYgsQACTyQAM8UAZcegXqeIoEkSys9HubKW3u7GK+kZrh8qUdRsX5gPMDNnJDDOcVynhqdPCvwHOpaFE/9rLo1xcQIWd1/dk8hSdowWU4GM16dY6RZ6ewa3WVnVNivPO8zKvXALkkA4GQOuB6CodM8O6Xoxf+zbXyVfdiPzGZEDNuYIpJCAtyQoAJoA5XTtJ1RIfDd/ay2UCAp9uuX1CR31GKSIg7gYwGkLlGUk8YIHBIqr4C0hdQuNYluL7UM6R4muktVF25AjUYEbZJ3L854PovYCuzsvDmlaeI1s7YxRwkmGISuY4Mgg+WhO1OCQNoGASB1puj+GdL0CWeTSopoTcM0kwa6lkEjsQWdgzEFzgZY/MfWgDWooooAKKKKACiiigArF8Uf8eFl/2ErT/0elbVYvij/jwsv+wlaf8Ao9KANqiiigAooooAKKKKACiiigAooooAKKKKACiiigAooooAKKKKACiiigAooooAKKKKACiiigAooooAKKKKACiiigAooooAKKKKACiiigAooooAKKKKACiiigAooooAKKKKACiiigAooooAKKKKACiiigAooooAKKKKACiiigArF8Uf8eFl/wBhK0/9HpW1WL4o/wCPCy/7CVp/6PSgDaooooAKKKKACiiigAooooAKKKKACiiigAooooAKKKKACiiigAooooAKKKKACiiigAooooAKKKKACiiigAooooAKKKKACiiigAooooAKKKKACiiigAooooAKKKKACiiigAooooAKKKKACiiigAooooAKKKKACiiigAooooAKZLBFOqrPGkgV1dQ65wwOQfqCAafRQAUUUUAFFFFABRRRQAUUUUAFFFFABRRRQAUUUUAFFFFABRRRQAUUUUAFFFFABRRRQAUUUUAFFFFABRRRQAUUUUAFFFFABRRRQAUUUUAFFFFABRRRQAUUUUAFFFFABRRRQAUUUUAFFFFABRRRQAUUUUAFFFFABRRRQAUUUUAFFFFABRRRQAUUUUAFFFFABRRRQAUUUUAFFFFABRRRQAUUUUAFFFFABRRRQAUUUUAFFFFABRRRQAUUUUAFFFFABRRRQAUUUUAFFFFABRRRQAUUUUAFFFFABRRRQAUUUUAFFFFABRRRQAUUUUAFFFFABRRRQAUUUUAf/9k=)"
      ]
    },
    {
      "cell_type": "markdown",
      "metadata": {
        "id": "IF4PCEno_5xK"
      },
      "source": [
        "Pero elegir una tasa de aprendizaje muy alta puede ser áun peor, los resultados en la función de pérdida pueden ponerse peores en cada paso:"
      ]
    },
    {
      "cell_type": "markdown",
      "metadata": {
        "id": "tp2krNYP_6EY"
      },
      "source": [
        "![fastai3.JPG](data:image/jpeg;base64,/9j/4AAQSkZJRgABAQEAeAB4AAD/4REKRXhpZgAATU0AKgAAAAgABAE7AAIAAAAVAAAISodpAAQAAAABAAAIYJydAAEAAAAqAAAQ2OocAAcAAAgMAAAAPgAAAAAc6gAAAAgAAAAAAAAAAAAAAAAAAAAAAAAAAAAAAAAAAAAAAAAAAAAAAAAAAAAAAAAAAAAAAAAAAAAAAAAAAAAAAAAAAAAAAAAAAAAAAAAAAAAAAAAAAAAAAAAAAAAAAAAAAAAAAAAAAAAAAAAAAAAAAAAAAAAAAAAAAAAAAAAAAAAAAAAAAAAAAAAAAAAAAAAAAAAAAAAAAAAAAAAAAAAAAAAAAAAAAAAAAAAAAAAAAAAAAAAAAAAAAAAAAAAAAAAAAAAAAAAAAAAAAAAAAAAAAAAAAAAAAAAAAAAAAAAAAAAAAAAAAAAAAAAAAAAAAAAAAAAAAAAAAAAAAAAAAAAAAAAAAAAAAAAAAAAAAAAAAAAAAAAAAAAAAAAAAAAAAAAAAAAAAAAAAAAAAAAAAAAAAAAAAAAAAAAAAAAAAAAAAAAAAAAAAAAAAAAAAAAAAAAAAAAAAAAAAAAAAAAAAAAAAAAAAAAAAAAAAAAAAAAAAAAAAAAAAAAAAAAAAAAAAAAAAAAAAAAAAAAAAAAAAAAAAAAAAAAAAAAAAAAAAAAAAAAAAAAAAAAAAAAAAAAAAAAAAAAAAAAAAAAAAAAAAAAAAAAAAAAAAAAAAAAAAAAAAAAAAAAAAAAAAAAAAAAAAAAAAAAAAAAAAAAAAAAAAAAAAAAAAAAAAAAAAAAAAAAAAAAAAAAAAAAAAAAAAAAAAAAAAAAAAAAAAAAAAAAAAAAAAAAAAAAAAAAAAAAAAAAAAAAAAAAAAAAAAAAAAAAAAAAAAAAAAAAAAAAAAAAAAAAAAAAAAAAAAAAAAAAAAAAAAAAAAAAAAAAAAAAAAAAAAAAAAAAAAAAAAAAAAAAAAAAAAAAAAAAAAAAAAAAAAAAAAAAAAAAAAAAAAAAAAAAAAAAAAAAAAAAAAAAAAAAAAAAAAAAAAAAAAAAAAAAAAAAAAAAAAAAAAAAAAAAAAAAAAAAAAAAAAAAAAAAAAAAAAAAAAAAAAAAAAAAAAAAAAAAAAAAAAAAAAAAAAAAAAAAAAAAAAAAAAAAAAAAAAAAAAAAAAAAAAAAAAAAAAAAAAAAAAAAAAAAAAAAAAAAAAAAAAAAAAAAAAAAAAAAAAAAAAAAAAAAAAAAAAAAAAAAAAAAAAAAAAAAAAAAAAAAAAAAAAAAAAAAAAAAAAAAAAAAAAAAAAAAAAAAAAAAAAAAAAAAAAAAAAAAAAAAAAAAAAAAAAAAAAAAAAAAAAAAAAAAAAAAAAAAAAAAAAAAAAAAAAAAAAAAAAAAAAAAAAAAAAAAAAAAAAAAAAAAAAAAAAAAAAAAAAAAAAAAAAAAAAAAAAAAAAAAAAAAAAAAAAAAAAAAAAAAAAAAAAAAAAAAAAAAAAAAAAAAAAAAAAAAAAAAAAAAAAAAAAAAAAAAAAAAAAAAAAAAAAAAAAAAAAAAAAAAAAAAAAAAAAAAAAAAAAAAAAAAAAAAAAAAAAAAAAAAAAAAAAAAAAAAAAAAAAAAAAAAAAAAAAAAAAAAAAAAAAAAAAAAAAAAAAAAAAAAAAAAAAAAAAAAAAAAAAAAAAAAAAAAAAAAAAAAAAAAAAAAAAAAAAAAAAAAAAAAAAAAAAAAAAAAAAAAAAAAAAAAAAAAAAAAAAAAAAAAAAAAAAAAAAAAAAAAAAAAAAAAAAAAAAAAAAAAAAAAAAAAAAAAAAAAAAAAAAAAAAAAAAAAAAAAAAAAAAAAAAAAAAAAAAAAAAAAAAAAAAAAAAAAAAAAAAAAAAAAAAAAAAAAAAAAAAAAAAAAAAAAAAAAAAAAAAAAAAAAAAAAAAAAAAAAAAAAAAAAAAAAAAAAAAAAAAAAAAAAAAAAAAAAAAAAAAAAAAAAAAAAAAAAAAAAAAAAAAAAAAAAAAAAAAAAAAAAAAAAAAAAAAAAAAAAAAAAAAAAAAAAAAAAAAAAAAAAAAAAAAAAAAAAAAAAAAAAAAAAAAAAAAAAAAAAAAAAAAAAAAAAAAAAAAAAAAAAAAAAAAAAAAAAAAAAAAAAAAAAAAAAAAAAAAAAAAAAAAAAAAAAAAAAAAAAAAAAAAAAAAAAAAAAAAAAAAAAAAAAAAAAAAAAAAAAAAAAAAAAAAAAAAAAAAAAAAAAAAAAAAAAAAAAAAAAAAAAAAAAAAAAAAAAAAAAAAAAAAAAAAAAAAAAAAAAAAAAAAAAAAAAAAAAAAAAAAAAAAAAAAAAAAAAAAAAAAAAAAAAAAAAAAAAAAAAAAAAAAAAAAAAAAAAAAAAAAAAAAAAAAAAAAAAAAAAAAAAAAAAAAAAAAAAAAAAAAAAAAAAAAAAAAAAAAAAAAAAAAAAAAAAAAAAAAAAAAAAAAAAAAAAAAAAAAAAAAAAAAAAAAAAAAAAAAAAAAAAAAAAAAAAAAAAAAAAAAAAAAAAAAAAAAAAAAAAAAAAAAAAAAAAAAAAAAAAAAAAAAAAAAAAAAAAAAAAAAAAAAAAAAAAAAAAAAAAAAAAAAAAAAAAAAAAAAAAAAAAAAAAAAAAAAAAAAAAAAAAAAAAAAAAAAAAAAAAAAAAAAAAAAAAAAAAAAAAAAAAAAAAAAAAAAAAAAAAAAAAAAAAAAAAAAAAAAAAAAAAAAAAAAAAAAAAAAAAAAAAAAAAAAAAAAAAAAAAAAAAAAAAAAAAAAAAAAAAAAAAAAAAAAAAAAAAAAAAAAAAAAAAAAAAAAAAAAAAAAAAAAAAAAAAAAAAAAAAAAAAAAAAAAAAAAAAAAAAAAAAAAAAAAAAAAAAAAAAAAAAAAAAAAEFsb25zbyBBc3Ryb3phIFRhZ2xlAAAABZADAAIAAAAUAAAQrpAEAAIAAAAUAAAQwpKRAAIAAAADMjMAAJKSAAIAAAADMjMAAOocAAcAAAgMAAAIogAAAAAc6gAAAAgAAAAAAAAAAAAAAAAAAAAAAAAAAAAAAAAAAAAAAAAAAAAAAAAAAAAAAAAAAAAAAAAAAAAAAAAAAAAAAAAAAAAAAAAAAAAAAAAAAAAAAAAAAAAAAAAAAAAAAAAAAAAAAAAAAAAAAAAAAAAAAAAAAAAAAAAAAAAAAAAAAAAAAAAAAAAAAAAAAAAAAAAAAAAAAAAAAAAAAAAAAAAAAAAAAAAAAAAAAAAAAAAAAAAAAAAAAAAAAAAAAAAAAAAAAAAAAAAAAAAAAAAAAAAAAAAAAAAAAAAAAAAAAAAAAAAAAAAAAAAAAAAAAAAAAAAAAAAAAAAAAAAAAAAAAAAAAAAAAAAAAAAAAAAAAAAAAAAAAAAAAAAAAAAAAAAAAAAAAAAAAAAAAAAAAAAAAAAAAAAAAAAAAAAAAAAAAAAAAAAAAAAAAAAAAAAAAAAAAAAAAAAAAAAAAAAAAAAAAAAAAAAAAAAAAAAAAAAAAAAAAAAAAAAAAAAAAAAAAAAAAAAAAAAAAAAAAAAAAAAAAAAAAAAAAAAAAAAAAAAAAAAAAAAAAAAAAAAAAAAAAAAAAAAAAAAAAAAAAAAAAAAAAAAAAAAAAAAAAAAAAAAAAAAAAAAAAAAAAAAAAAAAAAAAAAAAAAAAAAAAAAAAAAAAAAAAAAAAAAAAAAAAAAAAAAAAAAAAAAAAAAAAAAAAAAAAAAAAAAAAAAAAAAAAAAAAAAAAAAAAAAAAAAAAAAAAAAAAAAAAAAAAAAAAAAAAAAAAAAAAAAAAAAAAAAAAAAAAAAAAAAAAAAAAAAAAAAAAAAAAAAAAAAAAAAAAAAAAAAAAAAAAAAAAAAAAAAAAAAAAAAAAAAAAAAAAAAAAAAAAAAAAAAAAAAAAAAAAAAAAAAAAAAAAAAAAAAAAAAAAAAAAAAAAAAAAAAAAAAAAAAAAAAAAAAAAAAAAAAAAAAAAAAAAAAAAAAAAAAAAAAAAAAAAAAAAAAAAAAAAAAAAAAAAAAAAAAAAAAAAAAAAAAAAAAAAAAAAAAAAAAAAAAAAAAAAAAAAAAAAAAAAAAAAAAAAAAAAAAAAAAAAAAAAAAAAAAAAAAAAAAAAAAAAAAAAAAAAAAAAAAAAAAAAAAAAAAAAAAAAAAAAAAAAAAAAAAAAAAAAAAAAAAAAAAAAAAAAAAAAAAAAAAAAAAAAAAAAAAAAAAAAAAAAAAAAAAAAAAAAAAAAAAAAAAAAAAAAAAAAAAAAAAAAAAAAAAAAAAAAAAAAAAAAAAAAAAAAAAAAAAAAAAAAAAAAAAAAAAAAAAAAAAAAAAAAAAAAAAAAAAAAAAAAAAAAAAAAAAAAAAAAAAAAAAAAAAAAAAAAAAAAAAAAAAAAAAAAAAAAAAAAAAAAAAAAAAAAAAAAAAAAAAAAAAAAAAAAAAAAAAAAAAAAAAAAAAAAAAAAAAAAAAAAAAAAAAAAAAAAAAAAAAAAAAAAAAAAAAAAAAAAAAAAAAAAAAAAAAAAAAAAAAAAAAAAAAAAAAAAAAAAAAAAAAAAAAAAAAAAAAAAAAAAAAAAAAAAAAAAAAAAAAAAAAAAAAAAAAAAAAAAAAAAAAAAAAAAAAAAAAAAAAAAAAAAAAAAAAAAAAAAAAAAAAAAAAAAAAAAAAAAAAAAAAAAAAAAAAAAAAAAAAAAAAAAAAAAAAAAAAAAAAAAAAAAAAAAAAAAAAAAAAAAAAAAAAAAAAAAAAAAAAAAAAAAAAAAAAAAAAAAAAAAAAAAAAAAAAAAAAAAAAAAAAAAAAAAAAAAAAAAAAAAAAAAAAAAAAAAAAAAAAAAAAAAAAAAAAAAAAAAAAAAAAAAAAAAAAAAAAAAAAAAAAAAAAAAAAAAAAAAAAAAAAAAAAAAAAAAAAAAAAAAAAAAAAAAAAAAAAAAAAAAAAAAAAAAAAAAAAAAAAAAAAAAAAAAAAAAAAAAAAAAAAAAAAAAAAAAAAAAAAAAAAAAAAAAAAAAAAAAAAAAAAAAAAAAAAAAAAAAAAAAAAAAAAAAAAAAAAAAAAAAAAAAAAAAAAAAAAAAAAAAAAAAAAAAAAAAAAAAAAAAAAAAAAAAAAAAAAAAAAAAAAAAAAAAAAAAAAAAAAAAAAAAAAAAAAAAAAAAAAAAAAAAAAAAAAAAAAAAAAAAAAAAAAAAAAAAAAAAAAAAAAAAAAAAAAAAAAAAAAAAAAAAAAAAAAAAAAAAAAAAAAAAAAAAAAAAAAAAAAAAAAAAAAAAAAAAAAAAAAAAAAAAAAAAAAAAAAAAAAAAAAAAAAAAAAAAAAAAAAAAAAAAAAAAAAAAAAAAAAAAAAAAAAAAAAAAAAAAAAAAAAAAAAAAAAAAAAAAAAAAAAAAAAAAAAAAAAAAAAAAAAAAAAAAAAAAAAAAAAAAAAAAAAAAAAAAAAAAAAAAAAAAAAAAAAAAAAAAAAAAAAAAAAAAAAAAAAAAAAAAAAAAAAAAAAAAAAAAAAAAAAAAAAAAAAAAAAAAAAAAAAAAAAAAAAAAAAAAAAAAAAAAAAAAAAAAAAAAAAAAAAAAAAAAAAAAAAAAAAAAAAAAAAAAAAAAAAAAAAAAAAAAAAAAAAAAAAAAAAAAAAAAAAAAAAAAAAAAAAAAAAAAAAAAAAAAAAAAAAAAAAAAAAAAAAAAAAAAAAAAAAAAAAAAAAAAAAAAAAAAAAAAAAAAAAAAAAAAAAAAAAAAAAAAAAAAAAAAAAAAAAAAAAAAAAAAAAAAAAAAAAAAAAAAAAAAAAAAAAAAAAAAAAAAADIwMjE6MDQ6MTYgMTk6MjE6NTAAMjAyMTowNDoxNiAxOToyMTo1MAAAAEEAbABvAG4AcwBvACAAQQBzAHQAcgBvAHoAYQAgAFQAYQBnAGwAZQAAAP/hCydodHRwOi8vbnMuYWRvYmUuY29tL3hhcC8xLjAvADw/eHBhY2tldCBiZWdpbj0n77u/JyBpZD0nVzVNME1wQ2VoaUh6cmVTek5UY3prYzlkJz8+DQo8eDp4bXBtZXRhIHhtbG5zOng9ImFkb2JlOm5zOm1ldGEvIj48cmRmOlJERiB4bWxuczpyZGY9Imh0dHA6Ly93d3cudzMub3JnLzE5OTkvMDIvMjItcmRmLXN5bnRheC1ucyMiPjxyZGY6RGVzY3JpcHRpb24gcmRmOmFib3V0PSJ1dWlkOmZhZjViZGQ1LWJhM2QtMTFkYS1hZDMxLWQzM2Q3NTE4MmYxYiIgeG1sbnM6ZGM9Imh0dHA6Ly9wdXJsLm9yZy9kYy9lbGVtZW50cy8xLjEvIi8+PHJkZjpEZXNjcmlwdGlvbiByZGY6YWJvdXQ9InV1aWQ6ZmFmNWJkZDUtYmEzZC0xMWRhLWFkMzEtZDMzZDc1MTgyZjFiIiB4bWxuczp4bXA9Imh0dHA6Ly9ucy5hZG9iZS5jb20veGFwLzEuMC8iPjx4bXA6Q3JlYXRlRGF0ZT4yMDIxLTA0LTE2VDE5OjIxOjUwLjIyNTwveG1wOkNyZWF0ZURhdGU+PC9yZGY6RGVzY3JpcHRpb24+PHJkZjpEZXNjcmlwdGlvbiByZGY6YWJvdXQ9InV1aWQ6ZmFmNWJkZDUtYmEzZC0xMWRhLWFkMzEtZDMzZDc1MTgyZjFiIiB4bWxuczpkYz0iaHR0cDovL3B1cmwub3JnL2RjL2VsZW1lbnRzLzEuMS8iPjxkYzpjcmVhdG9yPjxyZGY6U2VxIHhtbG5zOnJkZj0iaHR0cDovL3d3dy53My5vcmcvMTk5OS8wMi8yMi1yZGYtc3ludGF4LW5zIyI+PHJkZjpsaT5BbG9uc28gQXN0cm96YSBUYWdsZTwvcmRmOmxpPjwvcmRmOlNlcT4NCgkJCTwvZGM6Y3JlYXRvcj48L3JkZjpEZXNjcmlwdGlvbj48L3JkZjpSREY+PC94OnhtcG1ldGE+DQogICAgICAgICAgICAgICAgICAgICAgICAgICAgICAgICAgICAgICAgICAgICAgICAgICAgICAgICAgICAgICAgICAgICAgICAgICAgICAgICAgICAgICAgICAgICAgICAgICAgCiAgICAgICAgICAgICAgICAgICAgICAgICAgICAgICAgICAgICAgICAgICAgICAgICAgICAgICAgICAgICAgICAgICAgICAgICAgICAgICAgICAgICAgICAgICAgICAgICAgICAKICAgICAgICAgICAgICAgICAgICAgICAgICAgICAgICAgICAgICAgICAgICAgICAgICAgICAgICAgICAgICAgICAgICAgICAgICAgICAgICAgICAgICAgICAgICAgICAgICAgIAogICAgICAgICAgICAgICAgICAgICAgICAgICAgICAgICAgICAgICAgICAgICAgICAgICAgICAgICAgICAgICAgICAgICAgICAgICAgICAgICAgICAgICAgICAgICAgICAgICAgCiAgICAgICAgICAgICAgICAgICAgICAgICAgICAgICAgICAgICAgICAgICAgICAgICAgICAgICAgICAgICAgICAgICAgICAgICAgICAgICAgICAgICAgICAgICAgICAgICAgICAKICAgICAgICAgICAgICAgICAgICAgICAgICAgICAgICAgICAgICAgICAgICAgICAgICAgICAgICAgICAgICAgICAgICAgICAgICAgICAgICAgICAgICAgICAgICAgICAgICAgIAogICAgICAgICAgICAgICAgICAgICAgICAgICAgICAgICAgICAgICAgICAgICAgICAgICAgICAgICAgICAgICAgICAgICAgICAgICAgICAgICAgICAgICAgICAgICAgICAgICAgCiAgICAgICAgICAgICAgICAgICAgICAgICAgICAgICAgICAgICAgICAgICAgICAgICAgICAgICAgICAgICAgICAgICAgICAgICAgICAgICAgICAgICAgICAgICAgICAgICAgICAKICAgICAgICAgICAgICAgICAgICAgICAgICAgICAgICAgICAgICAgICAgICAgICAgICAgICAgICAgICAgICAgICAgICAgICAgICAgICAgICAgICAgICAgICAgICAgICAgICAgIAogICAgICAgICAgICAgICAgICAgICAgICAgICAgICAgICAgICAgICAgICAgICAgICAgICAgICAgICAgICAgICAgICAgICAgICAgICAgICAgICAgICAgICAgICAgICAgICAgICAgCiAgICAgICAgICAgICAgICAgICAgICAgICAgICAgICAgICAgICAgICAgICAgICAgICAgICAgICAgICAgICAgICAgICAgICAgICAgICAgICAgICAgICAgICAgICAgICAgICAgICAKICAgICAgICAgICAgICAgICAgICAgICAgICAgICAgICAgICAgICAgICAgICAgICAgICAgICAgICAgICAgICAgICAgICAgICAgICAgICAgICAgICAgICAgICAgICAgICAgICAgIAogICAgICAgICAgICAgICAgICAgICAgICAgICAgICAgICAgICAgICAgICAgICAgICAgICAgICAgICAgICAgICAgICAgICAgICAgICAgICAgICAgICAgICAgICAgICAgICAgICAgCiAgICAgICAgICAgICAgICAgICAgICAgICAgICAgICAgICAgICAgICAgICAgICAgICAgICAgICAgICAgICAgICAgICAgICAgICAgICAgICAgICAgICAgICAgICAgICAgICAgICAKICAgICAgICAgICAgICAgICAgICAgICAgICAgICAgICAgICAgICAgICAgICAgICAgICAgICAgICAgICAgICAgICAgICAgICAgICAgICAgICAgICAgICAgICAgICAgICAgICAgIAogICAgICAgICAgICAgICAgICAgICAgICAgICAgICAgICAgICAgICAgICAgICAgICAgICAgICAgICAgICAgICAgICAgICAgICAgICAgICAgICAgICAgICAgICAgICAgICAgICAgCiAgICAgICAgICAgICAgICAgICAgICAgICAgICAgICAgICAgICAgICAgICAgICAgICAgICAgICAgICAgICAgICAgICAgICAgICAgICAgICAgICAgICAgICAgICAgICAgICAgICAKICAgICAgICAgICAgICAgICAgICAgICAgICAgICAgICAgICAgICAgICAgICAgICAgICAgICAgICAgICAgICAgICAgICAgICAgICAgICAgICAgICAgICAgICAgICAgICAgICAgIAogICAgICAgICAgICAgICAgICAgICAgICAgICAgICAgICAgICAgICAgICAgICAgICAgICAgICAgICAgICAgICAgICAgICAgICAgICAgICAgICAgICAgICAgICAgICAgICAgICAgCiAgICAgICAgICAgICAgICAgICAgICAgICAgICAgICAgICAgICAgICAgICAgICAgICAgICAgICAgICAgICAgICAgICAgICAgICAgICAgICAgICAgICAgICAgICAgICAgICAgICAKICAgICAgICAgICAgICAgICAgICAgICAgICAgIDw/eHBhY2tldCBlbmQ9J3cnPz7/2wBDAAcFBQYFBAcGBQYIBwcIChELCgkJChUPEAwRGBUaGRgVGBcbHichGx0lHRcYIi4iJSgpKywrGiAvMy8qMicqKyr/2wBDAQcICAoJChQLCxQqHBgcKioqKioqKioqKioqKioqKioqKioqKioqKioqKioqKioqKioqKioqKioqKioqKioqKir/wAARCAGVAgwDASIAAhEBAxEB/8QAHwAAAQUBAQEBAQEAAAAAAAAAAAECAwQFBgcICQoL/8QAtRAAAgEDAwIEAwUFBAQAAAF9AQIDAAQRBRIhMUEGE1FhByJxFDKBkaEII0KxwRVS0fAkM2JyggkKFhcYGRolJicoKSo0NTY3ODk6Q0RFRkdISUpTVFVWV1hZWmNkZWZnaGlqc3R1dnd4eXqDhIWGh4iJipKTlJWWl5iZmqKjpKWmp6ipqrKztLW2t7i5usLDxMXGx8jJytLT1NXW19jZ2uHi4+Tl5ufo6erx8vP09fb3+Pn6/8QAHwEAAwEBAQEBAQEBAQAAAAAAAAECAwQFBgcICQoL/8QAtREAAgECBAQDBAcFBAQAAQJ3AAECAxEEBSExBhJBUQdhcRMiMoEIFEKRobHBCSMzUvAVYnLRChYkNOEl8RcYGRomJygpKjU2Nzg5OkNERUZHSElKU1RVVldYWVpjZGVmZ2hpanN0dXZ3eHl6goOEhYaHiImKkpOUlZaXmJmaoqOkpaanqKmqsrO0tba3uLm6wsPExcbHyMnK0tPU1dbX2Nna4uPk5ebn6Onq8vP09fb3+Pn6/9oADAMBAAIRAxEAPwD6RooooAKKKKACikLBRliAM45NLQAUUUUAFFFFABRRRQAUUUUAFFFFABRRRQAUUUUAFFFFABRRRQAUUUUAFFFFABRRRQAUUUUAFFFFABRRRQAUUUUAFFFFABRRRQAUUUUAFFFFABRRRQAUUUUAFFFFABRRRQAUUUUAFFFFABRRRQAUUUUAFFFFABRRRQAUUUUAFFFFAHF/EWytZX8M3clvE9zDr9msUzIC6AycgN1APet5vEMD6peWGn2txfz2KqbkW+wCJmG5UJdl+YjnAzgEZxkZyvHlrqV7FoqaVpVxqH2fVra7mMMkSbI43y3+sdcn0AzUGiadfeFvEHiKY6fcX1rrN4L+B4PLLo5jRGifLDHKZBztweSO4Bq2ni/TdR+wDS/MvJL+GWeKNAqMqxMFfcHIwQ7BSOoOeODgt/FVvczWtstldpe3RutlpIEVwtvKI5GJ3bcbmXGCSQwOMZxw9j8Pymn2Vh4p0NtRgkkvNRlntJyslhcTTBxHGysrkbSQSvUrnp0sDwfcXdrp2m+K9Iu9Z0y1+0yW13Jcj7dZZkUQqZEcO2Y85Kk9FBzjNAHoOl6gNUsRci3ntv3skTRThQ6skjIfukjGVJBBOQRVysLwfpuoaToJs9SuLi4EdxL9mN3KJZkg3Hy1dx94gd8k4xk5rdoAKKKKACiiigAooooAKKKKACiiigAooooAKKKKACiiigAooooAKKKKACiiigAooooAKKKKACiiigAooooAKKKKACiiigAooooAKKKKACiiigAooooAKKKKACiiigAooooAKKKKACiiigAooooAKKKKACiiigAooooAKKKR0WRGRxlWGCD3FAGda+INOvNYuNMt5w1zbqGYY+Vskg7T0YgqQcdCMVpVz1nY2p8XajCbaHyoLWyaJPLG2Mq020qO2O2K6GgAooooAKKKKACiqeo3r2f2Xy1VvOuUhbPYHPP6VcpX1sU4tRUn1CiiimSFV4b6Ga/ubNdwmtgjOCOoYHBHtwR+BqxWNOTa+NLV84S+s3hb3eNgyD8nk/KtacVO6620+Wv5XEzZooorIYUUUUAFFFFABRRRQAUUUUAFFFFABRRRQAUUUUAFFFFABRRRQAUUUUAFFFFABRRRQAUUUUAFFFFABRRVPWL4aZol7fH/AJdoHlA9SFJAqoxcpKK3YEljfQ6jai4ttxjLugJGM7WKk/Qkce1WKpaNYnTNDsrJjua3gSNmzncwABP4nJq7Tqcqm1HboC2CiiioAKKKKACiiigAooooAKKKKACiiigAooooAKKKKACiiigAooooAxbL/kdNX/69LT/0KatqsWy/5HTV/wDr0tP/AEKatqgAooooAKKKKAIp44ZPL+0Kp2uGTd2YdMe9S1Q1S1luvsfkgHyrpJXycYUZzV+l1NJJcqd/+AFFFFMzCsXxL+4gsNQ6fYr6JyR2Vz5TfgFkJ/CtqqWsWP8Aaeh3tiDtNxA8at/dJUgH8DzWtGSjUTe3X06/gJ7F2iqWjX/9qaHY3xGDcQJIw/ukqCR+B4q7USi4ycXuhhRRRUgFFFFABRRRQAUUUUAFFFFABRRRQAUUUUAFFFFABRRRQAUUUUAFFFFABRRRQAUUUUAFFFFABWL4m/f29jp/e+vooyPVUPmuPoVjYfjW1WLP/pXja1i6rY2bzuP9uVgiH8kl/Ot8PpPm7Xf3bfjYT2NqiiisBhRRRQAUUUUAFFFFABRRRQAUUUUAFFFFABRRRQAUUUUAFFFFABRRRQBi2X/I6av/ANelp/6FNW1WLZf8jpq//Xpaf+hTVtUAFFFFABRRRQBUv702X2bCb/PuEh64xuzz+lW6intobny/PTd5UgkTkjDDoalpa3Lbjyq2/UKKKKZAUUUUAYvhr9xDqGnnj7FfSqv+4581fwCyAfhW1WNFi08bTp0W/sllHPVom2sfykj/ACrZrfEaz5u6T/z/ABuJbBRRRWAwooooAKKKKACiiigAooooAKKKKACiiigAooooAKKKKACiiigAooooAKKKKACiiigAooooAKxdD/0jVdavz0e6FtGf9iJQD/5EMla1zcR2trLcTnbHChdz6ADJrO8MW72/hmxE67ZpY/PmGc4kkJkf/wAeY1vD3aUn3sv1/RC6mrRRRWAwooooAKKKKACiiigAooooAKKKKACiiigAooooAKKKKACiiigAooooAxbL/kdNX/69LT/0KatqsWy/5HTV/wDr0tP/AEKatqgAooooAKKKKAMfxNK9tp8N4sMsyWtwk0iwrubYuc8U228QL9mQ3NpftKRlvLsJdoz2Hy8gdM962qjggjtoVigXbGucLknHOahxfNdM6o1afslCcbtPuZ3/AAkEH/PlqX/gBL/8TR/wkEH/AD5al/4AS/8AxNatFFpdyeaj/K/v/wCAZX/CQQf8+Wpf+AEv/wATR/wkEH/PlqX/AIAS/wDxNatFFpdw5qP8r+//AIByeta5BHqGk34tNQUQXXlSFrGQZSVSgGSOu8x/XGK1/wDhIIP+fLUv/ACX/wCJp/iKzkvvDl9BbD/SDCWg4ziVfmQ/99AVasLyPUNNtr2DmK5iWVOezAEfzreSlKlGV9rr9V+bJ5qN/hf3/wDAKX/CQQf8+Wpf+AEv/wATR/wkEH/PlqX/AIAS/wDxNatFYWl3K5qP8r+//gGV/wAJBB/z5al/4AS//E0f8JBB/wA+Wpf+AEv/AMTWrRRaXcOaj/K/v/4Blf8ACQQf8+Wpf+AEv/xNH/CQQf8APlqX/gBL/wDE1q0UWl3Dmo/yv7/+AZX/AAkEH/PlqX/gBL/8TR/wkEH/AD5al/4AS/8AxNatFFpdw5qP8r+//gGV/wAJBB/z5al/4AS//E0f8JBB/wA+Wpf+AEv/AMTWrRRaXcOaj/K/v/4Blf8ACQQf8+Wpf+AEv/xNH/CQQf8APlqX/gBL/wDE1q0UWl3Dmo/yv7/+AZX/AAkEH/PlqX/gBL/8TR/wkEH/AD5al/4AS/8AxNatFFpdw5qP8r+//gGV/wAJBB/z5al/4AS//E0f8JBB/wA+Wpf+AEv/AMTWrRRaXcOaj/K/v/4Blf8ACQQf8+Wpf+AEv/xNH/CQQf8APlqX/gBL/wDE1q0UWl3Dmo/yv7/+AZX/AAkEH/PlqX/gBL/8TR/wkEH/AD5al/4AS/8AxNatFFpdw5qP8r+//gGV/wAJBB/z5al/4AS//E0f8JBB/wA+Wpf+AEv/AMTWrRRaXcOaj/K/v/4Blf8ACQQf8+Wpf+AEv/xNH/CQQf8APlqX/gBL/wDE1q0UWl3Dmo/yv7/+AZX/AAkEH/PlqX/gBL/8TR/wkEH/AD5al/4AS/8AxNatFFpdw5qP8r+//gGV/wAJBB/z5al/4AS//E0f8JBB/wA+Wpf+AEv/AMTWrRRaXcOaj/K/v/4By/iDWItQ0k6ZHb30b6jKlpmW0dF2uwD8sAPubj+FdR06Vy/iWaaXxNodrb7iIJhdSlRnGWWNc+xV5PyrqK6JXVOMH6/fp+hE4xspxVr/AD2CiiisjIKKKKACiiigAooooAKKKKACiiigAooooAKKKKACiiigAooooAKKKKAMWy/5HTV/+vS0/wDQpq2qxbL/AJHTV/8Ar0tP/Qpq2qACiiigAooooAKKKKACiiigAooooAKxfC+INOuNO76fdy24Homd8Y/79ulbVYsB+yeNbqHGE1C0S4X3eNtjn/vl4fyren70Jx+f3f8AAbE9zaooorAYUUUUAFFFFABRRRQAUUUUAFFFFABRRRQAUUUUAFFFFABRRRQAUUUUAFFFFABRRRQAUUVHcTx2ttLPM22OJC7t6ADJNNJt2QGHY3UI13VdQmY7WuIdOiOM52jP/ocrj8K6Cuf0bTHuPC+m/aCYZ3lW/mGM/vGfzWX82IroK1rv9610Wn3aFe7yJrfqFFFFYkhRRRQAUUUUAFFFFABRRRQAUUUUAFFFFABRRRQAUUUUAFFFFABRRRQBi2X/ACOmr/8AXpaf+hTVtVi2X/I6av8A9elp/wChTVtUAFFFFABRRRQAUUUUAFFFFABRRRQAVi69/o17pGog4EN4IZT6pMDGB/32Yz+FbVZ+vWL6loF7aQ8TSQt5R/uyDlD+DAGtqEkqivts/R6P8BPY0KKq6ZerqWk2l9GCq3MKShT1G4A4/WrVZSi4tpjCiiikAUUUUAFFFFABRRRQAUUUUAFFFFABRRRQAUUUUAFFFFABRRRQAUUUUAFFFFABWN4qJl0T7Cpw2ozR2n/AXYB/yj3n8K2axbwG78YadBjMdjBJdt7O37tP/HWm/Kt8PpU5u2v3bfiJ7FrV7iW1htTbts33cMbYA5UuAR+VaFRT3EVsqGd9od1jXI6sTgD86lrn6mrfuJW769wooopmYUUUUAFFFFABRRRQAUUUUAFFFFABRRRQAUUUUAFFFFABRRRQAUUUUAYtl/yOmr/9elp/6FNW1WLZf8jpq/8A16Wn/oU1bVABRRRQAUUUUAFFFFABRRRQAUUUUAFFFFAGL4a/0ePUNNP/AC43sioP+mb/AL1MewEm3/gNbVYrf6H42RukepWZU+nmQtkfiVlb8ErarevrLn/mV/8AP8biQUUUVgMKKKKACiiigAooooAKKKKACiiigAooooAKKKKACiiigAooooAKKKKACiiigArF0P8A0rU9Y1I8iS5+yxH/AGIRtI/7+GWtDU75NM0m6vpRlLaF5SPXaCcfpUOg2L6boFlaznM6RAzN/ekPLn8WJNbx92lJ97L9X+gupLqNkb6OBVcJ5VxHMcjOdrA4q3VHVbuW0itmhIBkuoomyM/KzAGr1cytdm0ubkjfbUKKKKoyCiiigAooooAKKKKACiiigAooooAKKKKACiiigAooooAKKKKACiiigDFsv+R01f8A69LT/wBCmrarFsv+R01f/r0tP/Qpq2qACiiigAooooAKKKKACiiigAooooAKKKKAMXxPi3sbbU++nXUc7H0jPySH8I3c/hW1UN3bR3tlPazjMU8bRuB3DDB/nVHw3dS3fh20a5bdcxKYLg+ssZKP/wCPKa3fvUU+zt9+35P7xdTUooorAYUUUUAFFFFABRRRQAUUUUAFFFFABRRRQAUUUUAFFFFABRRRQAUUUUAFFFFAGL4j/wBJGn6Z1+23iBwP+ecf71s+x2Bf+BVtVjRf6Z40mkzmPTrQRAf9NJSGb8QqR/8AfRrZrer7sYw8r/f/AMCwkRTvAip9pKAF1Cb8fezxj3zUtUtTs5L2O3WJlBiuYpjuPUKwJ/Grtc/U0aXKmnqFFFFMgKKKKACiiigAooooAKKKKACiiigAooooAKKKKACiiigAooooAKKKKAMWy/5HTV/+vS0/9CmrarFsv+R01f8A69LT/wBCmraoAKKKKACiiigAooooAKKKKACiiigAooooAKxtL/0PxFq1jgBJSl7Fz2cbXH/fUef+B1s1i6x/oet6RqIGF81rKY+iSgbf/IiRj/gRrejrzQ7r8tf0t8xM2qKKKwGFFFFABRRRQAUUUUAFFFFABRRRQAUUUUAFFFFABRRRQAUUUUAFFFFABQTgZPSisnxPM8egzQQHE94y2kRHUNIwTd/wEEt/wGrpw55qPcHoM8LgzaVJqLD5tSne7z6o3Ef/AJDWOtmmQwx28EcMKhI41CIo6AAYAp9OrPnm5IS0RS1O8kso7dolVjLcxQnd2DMAfxq7UU6QOqfaQhAdSm/+8Dxj3zUtZa3NG1ypJahRRRTICiiigAooooAKKKKACiiigAooooAKKKKACiiigAooooAKKKKACiiigDFsv+R01f8A69LT/wBCmrarFsv+R01f/r0tP/Qpq2qACiiigAooooAKKKKACiiigAooooAKKKKACqGuWDanod1axHErx5hbP3ZF+ZD+DAH8Kv0VUJOElJboCppV+mqaRaX8YKrcwrJtPVcjOD7jpVusXQT9kvNU0pulvcmeEf8ATKbLj8A/mKPZRW1V1oqNRpbdPR6r8BLYKKKKyGFFFFABRRRQAUUUUAFFFFABRRRQAUUUUAFFFFABRRRQAUUUUAFYt3i+8XWNr1TT4WvJPZ3zHH+Y87/vmtqsXw6ftb6jqh5F5dMsXtFH+7XHsSrN/wADrel7sZT7K3zen5XE+xtUUUVgMo6raS3cVssIBMd1FK2Tj5VYE1eqpqN6bGOBlQP5txHCcnGNzAZq3Uq12ay5uSN9tQoooqjIKKKKACiiigAooooAKKKKACiiigAooooAKKKKACiiigAooooAKKKKAMWy/wCR01f/AK9LT/0KatqsWy/5HTV/+vS0/wDQpq2qACiiigAooooAKKKKACiiigAooooAKKKKACiiigDG1D/QvFGm3uQI7pXspeOp+/GT9Crj6vWzWb4gs5b7QrmO1x9pQCa3yOkqEOn/AI8oqtZ+KLe+sYbqCw1Fo5ow6kWrEEEZ61tUknTjJ9NP1X+XyLp05zb5Vc26Kyv7eT/oHal/4CNR/byf9A7Uv/ARq5+ePc1+rVf5TVorK/t5P+gdqX/gI1H9vJ/0DtS/8BGo549w+rVf5TVorK/t5P8AoHal/wCAjUf28n/QO1L/AMBGo549w+rVf5TVorK/t5P+gdqX/gI1H9vJ/wBA7Uv/AAEajnj3D6tV/lNWisr+3k/6B2pf+AjUf28n/QO1L/wEajnj3D6tV/lNWisr+3k/6B2pf+AjUf28n/QO1L/wEajnj3D6tV/lNWisr+3k/wCgdqX/AICNR/byf9A7Uv8AwEajnj3D6tV/lNWisr+3k/6B2pf+AjUf28n/AEDtS/8AARqOePcPq1X+U1aKyv7eT/oHal/4CNR/byf9A7Uv/ARqOePcPq1X+U1aKyv7eT/oHal/4CNR/byf9A7Uv/ARqOePcPq1X+Uf4gvZbDQbmW2IFyyiK3z3lchE/wDHmFWrCzj07Tbayg/1VvEsScdlGP6Vzeoa2l94h0+1FhqBjtN15Mv2Vs5wUjGPTJZs+sda/wDbyf8AQO1L/wABGrac4xpxjffX9F/n8yfq1W/wmrRWV/byf9A7Uv8AwEaj+3k/6B2pf+AjVjzx7lfVqv8AKaE9tFcqgnTeEdZF56MpyD+dS1y97qc+oapaWUVld7WuIpwZYCnlqjAsTntjv68dxXUUoyUm7BWoypRjzPfp/X9aBRRRVnOFFFFABRRRQAUUUUAFFFFABRRRQAUUUUAFFFFABRRRQAUUUUAFFFFAGLZf8jpq/wD16Wn/AKFNW1WLZf8AI6av/wBelp/6FNW1QAUUUUAFFFFABRRRQAUUUUAFFFFABRRRQAUUUUAIzbELHoBmuf8ACd2jxXVogZY1Zbu3V+ognBkX8m8xfoldAy70KnoRisCe1TQtQ0WaFj9nWMaZKzdSpA8pj7h1C/8AbQ1tRvK9PuvxW34XXzK93kv1v+H9WOgooorEkKKKKACiiigAooooAKKKKACiiigAooooAKKKKACiiigAoorM8RXc1rokwtH2XdwVt7Y+kkh2qfwzuPsDVwg5yUV1DYg8PH7ZJqGrHkXlwUh9oY/kXHsSHcf79bVQ2dpDYWMFnbLsht41ijX0VRgD8hU1VVmpzbW3T06fgJbBRRRWQxiwxpNJKq4eTG5s9cdKfRRQNtvcKKKKBBRRRQAUUUUAFFFFABRRRQAUUUUAFFFFABRRRQAUUUUAFFFFABRRRQBi2X/I6av/ANelp/6FNW1WLZf8jpq//Xpaf+hTVtUAFFFFABRRRQAUUUUAFFFFABRRRQAUUUUAFFFFADZciF9vXacYrHSym1fwRBa3MjpczWUZ81x8yS7QQ5z3DAH6itlmCqWPQDJqO0uY72yguoMmKeNZEyMHBGR/OnGTjNST1Rpr7Nq3Xf7yvo+of2po9teFPLeRP3kf/PNxw6/gwI/CrtYunf8AEv8AEV/p54iuh9utxnucLKo+jbWPvLW1WtaKjP3dnqvn/lsZLYKKKKxGFFFFABRRRQAUUUUAFFFFABRRRQAUUUUAFFFFABWLN/xMPF0EPWHTITcPxx50mUT8kEmR/trWxLKkMLyysEjRSzMTwAOprK8NxOdNe/nUpPqUpunVuqq2BGv4RhB9Qa3p+7GU/kvn/wAC/wCAn2NeiiisBhRRRQAUUUUAFFFFABRRRQAUUUUAFFFFABRRRQAUUUUAFFFFABRRRQAUUUUAFFFFABRRRQBi2X/I6av/ANelp/6FNW1WLZf8jpq//Xpaf+hTVtUAFFFFABRRRQAUUUUAFFFFABRRRQAUUUUAFFFFACOu9GXpkYqDT7QWGm21mrFxbwpEGIxu2gDP6VNKSsLkdQpIqpos8t1oGnz3Db5ZbWN3YjGWKgk/nS0uapS9m30uv1KfiMG1t7fV4x8+my+bJjvCfllH4KS2PVBWwCGUFSCCMgjvQyq6FHUMrDBUjIIrI8OO0NrNpUzEy6bJ5AJ6tFjMTe/yEAn1Vq6Pjpecfyf+T/Mx6mxRRRWAwooooAKKKKACiiigAooooAKKKKACiiigAooooAxfEX+mR22jLgnUZCsw/wCndRmXPsRhP+2grarG0n/iYazf6qeYkY2Vrx/Ch/eMPrJkfSNTWzW9X3Uqfbf1f9JfIS7hRRRWAwooooAKKKKACiiigAooooAKKKKACiiigAooooAKKKKACiiigAooooAKKKKACiiigAooooAxbL/kdNX/AOvS0/8AQpq2qxbL/kdNX/69LT/0KatqgAooooAKKKKACiiigAooooAKKKKACiiigAooooAQkKpJ4AGTTLe4iu7WK4t23xTIHRsYypGQefanOu+Nl6bgRXMaNDrlgpsjHYyy20UcQLzuoMajCkAIeuDnnOc9gKiUrNHTSoqpCTvZqx1NYupn+zdcs9UAxFPtsro+gLHymP0div8A21NS+Z4g/wCfXTf/AAJk/wDiKgvrfWtQsJ7O5tNOMU8ZRtt1ICAR1B2cH0Na0qqjLVOz0fp/X4kvDy7r70blFc3o2oeIrqyaKeDTmurSQ29yWndSXUD5sBDgMpVx7MKv+Z4g/wCfXTf/AAJk/wDiKmfuScWHsH3X3o1aKyvM8Qf8+um/+BMn/wARR5niD/n103/wJk/+IqeZD9g+6+9GrRWV5niD/n103/wJk/8AiKPM8Qf8+um/+BMn/wARRzIPYPuvvRq0VleZ4g/59dN/8CZP/iKPM8Qf8+um/wDgTJ/8RRzIPYPuvvRq0VleZ4g/59dN/wDAmT/4ijzPEH/Prpv/AIEyf/EUcyD2D7r70atFZXmeIP8An103/wACZP8A4ijzPEH/AD66b/4Eyf8AxFHMg9g+6+9GrRWV5niD/n103/wJk/8AiKPM8Qf8+um/+BMn/wARRzIPYPuvvRq1m69ezWellbIj7bcuLe1yMgSNwGI7hRlj7KaZ5niD/n103/wJk/8AiKzNJvbjWPGF4t+sS/2PEqxiByyM8u4M2SByoTb04y1bUXHm5pLRf1b5kyoyUW01p2aOgsLKHTdPt7K2BEVvGI0yckgDGSe59TViiiobcndmIUUUUgCiiigAooooAKKKKACiiigAooooAKKKKACiiigAooooAKKKKACiiigAooooAKKKKACiiigDFsv+R01f/r0tP/Qpq2qxbL/kdNX/AOvS0/8AQpq2qACiiigAooooAKKKKACiiigAooooAKKKKACiiigAooooAKKKKAMW9/4lXiGDUBxbX220ufRZM/uX/EkxnuS8fZa2qgvrOHULGa0uVJimQo2DgjPcHsR1B7Gqmh3s1xavbX7A31m/k3BAxvIGQ4HoykN7ZI7Gt5fvKal1Wj9Oj/T7hbM0qKKKwGFFFFABRRRQAUUUUAFFFFABRRRQBQ1m/bT9NZ4FD3UrCG2jP8crHCg+w6n0AJ7VHpGhwaPzFJJJI1vHDIz4+cqzuXP+0zSsTUFr/wATfXpL0/NaaezQW3o833ZX/wCA8xj38z2q1C858S3sbF/s62luyA/dDF5t2PfAXP4VtV9yKp9d3620+5fi2XTTak0+n6o0KKKKxICiiigAooooAKKKKACiiigAooooAKKKKACiiigAooooAKKKKACiiigAooooAKKKKACiiigAooooAxbL/kdNX/69LT/0KatqsWy/5HTV/wDr0tP/AEKatqgAooooAKKKKACiiigAooooAKKKKACiiigAooooAKKKKACiiigArG1hTpt7HrkIJSNRDfKB96DOQ/8A2zJLf7pfuRWzQQGUhhkHgg960pz5JX6dRMAQwBByDyCO9FczbLqul6l/YtrPax2gQvYtcQu5KA8xZDDlMgAd1x1w2NHy/EH/AD9ab/4DSf8AxyoqLklZK66eaN4001fmX4/5GrRWV5fiD/n603/wGk/+OUeX4g/5+tN/8BpP/jlRzPsV7GP86/H/ACNWisry/EH/AD9ab/4DSf8Axyjy/EH/AD9ab/4DSf8AxyjmfYPYx/nX4/5GrRWV5fiD/n603/wGk/8AjlHl+IP+frTf/AaT/wCOUcz7B7GP86/H/I1aKyvL8Qf8/Wm/+A0n/wAco8vxB/z9ab/4DSf/AByjmfYPYx/nX4/5GrWZrd3PHDFY2Dbb29by4nxnyl/jlP8Aur09WKjvUNxJrdpbSXFxe6ZHFEpd3NtJhQOSf9ZVDS7PxDNM+rXUtjFc3KBVilt3JgiBJVcb+Cc7m68nGSFFbU3y/vJLRfi/63/4InRW3Ovx/wAjorO0hsLGG0tU2QwoEQZzwPfufehbuJ76W0Unzoo0lYY42uWA5+qNWe0evbDvutM245zaydP+/lQeG9PvIGmvb6RT50UcMMaxlCkSFyucknP7w9eQAM85rBzlKWq3L9jBU5Sc1dWslfv6drm7RRRVnKFFFFABRRRQAUUUUAFFFFABRRRQAUUUUAFFFFABRRRQAUUUUAFFFFABRRRQAUUUUAFFFFABRRRQBi2X/I6av/16Wn/oU1bVYtl/yOmr/wDXpaf+hTVtUAFFFFABRRRQAUUUUAFFFFABRRRQAUUUUAFFFFABRRRQAUUUUAFFFFAFTU9PTUrPyi7RSowkhmQfNFIOjD+RHQgkHgkUzS9Qa9jkiuoxDe2zbLiEHIB7MvqjDkH8DgggXqoahp8k00d7YMsV9CMIzZ2yp3jfHY9j1U888g7QkpR5JfLy/wCA/wCvNeZfoqrp+oR6hAWVGhmjOyaCTh4X/un+YIyCMEEgg1arOUXF2YwoooqQCiiigAoorJupZNYmlsLKRorVCUu7lCVY+sUZHfszD7vQfNylwhzPyERjGv6gDjOmWcoK+lzMp6+6IR+LD/Z52qZDDHbwJDBGsUUahERFwqqBgAAdBT6dSfNotlsAUUUVmMKKKKACiiigAooooAKKKKACiiigAooooAKKKKACiiigAooooAKKKKACiiigAooooAKKKKACiiigAooooAxbL/kdNX/69LT/ANCmrarFsv8AkdNX/wCvS0/9CmraoAKKKKACiiigAooooAKKKKACiiigAooooAKKKKACiiigAooooAKKKKACiiigChf6abiZbuylFtfxrtSbbuV1znY68blz9CMnBGTUdrrSNdLZalEbG9P3Y3OUl945MAP9OGHdRWnUN3Z21/bNb3sEdxC/3o5FDA/ga2jNNcs9vxX9dvyF6E1FYx0fULPP9j6vJGnaC+j+0ovsDlX/ADYgelHneJo+PsOk3HX5vtkkX048pv50/Yp/BJP8Pz0/Fhc2aiurqCytnuLuaOCGMZaSRgqqPqay/L8SXJw8+m2C858qN7hvwJKAH6qfpUtroNtFcJdXss2o3cZyk92Q3ln1RQAqH3UA+po9nCPxy+S/q35+gXZF5l5rvyxLNY6aR80rZjnuB6KOGjX/AGjhvQLw1asFvDa28cFtEkMMahUjjUKqgdAAOgqSionU5lZaL+vxAKKKKzGFFFFABRRRQAUUUUAFFFFABRRRQAUUUUAFFFFABRRRQAUUUUAFFFNd0jXMjKoJC5Y45JwB+JOKAHUUUUAFFFFABRRRQA2SRIYnlmdUjRSzOxwFA6kmsP8A4Trwl/0M+jf+B8X/AMVW9RQBg/8ACdeEv+hn0b/wPi/+Ko/4Trwl/wBDPo3/AIHxf/FVvUUAYP8AwnXhL/oZ9G/8D4v/AIqj/hOvCX/Qz6N/4Hxf/FVvUUAcVZ+NfCy+L9VlbxJpIje1tQrm+jwxBmyAd3bI/Otf/hOvCX/Qz6N/4Hxf/FVJZf8AI6av/wBelp/6FNW1QBg/8J14S/6GfRv/AAPi/wDiqP8AhOvCX/Qz6N/4Hxf/ABVb1FAGD/wnXhL/AKGfRv8AwPi/+Ko/4Trwl/0M+jf+B8X/AMVW9RQBg/8ACdeEv+hn0b/wPi/+Ko/4Trwl/wBDPo3/AIHxf/FVvUUAYP8AwnXhL/oZ9G/8D4v/AIqj/hOvCX/Qz6N/4Hxf/FVvUUAYP/CdeEv+hn0b/wAD4v8A4qj/AITrwl/0M+jf+B8X/wAVW9RQBg/8J14S/wChn0b/AMD4v/iqP+E68Jf9DPo3/gfF/wDFVvUUAYP/AAnXhL/oZ9G/8D4v/iqP+E68Jf8AQz6N/wCB8X/xVb1FAGD/AMJ14S/6GfRv/A+L/wCKo/4Trwl/0M+jf+B8X/xVb1FAGD/wnXhL/oZ9G/8AA+L/AOKo/wCE68Jf9DPo3/gfF/8AFVvUUAYP/CdeEv8AoZ9G/wDA+L/4qj/hOvCX/Qz6N/4Hxf8AxVb1FAGD/wAJ14S/6GfRv/A+L/4qj/hOvCX/AEM+jf8AgfF/8VW9RQBg/wDCdeEv+hn0b/wPi/8AiqP+E68Jf9DPo3/gfF/8VW9RQBg/8J14S/6GfRv/AAPi/wDiqP8AhOvCX/Qz6N/4Hxf/ABVb1FAGD/wnXhL/AKGfRv8AwPi/+Ko/4Trwl/0M+jf+B8X/AMVW9RQBg/8ACdeEv+hn0b/wPi/+Ko/4Trwl/wBDPo3/AIHxf/FVvUUAYP8AwnXhL/oZ9G/8D4v/AIqj/hOvCX/Qz6N/4Hxf/FVvUUAYP/CdeEv+hn0b/wAD4v8A4qj/AITrwl/0M+jf+B8X/wAVW9RQBg/8J14S/wChn0b/AMD4v/iqP+E68Jf9DPo3/gfF/wDFVvUUAYP/AAnXhL/oZ9G/8D4v/iqP+E68Jf8AQz6N/wCB8X/xVb1FAGD/AMJ14S/6GfRv/A+L/wCKo/4Trwl/0M+jf+B8X/xVb1FAGD/wnXhL/oZ9G/8AA+L/AOKqvffEDwzb2pltvEGj3LqykxDUYgSuRux83JAyQO+McZrpqr31oL61Nu8kkaMy7/LbBZQQSufQ4wfYmgB1neW+oWUN3ZTJPbzIHjkQ5DKehFcodY16X4oX/hyO7s47NdLh1CKT7KTJHulkjKffw33Ac8emO47BEWNFSNQqqMBVGABXnD3Zn/aAvI9M1SzhnHh6GApKglDSCeZym0Mp3BSGxngHkdCAC7F421STRNeR4LBNV0LUUtLuSSYQ25iYo3ngu3y/unztLH5hjJrQ0TxJdah4q1bQxIsqW9nDd2l5JbshZZGkTDKdofDRZ3LgEHHGMmnN8NLeXTCv9oO2pSaxHrU93JEGSedDwrR5H7sAABd2RgHJPJvjwnff8JZJr7awvnzWsdvJEtsQn7tnaPHz5AzIxYEndngrQBS8Eat4r16xtL/UZdNNsl3e2t0EhdHlEUzxo6fMQpymCpzxk554pRePL+3OgSah9lkl1HURp19a2pM0drIxcLtnX5SwKgMpOeT0xg7/AIZ8L3Wh+HbnR73Uku4ppJ5FkgtzA6GaR5H53tn5pDjpgAdetZKfDy4Tw1oGjjWIli8PzwT2bJZbd7Q8L5o3/NlSc4K5Jz7UAWf7a1yX4oXvhtLi1SzXS4dQimFufMj3SyRlDlsMTsB3cY5GO9YrePNbj+Gmo+K5ls1bSLmaGaBYm23IhnMbtndlNwBIHOD1LDiugsvCN7ZeMm15dWjl/wCJXHpoiltWLFI2Zldn8zltzkngZHHB5rKf4bXsvw71TwnJrsHlalPNNJcLYEMolkMjgDzcfePB7DsetAGhfeLXk8d3Hhy0MsK2VlHc3M8Vo9w5aRmCIAoIUYUkkjnIAx1rC1fWPEGq6b4XmnP9lznxCLS5hkspEW4KGTbKFchvLbYrhevI5OOeqPhmdPESa/a30MGqSWq2l4fsxMNyisWU7N+VZSWwdx4Yg54w7V/DM2q6fYq2pMt7ZX6X8dw8W9DIpPylMj5NrFcAgjg5JySAU9d8UXOmeItF8PI267v4pri4uYLR5PKij2g7YxuO5mdQCcgYJOeBWL4g8a+INK8Ia9qMVr5cmj3kKxTXVjJGt/A5j+6GK7WG9lJ5GVzjnA6O68JCS603UbS7EGq6fJO8dw0O6NxOxaWNk3AlSSCPmyCq8nnMXijwne+KPC95pFxq6RNeuhllFqWVFRgwVE3jHKjJJOcn2AANbSE1tJLv+3JrGZC6m1NpGyELsG4MGJ/i3Yx2xnmtKorZZ1tkW8kjlnA+d4oyisfZSzEfmaloAKKKKACiiigAooooAKKKKAMWy/5HTV/+vS0/9CmrarFsv+R01f8A69LT/wBCmraoAKKKKACiiigAooooAKKKKACiiigAooooAKKKKACiiigAooooAKKKKACiiigAooooAKKKKACiiigAooooAKKKKACiiigAooooAKKKKACiiigAooooAKKKKACiiigAooooAKKKKACiiigAooooAKKKKACiiigAooooAKKKKACiiigDFsv+R01f/r0tP/Qpq2qxbL/kdNX/AOvS0/8AQpq2qACiiigAooooAKKKKACiiigAooooAKKKKACiiigAooooAKKKKACiiigAooooAKKKKACiiigAooooAKKKKACiiigAooooAKKKKACiiigAooooAKKKKACiiigAooooAKKKKACiiigAooooAKKKKACiiigAooooAKKKKACiiigAooooAqxWEcOqXN+rMZLmOONlOMAIWIx/32f0q1RRQAUUUUAFFFFABRRRQAUUUUAFFFFABRRRQAUUUUAFFFFABRRRQAUUUUAFFFFABRRRQAUUUUAFFFFABRRRQAUUUUAFFFFABRRRQAUUUUAFFFFABRRRQAUUUUAFFFFABRRRQAUUUUAFFFFABRRRQAUUUUAFFFFABRRRQAUUUUAFFFFABRRRQAUUUUAFFFFABRRRQAUUUUAFFFFABRRRQAUUUUAFFFFABRRRQAUUUUAFFFFABRRRQAUUUUAFFFFABRRRQAUUUUAFFFFABRRRQAUUUUAFFFFABRRRQAUUUUAFFFFABRRRQAUUUUAFFFFABRRRQAUUUUAFFFFAH//Z)"
      ]
    },
    {
      "cell_type": "markdown",
      "metadata": {
        "id": "7wmQNgqJ_6ZJ"
      },
      "source": [
        "También si la tasa de aprendizaje es muy alta puede saltar de un lado al otro y puede tomar muchos pasos para poder entrenar satisfactoriamente:"
      ]
    },
    {
      "cell_type": "markdown",
      "metadata": {
        "id": "4j3jaMYQ_6eE"
      },
      "source": [
        "![fastai4.JPG](data:image/jpeg;base64,/9j/4AAQSkZJRgABAQEAeAB4AAD/4REKRXhpZgAATU0AKgAAAAgABAE7AAIAAAAVAAAISodpAAQAAAABAAAIYJydAAEAAAAqAAAQ2OocAAcAAAgMAAAAPgAAAAAc6gAAAAgAAAAAAAAAAAAAAAAAAAAAAAAAAAAAAAAAAAAAAAAAAAAAAAAAAAAAAAAAAAAAAAAAAAAAAAAAAAAAAAAAAAAAAAAAAAAAAAAAAAAAAAAAAAAAAAAAAAAAAAAAAAAAAAAAAAAAAAAAAAAAAAAAAAAAAAAAAAAAAAAAAAAAAAAAAAAAAAAAAAAAAAAAAAAAAAAAAAAAAAAAAAAAAAAAAAAAAAAAAAAAAAAAAAAAAAAAAAAAAAAAAAAAAAAAAAAAAAAAAAAAAAAAAAAAAAAAAAAAAAAAAAAAAAAAAAAAAAAAAAAAAAAAAAAAAAAAAAAAAAAAAAAAAAAAAAAAAAAAAAAAAAAAAAAAAAAAAAAAAAAAAAAAAAAAAAAAAAAAAAAAAAAAAAAAAAAAAAAAAAAAAAAAAAAAAAAAAAAAAAAAAAAAAAAAAAAAAAAAAAAAAAAAAAAAAAAAAAAAAAAAAAAAAAAAAAAAAAAAAAAAAAAAAAAAAAAAAAAAAAAAAAAAAAAAAAAAAAAAAAAAAAAAAAAAAAAAAAAAAAAAAAAAAAAAAAAAAAAAAAAAAAAAAAAAAAAAAAAAAAAAAAAAAAAAAAAAAAAAAAAAAAAAAAAAAAAAAAAAAAAAAAAAAAAAAAAAAAAAAAAAAAAAAAAAAAAAAAAAAAAAAAAAAAAAAAAAAAAAAAAAAAAAAAAAAAAAAAAAAAAAAAAAAAAAAAAAAAAAAAAAAAAAAAAAAAAAAAAAAAAAAAAAAAAAAAAAAAAAAAAAAAAAAAAAAAAAAAAAAAAAAAAAAAAAAAAAAAAAAAAAAAAAAAAAAAAAAAAAAAAAAAAAAAAAAAAAAAAAAAAAAAAAAAAAAAAAAAAAAAAAAAAAAAAAAAAAAAAAAAAAAAAAAAAAAAAAAAAAAAAAAAAAAAAAAAAAAAAAAAAAAAAAAAAAAAAAAAAAAAAAAAAAAAAAAAAAAAAAAAAAAAAAAAAAAAAAAAAAAAAAAAAAAAAAAAAAAAAAAAAAAAAAAAAAAAAAAAAAAAAAAAAAAAAAAAAAAAAAAAAAAAAAAAAAAAAAAAAAAAAAAAAAAAAAAAAAAAAAAAAAAAAAAAAAAAAAAAAAAAAAAAAAAAAAAAAAAAAAAAAAAAAAAAAAAAAAAAAAAAAAAAAAAAAAAAAAAAAAAAAAAAAAAAAAAAAAAAAAAAAAAAAAAAAAAAAAAAAAAAAAAAAAAAAAAAAAAAAAAAAAAAAAAAAAAAAAAAAAAAAAAAAAAAAAAAAAAAAAAAAAAAAAAAAAAAAAAAAAAAAAAAAAAAAAAAAAAAAAAAAAAAAAAAAAAAAAAAAAAAAAAAAAAAAAAAAAAAAAAAAAAAAAAAAAAAAAAAAAAAAAAAAAAAAAAAAAAAAAAAAAAAAAAAAAAAAAAAAAAAAAAAAAAAAAAAAAAAAAAAAAAAAAAAAAAAAAAAAAAAAAAAAAAAAAAAAAAAAAAAAAAAAAAAAAAAAAAAAAAAAAAAAAAAAAAAAAAAAAAAAAAAAAAAAAAAAAAAAAAAAAAAAAAAAAAAAAAAAAAAAAAAAAAAAAAAAAAAAAAAAAAAAAAAAAAAAAAAAAAAAAAAAAAAAAAAAAAAAAAAAAAAAAAAAAAAAAAAAAAAAAAAAAAAAAAAAAAAAAAAAAAAAAAAAAAAAAAAAAAAAAAAAAAAAAAAAAAAAAAAAAAAAAAAAAAAAAAAAAAAAAAAAAAAAAAAAAAAAAAAAAAAAAAAAAAAAAAAAAAAAAAAAAAAAAAAAAAAAAAAAAAAAAAAAAAAAAAAAAAAAAAAAAAAAAAAAAAAAAAAAAAAAAAAAAAAAAAAAAAAAAAAAAAAAAAAAAAAAAAAAAAAAAAAAAAAAAAAAAAAAAAAAAAAAAAAAAAAAAAAAAAAAAAAAAAAAAAAAAAAAAAAAAAAAAAAAAAAAAAAAAAAAAAAAAAAAAAAAAAAAAAAAAAAAAAAAAAAAAAAAAAAAAAAAAAAAAAAAAAAAAAAAAAAAAAAAAAAAAAAAAAAAAAAAAAAAAAAAAAAAAAAAAAAAAAAAAAAAAAAAAAAAAAAAAAAAAAAAAAAAAAAAAAAAAAAAAAAAAAAAAAAAAAAAAAAAAAAAAAAAAAAAAAAAAAAAAAAAAAAAAAAAAAAAAAAAAAAAAAAAAAAAAAAAAAAAAAAAAAAAAAAAAAAAAAAAAAAAAAAAAAAAAAAAAAAAAAAAAAAAAAAAAAAAAAAAAAAAAAAAAAAAAAAAAAAAAAAAAAAAAAAAAAAAAAAAAAAAAAAAAAAAAAAAAAAAAAAAAAAAAAAAAAAAAAAAAAAAAAAAAAAAAAAAAAAAAAAAAAAAAAAAAAAAAAAAAAAAAAAAAAAAAAAAAAAAAAAAAAAAAAAAAAAAAAAAAAAAAAAAAAAAAAAAAAAAAAAAAAAAAAAAAAAAAAAAAAAAAAAAAAAAAAAAAAAAAAAAAAAAAAAAAAAAAAAAAAAAAAAAAAAAAAAAAAAAAAAAAAAAAAAAAAAAAAAAAAAAAAAAAAAAAAAAAAAAAAAAAAAAAAAAAAAAAAAAAAAAAAAAAAAAAAAAAAAAAAAAAAAAAAAAAAAAAAAAAAAAAAAAAAAAAAAAAAAAAAAAAAAAAAAAAAAAAAAAAAAAAAAAAAAAAAAAAAAAAAAAAAAAAAAAAAAAAAAAAAAAAAAAAAAAAAAAAAAAAAAAAAAAAAAAAAAAAAAAAAAAAAAAAAAAAAAAAAAAAAAAAAAAAAAAAAAAAAAAAAAAAAEFsb25zbyBBc3Ryb3phIFRhZ2xlAAAABZADAAIAAAAUAAAQrpAEAAIAAAAUAAAQwpKRAAIAAAADNDcAAJKSAAIAAAADNDcAAOocAAcAAAgMAAAIogAAAAAc6gAAAAgAAAAAAAAAAAAAAAAAAAAAAAAAAAAAAAAAAAAAAAAAAAAAAAAAAAAAAAAAAAAAAAAAAAAAAAAAAAAAAAAAAAAAAAAAAAAAAAAAAAAAAAAAAAAAAAAAAAAAAAAAAAAAAAAAAAAAAAAAAAAAAAAAAAAAAAAAAAAAAAAAAAAAAAAAAAAAAAAAAAAAAAAAAAAAAAAAAAAAAAAAAAAAAAAAAAAAAAAAAAAAAAAAAAAAAAAAAAAAAAAAAAAAAAAAAAAAAAAAAAAAAAAAAAAAAAAAAAAAAAAAAAAAAAAAAAAAAAAAAAAAAAAAAAAAAAAAAAAAAAAAAAAAAAAAAAAAAAAAAAAAAAAAAAAAAAAAAAAAAAAAAAAAAAAAAAAAAAAAAAAAAAAAAAAAAAAAAAAAAAAAAAAAAAAAAAAAAAAAAAAAAAAAAAAAAAAAAAAAAAAAAAAAAAAAAAAAAAAAAAAAAAAAAAAAAAAAAAAAAAAAAAAAAAAAAAAAAAAAAAAAAAAAAAAAAAAAAAAAAAAAAAAAAAAAAAAAAAAAAAAAAAAAAAAAAAAAAAAAAAAAAAAAAAAAAAAAAAAAAAAAAAAAAAAAAAAAAAAAAAAAAAAAAAAAAAAAAAAAAAAAAAAAAAAAAAAAAAAAAAAAAAAAAAAAAAAAAAAAAAAAAAAAAAAAAAAAAAAAAAAAAAAAAAAAAAAAAAAAAAAAAAAAAAAAAAAAAAAAAAAAAAAAAAAAAAAAAAAAAAAAAAAAAAAAAAAAAAAAAAAAAAAAAAAAAAAAAAAAAAAAAAAAAAAAAAAAAAAAAAAAAAAAAAAAAAAAAAAAAAAAAAAAAAAAAAAAAAAAAAAAAAAAAAAAAAAAAAAAAAAAAAAAAAAAAAAAAAAAAAAAAAAAAAAAAAAAAAAAAAAAAAAAAAAAAAAAAAAAAAAAAAAAAAAAAAAAAAAAAAAAAAAAAAAAAAAAAAAAAAAAAAAAAAAAAAAAAAAAAAAAAAAAAAAAAAAAAAAAAAAAAAAAAAAAAAAAAAAAAAAAAAAAAAAAAAAAAAAAAAAAAAAAAAAAAAAAAAAAAAAAAAAAAAAAAAAAAAAAAAAAAAAAAAAAAAAAAAAAAAAAAAAAAAAAAAAAAAAAAAAAAAAAAAAAAAAAAAAAAAAAAAAAAAAAAAAAAAAAAAAAAAAAAAAAAAAAAAAAAAAAAAAAAAAAAAAAAAAAAAAAAAAAAAAAAAAAAAAAAAAAAAAAAAAAAAAAAAAAAAAAAAAAAAAAAAAAAAAAAAAAAAAAAAAAAAAAAAAAAAAAAAAAAAAAAAAAAAAAAAAAAAAAAAAAAAAAAAAAAAAAAAAAAAAAAAAAAAAAAAAAAAAAAAAAAAAAAAAAAAAAAAAAAAAAAAAAAAAAAAAAAAAAAAAAAAAAAAAAAAAAAAAAAAAAAAAAAAAAAAAAAAAAAAAAAAAAAAAAAAAAAAAAAAAAAAAAAAAAAAAAAAAAAAAAAAAAAAAAAAAAAAAAAAAAAAAAAAAAAAAAAAAAAAAAAAAAAAAAAAAAAAAAAAAAAAAAAAAAAAAAAAAAAAAAAAAAAAAAAAAAAAAAAAAAAAAAAAAAAAAAAAAAAAAAAAAAAAAAAAAAAAAAAAAAAAAAAAAAAAAAAAAAAAAAAAAAAAAAAAAAAAAAAAAAAAAAAAAAAAAAAAAAAAAAAAAAAAAAAAAAAAAAAAAAAAAAAAAAAAAAAAAAAAAAAAAAAAAAAAAAAAAAAAAAAAAAAAAAAAAAAAAAAAAAAAAAAAAAAAAAAAAAAAAAAAAAAAAAAAAAAAAAAAAAAAAAAAAAAAAAAAAAAAAAAAAAAAAAAAAAAAAAAAAAAAAAAAAAAAAAAAAAAAAAAAAAAAAAAAAAAAAAAAAAAAAAAAAAAAAAAAAAAAAAAAAAAAAAAAAAAAAAAAAAAAAAAAAAAAAAAAAAAAAAAAAAAAAAAAAAAAAAAAAAAAAAAAAAAAAAAAAAAAAAAAAAAAAAAAAAAAAAAAAAAAAAAAAAAAAAAAAAAAAAAAAAAAAAAAAAAAAAAAAAAAAAAAAAAAAAAAAAAAAAAAAAAAAAAAAAAAAAAAAAAAAAAAAAAAAAAAAAAAAAAAAAAAAAAAAAAAAAAAAAAAAAAAAAAAAAAAAAAAAAAAAAAAAAAAAAAAAAAAAAAAAAAAAAAAAAAAAAAAAAAAAAAAAAAAAAAAAAAAAAAAAAAAAAAAAAAAAAAAAAAAAAAAAAAAAAAAAAAAAAAAAAAAAAAAAAAAAAAAAAAAAAAAAAAAAAAAAAAAAAAAAAAAAAAAAAAAAAAAAAAAAAAAAAAAAAAAAAAAAAAAAAAAAAAAAAAAAAAAAAAAAAAAAAAAAAAAAAAAAAAAAAAAAAAAAAAAAAAAAAAAAAAAAAAAAAAAAAAAAAAAAAAAAAAAAAAAAAAAAAAAAAAAAAAAAAAAAAAAAAAAAAAAAAAAAAAAAAAAAAAAAAAAAAAAAAAAAAAAAAAAAAAAAAAAAAAAAAAAAAAAAAAAAAAAAAAAAAAAAAAAAAAAAAAAAAAAAAAAAAAAAAAAAAAAAAAAAAAAAAAAAAAAAAAAAAAAAAAAAAAAAAAAAAAAAAAAAAAAAAAAAAAAAAAAAAAAAAAAAAAAAAAAAAAAAAAAAAAAAAAAAAAAAAAAAAAAAAAAAAAAAAAAAAAAAAAAAAAAAAAAAAAAAAAAAAAAAAAAAAAAAAAAAAAAAAAAAAAAAAAAAAAAAAAAAAAAAAAAAAAAAAAAAAADIwMjE6MDQ6MTYgMTk6MjI6MDUAMjAyMTowNDoxNiAxOToyMjowNQAAAEEAbABvAG4AcwBvACAAQQBzAHQAcgBvAHoAYQAgAFQAYQBnAGwAZQAAAP/hCydodHRwOi8vbnMuYWRvYmUuY29tL3hhcC8xLjAvADw/eHBhY2tldCBiZWdpbj0n77u/JyBpZD0nVzVNME1wQ2VoaUh6cmVTek5UY3prYzlkJz8+DQo8eDp4bXBtZXRhIHhtbG5zOng9ImFkb2JlOm5zOm1ldGEvIj48cmRmOlJERiB4bWxuczpyZGY9Imh0dHA6Ly93d3cudzMub3JnLzE5OTkvMDIvMjItcmRmLXN5bnRheC1ucyMiPjxyZGY6RGVzY3JpcHRpb24gcmRmOmFib3V0PSJ1dWlkOmZhZjViZGQ1LWJhM2QtMTFkYS1hZDMxLWQzM2Q3NTE4MmYxYiIgeG1sbnM6ZGM9Imh0dHA6Ly9wdXJsLm9yZy9kYy9lbGVtZW50cy8xLjEvIi8+PHJkZjpEZXNjcmlwdGlvbiByZGY6YWJvdXQ9InV1aWQ6ZmFmNWJkZDUtYmEzZC0xMWRhLWFkMzEtZDMzZDc1MTgyZjFiIiB4bWxuczp4bXA9Imh0dHA6Ly9ucy5hZG9iZS5jb20veGFwLzEuMC8iPjx4bXA6Q3JlYXRlRGF0ZT4yMDIxLTA0LTE2VDE5OjIyOjA1LjQ2ODwveG1wOkNyZWF0ZURhdGU+PC9yZGY6RGVzY3JpcHRpb24+PHJkZjpEZXNjcmlwdGlvbiByZGY6YWJvdXQ9InV1aWQ6ZmFmNWJkZDUtYmEzZC0xMWRhLWFkMzEtZDMzZDc1MTgyZjFiIiB4bWxuczpkYz0iaHR0cDovL3B1cmwub3JnL2RjL2VsZW1lbnRzLzEuMS8iPjxkYzpjcmVhdG9yPjxyZGY6U2VxIHhtbG5zOnJkZj0iaHR0cDovL3d3dy53My5vcmcvMTk5OS8wMi8yMi1yZGYtc3ludGF4LW5zIyI+PHJkZjpsaT5BbG9uc28gQXN0cm96YSBUYWdsZTwvcmRmOmxpPjwvcmRmOlNlcT4NCgkJCTwvZGM6Y3JlYXRvcj48L3JkZjpEZXNjcmlwdGlvbj48L3JkZjpSREY+PC94OnhtcG1ldGE+DQogICAgICAgICAgICAgICAgICAgICAgICAgICAgICAgICAgICAgICAgICAgICAgICAgICAgICAgICAgICAgICAgICAgICAgICAgICAgICAgICAgICAgICAgICAgICAgICAgICAgCiAgICAgICAgICAgICAgICAgICAgICAgICAgICAgICAgICAgICAgICAgICAgICAgICAgICAgICAgICAgICAgICAgICAgICAgICAgICAgICAgICAgICAgICAgICAgICAgICAgICAKICAgICAgICAgICAgICAgICAgICAgICAgICAgICAgICAgICAgICAgICAgICAgICAgICAgICAgICAgICAgICAgICAgICAgICAgICAgICAgICAgICAgICAgICAgICAgICAgICAgIAogICAgICAgICAgICAgICAgICAgICAgICAgICAgICAgICAgICAgICAgICAgICAgICAgICAgICAgICAgICAgICAgICAgICAgICAgICAgICAgICAgICAgICAgICAgICAgICAgICAgCiAgICAgICAgICAgICAgICAgICAgICAgICAgICAgICAgICAgICAgICAgICAgICAgICAgICAgICAgICAgICAgICAgICAgICAgICAgICAgICAgICAgICAgICAgICAgICAgICAgICAKICAgICAgICAgICAgICAgICAgICAgICAgICAgICAgICAgICAgICAgICAgICAgICAgICAgICAgICAgICAgICAgICAgICAgICAgICAgICAgICAgICAgICAgICAgICAgICAgICAgIAogICAgICAgICAgICAgICAgICAgICAgICAgICAgICAgICAgICAgICAgICAgICAgICAgICAgICAgICAgICAgICAgICAgICAgICAgICAgICAgICAgICAgICAgICAgICAgICAgICAgCiAgICAgICAgICAgICAgICAgICAgICAgICAgICAgICAgICAgICAgICAgICAgICAgICAgICAgICAgICAgICAgICAgICAgICAgICAgICAgICAgICAgICAgICAgICAgICAgICAgICAKICAgICAgICAgICAgICAgICAgICAgICAgICAgICAgICAgICAgICAgICAgICAgICAgICAgICAgICAgICAgICAgICAgICAgICAgICAgICAgICAgICAgICAgICAgICAgICAgICAgIAogICAgICAgICAgICAgICAgICAgICAgICAgICAgICAgICAgICAgICAgICAgICAgICAgICAgICAgICAgICAgICAgICAgICAgICAgICAgICAgICAgICAgICAgICAgICAgICAgICAgCiAgICAgICAgICAgICAgICAgICAgICAgICAgICAgICAgICAgICAgICAgICAgICAgICAgICAgICAgICAgICAgICAgICAgICAgICAgICAgICAgICAgICAgICAgICAgICAgICAgICAKICAgICAgICAgICAgICAgICAgICAgICAgICAgICAgICAgICAgICAgICAgICAgICAgICAgICAgICAgICAgICAgICAgICAgICAgICAgICAgICAgICAgICAgICAgICAgICAgICAgIAogICAgICAgICAgICAgICAgICAgICAgICAgICAgICAgICAgICAgICAgICAgICAgICAgICAgICAgICAgICAgICAgICAgICAgICAgICAgICAgICAgICAgICAgICAgICAgICAgICAgCiAgICAgICAgICAgICAgICAgICAgICAgICAgICAgICAgICAgICAgICAgICAgICAgICAgICAgICAgICAgICAgICAgICAgICAgICAgICAgICAgICAgICAgICAgICAgICAgICAgICAKICAgICAgICAgICAgICAgICAgICAgICAgICAgICAgICAgICAgICAgICAgICAgICAgICAgICAgICAgICAgICAgICAgICAgICAgICAgICAgICAgICAgICAgICAgICAgICAgICAgIAogICAgICAgICAgICAgICAgICAgICAgICAgICAgICAgICAgICAgICAgICAgICAgICAgICAgICAgICAgICAgICAgICAgICAgICAgICAgICAgICAgICAgICAgICAgICAgICAgICAgCiAgICAgICAgICAgICAgICAgICAgICAgICAgICAgICAgICAgICAgICAgICAgICAgICAgICAgICAgICAgICAgICAgICAgICAgICAgICAgICAgICAgICAgICAgICAgICAgICAgICAKICAgICAgICAgICAgICAgICAgICAgICAgICAgICAgICAgICAgICAgICAgICAgICAgICAgICAgICAgICAgICAgICAgICAgICAgICAgICAgICAgICAgICAgICAgICAgICAgICAgIAogICAgICAgICAgICAgICAgICAgICAgICAgICAgICAgICAgICAgICAgICAgICAgICAgICAgICAgICAgICAgICAgICAgICAgICAgICAgICAgICAgICAgICAgICAgICAgICAgICAgCiAgICAgICAgICAgICAgICAgICAgICAgICAgICAgICAgICAgICAgICAgICAgICAgICAgICAgICAgICAgICAgICAgICAgICAgICAgICAgICAgICAgICAgICAgICAgICAgICAgICAKICAgICAgICAgICAgICAgICAgICAgICAgICAgIDw/eHBhY2tldCBlbmQ9J3cnPz7/2wBDAAcFBQYFBAcGBQYIBwcIChELCgkJChUPEAwRGBUaGRgVGBcbHichGx0lHRcYIi4iJSgpKywrGiAvMy8qMicqKyr/2wBDAQcICAoJChQLCxQqHBgcKioqKioqKioqKioqKioqKioqKioqKioqKioqKioqKioqKioqKioqKioqKioqKioqKir/wAARCAGkAgoDASIAAhEBAxEB/8QAHwAAAQUBAQEBAQEAAAAAAAAAAAECAwQFBgcICQoL/8QAtRAAAgEDAwIEAwUFBAQAAAF9AQIDAAQRBRIhMUEGE1FhByJxFDKBkaEII0KxwRVS0fAkM2JyggkKFhcYGRolJicoKSo0NTY3ODk6Q0RFRkdISUpTVFVWV1hZWmNkZWZnaGlqc3R1dnd4eXqDhIWGh4iJipKTlJWWl5iZmqKjpKWmp6ipqrKztLW2t7i5usLDxMXGx8jJytLT1NXW19jZ2uHi4+Tl5ufo6erx8vP09fb3+Pn6/8QAHwEAAwEBAQEBAQEBAQAAAAAAAAECAwQFBgcICQoL/8QAtREAAgECBAQDBAcFBAQAAQJ3AAECAxEEBSExBhJBUQdhcRMiMoEIFEKRobHBCSMzUvAVYnLRChYkNOEl8RcYGRomJygpKjU2Nzg5OkNERUZHSElKU1RVVldYWVpjZGVmZ2hpanN0dXZ3eHl6goOEhYaHiImKkpOUlZaXmJmaoqOkpaanqKmqsrO0tba3uLm6wsPExcbHyMnK0tPU1dbX2Nna4uPk5ebn6Onq8vP09fb3+Pn6/9oADAMBAAIRAxEAPwD6RooooAKKKKACiiigAooooAKKKKACiiigAooooAKKKKACiiigAooooAKKKKACiiigAooooAKKKKACiiigAooooAKKKKACiiigAooooAKKKKACiiigAooooAKKKKACiiigAooooAKKKKACiiigAooooAKKKKACiiigAooooAKKKKACiiigAooooAKKKKACkLAEAkAscDJ60tcX4ksrVfil4NvVt4hdO93G04Qb2QW7EKW6kZ7UAdpRWE3iy0aDULmztLu9tNOkeO4uLdVZQyf6wKCwZtvfaDyCBkgipIfE9le3XkaSj6k32SK83W7x7TFKW8sgswzu2MR9OcZGQDZorCsvFdvqJhjsrK8luZNPh1B7YiNJIY5d2wNucDcSjjAJAK8kZGdTTb5NT0q0v4o5IkuoUmWOZcOgZQQGAzgjPNAFmiiigAooooAKKKKACiiigAooooAKKKKACiiigAooooAKKKKACiiigAooooAKKKKACiiigAooooAKKKKACiiigAooooAKKKKACiiigAooooAKKKKACiiigAooooAKKKKACiiigAooooAKKKKACiiigAooooAKKKKACuS8R22pzeOvDF3ZaRc3VpYSXDXNxHLCqpviKLwzhjyecDpXW0UAcHoOlat4S8LanoEOmTahIbi6lsZ43RY5lmdnXexIKlS+GyOg+Xd0rHtPhxb29hp+ka7pF3eHSNMgt7PWdNuTBP5nzGRAVdWCg4K7vlGTn39UJwMngVm6Xr+nazNcxafP5jWz7HyMbhgEMv8AeUgjDDg0AcIfB8+qtZp420i6vbuz06CK31qxufKuhKS+9GdHUnHyHP3Sdx4zz3Phm21Kz8Mafb65cNc38cIWaViCzH/aI4LYxkjqc1qUUAFFFFABRRRQAUUUUAFFFFABRVe0vob1rhYd263mMMgYYwwAP8iD+NWKbTi7MAooopAFFFFABRRRQAUUUUAFFFFABRRRQAUUUUAFFFFABRRRQAUUUUAFFFFABRRRQAUUUUAFFFFABRRRQAUU2SRYomkkYKiKWZj2A71HZ3SXtjBdRBlSeNZFDjBAYZGffmnZ2uBNRRRSAKKKKACiiigAooooAKKKKACiiigAooooAKKKKACiiigAooooAjngiuYGhuI0licYZHXKsPQjvWLodtBJqusyvDG0kOpHynKglM28QOD2yOK3qxdA/wCP/Xv+wl/7QhoA2qKKKACiiigAooooAKKKKACiiigDGsybbxfqVuT8t1BDdoPVhmN/0WP862axdW/0bxFot70DvLZOfaRN4z/wKJR/wKtqt62qjLuvy0/QSCiiisBhRRRQAUUUUAFFFFABRRRQAUUUUAFFFFABRRRQAUUUUAFFFFABRRRQAUUUUAFFFFABRRRQAUUUUAY/it2Hhu5gjbbJeFLNCOoMrCPI+m7P4VroixoqIAqqMADsKxtW/wBJ8Q6LZdlklvHHqsabBn/gUqH8K2q3npShHvd/p+guoUUUVgMKKKKACiiigAooooAKKKKACiiigAooooAKKKKACiiigAooooAKxdA/4/8AXv8AsJf+0Ia2qxdA/wCP/Xv+wl/7QhoA2qKKKACiiigAooooAKKKKACiiigDG8WKw8NXNzGCZLIpeKB1JiYSY/EKR+NbCOroroQysMgjuKSSNJonjkUMjqVZT3B6isnwpI7eGLSGYlpbQNaSE9S0TGMk/Xbn8a3+Kh6P81/wPxF1NiiiisBhRRRQAUUUUAFFFFABRRRQAUUUUAFFFFABRRRQAUUUUAFFFFABRRRQAUUUUAFFFFABRRRQAUUUUAYtl/pXjHU5+qWcENovs5zI/wCatF+VbVYvhb97pUt8fvX91Lcg+qFiI/8AyGqVtVviNKnL2svu0f4iWwUUUVgMKKKKACiiigAooooAKKKKACiiigAooooAKKKKACiiigAooooAKxdA/wCP/Xv+wl/7QhrarF0D/j/17/sJf+0IaANqiiigAooooAKKKKACiiigAooooAKxtIxba9rVj0BljvEGeiyLtP8A4/G5/GtmsW8/0Txhptx0W8gltG46uMSp+SrL+db0dVKPdflr+gmbVFFFYDCiiigAooooAKKKKACiiigAooooAKKKKACiiigAooooAKKKKACiiigAooooAKKKKACiiigArN8Q3j2Hhy/uIP8AXLCwhGcZkPyoM+7ECtKsXX8XF3pGn/8APe8WVxj+CEGTP/faxj8a2oJOor7LV+i1YnsaVhZx6dpttZQf6u2hSJPooAH8qsUUVk25O7GFFFFIAooooAKKKKACiiigAooooAKKKKACiiigAooooAKKKKACiiigArF0D/j/ANe/7CX/ALQhrarF0D/j/wBe/wCwl/7QhoA2qKKKACiiigAooooAKKKKACiiigArF8VfudGW/HB06eO7J9EVh5n/AJDLj8a2qiuraO8s5rWcbop42jceqkYP860pTUKik9kJ7EtFZfhm5e68N2TTtuniTyJj6yRkxv8A+PKa1KVSDhNwfQa1CiiioAKKKKACiiigAooooAKKKKACiiigAooooAKKKKACiiigAooooAKKKKACiiigAooooAKxYj9r8bTvwU0+yWNT/tytuYfgscf/AH1W1WL4ZxPa3uo9ft97JKCe6KREh+hWNT+Nb0/dhOXy+/8A4CYnubVFFFYDCiiigAooooAKKKKACiiigAooooAKKKKACiiigAooooAKKKKACiiigArF0D/j/wBe/wCwl/7QhrarF0D/AI/9e/7CX/tCGgDaooooAKKKKACiiigAooooAKKKKACiiigDmrPU7XRdb1bT7oyKGmW8hCQu/wAkq8/dB/5aJIfxrQ/4STTf79x/4CS//E1Fe/6J4v024zhLyGWzf3cDzU/ILL+dbVa1+ZtTvul/l+aNYSopWlF39V/kZX/CSab/AH7j/wABJf8A4mj/AISTTf79x/4CS/8AxNatFYWl3/r7y+ah/K/vX/yJlf8ACSab/fuP/ASX/wCJo/4STTf79x/4CS//ABNatFFpd/6+8Oah/K/vX/yJlf8ACSab/fuP/ASX/wCJo/4STTf79x/4CS//ABNatFFpd/6+8Oah/K/vX/yJlf8ACSab/fuP/ASX/wCJo/4STTf79x/4CS//ABNatFFpd/6+8Oah/K/vX/yJlf8ACSab/fuP/ASX/wCJo/4STTf79x/4CS//ABNatFFpd/6+8Oah/K/vX/yJlf8ACSab/fuP/ASX/wCJo/4STTf79x/4CS//ABNatFFpd/6+8Oah/K/vX/yJlf8ACSab/fuP/ASX/wCJo/4STTf79x/4CS//ABNatFFpd/6+8Oah/K/vX/yJlf8ACSab/fuP/ASX/wCJo/4STTf79x/4CS//ABNatFFpd/6+8Oah/K/vX/yJlf8ACSab/fuP/ASX/wCJo/4STTf79x/4CS//ABNatFFpd/6+8Oah/K/vX/yJlf8ACSab/fuP/ASX/wCJo/4STTf79x/4CS//ABNatFFpd/6+8Oah/K/vX/yJlf8ACSab/fuP/ASX/wCJo/4STTf79x/4CS//ABNatFFpd/6+8Oah/K/vX/yJlf8ACSab/fuP/ASX/wCJo/4STTf79x/4CS//ABNatFFpd/6+8Oah/K/vX/yJlf8ACSab/fuP/ASX/wCJqC88VWNvB50bSssZ3ShrWUHZg5wduAe/PpW5UU9vHc+WJQSqOHC54JHTPrg4P1ApNTtv/X3lQlh1LWLt6r/5Ez9W1dYfCt1qdg4lP2ctbkfxuRhB+LECrmm2SabpVpYxfctoUiX6KAP6VhT2ckFtoOiSOrM11502wnBSLMmf++/LH4101dLuqMU93r+i/U56iiqklHVLYKKKKxJCiiigAooooAKKKKACiiigAooooAKKKKACiiigAooooAKKKKACiiigArF0D/j/ANe/7CX/ALQhrarF0D/j/wBe/wCwl/7QhoA2qKKKACiiigAooooAKKKKACiiigAooooAxvFSsmhtexqWfT5UvBgc4jYFwPqm8fjWyCGUFTkHkEd6ZLEk8LxTKHjkUqynuDwRXP6Xqcth4JiZ0NzdWR+wspbb5kiSeSCT2yQGz6Gt270Lv7L/AD/4b8Rwi5zUY7s6Oiuf0y91ySyD/wBn20rszGQvfMCrZ5XaY/lAPAHp3PU2/tWu/wDQKs//AAPb/wCNVyqaav8Aozplhpxk43X/AIEv8zVorK+1a7/0CrP/AMD2/wDjVH2rXf8AoFWf/ge3/wAao51/SZP1efdf+BR/zNWisr7Vrv8A0CrP/wAD2/8AjVH2rXf+gVZ/+B7f/GqOdf0mH1efdf8AgUf8zVorK+1a7/0CrP8A8D2/+NUfatd/6BVn/wCB7f8AxqjnX9Jh9Xn3X/gUf8zVorK+1a7/ANAqz/8AA9v/AI1R9q13/oFWf/ge3/xqjnX9Jh9Xn3X/AIFH/M1aKyvtWu/9Aqz/APA9v/jVH2rXf+gVZ/8Age3/AMao51/SYfV591/4FH/M1aKyvtWu/wDQKs//AAPb/wCNUfatd/6BVn/4Ht/8ao51/SYfV591/wCBR/zNWisr7Vrv/QKs/wDwPb/41R9q13/oFWf/AIHt/wDGqOdf0mH1efdf+BR/zNWisr7Vrv8A0CrP/wAD2/8AjVH2rXf+gVZ/+B7f/GqOdf0mH1efdf8AgUf8zVorK+1a7/0CrP8A8D2/+NUfatd/6BVn/wCB7f8AxqjnX9Jh9Xn3X/gUf8zVorK+1a7/ANAqz/8AA9v/AI1R9q13/oFWf/ge3/xqjnX9Jh9Xn3X/AIFH/M1aKyvtWu/9Aqz/APA9v/jVH2rXf+gVZ/8Age3/AMao51/SYfV591/4FH/M1aKyvtWu/wDQKs//AAPb/wCNUfatd/6BVn/4Ht/8ao51/SYfV591/wCBR/zM3QLyTW9efUJ1UfZLNYF2g4DyMXkAz/spD+ddPWB4MiB8Pi+ESRHUZnuwsZyoRjiPBwM/u1Tmt+umtdS5P5bL7t/xuYzac24qyuFFFFYkhRRRQAUUUUAFFFFABRRRQAUUUUAFFFFABRRRQAUUUUAFFFFABRRRQAVi6B/x/wCvf9hL/wBoQ1tVi6B/x/69/wBhL/2hDQBtUUUUAFFFFABRRRQAUUUUAFFFFABRRRQAVz0VnG3iDVtMnLCG5MGox7Tj5gQrAfQxIT/v10Ncr40MtnLpWp27tGUultZ5FbbtikdSST6bo0H0Y1tTatKL6p/hr+li6abqRUXZ3R1QAGcDGTk+9FUv7Z0z/oI2n/f9f8aP7Z0z/oI2n/f9f8a5+ZdyvZVP5X9xdoql/bOmf9BG0/7/AK/40f2zpn/QRtP+/wCv+NPmXcPY1P5X9xdoql/bOmf9BG0/7/r/AI0f2zpn/QRtP+/6/wCNHMu4exqfyv7i7RVL+2dM/wCgjaf9/wBf8aP7Z0z/AKCNp/3/AF/xo5l3D2NT+V/cXaKpf2zpn/QRtP8Av+v+NH9s6Z/0EbT/AL/r/jRzLuHsan8r+4u0VS/tnTP+gjaf9/1/xo/tnTP+gjaf9/1/xo5l3D2NT+V/cXaKpf2zpn/QRtP+/wCv+NH9s6Z/0EbT/v8Ar/jRzLuHsan8r+4u0VS/tnTP+gjaf9/1/wAaP7Z0z/oI2n/f9f8AGjmXcPY1P5X9xdoql/bOmf8AQRtP+/6/40f2zpn/AEEbT/v+v+NHMu4exqfyv7i7RVL+2dM/6CNp/wB/1/xo/tnTP+gjaf8Af9f8aOZdw9jU/lf3F2iqX9s6Z/0EbT/v+v8AjR/bOmf9BG0/7/r/AI0cy7h7Gp/K/uLtFUv7Z0z/AKCNp/3/AF/xo/tnTP8AoI2n/f8AX/GjmXcPY1P5X9xdrK8TzyQeHLpbZttxcAW0B9JJGEan8CwP4VLFrdjNqItEurdmdcxFJlbzD3HHQjrjuOnQ4q6n/pniXSbHqsJkvpPT5BsQH/gUm4f7lb4ezqJ9Fr92pFSEoaSVrmtbW8dpaxW8C7YoUEaL6ADAFSUUVk227skKKKKQBRRRQAUUUUAFFFFABRRRQAUUUUAFFFFABRRRQAUUUUAFFFFABRRRQAVi6B/x/wCvf9hL/wBoQ1tVi6B/x/69/wBhL/2hDQBtUUUUAFFFFABRRRQAUUUUAFFFFABRRRQAVm+IrGTUvDt7bQY89oi0ORx5i/Mn/jwFaVFVCThJSXQDP09NO1LTLa+gtIPKuYllT92OjAEdverH9n2f/PpB/wB+h/hWd4c/0aO+0wgD7DdusYB/5Zv+8T8AH2/8BrUS5jkuZIEO54gpfA4XPQZ9eM49x6inWhGFRpbdPTp+BcZ1Gr3Yz+z7P/n0g/79D/Cj+z7P/n0g/wC/Q/wqxRWdkHtJ9yv/AGfZ/wDPpB/36H+FH9n2f/PpB/36H+FWKKLIPaT7lf8As+z/AOfSD/v0P8KP7Ps/+fSD/v0P8KsUUWQe0n3K/wDZ9n/z6Qf9+h/hR/Z9n/z6Qf8Afof4VYoosg9pPuV/7Ps/+fSD/v0P8KP7Ps/+fSD/AL9D/CrFFFkHtJ9yv/Z9n/z6Qf8Afof4Uf2fZ/8APpB/36H+FWKKLIPaT7lf+z7P/n0g/wC/Q/wo/s+z/wCfSD/v0P8ACrFFFkHtJ9yv/Z9n/wA+kH/fof4Uf2fZ/wDPpB/36H+FWKKLIPaT7lf+z7P/AJ9IP+/Q/wAKP7Ps/wDn0g/79D/CrFFFkHtJ9yv/AGfZ/wDPpB/36H+FH9n2f/PpB/36H+FWKKLIPaT7lf8As+z/AOfSD/v0P8KP7Ps/+fSD/v0P8KsUUWQe0n3MPVdCSZ4Z7W3jaSO5t2RVVVEarMrO3ucA++BgdTl+kf6Xr2r6gTlFkSyi/wB2MEsf++5HB/3RVjX9Zi0DRpdRuE3xRMgcBsYDMFz+Gc0nh6zksPD9pDcjFwU824x3lcl5D/30zVtTShTnJbuy/X9F95dSdScI82yvb8DSooorIxCiiigAooooAKKKKACiiigAooooAKKKKACiiigAooooAKKKKACiiigAooooAKxdA/4/9e/7CX/tCGtqsXQP+P8A17/sJf8AtCGgDaooooAKKKKACiiigAooooAKKKKACiiigAooooAwrsmw8WRSrwmpWjQMR/z1iy6D6lWl/wC+RVTQfDyPpsE15LeMZ4I5ift06MJGXLggMB15/E+lX/FKmPRGv0UtJpsi3ihepCcuB9U3j8a1LS5ivbOG6t23RTxrIhxjKsMj9DWlaMZxhN+a+7/gNL5HRSrVKVOUYaXa1+8z/wDhHLD+/ff+DG4/+Lo/4Ryw/v33/gxuP/i61aKx5I9hfWa/87+9mV/wjlh/fvv/AAY3H/xdH/COWH9++/8ABjcf/F1q0UckewfWa/8AO/vZlf8ACOWH9++/8GNx/wDF0f8ACOWH9++/8GNx/wDF1q0UckewfWa/87+9mV/wjlh/fvv/AAY3H/xdH/COWH9++/8ABjcf/F1q0UckewfWa/8AO/vZlf8ACOWH9++/8GNx/wDF0f8ACOWH9++/8GNx/wDF1q0UckewfWa/87+9mV/wjlh/fvv/AAY3H/xdH/COWH9++/8ABjcf/F1q0UckewfWa/8AO/vZlf8ACOWH9++/8GNx/wDF0f8ACOWH9++/8GNx/wDF1q0UckewfWa/87+9mV/wjlh/fvv/AAY3H/xdH/COWH9++/8ABjcf/F1q0UckewfWa/8AO/vZlf8ACOWH9++/8GNx/wDF0f8ACOWH9++/8GNx/wDF1q0UckewfWa/87+9mV/wjlh/fvv/AAY3H/xdH/COWH9++/8ABjcf/F1q0UckewfWa/8AO/vZlf8ACOWH9++/8GNx/wDF0f8ACOWH9++/8GNx/wDF1q1FBcJceZsyDG5R1IwVI/8ArEEexBpckOw/rGItfnf3s5nXdCsWl02wQXMrXd4m5ZbyaRRHH+8YlWcgj5AvTqwrq6xbfF94yupuqabbrbKfSSTEjj8FEP8A30a2q6akVCMYJdLv56/lYxlUnUd5tv1CiiisSQooooAKKKKACiiigAooooAKKKKACiiigAooooAKKKKACiiigAooooAKKKKACsXQP+P/AF7/ALCX/tCGtqsXQP8Aj/17/sJf+0IaANqiiigAooooAKKKKACiiigAooooAKKKKACiiigBHRZEZHUMrDDKRkEelcp4a0DTjpTWc8Upm0+Z7R/9IkGQp+Q8N3jKN+NdZWMn+g+MpFyBFqdsHAx/y1iOG/Eoyf8AfutoRjOEota7r5b/AIXfyLjVqU/gk16Mk/4RrS/+eMv/AIEyf/FUf8I1pf8Azxl/8CZP/iqmOs2Q1B7Y3EI8ofvGaUDa3GFx3OMk+nHrUv8Aamn/APP9bf8Af5f8a5bU/I6XUxa6y+9lT/hGtL/54y/+BMn/AMVR/wAI1pf/ADxl/wDAmT/4qrf9qaf/AM/1t/3+X/Gj+1NP/wCf62/7/L/jRy0+yF7XFfzS/Eqf8I1pf/PGX/wJk/8AiqP+Ea0v/njL/wCBMn/xVW/7U0//AJ/rb/v8v+NH9qaf/wA/1t/3+X/Gjlp9kHtcV/NL8Sp/wjWl/wDPGX/wJk/+Ko/4RrS/+eMv/gTJ/wDFVb/tTT/+f62/7/L/AI0f2pp//P8AW3/f5f8AGjlp9kHtcV/NL8Sp/wAI1pf/ADxl/wDAmT/4qj/hGtL/AOeMv/gTJ/8AFVb/ALU0/wD5/rb/AL/L/jR/amn/APP9bf8Af5f8aOWn2Qe1xX80vxKn/CNaX/zxl/8AAmT/AOKo/wCEa0v/AJ4y/wDgTJ/8VVv+1NP/AOf62/7/AC/40f2pp/8Az/W3/f5f8aOWn2Qe1xX80vxKn/CNaX/zxl/8CZP/AIqj/hGtL/54y/8AgTJ/8VVv+1NP/wCf62/7/L/jR/amn/8AP9bf9/l/xo5afZB7XFfzS/Eqf8I1pf8Azxl/8CZP/iqP+Ea0v/njL/4Eyf8AxVW/7U0//n+tv+/y/wCNH9qaf/z/AFt/3+X/ABo5afZB7XFfzS/Eqf8ACNaX/wA8Zf8AwJk/+Ko/4RrS/wDnjL/4Eyf/ABVW/wC1NP8A+f62/wC/y/40f2pp/wDz/W3/AH+X/Gjlp9kHtcV/NL8Sp/wjWl/88Zf/AAJk/wDiqP8AhGtL/wCeMv8A4Eyf/FVb/tTT/wDn+tv+/wAv+NH9qaf/AM/1t/3+X/Gjlp9kHtcV/NL8Sp/wjWl/88Zf/AmT/wCKrPg0tNG8QRXal44pIZ/OPmOyKilSmSx64LH6k4rb/tTT/wDn+tv+/wAv+NYviPVLS8gg0S1uI5Z9Vk8jEbBsRZBlzjp+73Yq6dOnOcVtqUq2JSkndpp737f0y54Xjk/sKO7nUrNfu15IG6r5h3Kp/wB1Sq/8BrYoAAAAGAOgFFaVJ883LucK0QUUUVAwooooAKKKKACiiigAooooAKKKKACiiigAooooAKKKKACiiigAooooAKKKKACsXQP+P/Xv+wl/7QhrarF0D/j/ANe/7CX/ALQhoA2qKKKACiiigAooooAKKKKACiiigAooooAKKKKACsbxODBpsepoPn0yZbo4GT5Yysv/AJDZ/wAcVs02RFljaORQyMCrKehB7VpTnyTUhMwtE8P28Fqstzaw+ZJvMiNGr7iXJVs/7v58elav9l6f/wA+Nt/35X/CsDw/qOpwac2mnS5LmTTJDZvJ9oQbgoBQnJzkxlG/GtT+0tU/6Acv/gTH/jWMoQpycF08md83Xqy53Ja/3l/mW/7L0/8A58bb/vyv+FH9l6f/AM+Nt/35X/Cqn9pap/0A5f8AwJj/AMaP7S1T/oBy/wDgTH/jU3j2/AjkrfzL/wACX+Zb/svT/wDnxtv+/K/4Uf2Xp/8Az423/flf8Kqf2lqn/QDl/wDAmP8Axo/tLVP+gHL/AOBMf+NF49vwDkrfzL/wJf5lv+y9P/58bb/vyv8AhR/Zen/8+Nt/35X/AAqp/aWqf9AOX/wJj/xo/tLVP+gHL/4Ex/40Xj2/AOSt/Mv/AAJf5lv+y9P/AOfG2/78r/hR/Zen/wDPjbf9+V/wqp/aWqf9AOX/AMCY/wDGj+0tU/6Acv8A4Ex/40Xj2/AOSt/Mv/Al/mW/7L0//nxtv+/K/wCFH9l6f/z423/flf8ACqn9pap/0A5f/AmP/Gj+0tU/6Acv/gTH/jRePb8A5K38y/8AAl/mW/7L0/8A58bb/vyv+FH9l6f/AM+Nt/35X/Cqn9pap/0A5f8AwJj/AMaP7S1T/oBy/wDgTH/jRePb8A5K38y/8CX+Zb/svT/+fG2/78r/AIUf2Xp//Pjbf9+V/wAKqf2lqn/QDl/8CY/8aP7S1T/oBy/+BMf+NF49vwDkrfzL/wACX+Zb/svT/wDnxtv+/K/4Uf2Xp/8Az423/flf8Kqf2lqn/QDl/wDAmP8Axo/tLVP+gHL/AOBMf+NF49vwDkrfzL/wJf5lv+y9P/58bb/vyv8AhR/Zen/8+Nt/35X/AAqp/aWqf9AOX/wJj/xo/tLVP+gHL/4Ex/40Xj2/AOSt/Mv/AAJf5lv+y9P/AOfG2/78r/hWTbWltN4zle2t4o49NtxGTHGBmWXk9O6oq/8Afyksdfli1Ke11O2kghAeVJnkVwm0ZdCQe2c+wOO3NrwzFJ/Yq3dwpW41B2u5Fbqu/lVP+6m1f+A10UeVU5VF6ffv+F/vM68atOXJN7673NeiiiszAKKKKACiiigAooooAKKKKACiiigAooooAKKKKACiiigAooooAKKKKACiiigAooooAKxdA/4/9e/7CX/tCGtqsXQP+P8A17/sJf8AtCGgDaooooAKKKKACiiigAooooAKKKKACiiigAooooAKKKKAMVv+Jf4wVs4h1SDYR/02iyR+LIT+EQrarK8SW8sujtcWqF7qxdbuBQOWZDkqP95dyf8AAq0ba4iu7WK5t3DwzIJI2HRlIyD+Vb1PehGfyfy2/DT5CW5JRRRWAwooooAKKKKACiiigAooooAKKKKACiiigAooooAKKKKAOb8UafFePp9lH8j3czwsigYaJvnmJ+qqy59XFdJWLZ/8TDxVe3fWKwjFnDx/G2HlI/8AIS/VWrareouSMYfN+r/4FhuTluFFFFYCCiiigAooooAKKKKACiiigAooooAKKKKACiiigAooooAKKKKACiiigAooooAKKKKACsXQP+P/AF7/ALCX/tCGtqsXQP8Aj/17/sJf+0IaANqiiigAooooAKKKKACiiigAooooAKKKKACiiigAooooAKxfD/8AoTXujtx9hl3QDPWCQlk/AHeg/wCudbVYur/8S/WNP1UcRs32K5P+xIfkb8JNo9g7Gt6PvJ0++3qv6a+Yn3NqiiisBhRRRQAUUUUAFFFFABRRRQAUUUUAFFFFABRRRQAVV1O+TTNLuL2VS4hjLBAcFz2Ue5OAPrVqsXVP+JhrthpgwYoSL65Hsh/dD8ZPmH/XI1rSipT97Zav0QmW9EsH03RoLedg9xgyXDj+KVyWc/ixNX6KKicnOTk92MKKKKkAooooAKKKKACiiigAooooAKKKKACiiigAooooAKKKKACiiigAooooAKKKKACiiigArF0D/j/17/sJf+0Ia2qxdA/4/wDXv+wl/wC0IaANqiiigAooooAKKKKACiiigAooooAKKKKACiiigAooooAKr39lFqOnXFncZ8ueMxsR1GR1HuOtWKKabi7oDO0K+lvtJQ3ePtcLNBcgDH71DtYgehxuHsRWjWKx/svxUDjFvq4wT6XCLx/31GuP+2Q9a2q1rRXNzR2ev9ej0EgooorEYUUUUAFFFFABRRRQAUUUUAFFFFABRRRQAhIVSWIAAySe1Y/h0G6huNYkB3alJ5keRgrABiIfivz/AFc0eIna5gg0eEkSak5jkIOCkA5lb2+X5QezOtbCqqIFRQqqMAAYAFb/AAUvOX5L/N/kLqLRRRWAwooooAKKKKACiiigAooooAKKKKACiiigAooooAKKKKACiiigAooooAKKKKACiiigAooooAKxdA/4/wDXv+wl/wC0Ia2qxdA/4/8AXv8AsJf+0IaANqiiigAooooAKKKKACiiigAooooAKKKKACiiigAooooAKKKKAKOs2DalpcsEMgiuBiS3lP8AyzlU7kY+2QMjuMjvT9K1BdU0uC7CGJnBEkROTFICVdD7qwKn3FW6xYv+JT4meE8WurZkj9EuFX51/wCBou4D1jkPU1vD36bh1Wq/X8Nfl5i6m1RRRWAwooooAKKKKACiiigAooooAKKKKACiisnX7iQ20WnWcjR3eoMYUdOsSYy8nttXOD/eKjvV04OclEHoM0fOoaleawxzE5+zWfOR5SH5nH+8+T7qqVs1Hb28VpaxW9tGI4YUEcaL0VQMAD8Kkp1Jqcrrbp6CQUUUVmMKKKKACiiigAooooAKKKKACiiigAooooAKKKKACiiigAooooAKKKKACiiigAooooAKKKKACsXQP+P/AF7/ALCX/tCGtqsXQP8Aj/17/sJf+0IaANqiiigAooooAKKKKACiiigAooooAKKKKACiiigAooooAKKKKACqWrWB1LTXhjcRTqRJBKRny5FOVb6ZHI7jI71doqoycZKS6AUtJ1AanpyTlPKlBMc0ROTFIpwy/gQee4we9Xaxbkf2Prq3qjFnqDrFdY6RzY2xyH/eAEZ/7Z9gTW1V1YpPmjs/6t8v+CJBRRRWQwooooAKKKKACiiigAooooAOlYui/wDEzu5tcfmOZfKsfaAHO/8A4GRu/wB0J6UutM2oTxaJASBcrvvHU48u36EZ9XPyj23kfdrYVVRAqKFVRgADAArf+HT85fl/wfy9RbsWiiisBhRRRQAUUUUAFFFFABRRRQAUUUUAFFFFABRRRQAUUUUAFFFFABRRRQAUUUUAFFFFABRRRQAUUUUAFYugf8f+vf8AYS/9oQ1tVi6B/wAf+vf9hL/2hDQBtUUUUAFFFFABRRRQAUUUUAFFFFABRRRQAUUUUAFFFFABRRRQAUUUUARXVtDe2kttdRiWGZCkiN0ZSMEVn6PczRtJpeoOz3VoBtmfrcRH7sn14w3+0M9CM6tUNU097tYri0ZY761YvbyN0ORgo3+ww4P4EcqK2pyTXJLZ/g/63/4An3L9FVNN1BNSsxMiNE4JSWF/vQuPvI3uPXoRgjIINW6zlFxdmMKKKKkAooooAKKKKACq1/fR6dYyXMwZguAqIMtIxOFVR3JJAH1qwzBFLMQqgZJJ6Vj2KnWr5NVmUi0hJ+wRt/FkYM5HqQSF9FJP8WBrTin70tl/VhMsaPYy2sMlxe7Wv7thLclTkKcYCKf7qjgdM8nqTWjRRUTk5y5mMKKKKkAooooAKKKKACiiigAooooAKKKKACiiigAooooAKKKKACiiigAooooAKKKKACiiigAooooAKKKKACsXQP8Aj/17/sJf+0Ia2qxdA/4/9e/7CX/tCGgDaooooAKKKKACiiigAooooAKKKKACiiigAooooAKKKKACiiigAooooAKKKKAMy+s5oLs6npab7jaFnt8gC5UdBk8Bx2J4PQ8YK3LO8gv7VZ7Z9yNkEEFWUjgqwPIIPBB5Bqes2806ZLo3+kskV22PNjkyI7kDgBschscBwCRxkMBitlJTXLLfo/0f6P8ATZbGlRWfYazBeTG1lR7S9UZe1nG1seqno6/7SkjtweK0KzlCUHaSGFFFFSAUVXvtQtdNt/PvZliTO0Z5LE9FUDliewGSazvs9zr2f7Rga1009LRz+8uR/wBNMfdQ/wBzuOG4ylaxptrmlou/+Xf+r2FcHH/CRtsH/IIVvnP/AD+kHp/1yz1/v9PuZ37NAAVQFGAOAB2opTnzaLRL+vvAKKKKzGFFFFABRRRQAUUUUAFFFFABRRRQAUUUUAFFFFABRRRQAUUUUAFFFFABRRRQAUUUUAFFFQ3d5bWFpJdX1xFbW8Yy8szhFQepJ4FAE1FYP/CdeEv+hn0b/wAD4v8A4qj/AITrwl/0M+jf+B8X/wAVQBvUVg/8J14S/wChn0b/AMD4v/iqP+E68Jf9DPo3/gfF/wDFUAb1Yugf8f8Ar3/YS/8AaENR/wDCdeEv+hn0b/wPi/8AiqyND8a+Fo77WzJ4k0lBJqG5C19GNw8mIZHzcjII/CgDtaKwf+E68Jf9DPo3/gfF/wDFUf8ACdeEv+hn0b/wPi/+KoA3qKwf+E68Jf8AQz6N/wCB8X/xVH/CdeEv+hn0b/wPi/8AiqAN6isH/hOvCX/Qz6N/4Hxf/FUf8J14S/6GfRv/AAPi/wDiqAN6isH/AITrwl/0M+jf+B8X/wAVR/wnXhL/AKGfRv8AwPi/+KoA3qKwf+E68Jf9DPo3/gfF/wDFUf8ACdeEv+hn0b/wPi/+KoA3qKwf+E68Jf8AQz6N/wCB8X/xVH/CdeEv+hn0b/wPi/8AiqAN6isH/hOvCX/Qz6N/4Hxf/FUf8J14S/6GfRv/AAPi/wDiqAN6isH/AITrwl/0M+jf+B8X/wAVR/wnXhL/AKGfRv8AwPi/+KoA3qKwf+E68Jf9DPo3/gfF/wDFUf8ACdeEv+hn0b/wPi/+KoA3qKwf+E68Jf8AQz6N/wCB8X/xVH/CdeEv+hn0b/wPi/8AiqAN6isH/hOvCX/Qz6N/4Hxf/FUf8J14S/6GfRv/AAPi/wDiqAN6isH/AITrwl/0M+jf+B8X/wAVR/wnXhL/AKGfRv8AwPi/+KoA1b7TrTUoRFfQJMqtuQsOUb+8pHKn3HNZ/wDZmr2eBpusebEOkWoQ+dgegdSrfi241F/wnXhL/oZ9G/8AA+L/AOKo/wCE68Jf9DPo3/gfF/8AFVrGrOKt089fzFYlE/iZcA6fpMnq/wBvkT/x3yT/ADo+z+IroYnvrGwQjkWsDSuPo7kL+aGov+E68Jf9DPo3/gfF/wDFUf8ACdeEv+hn0b/wPi/+KqvbW+GKXyv+d0Fi7ZaJaWdx9qbzLq82lTdXLb5MHqAeij2UAe1aNYP/AAnXhL/oZ9G/8D4v/iqP+E68Jf8AQz6N/wCB8X/xVZSnKbvJ3Gb1FYP/AAnXhL/oZ9G/8D4v/iqP+E68Jf8AQz6N/wCB8X/xVSBvUVg/8J14S/6GfRv/AAPi/wDiqP8AhOvCX/Qz6N/4Hxf/ABVAG9RWD/wnXhL/AKGfRv8AwPi/+Ko/4Trwl/0M+jf+B8X/AMVQBvUVg/8ACdeEv+hn0b/wPi/+Ko/4Trwl/wBDPo3/AIHxf/FUAb1FYP8AwnXhL/oZ9G/8D4v/AIqj/hOvCX/Qz6N/4Hxf/FUAb1FYP/CdeEv+hn0b/wAD4v8A4qj/AITrwl/0M+jf+B8X/wAVQBvUVzF58QvDFt5Lxa/pE8Zk2zbL+IsikH5gufm5xkDnBJ5xg9MrK6BkIZWGQQeCKAForitH1fxJqvijxTpBvrCIaPcxJby/YmO8SQJKAy+Z0G7BIOT/ALPeGx8d3eq+FtM1LyrXT2bUX0/VWkuVAtWjLo3lbvvkuq7RgkhuhoA7uiuO0jxJqmr6f4mto2hhvtIuDDBcy2rhZFMKSozRMVIOHweQDjI4OKj8Naz4s1TwbZ+ILiPS5BeaGl3FarujY3RQMoLkkCNgec8rkehJAO1orh9N8azS+J9A06SWG8h1q0lcyQoSkE8aK7Kko+SVCCw4OQVHJzwlhr3iK+13xfppurGMaHKn2edbU/vBJbrKqsu/+EsQTn5uMbaAO5orz638capL4U8J+JJo7aODXLu0t5bNVJ8sXHyhg+eSGIPTGMjr81Wh4wu9V17xBYaW7W66PIttG/2CW5E0/lhzvKDhBuAwMMcE5FAHas6IyhmVS52qCfvHBOB+AJ/CnV5zJqmuax4q8D3eTpX26yuZpdOu7RiYJRGmQ43KSRuYDpx25rYvvFkp8cP4ctzJGLSxS7u7mGzedi0jMqIqqDt+4zEnPGAO5AB11Fedah4y8SwaRodwtpDZ3N1rn9kzxXdnIgmBZ1SdAzBlQhVfBBOCRnjNdto6arHZuuuy2s1wJpNj2qMqmLcdmQSfm24zjjNAF+iiigAooooAKKKKACiiigArF0D/AI/9e/7CX/tCGtqsXQP+P/Xv+wl/7QhoA2qKKKACiiigAooooAKKKKACiiigAooooAKKKKACiiigAooooAKKKKACiiigAooooAKKKKACiiigAooooAKKKKACiiigAooooAKKKKACiiigAooooArXlil95Kzu/lRyeY0YPyy4BwG9Rkg49QO3FWaKKAPM/DNxNf8AxN8fDQ9ZsY2muLUoHhE+4JaxozqFdejZU9RkY4Oc68Hw2tNNj8PNpF60dxoc086yXcXnC5knUiV5FBX5ySSCCMcjGOK7WigDkrfwbfWuo61ew60pl1YiV1e1JVJfLWInAcZXYigL1BGdx6UqeCGl+FzeC9R1MyQ/YBp6XVtD5TiJUCKSCzZOBz0B9BXWUUAcjqHgq71TUNIvrnV44Z9LjlhjW0tDEmyWPy3wN5KtjaVOSFx0OafZ+EtRs9W8S366tbNJrxRipsWxAyRLEp/1vzDavI4yecgcV1dFAHCf8K8vl8G+HvD8et24TQrm3uIpjYMTKYGDRhh5vHI+bHXtitq38Mzabrmoano19HbNqmyS8hltzJG0qrt8xAHUqSAARkg7R0OSehooAwL/AMMy3GoaLqFrqLJd6T5qh7mPzhOsigPuAKkHIBBBAGMYxxUS+EBY6zaarot2La7hsU0+Yzw+alxChym4Blw6nOGB6MQQeMdJRQByviDwlf65BpQGsRxy2GoJqJeW0MgklTO1QBIu1BkjHJ6c5yT1CBxGokKs+BuKjAJ9hk4/OnUUAFFFFABRRRQAUUUUAFFFFABWLoH/AB/69/2Ev/aENbVYugf8f+vf9hL/ANoQ0AbVFFFABRRRQAUUUUAFFFFABRRRQAUUUUAFFFFABRRRQAUUUUAFFFFABRRRQAUUUUAFFFFABRRRQAUUUUAFFFFABRRRQAUUUUAFFFFABRRRQAUUUUAFFFFABRRRQAUUUUAFFFFABRRRQAUUUUAFFFFABRRRQAUUUUAFFFFABRRRQAVi6B/x/wCvf9hL/wBoQ1tVVs7COymvJI2Zjdz+e+7HDbFXA9sIKALVFFFABRRRQAUUUUAFFFFABRRRQAUUUUAFFFFABRRRQAUUUUAFFFFABRRRQAUUUUAFFFFABRRRQAUUUUAFFFFABRRRQAUUUUAFFFFABRRRQAUUUUAFFFFABRRRQAUUUUAFFFFABRRRQAUUUUAFFFFABRRRQAUUUUAFFFFABRRRQAUUUUAFFFFABRRRQAUUUUAFFFFABRRRQAUUUUAFFFFABRRRQAUUUUAFFFFABRRRQAUUUUAFFFFABRRRQAUUUUAFFFFABRRRQAUUUUAFFFFABRRRQAUUUUAFFFFABRRRQAUUUUAFFFFABRRRQAUUUUAFFFFABRRRQAUUUUAFFFFABRRRQAUUUUAFFFFABRRRQAUUUUAFFFFABRRRQAUUUUAFFFFABRRRQAUUUUAFFFFABRRRQAUUUUAFFFFABRRRQAUUUUAFFFFABRRRQAUUUUAFFFFABRRRQAUUUUAFFFFABRRRQAUUUUAFFFFABRRRQAUUUUAFFFFABRRRQB//2Q==)"
      ]
    },
    {
      "cell_type": "markdown",
      "metadata": {
        "id": "aoaMv4ooAeii"
      },
      "source": [
        "Ahora apliquemos todo esto a un ejemplo de principio a fin."
      ]
    },
    {
      "cell_type": "markdown",
      "metadata": {
        "id": "ajashEOGAjYa"
      },
      "source": [
        "## Ejemplo completo de cálculo de SGD"
      ]
    },
    {
      "cell_type": "markdown",
      "metadata": {
        "id": "ZCB8hhitHvKW"
      },
      "source": [
        "Hemos visto como usar los gradientes para encontrar un mínimo. Ahora veamos como usar el SGD para encontrar un mínimo que pueda ser usado para entrenar un modelo para ajustarse mejor a un conjunto de datos.\n",
        "\n",
        "Empecemos por un ejemplo más simple. Imaginemos que estamos midiendo la velocidad de un carro de una montaña rusa a medida que se va acercando a una subida. Empezaría rápido pero se iría poniendo cada vez más lento a medida que va subiendo. En la cima de la subida tendría su velocidad más baja y luego aceleraría a medida que va en la dirección de bajada. Supongamos que medidos la velocidad cada un segundo por 20 segundos, se vería algo como esto:"
      ]
    },
    {
      "cell_type": "code",
      "metadata": {
        "colab": {
          "base_uri": "https://localhost:8080/"
        },
        "id": "_ij4TUxY3vke",
        "outputId": "f2eca382-e770-4cb1-8556-b89d1266d1cd"
      },
      "source": [
        "time = torch.arange(0,20).float(); time"
      ],
      "execution_count": null,
      "outputs": [
        {
          "output_type": "execute_result",
          "data": {
            "text/plain": [
              "tensor([ 0.,  1.,  2.,  3.,  4.,  5.,  6.,  7.,  8.,  9., 10., 11., 12., 13.,\n",
              "        14., 15., 16., 17., 18., 19.])"
            ]
          },
          "metadata": {
            "tags": []
          },
          "execution_count": 32
        }
      ]
    },
    {
      "cell_type": "code",
      "metadata": {
        "colab": {
          "base_uri": "https://localhost:8080/",
          "height": 265
        },
        "id": "bo1iBtcfEiN8",
        "outputId": "434749b5-c74b-4f2a-8f41-072ac5b59655"
      },
      "source": [
        "speed = torch.randn(20)*3 + 0.75*(time-9.5)**2 + 1\n",
        "plt.scatter(time,speed);"
      ],
      "execution_count": null,
      "outputs": [
        {
          "output_type": "display_data",
          "data": {
            "image/png": "[encoded data removed]",
            "text/plain": [
              "<Figure size 432x288 with 1 Axes>"
            ]
          },
          "metadata": {
            "tags": [],
            "needs_background": "light"
          }
        }
      ]
    },
    {
      "cell_type": "markdown",
      "metadata": {
        "id": "69JDUad9IqtA"
      },
      "source": [
        "Notemos que agregamos un poco de ruido al azar, ya que medir cosas manualmente no es preciso. Eso quiere decir que no es fácil responder la pregunta: ¿Cuál era la velocidad del carro? Usando SGD podemos intentar encontrar una función que se acerque a nuestros valores observados. No podemos considerar todas las funciones posibles, así que asumamos que tendrá una forma cuadrática, es decir, una función de la forma: `a*(time**2)+(b*time)+c`.\n",
        "\n",
        "Queremos distinguir claramente entre la entrada de la función (el tiempo en que estamos midiendo la velocidad del carro) y sus parámetros (los valores de cuál función cuadrática estamos tratando de ajustar). Así que separaremos la entrada `t` de los parámetros `params` en la definición de la función: "
      ]
    },
    {
      "cell_type": "code",
      "metadata": {
        "id": "jAyy2UT8EjmD"
      },
      "source": [
        "def f(t, params):\n",
        "    a,b,c = params\n",
        "    return a*(t**2) + (b*t) + c"
      ],
      "execution_count": null,
      "outputs": []
    },
    {
      "cell_type": "markdown",
      "metadata": {
        "id": "LERIiiXVJw06"
      },
      "source": [
        "En otras palabras: hemos restringido el problema de encontrar la mejor función imaginable que se ajuste a los datos, a encontrar la mejor función *cuadrática*. Esto simplifica enormemente el problema, ya que cada función cuadrática está completamente definida por los tres parámetros `a`,` b` y `c`. Por lo tanto, para encontrar la mejor función cuadrática, solo necesitamos encontrar los mejores valores para `a`,` b` y `c`.\n",
        "\n",
        "Si podemos resolver este problema para los tres parámetros de una función cuadrática, podremos aplicar el mismo enfoque para otras funciones más complejas con más parámetros, como es el caso de una red neuronal. Primero busquemos los parámetros para `f`, y luego regresaremos y haremos lo mismo para el conjunto de datos MNIST con una red neuronal.\n",
        "\n",
        "Necesitamos definir primero lo que entendemos por \"mejor\". Definimos esto precisamente eligiendo una *función de pérdida*, que devolverá un valor basado en una predicción y un objetivo (target), donde los valores más bajos de la función corresponden a predicciones \"mejores\". Para datos continuos, es común usar *error cuadrático medio*:"
      ]
    },
    {
      "cell_type": "code",
      "metadata": {
        "id": "isoFi_kSElVA"
      },
      "source": [
        "def mse(preds, targets): return ((preds-targets)**2).mean().sqrt()"
      ],
      "execution_count": null,
      "outputs": []
    },
    {
      "cell_type": "markdown",
      "metadata": {
        "id": "C9lAAjpCKCbM"
      },
      "source": [
        "Ahora apliquemos nuestra receta de 7 pasos:"
      ]
    },
    {
      "cell_type": "markdown",
      "metadata": {
        "id": "yH29FYB_KH85"
      },
      "source": [
        "### Paso 1: Inicializar los parámetros"
      ]
    },
    {
      "cell_type": "markdown",
      "metadata": {
        "id": "ct-3CG4kKQmT"
      },
      "source": [
        "Primero inicializamos los parámetros con valores al azar, y le decimos a Pytorch que queremos seguir sus gradientes usando `requires_grad`:"
      ]
    },
    {
      "cell_type": "code",
      "metadata": {
        "id": "imOp1ZTCEmsL"
      },
      "source": [
        "params = torch.randn(3).requires_grad_()"
      ],
      "execution_count": null,
      "outputs": []
    },
    {
      "cell_type": "code",
      "metadata": {
        "id": "185TxxZ8EpDa"
      },
      "source": [
        "orig_params = params.clone()"
      ],
      "execution_count": null,
      "outputs": []
    },
    {
      "cell_type": "markdown",
      "metadata": {
        "id": "_ZUriTRiMtu8"
      },
      "source": [
        "### Paso 2: Calcular las predicciones"
      ]
    },
    {
      "cell_type": "markdown",
      "metadata": {
        "id": "epAX0r_cMw_Y"
      },
      "source": [
        "Lo siguiente es calcular las predicciones:"
      ]
    },
    {
      "cell_type": "code",
      "metadata": {
        "id": "wh875hbPErXa"
      },
      "source": [
        "preds = f(time, params)"
      ],
      "execution_count": null,
      "outputs": []
    },
    {
      "cell_type": "markdown",
      "metadata": {
        "id": "A7zi6JfGMzei"
      },
      "source": [
        "Creemos una función que nos muestre que tan cerca estan nuestras predicciones de los valores objetivos:"
      ]
    },
    {
      "cell_type": "code",
      "metadata": {
        "id": "_Ef0959ZEtPa"
      },
      "source": [
        "def show_preds(preds, ax=None):\n",
        "    if ax is None: ax=plt.subplots()[1]\n",
        "    ax.scatter(time, speed)\n",
        "    ax.scatter(time, to_np(preds), color='red')\n",
        "    ax.set_ylim(-300,100)"
      ],
      "execution_count": null,
      "outputs": []
    },
    {
      "cell_type": "code",
      "metadata": {
        "colab": {
          "base_uri": "https://localhost:8080/",
          "height": 269
        },
        "id": "ubtAWQs4EuoJ",
        "outputId": "7e181a48-c5cd-446b-892c-886264950c4b"
      },
      "source": [
        "show_preds(preds)"
      ],
      "execution_count": null,
      "outputs": [
        {
          "output_type": "display_data",
          "data": {
            "image/png": "[encoded data removed]",
            "text/plain": [
              "<Figure size 432x288 with 1 Axes>"
            ]
          },
          "metadata": {
            "tags": [],
            "needs_background": "light"
          }
        }
      ]
    },
    {
      "cell_type": "markdown",
      "metadata": {
        "id": "G9mtzxYkM-8p"
      },
      "source": [
        "### Paso 3: Calcular la pérdida"
      ]
    },
    {
      "cell_type": "markdown",
      "metadata": {
        "id": "FTx-may4NDya"
      },
      "source": [
        "Calculamos el valor de la función de pérdida como:"
      ]
    },
    {
      "cell_type": "code",
      "metadata": {
        "colab": {
          "base_uri": "https://localhost:8080/"
        },
        "id": "1FHfr4UDEv82",
        "outputId": "a45e3c78-9d27-42f4-cc37-e2efea5043e8"
      },
      "source": [
        "loss = mse(preds, speed)\n",
        "loss"
      ],
      "execution_count": null,
      "outputs": [
        {
          "output_type": "execute_result",
          "data": {
            "text/plain": [
              "tensor(66.3920, grad_fn=<SqrtBackward>)"
            ]
          },
          "metadata": {
            "tags": []
          },
          "execution_count": 164
        }
      ]
    },
    {
      "cell_type": "markdown",
      "metadata": {
        "id": "CFqKUyCSNHye"
      },
      "source": [
        "El objetivo entonces es mejorar este valor, para hacer eso necesitamos conocer los gradientes."
      ]
    },
    {
      "cell_type": "markdown",
      "metadata": {
        "id": "lHSMI2HFNMVI"
      },
      "source": [
        "### Paso 4: Calcular los gradientes"
      ]
    },
    {
      "cell_type": "markdown",
      "metadata": {
        "id": "LesMCsZzNO36"
      },
      "source": [
        "El siguiente paso es calcular los gradientes, es decir, calcular una aproximación de cuánto deberían variar los parámetros:"
      ]
    },
    {
      "cell_type": "code",
      "metadata": {
        "colab": {
          "base_uri": "https://localhost:8080/"
        },
        "id": "KfOgBEHZEyy4",
        "outputId": "b9e58fc8-e5c3-4b56-d3de-fc75589315af"
      },
      "source": [
        "loss.backward()\n",
        "params.grad"
      ],
      "execution_count": null,
      "outputs": [
        {
          "output_type": "execute_result",
          "data": {
            "text/plain": [
              "tensor([154.9486,   9.9169,   0.5355])"
            ]
          },
          "metadata": {
            "tags": []
          },
          "execution_count": 165
        }
      ]
    },
    {
      "cell_type": "code",
      "metadata": {
        "colab": {
          "base_uri": "https://localhost:8080/"
        },
        "id": "9vWwKuqRE1uD",
        "outputId": "25f95968-4d50-4140-d82e-027d32ccc29f"
      },
      "source": [
        "params.grad * 1e-5"
      ],
      "execution_count": null,
      "outputs": [
        {
          "output_type": "execute_result",
          "data": {
            "text/plain": [
              "tensor([1.5495e-03, 9.9169e-05, 5.3550e-06])"
            ]
          },
          "metadata": {
            "tags": []
          },
          "execution_count": 166
        }
      ]
    },
    {
      "cell_type": "markdown",
      "metadata": {
        "id": "IzU69cTjNXTa"
      },
      "source": [
        "Podemos usar estos gradientes para mejorar nuestros parámetros. Necesitamos elegir una tasa de aprendizaje:"
      ]
    },
    {
      "cell_type": "code",
      "metadata": {
        "colab": {
          "base_uri": "https://localhost:8080/"
        },
        "id": "MyRH43yyE3HZ",
        "outputId": "0e3fe72d-f8c0-4c36-f0e7-c48e85b0058a"
      },
      "source": [
        "params"
      ],
      "execution_count": null,
      "outputs": [
        {
          "output_type": "execute_result",
          "data": {
            "text/plain": [
              "tensor([ 0.5418, -0.6860,  1.2628], requires_grad=True)"
            ]
          },
          "metadata": {
            "tags": []
          },
          "execution_count": 167
        }
      ]
    },
    {
      "cell_type": "markdown",
      "metadata": {
        "id": "A3aPyoU1N9ID"
      },
      "source": [
        "### Paso 5: Ajustar los pesos (Step)"
      ]
    },
    {
      "cell_type": "markdown",
      "metadata": {
        "id": "dpuLWqkzOD5S"
      },
      "source": [
        "Necesitamos actualizar los parámetros usando los gradientes que recién calculamos:"
      ]
    },
    {
      "cell_type": "code",
      "metadata": {
        "id": "hqMiOTb2E5oC"
      },
      "source": [
        "lr = 1e-3\n",
        "params.data -= lr * params.grad.data\n",
        "params.grad = None"
      ],
      "execution_count": null,
      "outputs": []
    },
    {
      "cell_type": "markdown",
      "metadata": {
        "id": "SJP5a5A-0paR"
      },
      "source": [
        "Para entender esto tenemos que hacer un poco de memoria. Para calcular el gradiante tenemos que llamar a `backward` sobre `loss`. Pero esta función `loss` fue calculada usando la función `mse`, la cual toma el vector `preds` como entrada, el que fue calculado usando `f` tomando como entrada a `params`, el cual es el objeto al que originalmente lo \"etiquetamos\" con `required_grads_`. Eso es lo que finalmente nos deja llamar a  `backward` en `loss`. Esta cadena de llamadas de funciones representa la composición matemática de funciones, lo que permite a Pytorch usar regla de la cadena para calcular los gradientes."
      ]
    },
    {
      "cell_type": "markdown",
      "metadata": {
        "id": "zvMvzcEROYBB"
      },
      "source": [
        "Veamos si la pérdida mejoró:"
      ]
    },
    {
      "cell_type": "code",
      "metadata": {
        "colab": {
          "base_uri": "https://localhost:8080/"
        },
        "id": "_VMCHXvCE7wH",
        "outputId": "626eb21e-ab71-4fd3-e1fc-fd54bf0da3c8"
      },
      "source": [
        "preds = f(time,params)\n",
        "mse(preds, speed)"
      ],
      "execution_count": null,
      "outputs": [
        {
          "output_type": "execute_result",
          "data": {
            "text/plain": [
              "tensor(43.4489, grad_fn=<SqrtBackward>)"
            ]
          },
          "metadata": {
            "tags": []
          },
          "execution_count": 169
        }
      ]
    },
    {
      "cell_type": "code",
      "metadata": {
        "colab": {
          "base_uri": "https://localhost:8080/",
          "height": 269
        },
        "id": "-g1YcZa6E9Ms",
        "outputId": "18b2742d-18cb-40cc-8ddd-22ab2e63fc7a"
      },
      "source": [
        "show_preds(preds)"
      ],
      "execution_count": null,
      "outputs": [
        {
          "output_type": "display_data",
          "data": {
            "image/png": "[encoded data removed]",
            "text/plain": [
              "<Figure size 432x288 with 1 Axes>"
            ]
          },
          "metadata": {
            "tags": [],
            "needs_background": "light"
          }
        }
      ]
    },
    {
      "cell_type": "markdown",
      "metadata": {
        "id": "vzu_t6RiOcZm"
      },
      "source": [
        "Necesitamos repetir el proceso algunas veces, por lo que crearemos una función que realice un paso:"
      ]
    },
    {
      "cell_type": "code",
      "metadata": {
        "id": "E6wUMVTZFAG3"
      },
      "source": [
        "def apply_step(params, prn=True):\n",
        "    preds = f(time, params)\n",
        "    loss = mse(preds, speed)\n",
        "    loss.backward()\n",
        "    params.data -= lr * params.grad.data\n",
        "    params.grad = None\n",
        "    if prn: print(loss.item())\n",
        "    return preds"
      ],
      "execution_count": null,
      "outputs": []
    },
    {
      "cell_type": "markdown",
      "metadata": {
        "id": "gNbOSzElOjm-"
      },
      "source": [
        "### Paso 6: Repetir el proceso"
      ]
    },
    {
      "cell_type": "markdown",
      "metadata": {
        "id": "Sg2im8POOnJs"
      },
      "source": [
        "Ahora lo que toca es iterar en el ciclo de mejoras, con la idea de llegar a un resultado:"
      ]
    },
    {
      "cell_type": "code",
      "metadata": {
        "colab": {
          "base_uri": "https://localhost:8080/"
        },
        "id": "mrEmMkY5FHBj",
        "outputId": "378716e8-57ea-43e7-92f5-93c760258488"
      },
      "source": [
        "for i in range(10): apply_step(params)"
      ],
      "execution_count": null,
      "outputs": [
        {
          "output_type": "stream",
          "text": [
            "43.44894790649414\n",
            "28.252641677856445\n",
            "25.421953201293945\n",
            "25.421804428100586\n",
            "25.421655654907227\n",
            "25.421506881713867\n",
            "25.421356201171875\n",
            "25.421207427978516\n",
            "25.421058654785156\n",
            "25.42091178894043\n"
          ],
          "name": "stdout"
        }
      ]
    },
    {
      "cell_type": "markdown",
      "metadata": {
        "id": "biLGSIY3PAzN"
      },
      "source": [
        "¡La pérdida está disminuyendo! Pero mirar solo estos números de pérdida disfraza el hecho de que cada iteración representa una función cuadrática completamente diferente que se está probando, en el camino a encontrar la mejor función cuadrática posible. Podemos ver este proceso visualmente si, en lugar de imprimir la función de pérdida, graficamos la función cuadrática en cada paso. Luego podemos ver cómo se va acecrcando a la mejor función cuadrática posible para nuestros datos:"
      ]
    },
    {
      "cell_type": "code",
      "metadata": {
        "id": "_9PlkmgxFHUx"
      },
      "source": [
        "params = orig_params.detach().requires_grad_()"
      ],
      "execution_count": null,
      "outputs": []
    },
    {
      "cell_type": "code",
      "metadata": {
        "colab": {
          "base_uri": "https://localhost:8080/",
          "height": 225
        },
        "id": "CAewoC5oFLl0",
        "outputId": "6ee5a10c-fc22-42ad-8216-44501f87b4e6"
      },
      "source": [
        "_,axs = plt.subplots(1,4,figsize=(12,3))\n",
        "for ax in axs: show_preds(apply_step(params, False), ax)\n",
        "plt.tight_layout()"
      ],
      "execution_count": null,
      "outputs": [
        {
          "output_type": "display_data",
          "data": {
            "image/png": "[encoded data removed]",
            "text/plain": [
              "<Figure size 864x216 with 4 Axes>"
            ]
          },
          "metadata": {
            "tags": [],
            "needs_background": "light"
          }
        }
      ]
    },
    {
      "cell_type": "markdown",
      "metadata": {
        "id": "AqcTxJJ8PNfj"
      },
      "source": [
        "### Paso 7: Detenerse"
      ]
    },
    {
      "cell_type": "markdown",
      "metadata": {
        "id": "j2R8Do7EPRN9"
      },
      "source": [
        "Decidimos de manera arbitraria parar luego de 10 épocas. En la práctica podemos mirar la pérdida de entrenamiento y validación para decidir cuando parar."
      ]
    },
    {
      "cell_type": "markdown",
      "metadata": {
        "id": "BjbaEJqT2WaR"
      },
      "source": [
        "### Resumiendo el SGD"
      ]
    },
    {
      "cell_type": "markdown",
      "metadata": {
        "id": "9ilNChOZ2aaq"
      },
      "source": [
        "Resumiendo: en un principio los pesos de nuestro modelo pueden ser aleatorios (entrenamiento *desde cero*) o provenir de un modelo previamente entrenado (*transferencia de aprendizaje*). En el primer caso, la salida que obtendremos de nuestras entradas no tendrá nada que ver con lo que queremos, e incluso en el segundo caso es muy probable que el modelo preentrenado no sea muy bueno en la tarea específica que estamos enfrentando. Entonces el modelo necesitará *aprender* mejores pesos.\n",
        "\n",
        "Comenzamos comparando los resultados que nos da el modelo con nuestros valores objetivos (ya que hemos etiquetado los datos sabemos qué resultado debe dar el modelo) usando una *función de pérdida*, que devuelve un valor el cual queremos hacer lo más bajo posible mediante la mejora de nuestros pesos. Para hacer esto, tomamos algunos elementos de datos (como imágenes) del conjunto de entrenamiento y los alimentamos a nuestro modelo. Comparamos los objetivos correspondientes usando nuestra función de pérdida, y la puntuación que obtenemos nos dice qué tan equivocadas fueron nuestras predicciones. Luego cambiamos un poco los pesos para hacerlo un poco mejor.\n",
        "\n",
        "Para saber cómo cambiar los pesos para mejorar un poco el valor de la función de pérdida, usamos herramientas de cálculo para encontrar los *gradientes* (¡Y es ahí donde PyTorch lo hace todo por nosotros!). Usamos la magnitud del gradiente (es decir, la inclinación de la pendiente) para decirnos qué tan grande es el paso que debemos dar; específicamente multiplicamos el gradiente por un número que elegimos llamado *tasa de aprendizaje* para decidir el tamaño del paso. Luego *iteramos* hasta llegar al mínimo, que será nuestro resultado deseado y entonces podemos *detenernos*.\n",
        "\n",
        "Todo lo que acabamos de ver se puede traspasar directamente al conjunto de datos MNIST, excepto la función de pérdida. Veamos ahora cómo podemos definir un buen objetivo para el entrenamiento."
      ]
    },
    {
      "cell_type": "markdown",
      "metadata": {
        "id": "xFvV0LkYPgMA"
      },
      "source": [
        "## La función de pérdida para MNIST"
      ]
    },
    {
      "cell_type": "markdown",
      "metadata": {
        "id": "hgd5uyFWuWJi"
      },
      "source": [
        "Tenemos nuestras variables independientes `x` que son las imágenes mismas. Las concatenaremos en un solo tensor, cambiandolas desde una lista de matrices (tensor de rango 3) a una lista de vectores (tensor de rango 2). Podemos hacer eso usando `view`, que es el método de Pytorch para cambiar la forma de un tensor sin cambiar su contenido. `-1` es un parámetro especial de `view` que significa \"hacer el eje lo suficientemente grande como para abarcar todos los datos\":"
      ]
    },
    {
      "cell_type": "code",
      "metadata": {
        "id": "wH7EmRWXPPEB"
      },
      "source": [
        "train_x = torch.cat([stacked_threes, stacked_sevens]).view(-1, 28*28)"
      ],
      "execution_count": null,
      "outputs": []
    },
    {
      "cell_type": "markdown",
      "metadata": {
        "id": "t7OwEa6n7QHp"
      },
      "source": [
        "Necesitamos una etiqueta para cada imagen. Usaremos el valor `1` para los 3 y `0` para los 7."
      ]
    },
    {
      "cell_type": "code",
      "metadata": {
        "colab": {
          "base_uri": "https://localhost:8080/"
        },
        "id": "W-yPwzVRzFEr",
        "outputId": "03a6c976-dda1-473f-ec89-33dcbf336ab5"
      },
      "source": [
        "train_y = tensor([1]*len(threes) + [0]*len(sevens)).unsqueeze(1)\n",
        "train_x.shape,train_y.shape"
      ],
      "execution_count": null,
      "outputs": [
        {
          "output_type": "execute_result",
          "data": {
            "text/plain": [
              "(torch.Size([12396, 784]), torch.Size([12396, 1]))"
            ]
          },
          "metadata": {
            "tags": []
          },
          "execution_count": 35
        }
      ]
    },
    {
      "cell_type": "markdown",
      "metadata": {
        "id": "1Mey6Tmk7eTf"
      },
      "source": [
        "Un `Dataset` en Pytorch requiere que retorne una tupla `(x,y)` cuando se indexe. Con ayuda de la función `zip` (combinada con `list`) podemos obtenerlo fácilmente."
      ]
    },
    {
      "cell_type": "code",
      "metadata": {
        "colab": {
          "base_uri": "https://localhost:8080/"
        },
        "id": "evrzeQe-zFml",
        "outputId": "774d97a2-9377-49c2-fa02-07b099ea87a2"
      },
      "source": [
        "dset = list(zip(train_x,train_y))\n",
        "x,y = dset[0]\n",
        "x.shape,y"
      ],
      "execution_count": null,
      "outputs": [
        {
          "output_type": "execute_result",
          "data": {
            "text/plain": [
              "(torch.Size([784]), tensor([1]))"
            ]
          },
          "metadata": {
            "tags": []
          },
          "execution_count": 36
        }
      ]
    },
    {
      "cell_type": "code",
      "metadata": {
        "id": "kz-UZptmzILl"
      },
      "source": [
        "valid_x = torch.cat([valid_3_tens, valid_7_tens]).view(-1, 28*28)\n",
        "valid_y = tensor([1]*len(valid_3_tens) + [0]*len(valid_7_tens)).unsqueeze(1)\n",
        "valid_dset = list(zip(valid_x,valid_y))"
      ],
      "execution_count": null,
      "outputs": []
    },
    {
      "cell_type": "markdown",
      "metadata": {
        "id": "fuTJsH6u8g6C"
      },
      "source": [
        "Ahora necesitamos un peso para cada pixel, inicializado al azar."
      ]
    },
    {
      "cell_type": "code",
      "metadata": {
        "id": "MIbP5LCnzIPH"
      },
      "source": [
        "def init_params(size, std=1.0): return (torch.randn(size)*std).requires_grad_()"
      ],
      "execution_count": null,
      "outputs": []
    },
    {
      "cell_type": "code",
      "metadata": {
        "id": "M-J66WtzzIUI"
      },
      "source": [
        "weights = init_params((28*28,1))"
      ],
      "execution_count": null,
      "outputs": []
    },
    {
      "cell_type": "markdown",
      "metadata": {
        "id": "PZBYXzZ_8oOT"
      },
      "source": [
        "La función `weights*pixels` no será suficientemente flexible, es siempre igual a 0 cuando los pixeles son iguales a 0. Recordemos que la fórmula matemática para un recta es `y=w*x+b`, necesitamos esa `b`. Lo inicializaremos al azar igual:"
      ]
    },
    {
      "cell_type": "code",
      "metadata": {
        "id": "hclx36bgzIWu"
      },
      "source": [
        "bias = init_params(1)"
      ],
      "execution_count": null,
      "outputs": []
    },
    {
      "cell_type": "markdown",
      "metadata": {
        "id": "jgVGHsuI9Ldl"
      },
      "source": [
        "En las redes neuronales al `w` de la ecuación `y=w*x+b` se le llama *pesos* y a la `b` se le llama *sesgo* (bias). Juntos construyen lo que se le llamá parámetros. "
      ]
    },
    {
      "cell_type": "markdown",
      "metadata": {
        "id": "6CHaQ4di9rA6"
      },
      "source": [
        "Ahora podemos calcular la predicción para una imagen:"
      ]
    },
    {
      "cell_type": "code",
      "metadata": {
        "colab": {
          "base_uri": "https://localhost:8080/"
        },
        "id": "4MFM7QjvzIZg",
        "outputId": "ba4fa1bf-1bc1-4d8f-a098-493ed137d7b9"
      },
      "source": [
        "(train_x[0]*weights.T).sum() + bias"
      ],
      "execution_count": null,
      "outputs": [
        {
          "output_type": "execute_result",
          "data": {
            "text/plain": [
              "tensor([0.5066], grad_fn=<AddBackward0>)"
            ]
          },
          "metadata": {
            "tags": []
          },
          "execution_count": 41
        }
      ]
    },
    {
      "cell_type": "markdown",
      "metadata": {
        "id": "5Vz-VBOU9-M6"
      },
      "source": [
        "Si hicieramos un loop `for` para calcular la predicción para cada imagen solo usando Python, tendríamos un proceso que se demoraría mucho. Esto debido a que los loops de Python no corren en GPU, así que necesitaremos representar el cálculo de una manera matricial."
      ]
    },
    {
      "cell_type": "markdown",
      "metadata": {
        "id": "wMHQvUrx-T3-"
      },
      "source": [
        "En Python la multiplicación matricial se representa con el operador `@`."
      ]
    },
    {
      "cell_type": "code",
      "metadata": {
        "colab": {
          "base_uri": "https://localhost:8080/"
        },
        "id": "0l0zJKEbzIb6",
        "outputId": "cc9e3630-b458-4136-b89c-3d29541c1251"
      },
      "source": [
        "def linear1(xb): return xb@weights + bias\n",
        "preds = linear1(train_x)\n",
        "preds"
      ],
      "execution_count": null,
      "outputs": [
        {
          "output_type": "execute_result",
          "data": {
            "text/plain": [
              "tensor([[  0.5066],\n",
              "        [ -3.6172],\n",
              "        [-18.3284],\n",
              "        ...,\n",
              "        [ -6.6502],\n",
              "        [-22.8366],\n",
              "        [ -3.1323]], grad_fn=<AddBackward0>)"
            ]
          },
          "metadata": {
            "tags": []
          },
          "execution_count": 42
        }
      ]
    },
    {
      "cell_type": "markdown",
      "metadata": {
        "id": "_vRBmML8-uj8"
      },
      "source": [
        "El primer elemento es el que ya habíamos calculado anteriormente. Esta ecuación de `batch@weights + bias` es una de las expresiones fundamentales para cualquier red neuronal."
      ]
    },
    {
      "cell_type": "markdown",
      "metadata": {
        "id": "gdZlV7Lu-95g"
      },
      "source": [
        "Revisemos nuestro desempeño. Para decidir si la salida representa un 3 o un 7, podemos revisar si el valor es mayor que 0.5, por lo que la exactitud del modelo para cada elemento puede ser calculada como:"
      ]
    },
    {
      "cell_type": "code",
      "metadata": {
        "colab": {
          "base_uri": "https://localhost:8080/"
        },
        "id": "f1V3VFwczU2_",
        "outputId": "29622ba7-1d2c-47c7-c8ba-42190607fb84"
      },
      "source": [
        "corrects = (preds>0.5).float() == train_y\n",
        "corrects"
      ],
      "execution_count": null,
      "outputs": [
        {
          "output_type": "execute_result",
          "data": {
            "text/plain": [
              "tensor([[ True],\n",
              "        [False],\n",
              "        [False],\n",
              "        ...,\n",
              "        [ True],\n",
              "        [ True],\n",
              "        [ True]])"
            ]
          },
          "metadata": {
            "tags": []
          },
          "execution_count": 43
        }
      ]
    },
    {
      "cell_type": "code",
      "metadata": {
        "colab": {
          "base_uri": "https://localhost:8080/"
        },
        "id": "w9dxjgXQzX8h",
        "outputId": "6804dfc9-35c0-4e2b-988e-825bf28b3c46"
      },
      "source": [
        "corrects.float().mean().item()"
      ],
      "execution_count": null,
      "outputs": [
        {
          "output_type": "execute_result",
          "data": {
            "text/plain": [
              "0.500484049320221"
            ]
          },
          "metadata": {
            "tags": []
          },
          "execution_count": 44
        }
      ]
    },
    {
      "cell_type": "markdown",
      "metadata": {
        "id": "Biba6imT_hq5"
      },
      "source": [
        "Ahora veamos que cambia en la exactitud si cambiamos ligeramente los pesos:"
      ]
    },
    {
      "cell_type": "code",
      "metadata": {
        "id": "6ZEK2l2WzZx2"
      },
      "source": [
        "weights[0] *= 1.0001"
      ],
      "execution_count": null,
      "outputs": []
    },
    {
      "cell_type": "code",
      "metadata": {
        "colab": {
          "base_uri": "https://localhost:8080/"
        },
        "id": "cAY-1hvpzZ0Z",
        "outputId": "9c2dee8d-30a7-4334-f928-73a76ab6f095"
      },
      "source": [
        "preds = linear1(train_x)\n",
        "((preds>0.0).float() == train_y).float().mean().item()"
      ],
      "execution_count": null,
      "outputs": [
        {
          "output_type": "execute_result",
          "data": {
            "text/plain": [
              "0.5009680390357971"
            ]
          },
          "metadata": {
            "tags": []
          },
          "execution_count": 46
        }
      ]
    },
    {
      "cell_type": "markdown",
      "metadata": {
        "id": "3vTRWfnt_rH1"
      },
      "source": [
        "Como hemos visto necesitamos gradientes para mejorar nuestro modelo usando SGD, y para calcular gradientes necesitamos alguna *función de pérdida* que represente qué tan bueno es nuestro modelo. Esto se debe a que los gradientes son una medida de cómo cambia esa función de pérdida debido a pequeños ajustes en los pesos.\n",
        "\n",
        "Entonces debemos encontrar esa función de pérdida. El enfoque obvio sería utilizar la exactitud (nuestra métrica) también como nuestra función de pérdida. En este caso calcularíamos nuestra predicción para cada imagen, recopilaríamos estos valores para calcular una exactitud general y luego calcularíamos los gradientes de cada peso con respecto a esa exactitud general.\n",
        "\n",
        "Desafortunadamente tenemos un problema técnico importante. El gradiente de una función es su *pendiente*, que se puede definir como cuánto sube o baja el valor de la función, dividido por cuánto cambiamos la entrada. Podemos escribir esto matemáticamente como: `(y_new - y_old) / (x_new - x_old)`. Esto nos da una buena aproximación del gradiente cuando `x_new` es muy similar a` x_old`, lo que significa que su resta es muy pequeña. Pero la exactitud solo cambiaría cuando una predicción cambia de 3 a 7, o viceversa. El problema es que un pequeño cambio en los pesos de `x_old` a` x_new` probablemente no hará que cambie ninguna predicción, por lo que `(y_new - y_old)` casi siempre será 0. En otras palabras, el gradiente es 0 en casi en cualquier parte."
      ]
    },
    {
      "cell_type": "markdown",
      "metadata": {
        "id": "vXRLJhLkA3dp"
      },
      "source": [
        "Un cambio muy pequeño en el valor de un peso a menudo no cambiará la exactitud en absoluto. Esto significa que no es útil usar la exactitud como una función de pérdida; si lo hacemos, la mayoría de las veces nuestros gradientes serán 0 y el modelo no podrá aprender.\n",
        "\n",
        "Necesitamos una función de pérdida que, cuando nuestros pesos den como resultado predicciones ligeramente mejores, nos de una pérdida ligeramente mejor. Entonces, ¿cómo se ve exactamente una \"predicción ligeramente mejor\"? En este caso significa que si la respuesta correcta es un 3 la puntuación es un poco más alta, o si la respuesta correcta es un 7 la puntuación es un poco más baja.\n",
        "\n",
        "Escribamos esa función ahora.\n",
        "\n",
        "La función de pérdida no recibe las imágenes en sí, sino que las predicciones del modelo. Hagamos un argumento, `prds`, de valores entre 0 y 1, donde cada valor es la predicción de que una imagen es un 3. Es un vector (es decir, un tensor de rango 1), indexado sobre las imágenes.\n",
        "\n",
        "El propósito de la función de pérdida es medir la diferencia entre los valores predichos y los valores verdaderos, es decir, los objetivos (también conocidos como etiquetas). Hagamos otro argumento, `trgts`, con valores de 0 o 1 que indica si una imagen es realmente un 3 o no. También es un vector (es decir, otro tensor de rango 1), indexado sobre las imágenes.\n",
        "\n",
        "Entonces, supongamos que tenemos tres imágenes que sabemos que son un 3, un 7 y un 3. Y suponga que nuestro modelo predijo con alta confianza (`0.9`) que la primera era un 3, con una ligera confianza (`0.4`) que el segundo era un 7, y con bastante confianza (`0.2`), pero incorrectamente, que el último era un 7. Esto significaría que nuestra función de pérdida recibiría estos valores como entradas:"
      ]
    },
    {
      "cell_type": "code",
      "metadata": {
        "id": "G2N7c-hfzZ3F"
      },
      "source": [
        "trgts  = tensor([1,0,1])\n",
        "prds   = tensor([0.9, 0.4, 0.2])"
      ],
      "execution_count": null,
      "outputs": []
    },
    {
      "cell_type": "markdown",
      "metadata": {
        "id": "fJosKzQvBvB2"
      },
      "source": [
        "Acá un primer intento de la función de pérdida que mida la distancia entre las predicciones y las etiquetas:"
      ]
    },
    {
      "cell_type": "code",
      "metadata": {
        "id": "nuTmS815zZ5h"
      },
      "source": [
        "def mnist_loss(predictions, targets):\n",
        "    return torch.where(targets==1, 1-predictions, predictions).mean()"
      ],
      "execution_count": null,
      "outputs": []
    },
    {
      "cell_type": "markdown",
      "metadata": {
        "id": "5s4TwTatB7SY"
      },
      "source": [
        "Estamos usando una nueva función: `torch.where(a,b,c)`. Equivale a lo mismo que hacer `[b[i] if a[i] else c[i] for i in range(len(a))]` pero que funciona en tensores y por ende a velocidad de GPU. Esta función medirá que tanta distancia tiene cada predicción de un 1 si debería ser un 1, y que tan distante está de 9 si la predicción debiera ser un 0. Luego toma el promedio de todas esas distancias."
      ]
    },
    {
      "cell_type": "markdown",
      "metadata": {
        "id": "HfWsNZjVCb3B"
      },
      "source": [
        "Probemos con nuestros `prds` y `trgts`:"
      ]
    },
    {
      "cell_type": "code",
      "metadata": {
        "colab": {
          "base_uri": "https://localhost:8080/"
        },
        "id": "hRazBmjRzZ8C",
        "outputId": "8ac54823-10d6-4ead-f478-7bb7ca917c6a"
      },
      "source": [
        "torch.where(trgts==1, 1-prds, prds)"
      ],
      "execution_count": null,
      "outputs": [
        {
          "output_type": "execute_result",
          "data": {
            "text/plain": [
              "tensor([0.1000, 0.4000, 0.8000])"
            ]
          },
          "metadata": {
            "tags": []
          },
          "execution_count": 49
        }
      ]
    },
    {
      "cell_type": "markdown",
      "metadata": {
        "id": "-eGUqQGUCk46"
      },
      "source": [
        "Podemos ver que la función retorna valores más bajos cuando las predicciones son más cercanas a la etiqueta. En Pytorch siempre se asume que un valor más bajo de pérdida es mejor. Dado que necesitamos un escalar para la pérdida final, `mnist_loss` toma el promedio del tensor anterior."
      ]
    },
    {
      "cell_type": "code",
      "metadata": {
        "colab": {
          "base_uri": "https://localhost:8080/"
        },
        "id": "6m-UiEM5zhuR",
        "outputId": "d1e3f836-4684-44d8-e12f-dbd8421f509c"
      },
      "source": [
        "mnist_loss(prds,trgts)"
      ],
      "execution_count": null,
      "outputs": [
        {
          "output_type": "execute_result",
          "data": {
            "text/plain": [
              "tensor(0.4333)"
            ]
          },
          "metadata": {
            "tags": []
          },
          "execution_count": 50
        }
      ]
    },
    {
      "cell_type": "markdown",
      "metadata": {
        "id": "SUMHtTM3C6Za"
      },
      "source": [
        "Como ejemplo cambiemos una predicción para la etiqueta \"falsa\" desde `0.2` a `0.8`. La pérdida baja por lo que nos indicaría que tenemos mejores predicciones:"
      ]
    },
    {
      "cell_type": "code",
      "metadata": {
        "colab": {
          "base_uri": "https://localhost:8080/"
        },
        "id": "VVN7R6uVzhw6",
        "outputId": "f9feeaeb-3f83-4701-f7b0-60faefce821a"
      },
      "source": [
        "mnist_loss(tensor([0.9, 0.4, 0.8]),trgts)"
      ],
      "execution_count": null,
      "outputs": [
        {
          "output_type": "execute_result",
          "data": {
            "text/plain": [
              "tensor(0.2333)"
            ]
          },
          "metadata": {
            "tags": []
          },
          "execution_count": 51
        }
      ]
    },
    {
      "cell_type": "markdown",
      "metadata": {
        "id": "n5_NBdf4DqAt"
      },
      "source": [
        "Un problema con esta `mnist_loss` es que está definida de forma que asume que las predicciones siempre están entre 0 y 1. Tenemos que asegurarnos que ese siempre sea el caso."
      ]
    },
    {
      "cell_type": "markdown",
      "metadata": {
        "id": "zxEBIiFeDlXo"
      },
      "source": [
        "### Sigmoide"
      ]
    },
    {
      "cell_type": "markdown",
      "metadata": {
        "id": "H2boJHFkD1ZZ"
      },
      "source": [
        "La función sigmoid siempre entrega números entre 0 y 1. Se define así:"
      ]
    },
    {
      "cell_type": "code",
      "metadata": {
        "id": "RvaAV52Hzhz1"
      },
      "source": [
        "def sigmoid(x): return 1/(1+torch.exp(-x))"
      ],
      "execution_count": null,
      "outputs": []
    },
    {
      "cell_type": "markdown",
      "metadata": {
        "id": "IAqTXMcfD-fO"
      },
      "source": [
        "Pytorch define una versión acelerada para que la podamos usar. Es una función muy importante en deep learning ya que tenemos que estar constantemente seguros que los valores estan entre 0 y 1. Se ve de la siguiente forma:"
      ]
    },
    {
      "cell_type": "code",
      "metadata": {
        "id": "gF80LelSzxBW"
      },
      "source": [
        "x = tensor(np.linspace(-4, 4, 100))"
      ],
      "execution_count": null,
      "outputs": []
    },
    {
      "cell_type": "code",
      "metadata": {
        "colab": {
          "base_uri": "https://localhost:8080/",
          "height": 282
        },
        "id": "cKPGPjRzzh2L",
        "outputId": "97adb8ab-4dda-45d0-aa64-3a3fdc3e9259"
      },
      "source": [
        "plt.plot(x, torch.sigmoid(x))"
      ],
      "execution_count": null,
      "outputs": [
        {
          "output_type": "execute_result",
          "data": {
            "text/plain": [
              "[<matplotlib.lines.Line2D at 0x7f864eee5210>]"
            ]
          },
          "metadata": {
            "tags": []
          },
          "execution_count": 59
        },
        {
          "output_type": "display_data",
          "data": {
            "image/png": "[encoded data removed]",
            "text/plain": [
              "<Figure size 432x288 with 1 Axes>"
            ]
          },
          "metadata": {
            "tags": [],
            "needs_background": "light"
          }
        }
      ]
    },
    {
      "cell_type": "markdown",
      "metadata": {
        "id": "z_Tyh24ZERCV"
      },
      "source": [
        "Como podemos ver toma cualquier valor de entrada, ya sea positivo o negativo, y lo suaviza en un valor de salida entre 0 y 1. Es una curva sueva que siempre va hacia arriba, lo que hace más fácil para el SGD encontrar gradientes significativos."
      ]
    },
    {
      "cell_type": "code",
      "metadata": {
        "id": "OaLr7hAJzh4p"
      },
      "source": [
        "def mnist_loss(predictions, targets):\n",
        "    predictions = predictions.sigmoid()\n",
        "    return torch.where(targets==1, 1-predictions, predictions).mean()"
      ],
      "execution_count": null,
      "outputs": []
    },
    {
      "cell_type": "markdown",
      "metadata": {
        "id": "1ZF7jp3NEmS4"
      },
      "source": [
        "Ahora podemos estar seguros de que nuestra función de pérdida funcionará, incluso si las predicciones no están entre 0 y 1. Todo lo que se requiere es que una predicción más alta corresponda a una confianza más alta que una imagen es un 3.\n",
        "\n",
        "Habiendo definido una función de pérdida, ahora es un buen momento para recapitular por qué hicimos esto. Después de todo, ya teníamos una métrica, que era la exactitud general. Entonces, ¿por qué definimos una función de pérdida?\n",
        "\n",
        "La diferencia clave es que la métrica impulsa la comprensión humana y la pérdida impulsa el aprendizaje automatizado. Para impulsar el aprendizaje automatizado, la pérdida debe ser una función que tenga una derivada significativa. No puede tener grandes secciones planas y grandes saltos, sino que debe ser razonablemente suave. Es por eso que diseñamos una función de pérdida que respondería a pequeños cambios en el nivel de confianza. Este requisito significa que a veces realmente no refleja exactamente lo que estamos tratando de lograr, sino que es más bien un compromiso entre nuestro objetivo real y una función que se puede optimizar usando su gradiente. La función de pérdida se calcula para cada elemento en nuestro conjunto de datos, y luego, al final de una época, todos los valores de pérdida se promedian y se informa la media general para la época.\n",
        "\n",
        "Las métricas, por otro lado, son los números que realmente nos importan. Estos son los valores que se imprimen al final de cada época que nos dicen cómo está realmente nuestro modelo. Es importante que aprendamos a centrarnos en estas métricas, en lugar de en la pérdida, al juzgar el rendimiento de un modelo."
      ]
    }
  ]
}